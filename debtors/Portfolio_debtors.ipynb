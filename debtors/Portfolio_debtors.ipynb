{
 "cells": [
  {
   "cell_type": "markdown",
   "id": "2cc2b8d2",
   "metadata": {},
   "source": [
    "# Исследование надёжности заёмщиков"
   ]
  },
  {
   "cell_type": "markdown",
   "id": "3e0b3cf8",
   "metadata": {},
   "source": [
    " **Цель исследования -** проверить гипотезу о том, что семейное положение и количество детей клиента влияет на факт погашения кредита в срок. \n",
    "\n",
    "Результаты исследования будут учтены при построении модели кредитного скоринга — специальной системы, которая оценивает способность потенциального заёмщика вернуть кредит банку.\n",
    "\n",
    "Данные о платежеспособности клиентов хранятся в файле `data.csv`. Перед проверкой гипотезы проведен обзор данных, проверка на ошибки и оценка их влияния на исследование. Критичные ошибки исправлены.\n",
    " \n",
    "Таким образом, исследование пройдено в три этапа:\n",
    " 1. Обзор данных.\n",
    " 2. Предобработка данных.\n",
    " 3. Проверка гипотезы.\n",
    "\n"
   ]
  },
  {
   "cell_type": "markdown",
   "id": "60db74f1",
   "metadata": {},
   "source": [
    "## Обзор данных\n"
   ]
  },
  {
   "cell_type": "code",
   "execution_count": 1,
   "id": "3d64b364",
   "metadata": {},
   "outputs": [],
   "source": [
    "import pandas as pd # импорт библиотеки pandas\n",
    "from io import BytesIO\n",
    "import requests"
   ]
  },
  {
   "cell_type": "code",
   "execution_count": 2,
   "id": "25347a35",
   "metadata": {},
   "outputs": [],
   "source": [
    "try:\n",
    "    df = pd.read_csv('./datasets/data.csv') # чтение файла с данными и сохранение в df\n",
    "\n",
    "except FileNotFoundError:\n",
    "    spreadsheet_id = '1NO_YW_XRLXFZdg50DQ-x4MLjwBem4Aax'\n",
    "    file_name = 'https://docs.google.com/spreadsheets/d/{}/export?format=xlsx'.format(spreadsheet_id)\n",
    "    r = requests.get(file_name)\n",
    "    df = pd.read_excel(BytesIO(r.content))\n",
    "    \n"
   ]
  },
  {
   "cell_type": "code",
   "execution_count": 3,
   "id": "f963723d",
   "metadata": {},
   "outputs": [
    {
     "data": {
      "text/html": [
       "<div>\n",
       "<style scoped>\n",
       "    .dataframe tbody tr th:only-of-type {\n",
       "        vertical-align: middle;\n",
       "    }\n",
       "\n",
       "    .dataframe tbody tr th {\n",
       "        vertical-align: top;\n",
       "    }\n",
       "\n",
       "    .dataframe thead th {\n",
       "        text-align: right;\n",
       "    }\n",
       "</style>\n",
       "<table border=\"1\" class=\"dataframe\">\n",
       "  <thead>\n",
       "    <tr style=\"text-align: right;\">\n",
       "      <th></th>\n",
       "      <th>children</th>\n",
       "      <th>days_employed</th>\n",
       "      <th>dob_years</th>\n",
       "      <th>education</th>\n",
       "      <th>education_id</th>\n",
       "      <th>family_status</th>\n",
       "      <th>family_status_id</th>\n",
       "      <th>gender</th>\n",
       "      <th>income_type</th>\n",
       "      <th>debt</th>\n",
       "      <th>total_income</th>\n",
       "      <th>purpose</th>\n",
       "    </tr>\n",
       "  </thead>\n",
       "  <tbody>\n",
       "    <tr>\n",
       "      <th>0</th>\n",
       "      <td>1</td>\n",
       "      <td>-8437.673028</td>\n",
       "      <td>42</td>\n",
       "      <td>высшее</td>\n",
       "      <td>0</td>\n",
       "      <td>женат / замужем</td>\n",
       "      <td>0</td>\n",
       "      <td>F</td>\n",
       "      <td>сотрудник</td>\n",
       "      <td>0</td>\n",
       "      <td>253875.639453</td>\n",
       "      <td>покупка жилья</td>\n",
       "    </tr>\n",
       "    <tr>\n",
       "      <th>1</th>\n",
       "      <td>1</td>\n",
       "      <td>-4024.803754</td>\n",
       "      <td>36</td>\n",
       "      <td>среднее</td>\n",
       "      <td>1</td>\n",
       "      <td>женат / замужем</td>\n",
       "      <td>0</td>\n",
       "      <td>F</td>\n",
       "      <td>сотрудник</td>\n",
       "      <td>0</td>\n",
       "      <td>112080.014102</td>\n",
       "      <td>приобретение автомобиля</td>\n",
       "    </tr>\n",
       "    <tr>\n",
       "      <th>2</th>\n",
       "      <td>0</td>\n",
       "      <td>-5623.422610</td>\n",
       "      <td>33</td>\n",
       "      <td>Среднее</td>\n",
       "      <td>1</td>\n",
       "      <td>женат / замужем</td>\n",
       "      <td>0</td>\n",
       "      <td>M</td>\n",
       "      <td>сотрудник</td>\n",
       "      <td>0</td>\n",
       "      <td>145885.952297</td>\n",
       "      <td>покупка жилья</td>\n",
       "    </tr>\n",
       "    <tr>\n",
       "      <th>3</th>\n",
       "      <td>3</td>\n",
       "      <td>-4124.747207</td>\n",
       "      <td>32</td>\n",
       "      <td>среднее</td>\n",
       "      <td>1</td>\n",
       "      <td>женат / замужем</td>\n",
       "      <td>0</td>\n",
       "      <td>M</td>\n",
       "      <td>сотрудник</td>\n",
       "      <td>0</td>\n",
       "      <td>267628.550329</td>\n",
       "      <td>дополнительное образование</td>\n",
       "    </tr>\n",
       "    <tr>\n",
       "      <th>4</th>\n",
       "      <td>0</td>\n",
       "      <td>340266.072047</td>\n",
       "      <td>53</td>\n",
       "      <td>среднее</td>\n",
       "      <td>1</td>\n",
       "      <td>гражданский брак</td>\n",
       "      <td>1</td>\n",
       "      <td>F</td>\n",
       "      <td>пенсионер</td>\n",
       "      <td>0</td>\n",
       "      <td>158616.077870</td>\n",
       "      <td>сыграть свадьбу</td>\n",
       "    </tr>\n",
       "    <tr>\n",
       "      <th>...</th>\n",
       "      <td>...</td>\n",
       "      <td>...</td>\n",
       "      <td>...</td>\n",
       "      <td>...</td>\n",
       "      <td>...</td>\n",
       "      <td>...</td>\n",
       "      <td>...</td>\n",
       "      <td>...</td>\n",
       "      <td>...</td>\n",
       "      <td>...</td>\n",
       "      <td>...</td>\n",
       "      <td>...</td>\n",
       "    </tr>\n",
       "    <tr>\n",
       "      <th>21520</th>\n",
       "      <td>1</td>\n",
       "      <td>-4529.316663</td>\n",
       "      <td>43</td>\n",
       "      <td>среднее</td>\n",
       "      <td>1</td>\n",
       "      <td>гражданский брак</td>\n",
       "      <td>1</td>\n",
       "      <td>F</td>\n",
       "      <td>компаньон</td>\n",
       "      <td>0</td>\n",
       "      <td>224791.862382</td>\n",
       "      <td>операции с жильем</td>\n",
       "    </tr>\n",
       "    <tr>\n",
       "      <th>21521</th>\n",
       "      <td>0</td>\n",
       "      <td>343937.404131</td>\n",
       "      <td>67</td>\n",
       "      <td>среднее</td>\n",
       "      <td>1</td>\n",
       "      <td>женат / замужем</td>\n",
       "      <td>0</td>\n",
       "      <td>F</td>\n",
       "      <td>пенсионер</td>\n",
       "      <td>0</td>\n",
       "      <td>155999.806512</td>\n",
       "      <td>сделка с автомобилем</td>\n",
       "    </tr>\n",
       "    <tr>\n",
       "      <th>21522</th>\n",
       "      <td>1</td>\n",
       "      <td>-2113.346888</td>\n",
       "      <td>38</td>\n",
       "      <td>среднее</td>\n",
       "      <td>1</td>\n",
       "      <td>гражданский брак</td>\n",
       "      <td>1</td>\n",
       "      <td>M</td>\n",
       "      <td>сотрудник</td>\n",
       "      <td>1</td>\n",
       "      <td>89672.561153</td>\n",
       "      <td>недвижимость</td>\n",
       "    </tr>\n",
       "    <tr>\n",
       "      <th>21523</th>\n",
       "      <td>3</td>\n",
       "      <td>-3112.481705</td>\n",
       "      <td>38</td>\n",
       "      <td>среднее</td>\n",
       "      <td>1</td>\n",
       "      <td>женат / замужем</td>\n",
       "      <td>0</td>\n",
       "      <td>M</td>\n",
       "      <td>сотрудник</td>\n",
       "      <td>1</td>\n",
       "      <td>244093.050500</td>\n",
       "      <td>на покупку своего автомобиля</td>\n",
       "    </tr>\n",
       "    <tr>\n",
       "      <th>21524</th>\n",
       "      <td>2</td>\n",
       "      <td>-1984.507589</td>\n",
       "      <td>40</td>\n",
       "      <td>среднее</td>\n",
       "      <td>1</td>\n",
       "      <td>женат / замужем</td>\n",
       "      <td>0</td>\n",
       "      <td>F</td>\n",
       "      <td>сотрудник</td>\n",
       "      <td>0</td>\n",
       "      <td>82047.418899</td>\n",
       "      <td>на покупку автомобиля</td>\n",
       "    </tr>\n",
       "  </tbody>\n",
       "</table>\n",
       "<p>21525 rows × 12 columns</p>\n",
       "</div>"
      ],
      "text/plain": [
       "       children  days_employed  dob_years education  education_id  \\\n",
       "0             1   -8437.673028         42    высшее             0   \n",
       "1             1   -4024.803754         36   среднее             1   \n",
       "2             0   -5623.422610         33   Среднее             1   \n",
       "3             3   -4124.747207         32   среднее             1   \n",
       "4             0  340266.072047         53   среднее             1   \n",
       "...         ...            ...        ...       ...           ...   \n",
       "21520         1   -4529.316663         43   среднее             1   \n",
       "21521         0  343937.404131         67   среднее             1   \n",
       "21522         1   -2113.346888         38   среднее             1   \n",
       "21523         3   -3112.481705         38   среднее             1   \n",
       "21524         2   -1984.507589         40   среднее             1   \n",
       "\n",
       "          family_status  family_status_id gender income_type  debt  \\\n",
       "0       женат / замужем                 0      F   сотрудник     0   \n",
       "1       женат / замужем                 0      F   сотрудник     0   \n",
       "2       женат / замужем                 0      M   сотрудник     0   \n",
       "3       женат / замужем                 0      M   сотрудник     0   \n",
       "4      гражданский брак                 1      F   пенсионер     0   \n",
       "...                 ...               ...    ...         ...   ...   \n",
       "21520  гражданский брак                 1      F   компаньон     0   \n",
       "21521   женат / замужем                 0      F   пенсионер     0   \n",
       "21522  гражданский брак                 1      M   сотрудник     1   \n",
       "21523   женат / замужем                 0      M   сотрудник     1   \n",
       "21524   женат / замужем                 0      F   сотрудник     0   \n",
       "\n",
       "        total_income                       purpose  \n",
       "0      253875.639453                 покупка жилья  \n",
       "1      112080.014102       приобретение автомобиля  \n",
       "2      145885.952297                 покупка жилья  \n",
       "3      267628.550329    дополнительное образование  \n",
       "4      158616.077870               сыграть свадьбу  \n",
       "...              ...                           ...  \n",
       "21520  224791.862382             операции с жильем  \n",
       "21521  155999.806512          сделка с автомобилем  \n",
       "21522   89672.561153                  недвижимость  \n",
       "21523  244093.050500  на покупку своего автомобиля  \n",
       "21524   82047.418899         на покупку автомобиля  \n",
       "\n",
       "[21525 rows x 12 columns]"
      ]
     },
     "execution_count": 3,
     "metadata": {},
     "output_type": "execute_result"
    }
   ],
   "source": [
    "df # сделаем обзор таблицы df"
   ]
  },
  {
   "cell_type": "markdown",
   "id": "85fe0bd6",
   "metadata": {},
   "source": [
    "Найдем разброс значений по столбцам, минимальные, максимальные значения, среднюю и медиану по каждому столбцу."
   ]
  },
  {
   "cell_type": "code",
   "execution_count": 4,
   "id": "800e68b7",
   "metadata": {},
   "outputs": [
    {
     "data": {
      "text/html": [
       "<div>\n",
       "<style scoped>\n",
       "    .dataframe tbody tr th:only-of-type {\n",
       "        vertical-align: middle;\n",
       "    }\n",
       "\n",
       "    .dataframe tbody tr th {\n",
       "        vertical-align: top;\n",
       "    }\n",
       "\n",
       "    .dataframe thead th {\n",
       "        text-align: right;\n",
       "    }\n",
       "</style>\n",
       "<table border=\"1\" class=\"dataframe\">\n",
       "  <thead>\n",
       "    <tr style=\"text-align: right;\">\n",
       "      <th></th>\n",
       "      <th>children</th>\n",
       "      <th>days_employed</th>\n",
       "      <th>dob_years</th>\n",
       "      <th>education_id</th>\n",
       "      <th>family_status_id</th>\n",
       "      <th>debt</th>\n",
       "      <th>total_income</th>\n",
       "    </tr>\n",
       "  </thead>\n",
       "  <tbody>\n",
       "    <tr>\n",
       "      <th>count</th>\n",
       "      <td>21525.000000</td>\n",
       "      <td>19351.000000</td>\n",
       "      <td>21525.000000</td>\n",
       "      <td>21525.000000</td>\n",
       "      <td>21525.000000</td>\n",
       "      <td>21525.000000</td>\n",
       "      <td>1.935100e+04</td>\n",
       "    </tr>\n",
       "    <tr>\n",
       "      <th>mean</th>\n",
       "      <td>0.538908</td>\n",
       "      <td>63046.497661</td>\n",
       "      <td>43.293380</td>\n",
       "      <td>0.817236</td>\n",
       "      <td>0.972544</td>\n",
       "      <td>0.080883</td>\n",
       "      <td>1.674223e+05</td>\n",
       "    </tr>\n",
       "    <tr>\n",
       "      <th>std</th>\n",
       "      <td>1.381587</td>\n",
       "      <td>140827.311974</td>\n",
       "      <td>12.574584</td>\n",
       "      <td>0.548138</td>\n",
       "      <td>1.420324</td>\n",
       "      <td>0.272661</td>\n",
       "      <td>1.029716e+05</td>\n",
       "    </tr>\n",
       "    <tr>\n",
       "      <th>min</th>\n",
       "      <td>-1.000000</td>\n",
       "      <td>-18388.949901</td>\n",
       "      <td>0.000000</td>\n",
       "      <td>0.000000</td>\n",
       "      <td>0.000000</td>\n",
       "      <td>0.000000</td>\n",
       "      <td>2.066726e+04</td>\n",
       "    </tr>\n",
       "    <tr>\n",
       "      <th>25%</th>\n",
       "      <td>0.000000</td>\n",
       "      <td>-2747.423625</td>\n",
       "      <td>33.000000</td>\n",
       "      <td>1.000000</td>\n",
       "      <td>0.000000</td>\n",
       "      <td>0.000000</td>\n",
       "      <td>1.030532e+05</td>\n",
       "    </tr>\n",
       "    <tr>\n",
       "      <th>50%</th>\n",
       "      <td>0.000000</td>\n",
       "      <td>-1203.369529</td>\n",
       "      <td>42.000000</td>\n",
       "      <td>1.000000</td>\n",
       "      <td>0.000000</td>\n",
       "      <td>0.000000</td>\n",
       "      <td>1.450179e+05</td>\n",
       "    </tr>\n",
       "    <tr>\n",
       "      <th>75%</th>\n",
       "      <td>1.000000</td>\n",
       "      <td>-291.095954</td>\n",
       "      <td>53.000000</td>\n",
       "      <td>1.000000</td>\n",
       "      <td>1.000000</td>\n",
       "      <td>0.000000</td>\n",
       "      <td>2.034351e+05</td>\n",
       "    </tr>\n",
       "    <tr>\n",
       "      <th>max</th>\n",
       "      <td>20.000000</td>\n",
       "      <td>401755.400475</td>\n",
       "      <td>75.000000</td>\n",
       "      <td>4.000000</td>\n",
       "      <td>4.000000</td>\n",
       "      <td>1.000000</td>\n",
       "      <td>2.265604e+06</td>\n",
       "    </tr>\n",
       "  </tbody>\n",
       "</table>\n",
       "</div>"
      ],
      "text/plain": [
       "           children  days_employed     dob_years  education_id  \\\n",
       "count  21525.000000   19351.000000  21525.000000  21525.000000   \n",
       "mean       0.538908   63046.497661     43.293380      0.817236   \n",
       "std        1.381587  140827.311974     12.574584      0.548138   \n",
       "min       -1.000000  -18388.949901      0.000000      0.000000   \n",
       "25%        0.000000   -2747.423625     33.000000      1.000000   \n",
       "50%        0.000000   -1203.369529     42.000000      1.000000   \n",
       "75%        1.000000    -291.095954     53.000000      1.000000   \n",
       "max       20.000000  401755.400475     75.000000      4.000000   \n",
       "\n",
       "       family_status_id          debt  total_income  \n",
       "count      21525.000000  21525.000000  1.935100e+04  \n",
       "mean           0.972544      0.080883  1.674223e+05  \n",
       "std            1.420324      0.272661  1.029716e+05  \n",
       "min            0.000000      0.000000  2.066726e+04  \n",
       "25%            0.000000      0.000000  1.030532e+05  \n",
       "50%            0.000000      0.000000  1.450179e+05  \n",
       "75%            1.000000      0.000000  2.034351e+05  \n",
       "max            4.000000      1.000000  2.265604e+06  "
      ]
     },
     "execution_count": 4,
     "metadata": {},
     "output_type": "execute_result"
    }
   ],
   "source": [
    "df.describe() # найдем разброс значений по столбцам"
   ]
  },
  {
   "cell_type": "markdown",
   "id": "9828cb55",
   "metadata": {},
   "source": [
    "Получим общую информацию о таблице:\n"
   ]
  },
  {
   "cell_type": "code",
   "execution_count": 5,
   "id": "e1771856",
   "metadata": {},
   "outputs": [
    {
     "name": "stdout",
     "output_type": "stream",
     "text": [
      "<class 'pandas.core.frame.DataFrame'>\n",
      "RangeIndex: 21525 entries, 0 to 21524\n",
      "Data columns (total 12 columns):\n",
      " #   Column            Non-Null Count  Dtype  \n",
      "---  ------            --------------  -----  \n",
      " 0   children          21525 non-null  int64  \n",
      " 1   days_employed     19351 non-null  float64\n",
      " 2   dob_years         21525 non-null  int64  \n",
      " 3   education         21525 non-null  object \n",
      " 4   education_id      21525 non-null  int64  \n",
      " 5   family_status     21525 non-null  object \n",
      " 6   family_status_id  21525 non-null  int64  \n",
      " 7   gender            21525 non-null  object \n",
      " 8   income_type       21525 non-null  object \n",
      " 9   debt              21525 non-null  int64  \n",
      " 10  total_income      19351 non-null  float64\n",
      " 11  purpose           21525 non-null  object \n",
      "dtypes: float64(2), int64(5), object(5)\n",
      "memory usage: 2.0+ MB\n"
     ]
    }
   ],
   "source": [
    "df.info()"
   ]
  },
  {
   "cell_type": "markdown",
   "id": "c602067b",
   "metadata": {},
   "source": [
    "Итак, в таблице двенадцать столбцов. Столбцы содержат типы данных — `object`, `int`, `float`.\n",
    "\n",
    "Наименования столбцов оформлены в соответствии с хорошим стилем.\n",
    "\n",
    "Согласно документации к данным:\n",
    "\n",
    "* `children` — количество детей в семье;\n",
    "* `days_employed` — общий трудовой стаж в днях;  \n",
    "* `dob_years` — возраст клиента в годах;\n",
    "* `education` — уровень образования клиента;\n",
    "* `education_id` — идентификатор уровня образования клиента;\n",
    "* `family_status` — семейное положение;\n",
    "* `family_status_id` — идентификатор семейного положения;\n",
    "* `gender` — пол клиента;\n",
    "* `income_type` — тип занятости;\n",
    "* `debt` — имел ли задолженность по возврату кредита;\n",
    "* `total_income` — ежемесячный доход;\n",
    "* `purpose` — цель получения кредита.\n",
    "\n",
    "\n",
    "Количество значений в столбцах различается. Значит, в данных есть пропущенные значения. Проверим это в исследовании, проведенном ниже.\n"
   ]
  },
  {
   "cell_type": "markdown",
   "id": "789b2f2f",
   "metadata": {},
   "source": [
    "**Выводы**\n",
    "\n",
    "В каждой строке таблицы — данные о клиентах, воспользовавшихся кредитными средствами на различные цели за определенный промежуток времени. Часть колонок содержит категориальные значения, которые описывают клиента, такие как: уровень образования, семейное положение, принадлежность половому признаку, тип занятости, имел ли клиент задолженность по возврату кредита и цель его получения. Остальные данные содержат количественные значения: количество детей в семье, общий трудовой стаж в днях, возраст клиента в годах, его ежемесячный доход. \n",
    "\n",
    "Предварительно можно утверждать, что, данных достаточно для ответов на поставленные вопросы. Но встречаются пропуски в данных, а так же аномальные значения, явные и неявные дубликаты. При дальнейшем анализе без устранения проблем в данных, результаты исследования будут искажены.\n",
    "\n",
    "Чтобы двигаться дальше, нужно устранить проблемы в данных."
   ]
  },
  {
   "cell_type": "markdown",
   "id": "e4155df0",
   "metadata": {},
   "source": [
    "## Предобработка данных\n",
    "Проверим и исключим пропуски. Затем данные проверим на дубликаты."
   ]
  },
  {
   "cell_type": "markdown",
   "id": "1f6faa22",
   "metadata": {},
   "source": [
    "### Пропуски значений\n",
    "Посчитаем количество пропущенных значений в таблице:"
   ]
  },
  {
   "cell_type": "code",
   "execution_count": 6,
   "id": "73fe6db0",
   "metadata": {},
   "outputs": [
    {
     "data": {
      "text/plain": [
       "children               0\n",
       "days_employed       2174\n",
       "dob_years              0\n",
       "education              0\n",
       "education_id           0\n",
       "family_status          0\n",
       "family_status_id       0\n",
       "gender                 0\n",
       "income_type            0\n",
       "debt                   0\n",
       "total_income        2174\n",
       "purpose                0\n",
       "dtype: int64"
      ]
     },
     "execution_count": 6,
     "metadata": {},
     "output_type": "execute_result"
    }
   ],
   "source": [
    "df.isna().sum() # подсчёт пропусков"
   ]
  },
  {
   "cell_type": "code",
   "execution_count": 7,
   "id": "d7235e53",
   "metadata": {},
   "outputs": [
    {
     "data": {
      "text/html": [
       "<div>\n",
       "<style scoped>\n",
       "    .dataframe tbody tr th:only-of-type {\n",
       "        vertical-align: middle;\n",
       "    }\n",
       "\n",
       "    .dataframe tbody tr th {\n",
       "        vertical-align: top;\n",
       "    }\n",
       "\n",
       "    .dataframe thead th {\n",
       "        text-align: right;\n",
       "    }\n",
       "</style>\n",
       "<table border=\"1\" class=\"dataframe\">\n",
       "  <thead>\n",
       "    <tr style=\"text-align: right;\">\n",
       "      <th></th>\n",
       "      <th>children</th>\n",
       "      <th>days_employed</th>\n",
       "      <th>dob_years</th>\n",
       "      <th>education</th>\n",
       "      <th>education_id</th>\n",
       "      <th>family_status</th>\n",
       "      <th>family_status_id</th>\n",
       "      <th>gender</th>\n",
       "      <th>income_type</th>\n",
       "      <th>debt</th>\n",
       "      <th>total_income</th>\n",
       "      <th>purpose</th>\n",
       "    </tr>\n",
       "  </thead>\n",
       "  <tbody>\n",
       "    <tr>\n",
       "      <th>12</th>\n",
       "      <td>0</td>\n",
       "      <td>NaN</td>\n",
       "      <td>65</td>\n",
       "      <td>среднее</td>\n",
       "      <td>1</td>\n",
       "      <td>гражданский брак</td>\n",
       "      <td>1</td>\n",
       "      <td>M</td>\n",
       "      <td>пенсионер</td>\n",
       "      <td>0</td>\n",
       "      <td>NaN</td>\n",
       "      <td>сыграть свадьбу</td>\n",
       "    </tr>\n",
       "    <tr>\n",
       "      <th>26</th>\n",
       "      <td>0</td>\n",
       "      <td>NaN</td>\n",
       "      <td>41</td>\n",
       "      <td>среднее</td>\n",
       "      <td>1</td>\n",
       "      <td>женат / замужем</td>\n",
       "      <td>0</td>\n",
       "      <td>M</td>\n",
       "      <td>госслужащий</td>\n",
       "      <td>0</td>\n",
       "      <td>NaN</td>\n",
       "      <td>образование</td>\n",
       "    </tr>\n",
       "    <tr>\n",
       "      <th>29</th>\n",
       "      <td>0</td>\n",
       "      <td>NaN</td>\n",
       "      <td>63</td>\n",
       "      <td>среднее</td>\n",
       "      <td>1</td>\n",
       "      <td>Не женат / не замужем</td>\n",
       "      <td>4</td>\n",
       "      <td>F</td>\n",
       "      <td>пенсионер</td>\n",
       "      <td>0</td>\n",
       "      <td>NaN</td>\n",
       "      <td>строительство жилой недвижимости</td>\n",
       "    </tr>\n",
       "    <tr>\n",
       "      <th>41</th>\n",
       "      <td>0</td>\n",
       "      <td>NaN</td>\n",
       "      <td>50</td>\n",
       "      <td>среднее</td>\n",
       "      <td>1</td>\n",
       "      <td>женат / замужем</td>\n",
       "      <td>0</td>\n",
       "      <td>F</td>\n",
       "      <td>госслужащий</td>\n",
       "      <td>0</td>\n",
       "      <td>NaN</td>\n",
       "      <td>сделка с подержанным автомобилем</td>\n",
       "    </tr>\n",
       "    <tr>\n",
       "      <th>55</th>\n",
       "      <td>0</td>\n",
       "      <td>NaN</td>\n",
       "      <td>54</td>\n",
       "      <td>среднее</td>\n",
       "      <td>1</td>\n",
       "      <td>гражданский брак</td>\n",
       "      <td>1</td>\n",
       "      <td>F</td>\n",
       "      <td>пенсионер</td>\n",
       "      <td>1</td>\n",
       "      <td>NaN</td>\n",
       "      <td>сыграть свадьбу</td>\n",
       "    </tr>\n",
       "  </tbody>\n",
       "</table>\n",
       "</div>"
      ],
      "text/plain": [
       "    children  days_employed  dob_years education  education_id  \\\n",
       "12         0            NaN         65   среднее             1   \n",
       "26         0            NaN         41   среднее             1   \n",
       "29         0            NaN         63   среднее             1   \n",
       "41         0            NaN         50   среднее             1   \n",
       "55         0            NaN         54   среднее             1   \n",
       "\n",
       "            family_status  family_status_id gender  income_type  debt  \\\n",
       "12       гражданский брак                 1      M    пенсионер     0   \n",
       "26        женат / замужем                 0      M  госслужащий     0   \n",
       "29  Не женат / не замужем                 4      F    пенсионер     0   \n",
       "41        женат / замужем                 0      F  госслужащий     0   \n",
       "55       гражданский брак                 1      F    пенсионер     1   \n",
       "\n",
       "    total_income                           purpose  \n",
       "12           NaN                   сыграть свадьбу  \n",
       "26           NaN                       образование  \n",
       "29           NaN  строительство жилой недвижимости  \n",
       "41           NaN  сделка с подержанным автомобилем  \n",
       "55           NaN                   сыграть свадьбу  "
      ]
     },
     "execution_count": 7,
     "metadata": {},
     "output_type": "execute_result"
    }
   ],
   "source": [
    "df[df['days_employed'].isna()].head() # вывод первых 5-ти строк с пропущенными значениями столбца 'days_employed'"
   ]
  },
  {
   "cell_type": "markdown",
   "id": "0dbc6a6f",
   "metadata": {},
   "source": [
    "В столбцах `days_employed` и `total_income` имеются пропущенные значения типа NaN (специальное значение типа float, которое используется если результат вычисления не может быть представлен как конкретное число, либо неизвестен). \n",
    "\n",
    "Пропуски в данных появляются разными путями. Например, пользователь не указал о себе какие-нибудь сведения, или автоматизированная система сбора информации дала сбой. Иногда пропуски оставляют умышленно, рассчитывая на автозаполнение спецсимволами.\n",
    "На практике было бы правильно установить причину пропусков и восстановить данные. Такой возможности нет, поэтому действия следующие.\n",
    "\n",
    "*Общий трудовой стаж* и *среднемесячный доход* — количественные переменные. Пропуски в таких переменных заполняют характерными значениями, характеризующими состояние выборки. Чтобы примерно оценить типичные значения выборки, можно использовать среднее арифметическое значение или медиану.\n",
    "Среднее значение некорректно характеризует данные, когда некоторые значения сильно выделяются среди большинства, поэтому разумнее заменять пропуски медианными значениями.\n",
    "\n",
    "* оценим, какую долю составляют пропущенные значения в каждом из столбцов с пропусками;.\n",
    "* заполним пропуски медианными значениями.\n"
   ]
  },
  {
   "cell_type": "code",
   "execution_count": 8,
   "id": "8342e3fd",
   "metadata": {},
   "outputs": [],
   "source": [
    "pass_days_employed = len(df[df['days_employed'].isna()])/len(df['days_employed']) # Найдем долю пропущенных значений\n",
    "                                                                                     # в столбце 'days_employed' "
   ]
  },
  {
   "cell_type": "code",
   "execution_count": 9,
   "id": "f418380e",
   "metadata": {},
   "outputs": [],
   "source": [
    "pass_total_income = len(df[df['total_income'].isna()])/len(df['total_income']) # Найдем долю пропущенных значений\n",
    "                                                                                  # в столбце 'days_employed' "
   ]
  },
  {
   "cell_type": "code",
   "execution_count": 10,
   "id": "259cb7b5",
   "metadata": {},
   "outputs": [
    {
     "name": "stdout",
     "output_type": "stream",
     "text": [
      "Доля пропущеных значений в столбце days_employed 10.1%\n",
      "Доля пропущеных значений в столбце total_income 10.1%\n"
     ]
    }
   ],
   "source": [
    "print(f'Доля пропущеных значений в столбце days_employed {pass_days_employed:.1%}')\n",
    "print(f'Доля пропущеных значений в столбце total_income {pass_total_income:.1%}')# Выведем на экран долю пропусков в процентах"
   ]
  },
  {
   "cell_type": "code",
   "execution_count": 11,
   "id": "aeebda2a",
   "metadata": {},
   "outputs": [
    {
     "data": {
      "text/plain": [
       "children            0.000000\n",
       "days_employed       0.100999\n",
       "dob_years           0.000000\n",
       "education           0.000000\n",
       "education_id        0.000000\n",
       "family_status       0.000000\n",
       "family_status_id    0.000000\n",
       "gender              0.000000\n",
       "income_type         0.000000\n",
       "debt                0.000000\n",
       "total_income        0.100999\n",
       "purpose             0.000000\n",
       "dtype: float64"
      ]
     },
     "execution_count": 11,
     "metadata": {},
     "output_type": "execute_result"
    }
   ],
   "source": [
    "df.isna().mean()"
   ]
  },
  {
   "cell_type": "markdown",
   "id": "3d671f75",
   "metadata": {},
   "source": [
    "Найдем среднее арифметическое и медианное значение для столбца `days_employed`, чтобы оценить их разницу.\n",
    "\n",
    "Ниже мы увидим, что медиана принимает отрицательное значение. Это произошло из-за присутствия артефактов - отрицательных значений в указанном столбце, что существенно исказило данные. Эта ошибка с большой вероятностью имеет техническое происхождение, поэтому мы заменим отрицательные значения на положительные применив функцию нахождения модуля."
   ]
  },
  {
   "cell_type": "code",
   "execution_count": 12,
   "id": "92c9b578",
   "metadata": {},
   "outputs": [
    {
     "data": {
      "text/plain": [
       "63046.497661473615"
      ]
     },
     "execution_count": 12,
     "metadata": {},
     "output_type": "execute_result"
    }
   ],
   "source": [
    "df['days_employed'].mean() # отобразим среднее арифметическое значение"
   ]
  },
  {
   "cell_type": "code",
   "execution_count": 13,
   "id": "431d4bb4",
   "metadata": {},
   "outputs": [
    {
     "data": {
      "text/plain": [
       "-1203.369528770489"
      ]
     },
     "execution_count": 13,
     "metadata": {},
     "output_type": "execute_result"
    }
   ],
   "source": [
    "df['days_employed'].median() # отобразим медианное значениеdf['days_employed']"
   ]
  },
  {
   "cell_type": "code",
   "execution_count": 14,
   "id": "451a7690",
   "metadata": {},
   "outputs": [],
   "source": [
    "df['days_employed'] = df['days_employed'].abs() # заменим отрицательные значения в столбце на положительные"
   ]
  },
  {
   "cell_type": "code",
   "execution_count": 15,
   "id": "ffa2552a",
   "metadata": {},
   "outputs": [],
   "source": [
    "#days_employed_median = df['days_employed'].median() # запишем медианное значение в переменную "
   ]
  },
  {
   "cell_type": "code",
   "execution_count": 16,
   "id": "7ec69973",
   "metadata": {},
   "outputs": [],
   "source": [
    "#df['days_employed'] = df['days_employed'].fillna(days_employed_median) # заменим пропущенные значения на медианное"
   ]
  },
  {
   "cell_type": "code",
   "execution_count": 17,
   "id": "19229331",
   "metadata": {},
   "outputs": [],
   "source": [
    "df['days_employed'] = df['days_employed'].fillna(df.groupby('income_type')['days_employed'].transform(\"median\"))"
   ]
  },
  {
   "cell_type": "markdown",
   "id": "f234cdac",
   "metadata": {},
   "source": [
    "Проделаем то же самое для столбца `total_income`. Найдем медианное значение, и заменим им все пропуски."
   ]
  },
  {
   "cell_type": "code",
   "execution_count": 18,
   "id": "a8722568",
   "metadata": {},
   "outputs": [],
   "source": [
    "#total_income_median = df['total_income'].median() # запишем медианное значение в переменную"
   ]
  },
  {
   "cell_type": "code",
   "execution_count": 19,
   "id": "9412330d",
   "metadata": {},
   "outputs": [],
   "source": [
    "#total_income_median # выведем значение на экран"
   ]
  },
  {
   "cell_type": "code",
   "execution_count": 20,
   "id": "da72dce0",
   "metadata": {},
   "outputs": [],
   "source": [
    "#df['total_income'] = df['total_income'].fillna(total_income_median) # заменим пропущенные значения на медианное"
   ]
  },
  {
   "cell_type": "code",
   "execution_count": 21,
   "id": "e2392372",
   "metadata": {},
   "outputs": [],
   "source": [
    "df['total_income'] = df['total_income'].fillna(df.groupby('income_type')['total_income'].transform(\"median\"))"
   ]
  },
  {
   "cell_type": "code",
   "execution_count": 22,
   "id": "153bd217",
   "metadata": {},
   "outputs": [
    {
     "data": {
      "text/plain": [
       "children            0\n",
       "days_employed       0\n",
       "dob_years           0\n",
       "education           0\n",
       "education_id        0\n",
       "family_status       0\n",
       "family_status_id    0\n",
       "gender              0\n",
       "income_type         0\n",
       "debt                0\n",
       "total_income        0\n",
       "purpose             0\n",
       "dtype: int64"
      ]
     },
     "execution_count": 22,
     "metadata": {},
     "output_type": "execute_result"
    }
   ],
   "source": [
    "df.isna().sum() # сделаем подсчет пропусков повторно"
   ]
  },
  {
   "cell_type": "markdown",
   "id": "2ccd48af",
   "metadata": {},
   "source": [
    "Таким образом мы избавились от пропусков."
   ]
  },
  {
   "cell_type": "markdown",
   "id": "2d3c37c7",
   "metadata": {},
   "source": [
    "### Изменение типов данных\n",
    "\n",
    "В столбце `total_income` мы заменим вещественный тип данных на целочисленный и отобразим информацию, для того, чтобы оценить произошла ли замена."
   ]
  },
  {
   "cell_type": "code",
   "execution_count": 23,
   "id": "5058ffa1",
   "metadata": {},
   "outputs": [],
   "source": [
    "df['total_income'] = df['total_income'].astype('int')"
   ]
  },
  {
   "cell_type": "code",
   "execution_count": 24,
   "id": "638942ce",
   "metadata": {},
   "outputs": [
    {
     "name": "stdout",
     "output_type": "stream",
     "text": [
      "<class 'pandas.core.frame.DataFrame'>\n",
      "RangeIndex: 21525 entries, 0 to 21524\n",
      "Data columns (total 12 columns):\n",
      " #   Column            Non-Null Count  Dtype  \n",
      "---  ------            --------------  -----  \n",
      " 0   children          21525 non-null  int64  \n",
      " 1   days_employed     21525 non-null  float64\n",
      " 2   dob_years         21525 non-null  int64  \n",
      " 3   education         21525 non-null  object \n",
      " 4   education_id      21525 non-null  int64  \n",
      " 5   family_status     21525 non-null  object \n",
      " 6   family_status_id  21525 non-null  int64  \n",
      " 7   gender            21525 non-null  object \n",
      " 8   income_type       21525 non-null  object \n",
      " 9   debt              21525 non-null  int64  \n",
      " 10  total_income      21525 non-null  int32  \n",
      " 11  purpose           21525 non-null  object \n",
      "dtypes: float64(1), int32(1), int64(5), object(5)\n",
      "memory usage: 1.9+ MB\n"
     ]
    }
   ],
   "source": [
    "df.info()"
   ]
  },
  {
   "cell_type": "markdown",
   "id": "fb38f644",
   "metadata": {},
   "source": [
    "### Дубликаты\n",
    "\n",
    "**Проверка данных на аномалии и исправления**\n",
    "\n",
    "Посчитаем явные дубликаты в таблице:"
   ]
  },
  {
   "cell_type": "code",
   "execution_count": 25,
   "id": "34518062",
   "metadata": {},
   "outputs": [
    {
     "data": {
      "text/plain": [
       "54"
      ]
     },
     "execution_count": 25,
     "metadata": {},
     "output_type": "execute_result"
    }
   ],
   "source": [
    "df.duplicated().sum() # подсчёт явных дубликатов"
   ]
  },
  {
   "cell_type": "markdown",
   "id": "424e8390",
   "metadata": {},
   "source": [
    "Удалим явные дубликаты, и произведем проверку на их отсутствие:"
   ]
  },
  {
   "cell_type": "code",
   "execution_count": 26,
   "id": "96753e43",
   "metadata": {},
   "outputs": [],
   "source": [
    "df = df.drop_duplicates().reset_index(drop=True) # удаление явных дубликатов (с удалением старых индексов и формированием новых)"
   ]
  },
  {
   "cell_type": "code",
   "execution_count": 27,
   "id": "5a749f00",
   "metadata": {},
   "outputs": [
    {
     "data": {
      "text/plain": [
       "0"
      ]
     },
     "execution_count": 27,
     "metadata": {},
     "output_type": "execute_result"
    }
   ],
   "source": [
    "df.duplicated().sum() # проверка на отсутствие дубликатов"
   ]
  },
  {
   "cell_type": "markdown",
   "id": "b0b3be67",
   "metadata": {},
   "source": [
    "Теперь необходимо оценить имеются ли в таблице неявные дубликаты.\n",
    "Выведем на экран список уникальных значений всех столбцов, кроме тех, что содержат в себе количественные переменные. Оценим содержание столбцов и избавимся от неявных дубликатов. Для этого применим функцию, которая пройдет по всем столбцам датасета и выведен на экран все уникальные значения каждого из них. "
   ]
  },
  {
   "cell_type": "code",
   "execution_count": 28,
   "id": "1bf164f5",
   "metadata": {},
   "outputs": [],
   "source": [
    "pd.set_option('max_colwidth', 400) # установим максимальную ширину столбца на выходном дисплее, чтобы оценить вывод ниже"
   ]
  },
  {
   "cell_type": "code",
   "execution_count": 29,
   "id": "aad0f768",
   "metadata": {},
   "outputs": [],
   "source": [
    "#def unique(row):\n",
    "#    return row.sort_values().unique()"
   ]
  },
  {
   "cell_type": "code",
   "execution_count": 30,
   "id": "9a8a874d",
   "metadata": {},
   "outputs": [],
   "source": [
    "#df.drop(['days_employed','total_income'], axis=1).apply(unique) # исключим значения столбцов с количественными переменными"
   ]
  },
  {
   "cell_type": "code",
   "execution_count": 31,
   "id": "b1f1128e",
   "metadata": {},
   "outputs": [
    {
     "data": {
      "text/plain": [
       "array([-1,  0,  1,  2,  3,  4,  5, 20], dtype=int64)"
      ]
     },
     "execution_count": 31,
     "metadata": {},
     "output_type": "execute_result"
    }
   ],
   "source": [
    "df['children'].sort_values().unique()"
   ]
  },
  {
   "cell_type": "code",
   "execution_count": 32,
   "id": "d0711ab4",
   "metadata": {},
   "outputs": [
    {
     "data": {
      "text/plain": [
       "array([ 0, 19, 20, 21, 22, 23, 24, 25, 26, 27, 28, 29, 30, 31, 32, 33, 34,\n",
       "       35, 36, 37, 38, 39, 40, 41, 42, 43, 44, 45, 46, 47, 48, 49, 50, 51,\n",
       "       52, 53, 54, 55, 56, 57, 58, 59, 60, 61, 62, 63, 64, 65, 66, 67, 68,\n",
       "       69, 70, 71, 72, 73, 74, 75], dtype=int64)"
      ]
     },
     "execution_count": 32,
     "metadata": {},
     "output_type": "execute_result"
    }
   ],
   "source": [
    "df['dob_years'].sort_values().unique()"
   ]
  },
  {
   "cell_type": "code",
   "execution_count": 33,
   "id": "e44bc6b0",
   "metadata": {},
   "outputs": [
    {
     "data": {
      "text/plain": [
       "array(['ВЫСШЕЕ', 'Высшее', 'НАЧАЛЬНОЕ', 'НЕОКОНЧЕННОЕ ВЫСШЕЕ',\n",
       "       'Начальное', 'Неоконченное высшее', 'СРЕДНЕЕ', 'Среднее',\n",
       "       'УЧЕНАЯ СТЕПЕНЬ', 'Ученая степень', 'высшее', 'начальное',\n",
       "       'неоконченное высшее', 'среднее', 'ученая степень'], dtype=object)"
      ]
     },
     "execution_count": 33,
     "metadata": {},
     "output_type": "execute_result"
    }
   ],
   "source": [
    "df['education'].sort_values().unique()"
   ]
  },
  {
   "cell_type": "code",
   "execution_count": 34,
   "id": "f2282c13",
   "metadata": {},
   "outputs": [
    {
     "data": {
      "text/plain": [
       "array([0, 1, 2, 3, 4], dtype=int64)"
      ]
     },
     "execution_count": 34,
     "metadata": {},
     "output_type": "execute_result"
    }
   ],
   "source": [
    "df['education_id'].sort_values().unique()"
   ]
  },
  {
   "cell_type": "code",
   "execution_count": 35,
   "id": "c35a9a7b",
   "metadata": {},
   "outputs": [
    {
     "data": {
      "text/plain": [
       "array(['Не женат / не замужем', 'в разводе', 'вдовец / вдова',\n",
       "       'гражданский брак', 'женат / замужем'], dtype=object)"
      ]
     },
     "execution_count": 35,
     "metadata": {},
     "output_type": "execute_result"
    }
   ],
   "source": [
    "df['family_status'].sort_values().unique()"
   ]
  },
  {
   "cell_type": "code",
   "execution_count": 36,
   "id": "5a0e8b4d",
   "metadata": {},
   "outputs": [
    {
     "data": {
      "text/plain": [
       "array([0, 1, 2, 3, 4], dtype=int64)"
      ]
     },
     "execution_count": 36,
     "metadata": {},
     "output_type": "execute_result"
    }
   ],
   "source": [
    "df['family_status_id'].sort_values().unique()"
   ]
  },
  {
   "cell_type": "code",
   "execution_count": 37,
   "id": "a6fb45aa",
   "metadata": {},
   "outputs": [
    {
     "data": {
      "text/plain": [
       "array(['F', 'M', 'XNA'], dtype=object)"
      ]
     },
     "execution_count": 37,
     "metadata": {},
     "output_type": "execute_result"
    }
   ],
   "source": [
    "df['gender'].sort_values().unique()"
   ]
  },
  {
   "cell_type": "code",
   "execution_count": 38,
   "id": "901723cc",
   "metadata": {},
   "outputs": [
    {
     "data": {
      "text/plain": [
       "array(['безработный', 'в декрете', 'госслужащий', 'компаньон',\n",
       "       'пенсионер', 'предприниматель', 'сотрудник', 'студент'],\n",
       "      dtype=object)"
      ]
     },
     "execution_count": 38,
     "metadata": {},
     "output_type": "execute_result"
    }
   ],
   "source": [
    "df['income_type'].sort_values().unique()"
   ]
  },
  {
   "cell_type": "code",
   "execution_count": 39,
   "id": "7b3d8852",
   "metadata": {},
   "outputs": [
    {
     "data": {
      "text/plain": [
       "array([0, 1], dtype=int64)"
      ]
     },
     "execution_count": 39,
     "metadata": {},
     "output_type": "execute_result"
    }
   ],
   "source": [
    "df['debt'].sort_values().unique()"
   ]
  },
  {
   "cell_type": "code",
   "execution_count": 40,
   "id": "4aba36b5",
   "metadata": {},
   "outputs": [
    {
     "data": {
      "text/plain": [
       "array(['автомобили', 'автомобиль', 'высшее образование',\n",
       "       'дополнительное образование', 'жилье',\n",
       "       'заняться высшим образованием', 'заняться образованием',\n",
       "       'на покупку автомобиля', 'на покупку подержанного автомобиля',\n",
       "       'на покупку своего автомобиля', 'на проведение свадьбы',\n",
       "       'недвижимость', 'образование', 'операции с жильем',\n",
       "       'операции с коммерческой недвижимостью',\n",
       "       'операции с недвижимостью', 'операции со своей недвижимостью',\n",
       "       'покупка жилой недвижимости', 'покупка жилья',\n",
       "       'покупка жилья для сдачи', 'покупка жилья для семьи',\n",
       "       'покупка коммерческой недвижимости', 'покупка недвижимости',\n",
       "       'покупка своего жилья', 'получение высшего образования',\n",
       "       'получение дополнительного образования', 'получение образования',\n",
       "       'приобретение автомобиля', 'профильное образование',\n",
       "       'ремонт жилью', 'свадьба', 'свой автомобиль',\n",
       "       'сделка с автомобилем', 'сделка с подержанным автомобилем',\n",
       "       'строительство жилой недвижимости', 'строительство недвижимости',\n",
       "       'строительство собственной недвижимости', 'сыграть свадьбу'],\n",
       "      dtype=object)"
      ]
     },
     "execution_count": 40,
     "metadata": {},
     "output_type": "execute_result"
    }
   ],
   "source": [
    "df['purpose'].sort_values().unique()"
   ]
  },
  {
   "cell_type": "markdown",
   "id": "2e419f55",
   "metadata": {},
   "source": [
    "**Оценив результаты функции можно сделать вывод:**\n",
    "* в графе `children` находятся артефакты: очевидно, что отрицательного значения в графе быть не может, так же значение '20' скорее случайность, заменим его на значение '2';\n",
    "* в столбце `dob_years` имеется значение 0, чего быть не может. Найдем строку датасета, посмотрим на характеристики клиента, и сделаем вывод, что можно сделать с данной аномалией;\n",
    "* в столбце `education`, в значениях использованы строчные и прописные буквы;\n",
    "* в столбце `gender` имеется значение XNA - пол данного клиента определить невозможно, важно оценить количество таких клиентов;\n",
    "* в графе `purpose` имеется множество неявных дубликатов."
   ]
  },
  {
   "cell_type": "code",
   "execution_count": 41,
   "id": "f490400a",
   "metadata": {},
   "outputs": [],
   "source": [
    "df['education'] = df['education'].str.lower() # приведем все значения к единому регистру, выявлены неявные дубликаты"
   ]
  },
  {
   "cell_type": "code",
   "execution_count": 42,
   "id": "3413f824",
   "metadata": {},
   "outputs": [],
   "source": [
    "df['children'] = df['children'].abs() # заменим отрицательные значения в столбце 'children' на положительные"
   ]
  },
  {
   "cell_type": "code",
   "execution_count": 43,
   "id": "7116d1f4",
   "metadata": {},
   "outputs": [
    {
     "data": {
      "text/plain": [
       "0     14107\n",
       "1      4856\n",
       "2      2052\n",
       "3       330\n",
       "20       76\n",
       "4        41\n",
       "5         9\n",
       "Name: children, dtype: int64"
      ]
     },
     "execution_count": 43,
     "metadata": {},
     "output_type": "execute_result"
    }
   ],
   "source": [
    "df['children'].value_counts() # оценим количество клиентов с аномальным значением в графе количество детей"
   ]
  },
  {
   "cell_type": "markdown",
   "id": "ba9d2d70",
   "metadata": {},
   "source": [
    "Заменим значение  '20' на '2' в столбце `children` и оценим результат замены."
   ]
  },
  {
   "cell_type": "code",
   "execution_count": 44,
   "id": "e29169ca",
   "metadata": {},
   "outputs": [],
   "source": [
    "df.loc[df['children'] == 20, 'children'] = 2 # заменим значение '20' на '2'"
   ]
  },
  {
   "cell_type": "code",
   "execution_count": 45,
   "id": "860f4344",
   "metadata": {},
   "outputs": [
    {
     "data": {
      "text/plain": [
       "0    14107\n",
       "1     4856\n",
       "2     2128\n",
       "3      330\n",
       "4       41\n",
       "5        9\n",
       "Name: children, dtype: int64"
      ]
     },
     "execution_count": 45,
     "metadata": {},
     "output_type": "execute_result"
    }
   ],
   "source": [
    "df['children'].value_counts() # оценим изменения"
   ]
  },
  {
   "cell_type": "markdown",
   "id": "c773e01a",
   "metadata": {},
   "source": [
    "Найдем количество клиентов с аномальным значением в столбце `dob_years`, найдем долю клиентов с ошибкой в возрасте. Выведем часть датафрейма с данными о клиентах со значением в столбце возраст равным 0."
   ]
  },
  {
   "cell_type": "code",
   "execution_count": 46,
   "id": "e8f631b5",
   "metadata": {},
   "outputs": [],
   "source": [
    "dob_years_0 = df[df['dob_years'] == 0].count()['dob_years'] # найдем количество клиентов с аномальным значением\n",
    "                                                            # в столбце dob_years"
   ]
  },
  {
   "cell_type": "code",
   "execution_count": 47,
   "id": "04c61806",
   "metadata": {},
   "outputs": [],
   "source": [
    "dob_years_count = df['dob_years'].count() # посчитаем общее число клиентов"
   ]
  },
  {
   "cell_type": "code",
   "execution_count": 48,
   "id": "8c0d219a",
   "metadata": {},
   "outputs": [
    {
     "data": {
      "text/plain": [
       "'Доля клиентов с некорректно указанным возрастом равна 0.5%'"
      ]
     },
     "execution_count": 48,
     "metadata": {},
     "output_type": "execute_result"
    }
   ],
   "source": [
    "f'Доля клиентов с некорректно указанным возрастом равна {dob_years_0/dob_years_count:.1%}'"
   ]
  },
  {
   "cell_type": "code",
   "execution_count": 49,
   "id": "5731e70d",
   "metadata": {},
   "outputs": [
    {
     "data": {
      "text/html": [
       "<div>\n",
       "<style scoped>\n",
       "    .dataframe tbody tr th:only-of-type {\n",
       "        vertical-align: middle;\n",
       "    }\n",
       "\n",
       "    .dataframe tbody tr th {\n",
       "        vertical-align: top;\n",
       "    }\n",
       "\n",
       "    .dataframe thead th {\n",
       "        text-align: right;\n",
       "    }\n",
       "</style>\n",
       "<table border=\"1\" class=\"dataframe\">\n",
       "  <thead>\n",
       "    <tr style=\"text-align: right;\">\n",
       "      <th></th>\n",
       "      <th>children</th>\n",
       "      <th>days_employed</th>\n",
       "      <th>dob_years</th>\n",
       "      <th>education</th>\n",
       "      <th>education_id</th>\n",
       "      <th>family_status</th>\n",
       "      <th>family_status_id</th>\n",
       "      <th>gender</th>\n",
       "      <th>income_type</th>\n",
       "      <th>debt</th>\n",
       "      <th>total_income</th>\n",
       "      <th>purpose</th>\n",
       "    </tr>\n",
       "  </thead>\n",
       "  <tbody>\n",
       "    <tr>\n",
       "      <th>99</th>\n",
       "      <td>0</td>\n",
       "      <td>346541.618895</td>\n",
       "      <td>0</td>\n",
       "      <td>среднее</td>\n",
       "      <td>1</td>\n",
       "      <td>женат / замужем</td>\n",
       "      <td>0</td>\n",
       "      <td>F</td>\n",
       "      <td>пенсионер</td>\n",
       "      <td>0</td>\n",
       "      <td>71291</td>\n",
       "      <td>автомобиль</td>\n",
       "    </tr>\n",
       "    <tr>\n",
       "      <th>149</th>\n",
       "      <td>0</td>\n",
       "      <td>2664.273168</td>\n",
       "      <td>0</td>\n",
       "      <td>среднее</td>\n",
       "      <td>1</td>\n",
       "      <td>в разводе</td>\n",
       "      <td>3</td>\n",
       "      <td>F</td>\n",
       "      <td>сотрудник</td>\n",
       "      <td>0</td>\n",
       "      <td>70176</td>\n",
       "      <td>операции с жильем</td>\n",
       "    </tr>\n",
       "    <tr>\n",
       "      <th>270</th>\n",
       "      <td>3</td>\n",
       "      <td>1872.663186</td>\n",
       "      <td>0</td>\n",
       "      <td>среднее</td>\n",
       "      <td>1</td>\n",
       "      <td>женат / замужем</td>\n",
       "      <td>0</td>\n",
       "      <td>F</td>\n",
       "      <td>сотрудник</td>\n",
       "      <td>0</td>\n",
       "      <td>102166</td>\n",
       "      <td>ремонт жилью</td>\n",
       "    </tr>\n",
       "    <tr>\n",
       "      <th>578</th>\n",
       "      <td>0</td>\n",
       "      <td>397856.565013</td>\n",
       "      <td>0</td>\n",
       "      <td>среднее</td>\n",
       "      <td>1</td>\n",
       "      <td>женат / замужем</td>\n",
       "      <td>0</td>\n",
       "      <td>F</td>\n",
       "      <td>пенсионер</td>\n",
       "      <td>0</td>\n",
       "      <td>97620</td>\n",
       "      <td>строительство собственной недвижимости</td>\n",
       "    </tr>\n",
       "    <tr>\n",
       "      <th>1040</th>\n",
       "      <td>0</td>\n",
       "      <td>1158.029561</td>\n",
       "      <td>0</td>\n",
       "      <td>высшее</td>\n",
       "      <td>0</td>\n",
       "      <td>в разводе</td>\n",
       "      <td>3</td>\n",
       "      <td>F</td>\n",
       "      <td>компаньон</td>\n",
       "      <td>0</td>\n",
       "      <td>303994</td>\n",
       "      <td>свой автомобиль</td>\n",
       "    </tr>\n",
       "  </tbody>\n",
       "</table>\n",
       "</div>"
      ],
      "text/plain": [
       "      children  days_employed  dob_years education  education_id  \\\n",
       "99           0  346541.618895          0   среднее             1   \n",
       "149          0    2664.273168          0   среднее             1   \n",
       "270          3    1872.663186          0   среднее             1   \n",
       "578          0  397856.565013          0   среднее             1   \n",
       "1040         0    1158.029561          0    высшее             0   \n",
       "\n",
       "        family_status  family_status_id gender income_type  debt  \\\n",
       "99    женат / замужем                 0      F   пенсионер     0   \n",
       "149         в разводе                 3      F   сотрудник     0   \n",
       "270   женат / замужем                 0      F   сотрудник     0   \n",
       "578   женат / замужем                 0      F   пенсионер     0   \n",
       "1040        в разводе                 3      F   компаньон     0   \n",
       "\n",
       "      total_income                                 purpose  \n",
       "99           71291                              автомобиль  \n",
       "149          70176                       операции с жильем  \n",
       "270         102166                            ремонт жилью  \n",
       "578          97620  строительство собственной недвижимости  \n",
       "1040        303994                         свой автомобиль  "
      ]
     },
     "execution_count": 49,
     "metadata": {},
     "output_type": "execute_result"
    }
   ],
   "source": [
    "df[df['dob_years'] == 0].head() # выведем строки датафрейма, где возраст клиента равен 0, оценим параметры клиентов"
   ]
  },
  {
   "cell_type": "markdown",
   "id": "91ebe10c",
   "metadata": {},
   "source": [
    "Оценив долю клиентов с указанием в столбце `dob_years` значений равных 0, а так же изучив параметры этих клиентов можно сделать вывод, что данные ошибки носят случайный характер, и возникли по причине человеческого фактора. Так как доля таких клиентов составляет всего о,5%, и данные ошибки не повлияют на ход и результаты данного исследования, цесообразно оставить значения без изменения."
   ]
  },
  {
   "cell_type": "markdown",
   "id": "8a04c8cc",
   "metadata": {},
   "source": [
    "Исследуем уникальные значения в столбце `gender`, что может дать нам представление о допущеных ошибках. Мы выявили клиента, пол которого не определен. Оставим данное значение так же без изменения."
   ]
  },
  {
   "cell_type": "code",
   "execution_count": 50,
   "id": "2b890bcc",
   "metadata": {},
   "outputs": [
    {
     "data": {
      "text/plain": [
       "1"
      ]
     },
     "execution_count": 50,
     "metadata": {},
     "output_type": "execute_result"
    }
   ],
   "source": [
    "df[df['gender'] == 'XNA'].count()['gender'] # посчитаем количество клиентов с аномальным значением пола клиента"
   ]
  },
  {
   "cell_type": "markdown",
   "id": "113e2b59",
   "metadata": {},
   "source": [
    "Рассмотрим уникальные значения только столбца `purpose`."
   ]
  },
  {
   "cell_type": "code",
   "execution_count": 51,
   "id": "71038f61",
   "metadata": {},
   "outputs": [
    {
     "data": {
      "text/plain": [
       "array(['автомобили', 'автомобиль', 'высшее образование',\n",
       "       'дополнительное образование', 'жилье',\n",
       "       'заняться высшим образованием', 'заняться образованием',\n",
       "       'на покупку автомобиля', 'на покупку подержанного автомобиля',\n",
       "       'на покупку своего автомобиля', 'на проведение свадьбы',\n",
       "       'недвижимость', 'образование', 'операции с жильем',\n",
       "       'операции с коммерческой недвижимостью',\n",
       "       'операции с недвижимостью', 'операции со своей недвижимостью',\n",
       "       'покупка жилой недвижимости', 'покупка жилья',\n",
       "       'покупка жилья для сдачи', 'покупка жилья для семьи',\n",
       "       'покупка коммерческой недвижимости', 'покупка недвижимости',\n",
       "       'покупка своего жилья', 'получение высшего образования',\n",
       "       'получение дополнительного образования', 'получение образования',\n",
       "       'приобретение автомобиля', 'профильное образование',\n",
       "       'ремонт жилью', 'свадьба', 'свой автомобиль',\n",
       "       'сделка с автомобилем', 'сделка с подержанным автомобилем',\n",
       "       'строительство жилой недвижимости', 'строительство недвижимости',\n",
       "       'строительство собственной недвижимости', 'сыграть свадьбу'],\n",
       "      dtype=object)"
      ]
     },
     "execution_count": 51,
     "metadata": {},
     "output_type": "execute_result"
    }
   ],
   "source": [
    "df['purpose'].sort_values().unique() # посмотрим уникальные значения только столбца цели получения кредита"
   ]
  },
  {
   "cell_type": "markdown",
   "id": "ed38a23d",
   "metadata": {},
   "source": [
    "Посмотрев на список мы нашли неявные дубликаты, все значения можно разделить на категории исходя из цели получения кредита.\n",
    "\n",
    "Основные направления:\n",
    "* *покупка автомобиля*,\n",
    "* *получение образования*,\n",
    "* *приобретение недвижимости*,\n",
    "* *иные нужды*.\n",
    "\n",
    "Чтобы включить значение в опредененную группу, напишем функцию `purpose_groups()` с двумя параметрами: \n",
    "* `purpose_initial` — список дубликатов,\n",
    "* `correct_purpose` — строка с присвоенным значением.\n",
    "\n",
    "Функция должна исправить колонку `purpose_group` в таблице `df`: заменить каждое значение из списка `purpose_initial` на значение из `correct_purpose`.\n",
    "\n",
    "Изменения будем вносить в столбец `purpose_group`, который получили путем копирования столбца `purpose`, чтобы сохранить в таблице исходные данные."
   ]
  },
  {
   "cell_type": "code",
   "execution_count": 52,
   "id": "669eaf38",
   "metadata": {},
   "outputs": [],
   "source": [
    "df['purpose_group'] = df['purpose'] # создадим столбец, для разделения целей получения кредита на направления"
   ]
  },
  {
   "cell_type": "code",
   "execution_count": 53,
   "id": "b1bf8d46",
   "metadata": {},
   "outputs": [],
   "source": [
    "def purpose_groups(purpose_initial,correct_purpose):     # Функция для замены неявных дубликатов\n",
    "    for initial in range(len(purpose_initial)):\n",
    "        df['purpose_group'] = df['purpose_group'].replace(purpose_initial[initial], correct_purpose[initial])\n",
    "duplicates = [['автомобили',\n",
    "              'автомобиль', \n",
    "              'на покупку автомобиля',\n",
    "              'на покупку подержанного автомобиля',\n",
    "              'на покупку своего автомобиля',\n",
    "              'приобретение автомобиля',\n",
    "              'свой автомобиль',\n",
    "              'сделка с автомобилем',\n",
    "              'сделка с подержанным автомобилем'],\n",
    "              ['высшее образование',\n",
    "               'дополнительное образование',\n",
    "               'заняться высшим образованием',\n",
    "               'заняться образованием',\n",
    "               'образование',\n",
    "               'получение высшего образования',\n",
    "               'получение дополнительного образования',\n",
    "               'профильное образование'],\n",
    "              ['жилье',\n",
    "               'недвижимость',\n",
    "               'операции с жильем',\n",
    "               'операции с коммерческой недвижимостью',\n",
    "               'операции с недвижимостью',\n",
    "               'операции со своей недвижимостью',\n",
    "               'покупка жилой недвижимости',\n",
    "               'покупка жилья',\n",
    "               'покупка жилья для сдачи',\n",
    "               'покупка жилья для семьи',\n",
    "               'покупка коммерческой недвижимости',\n",
    "               'покупка недвижимости',\n",
    "               'покупка своего жилья',\n",
    "               'строительство жилой недвижимости',\n",
    "               'строительство недвижимости',\n",
    "               'строительство собственной недвижимости'],\n",
    "              ['на проведение свадьбы',\n",
    "               'ремонт жилью',\n",
    "               'свадьба',\n",
    "               'сыграть свадьбу']\n",
    "             ]\n",
    "purpose = ['покупка автомобиля',\n",
    "           'получение образования',\n",
    "           'приобретение недвижимости',\n",
    "           'иные нужды'\n",
    "          ] "
   ]
  },
  {
   "cell_type": "code",
   "execution_count": 54,
   "id": "31e37dee",
   "metadata": {},
   "outputs": [],
   "source": [
    "purpose_groups(duplicates, purpose)"
   ]
  },
  {
   "cell_type": "markdown",
   "id": "53a022d0",
   "metadata": {},
   "source": [
    "**Вывод** \n",
    "\n",
    "Оценив долю клиентов с указанием в столбце `dob_years` значений равных 0, а так же изучив параметры этих клиентов можно сделать вывод, что данные ошибки носят случайный характер, и возникли по причине человеческого фактора. Так как доля таких клиентов составляет всего о,5%, а так же по причине того, что данные ошибки не повлияют на ход и результаты исследования, цесообразно оставить значения без изменения. \n",
    "\n",
    "То же можно сказать об артефакте в столбце `gender`, в нем имеется значение XNA. Пол клиента не определен, оставим его так же без изменения. \n",
    "\n",
    "Столбец `purpose` содержит в себе неявные дубликаты, которые можно объединить в группы.\n",
    "\n",
    "Мы внесли изменения в столбцы `children` и `education`, оценим изменения - выведем уникальные значения столбцов на экран."
   ]
  },
  {
   "cell_type": "code",
   "execution_count": 55,
   "id": "ea647a7c",
   "metadata": {},
   "outputs": [],
   "source": [
    "#def unique(row):\n",
    "#    return row.sort_values().unique()"
   ]
  },
  {
   "cell_type": "code",
   "execution_count": 56,
   "id": "216bd160",
   "metadata": {},
   "outputs": [],
   "source": [
    "#df.drop(['days_employed','total_income'], axis=1).apply(unique) # проверим изменения, выведем на экран уникальные знаачения столбцов"
   ]
  },
  {
   "cell_type": "code",
   "execution_count": 57,
   "id": "34450a94",
   "metadata": {},
   "outputs": [
    {
     "data": {
      "text/plain": [
       "array([0, 1, 2, 3, 4, 5], dtype=int64)"
      ]
     },
     "execution_count": 57,
     "metadata": {},
     "output_type": "execute_result"
    }
   ],
   "source": [
    "df['children'].sort_values().unique() # просмотрим уникальные значения только тех столбцов, в которые внесли изменения,\n",
    "                                      # чтобы их оценить"
   ]
  },
  {
   "cell_type": "code",
   "execution_count": 58,
   "id": "ab80b8bc",
   "metadata": {},
   "outputs": [
    {
     "data": {
      "text/plain": [
       "array(['высшее', 'начальное', 'неоконченное высшее', 'среднее',\n",
       "       'ученая степень'], dtype=object)"
      ]
     },
     "execution_count": 58,
     "metadata": {},
     "output_type": "execute_result"
    }
   ],
   "source": [
    "df['education'].sort_values().unique()"
   ]
  },
  {
   "cell_type": "code",
   "execution_count": 59,
   "id": "293d3dd0",
   "metadata": {},
   "outputs": [
    {
     "data": {
      "text/plain": [
       "array(['иные нужды', 'покупка автомобиля', 'получение образования',\n",
       "       'приобретение недвижимости'], dtype=object)"
      ]
     },
     "execution_count": 59,
     "metadata": {},
     "output_type": "execute_result"
    }
   ],
   "source": [
    "df['purpose_group'].sort_values().unique()"
   ]
  },
  {
   "cell_type": "code",
   "execution_count": 60,
   "id": "077eb47a",
   "metadata": {},
   "outputs": [
    {
     "data": {
      "text/plain": [
       "<AxesSubplot:>"
      ]
     },
     "execution_count": 60,
     "metadata": {},
     "output_type": "execute_result"
    },
    {
     "data": {
      "image/png": "[encoded data removed]",
      "text/plain": [
       "<Figure size 504x288 with 1 Axes>"
      ]
     },
     "metadata": {
      "needs_background": "light"
     },
     "output_type": "display_data"
    }
   ],
   "source": [
    "df['purpose_group'].value_counts().plot.bar(grid=True,ylim=0,rot=45,figsize=(7,4))"
   ]
  },
  {
   "cell_type": "markdown",
   "id": "390401d6",
   "metadata": {},
   "source": [
    "### Формирование дополнительных датафреймов словарей, декомпозиция исходного датафрейма"
   ]
  },
  {
   "cell_type": "markdown",
   "id": "43173cf4",
   "metadata": {},
   "source": [
    "Информация об уровне образования и семейном положении клиента хранятся в виде строк, такой способ хранения приводит к тому, что:\n",
    "* Усложняется визуальная работа с таблицей.\n",
    "* Увеличивается размер файла и время обработки данных.\n",
    "* Чтобы отфильтровать данные по типу обращения, приходится набирать его полное название. А в нём можно ошибиться.\n",
    "* Создание новых категорий и изменение старых отнимает много времени.\n",
    "Предупредить появление этих проблем можно с помощью отдельного «словаря», где названию категории будет соответствовать номер. И в будущих таблицах можно обращаться уже не к длинной строке, а к её числовому обозначению.\n",
    "\n",
    "Создадим два новых датафрейма со столбцами:\n",
    "* education_id и education — в первом;\n",
    "* family_status_id и family_status — во втором.\n"
   ]
  },
  {
   "cell_type": "code",
   "execution_count": 61,
   "id": "24b5b5fc",
   "metadata": {},
   "outputs": [],
   "source": [
    "df_education_id = df[['education_id','education']] # создадим таблицу словарь для education_id"
   ]
  },
  {
   "cell_type": "code",
   "execution_count": 62,
   "id": "31d2f46b",
   "metadata": {},
   "outputs": [],
   "source": [
    "df_family_status_id = df[['family_status_id','family_status']] # создадим таблицу словарь для family_status_id"
   ]
  },
  {
   "cell_type": "code",
   "execution_count": 63,
   "id": "a77c14ca",
   "metadata": {},
   "outputs": [],
   "source": [
    "df_education_id = df_education_id.drop_duplicates().reset_index(drop=True) # удалим дубликаты"
   ]
  },
  {
   "cell_type": "code",
   "execution_count": 64,
   "id": "3c08a0ad",
   "metadata": {},
   "outputs": [],
   "source": [
    "df_family_status_id = df_family_status_id.drop_duplicates().reset_index(drop=True) # удалим дубликаты"
   ]
  },
  {
   "cell_type": "code",
   "execution_count": 65,
   "id": "5c2f3fa6",
   "metadata": {},
   "outputs": [
    {
     "data": {
      "text/html": [
       "<div>\n",
       "<style scoped>\n",
       "    .dataframe tbody tr th:only-of-type {\n",
       "        vertical-align: middle;\n",
       "    }\n",
       "\n",
       "    .dataframe tbody tr th {\n",
       "        vertical-align: top;\n",
       "    }\n",
       "\n",
       "    .dataframe thead th {\n",
       "        text-align: right;\n",
       "    }\n",
       "</style>\n",
       "<table border=\"1\" class=\"dataframe\">\n",
       "  <thead>\n",
       "    <tr style=\"text-align: right;\">\n",
       "      <th></th>\n",
       "      <th>education_id</th>\n",
       "      <th>education</th>\n",
       "    </tr>\n",
       "  </thead>\n",
       "  <tbody>\n",
       "    <tr>\n",
       "      <th>0</th>\n",
       "      <td>0</td>\n",
       "      <td>высшее</td>\n",
       "    </tr>\n",
       "    <tr>\n",
       "      <th>1</th>\n",
       "      <td>1</td>\n",
       "      <td>среднее</td>\n",
       "    </tr>\n",
       "    <tr>\n",
       "      <th>2</th>\n",
       "      <td>2</td>\n",
       "      <td>неоконченное высшее</td>\n",
       "    </tr>\n",
       "    <tr>\n",
       "      <th>3</th>\n",
       "      <td>3</td>\n",
       "      <td>начальное</td>\n",
       "    </tr>\n",
       "    <tr>\n",
       "      <th>4</th>\n",
       "      <td>4</td>\n",
       "      <td>ученая степень</td>\n",
       "    </tr>\n",
       "  </tbody>\n",
       "</table>\n",
       "</div>"
      ],
      "text/plain": [
       "   education_id            education\n",
       "0             0               высшее\n",
       "1             1              среднее\n",
       "2             2  неоконченное высшее\n",
       "3             3            начальное\n",
       "4             4       ученая степень"
      ]
     },
     "execution_count": 65,
     "metadata": {},
     "output_type": "execute_result"
    }
   ],
   "source": [
    "df_education_id # выведем на экран"
   ]
  },
  {
   "cell_type": "code",
   "execution_count": 66,
   "id": "4ec9215d",
   "metadata": {},
   "outputs": [
    {
     "data": {
      "text/html": [
       "<div>\n",
       "<style scoped>\n",
       "    .dataframe tbody tr th:only-of-type {\n",
       "        vertical-align: middle;\n",
       "    }\n",
       "\n",
       "    .dataframe tbody tr th {\n",
       "        vertical-align: top;\n",
       "    }\n",
       "\n",
       "    .dataframe thead th {\n",
       "        text-align: right;\n",
       "    }\n",
       "</style>\n",
       "<table border=\"1\" class=\"dataframe\">\n",
       "  <thead>\n",
       "    <tr style=\"text-align: right;\">\n",
       "      <th></th>\n",
       "      <th>family_status_id</th>\n",
       "      <th>family_status</th>\n",
       "    </tr>\n",
       "  </thead>\n",
       "  <tbody>\n",
       "    <tr>\n",
       "      <th>0</th>\n",
       "      <td>0</td>\n",
       "      <td>женат / замужем</td>\n",
       "    </tr>\n",
       "    <tr>\n",
       "      <th>1</th>\n",
       "      <td>1</td>\n",
       "      <td>гражданский брак</td>\n",
       "    </tr>\n",
       "    <tr>\n",
       "      <th>2</th>\n",
       "      <td>2</td>\n",
       "      <td>вдовец / вдова</td>\n",
       "    </tr>\n",
       "    <tr>\n",
       "      <th>3</th>\n",
       "      <td>3</td>\n",
       "      <td>в разводе</td>\n",
       "    </tr>\n",
       "    <tr>\n",
       "      <th>4</th>\n",
       "      <td>4</td>\n",
       "      <td>Не женат / не замужем</td>\n",
       "    </tr>\n",
       "  </tbody>\n",
       "</table>\n",
       "</div>"
      ],
      "text/plain": [
       "   family_status_id          family_status\n",
       "0                 0        женат / замужем\n",
       "1                 1       гражданский брак\n",
       "2                 2         вдовец / вдова\n",
       "3                 3              в разводе\n",
       "4                 4  Не женат / не замужем"
      ]
     },
     "execution_count": 66,
     "metadata": {},
     "output_type": "execute_result"
    }
   ],
   "source": [
    "df_family_status_id # выведем на экран"
   ]
  },
  {
   "cell_type": "markdown",
   "id": "4fe678f0",
   "metadata": {},
   "source": [
    "Удалим из исходного датафрейма столбцы `education` и `family_status`, оставив только их идентификаторы: education_id и family_status_id."
   ]
  },
  {
   "cell_type": "code",
   "execution_count": 67,
   "id": "27d8ef69",
   "metadata": {},
   "outputs": [],
   "source": [
    "df = df.drop(['education','family_status'], axis=1)"
   ]
  },
  {
   "cell_type": "code",
   "execution_count": 68,
   "id": "5b2f2a43",
   "metadata": {},
   "outputs": [
    {
     "data": {
      "text/plain": [
       "Index(['children', 'days_employed', 'dob_years', 'education_id',\n",
       "       'family_status_id', 'gender', 'income_type', 'debt', 'total_income',\n",
       "       'purpose', 'purpose_group'],\n",
       "      dtype='object')"
      ]
     },
     "execution_count": 68,
     "metadata": {},
     "output_type": "execute_result"
    }
   ],
   "source": [
    "df.columns # проверим результат изменений"
   ]
  },
  {
   "cell_type": "markdown",
   "id": "b7445a00",
   "metadata": {},
   "source": [
    "На основании диапазонов, указанных ниже, создадим столбец total_income_category с категориями:\n",
    "* 0–30000 — 'E';\n",
    "* 30001–50000 — 'D';\n",
    "* 50001–200000 — 'C';\n",
    "* 200001–1000000 — 'B';\n",
    "* 1000001 и выше — 'A'\n"
   ]
  },
  {
   "cell_type": "code",
   "execution_count": 69,
   "id": "fd2a1a6f",
   "metadata": {},
   "outputs": [],
   "source": [
    "def total_income_group(x):\n",
    "    if x <= 30000:\n",
    "        return 'E'\n",
    "    if x <= 50000:\n",
    "        return 'D'\n",
    "    if x <= 200000:\n",
    "        return 'C'\n",
    "    if x <= 1000000:\n",
    "        return 'B'\n",
    "    return 'A'\n"
   ]
  },
  {
   "cell_type": "code",
   "execution_count": 70,
   "id": "92ba6ec7",
   "metadata": {},
   "outputs": [],
   "source": [
    "df['total_income_category'] = df['total_income'].apply(total_income_group) # применим к каждому значению в столбце нашу функцию\n",
    "                                                                           # запишем в новый столбец"
   ]
  },
  {
   "cell_type": "code",
   "execution_count": 71,
   "id": "0f3a4357",
   "metadata": {},
   "outputs": [
    {
     "data": {
      "text/html": [
       "<div>\n",
       "<style scoped>\n",
       "    .dataframe tbody tr th:only-of-type {\n",
       "        vertical-align: middle;\n",
       "    }\n",
       "\n",
       "    .dataframe tbody tr th {\n",
       "        vertical-align: top;\n",
       "    }\n",
       "\n",
       "    .dataframe thead th {\n",
       "        text-align: right;\n",
       "    }\n",
       "</style>\n",
       "<table border=\"1\" class=\"dataframe\">\n",
       "  <thead>\n",
       "    <tr style=\"text-align: right;\">\n",
       "      <th></th>\n",
       "      <th>children</th>\n",
       "      <th>days_employed</th>\n",
       "      <th>dob_years</th>\n",
       "      <th>education_id</th>\n",
       "      <th>family_status_id</th>\n",
       "      <th>gender</th>\n",
       "      <th>income_type</th>\n",
       "      <th>debt</th>\n",
       "      <th>total_income</th>\n",
       "      <th>purpose</th>\n",
       "      <th>purpose_group</th>\n",
       "      <th>total_income_category</th>\n",
       "    </tr>\n",
       "  </thead>\n",
       "  <tbody>\n",
       "    <tr>\n",
       "      <th>0</th>\n",
       "      <td>1</td>\n",
       "      <td>8437.673028</td>\n",
       "      <td>42</td>\n",
       "      <td>0</td>\n",
       "      <td>0</td>\n",
       "      <td>F</td>\n",
       "      <td>сотрудник</td>\n",
       "      <td>0</td>\n",
       "      <td>253875</td>\n",
       "      <td>покупка жилья</td>\n",
       "      <td>приобретение недвижимости</td>\n",
       "      <td>B</td>\n",
       "    </tr>\n",
       "    <tr>\n",
       "      <th>1</th>\n",
       "      <td>1</td>\n",
       "      <td>4024.803754</td>\n",
       "      <td>36</td>\n",
       "      <td>1</td>\n",
       "      <td>0</td>\n",
       "      <td>F</td>\n",
       "      <td>сотрудник</td>\n",
       "      <td>0</td>\n",
       "      <td>112080</td>\n",
       "      <td>приобретение автомобиля</td>\n",
       "      <td>покупка автомобиля</td>\n",
       "      <td>C</td>\n",
       "    </tr>\n",
       "    <tr>\n",
       "      <th>2</th>\n",
       "      <td>0</td>\n",
       "      <td>5623.422610</td>\n",
       "      <td>33</td>\n",
       "      <td>1</td>\n",
       "      <td>0</td>\n",
       "      <td>M</td>\n",
       "      <td>сотрудник</td>\n",
       "      <td>0</td>\n",
       "      <td>145885</td>\n",
       "      <td>покупка жилья</td>\n",
       "      <td>приобретение недвижимости</td>\n",
       "      <td>C</td>\n",
       "    </tr>\n",
       "    <tr>\n",
       "      <th>3</th>\n",
       "      <td>3</td>\n",
       "      <td>4124.747207</td>\n",
       "      <td>32</td>\n",
       "      <td>1</td>\n",
       "      <td>0</td>\n",
       "      <td>M</td>\n",
       "      <td>сотрудник</td>\n",
       "      <td>0</td>\n",
       "      <td>267628</td>\n",
       "      <td>дополнительное образование</td>\n",
       "      <td>получение образования</td>\n",
       "      <td>B</td>\n",
       "    </tr>\n",
       "    <tr>\n",
       "      <th>4</th>\n",
       "      <td>0</td>\n",
       "      <td>340266.072047</td>\n",
       "      <td>53</td>\n",
       "      <td>1</td>\n",
       "      <td>1</td>\n",
       "      <td>F</td>\n",
       "      <td>пенсионер</td>\n",
       "      <td>0</td>\n",
       "      <td>158616</td>\n",
       "      <td>сыграть свадьбу</td>\n",
       "      <td>иные нужды</td>\n",
       "      <td>C</td>\n",
       "    </tr>\n",
       "    <tr>\n",
       "      <th>...</th>\n",
       "      <td>...</td>\n",
       "      <td>...</td>\n",
       "      <td>...</td>\n",
       "      <td>...</td>\n",
       "      <td>...</td>\n",
       "      <td>...</td>\n",
       "      <td>...</td>\n",
       "      <td>...</td>\n",
       "      <td>...</td>\n",
       "      <td>...</td>\n",
       "      <td>...</td>\n",
       "      <td>...</td>\n",
       "    </tr>\n",
       "    <tr>\n",
       "      <th>21466</th>\n",
       "      <td>1</td>\n",
       "      <td>4529.316663</td>\n",
       "      <td>43</td>\n",
       "      <td>1</td>\n",
       "      <td>1</td>\n",
       "      <td>F</td>\n",
       "      <td>компаньон</td>\n",
       "      <td>0</td>\n",
       "      <td>224791</td>\n",
       "      <td>операции с жильем</td>\n",
       "      <td>приобретение недвижимости</td>\n",
       "      <td>B</td>\n",
       "    </tr>\n",
       "    <tr>\n",
       "      <th>21467</th>\n",
       "      <td>0</td>\n",
       "      <td>343937.404131</td>\n",
       "      <td>67</td>\n",
       "      <td>1</td>\n",
       "      <td>0</td>\n",
       "      <td>F</td>\n",
       "      <td>пенсионер</td>\n",
       "      <td>0</td>\n",
       "      <td>155999</td>\n",
       "      <td>сделка с автомобилем</td>\n",
       "      <td>покупка автомобиля</td>\n",
       "      <td>C</td>\n",
       "    </tr>\n",
       "    <tr>\n",
       "      <th>21468</th>\n",
       "      <td>1</td>\n",
       "      <td>2113.346888</td>\n",
       "      <td>38</td>\n",
       "      <td>1</td>\n",
       "      <td>1</td>\n",
       "      <td>M</td>\n",
       "      <td>сотрудник</td>\n",
       "      <td>1</td>\n",
       "      <td>89672</td>\n",
       "      <td>недвижимость</td>\n",
       "      <td>приобретение недвижимости</td>\n",
       "      <td>C</td>\n",
       "    </tr>\n",
       "    <tr>\n",
       "      <th>21469</th>\n",
       "      <td>3</td>\n",
       "      <td>3112.481705</td>\n",
       "      <td>38</td>\n",
       "      <td>1</td>\n",
       "      <td>0</td>\n",
       "      <td>M</td>\n",
       "      <td>сотрудник</td>\n",
       "      <td>1</td>\n",
       "      <td>244093</td>\n",
       "      <td>на покупку своего автомобиля</td>\n",
       "      <td>покупка автомобиля</td>\n",
       "      <td>B</td>\n",
       "    </tr>\n",
       "    <tr>\n",
       "      <th>21470</th>\n",
       "      <td>2</td>\n",
       "      <td>1984.507589</td>\n",
       "      <td>40</td>\n",
       "      <td>1</td>\n",
       "      <td>0</td>\n",
       "      <td>F</td>\n",
       "      <td>сотрудник</td>\n",
       "      <td>0</td>\n",
       "      <td>82047</td>\n",
       "      <td>на покупку автомобиля</td>\n",
       "      <td>покупка автомобиля</td>\n",
       "      <td>C</td>\n",
       "    </tr>\n",
       "  </tbody>\n",
       "</table>\n",
       "<p>21471 rows × 12 columns</p>\n",
       "</div>"
      ],
      "text/plain": [
       "       children  days_employed  dob_years  education_id  family_status_id  \\\n",
       "0             1    8437.673028         42             0                 0   \n",
       "1             1    4024.803754         36             1                 0   \n",
       "2             0    5623.422610         33             1                 0   \n",
       "3             3    4124.747207         32             1                 0   \n",
       "4             0  340266.072047         53             1                 1   \n",
       "...         ...            ...        ...           ...               ...   \n",
       "21466         1    4529.316663         43             1                 1   \n",
       "21467         0  343937.404131         67             1                 0   \n",
       "21468         1    2113.346888         38             1                 1   \n",
       "21469         3    3112.481705         38             1                 0   \n",
       "21470         2    1984.507589         40             1                 0   \n",
       "\n",
       "      gender income_type  debt  total_income                       purpose  \\\n",
       "0          F   сотрудник     0        253875                 покупка жилья   \n",
       "1          F   сотрудник     0        112080       приобретение автомобиля   \n",
       "2          M   сотрудник     0        145885                 покупка жилья   \n",
       "3          M   сотрудник     0        267628    дополнительное образование   \n",
       "4          F   пенсионер     0        158616               сыграть свадьбу   \n",
       "...      ...         ...   ...           ...                           ...   \n",
       "21466      F   компаньон     0        224791             операции с жильем   \n",
       "21467      F   пенсионер     0        155999          сделка с автомобилем   \n",
       "21468      M   сотрудник     1         89672                  недвижимость   \n",
       "21469      M   сотрудник     1        244093  на покупку своего автомобиля   \n",
       "21470      F   сотрудник     0         82047         на покупку автомобиля   \n",
       "\n",
       "                   purpose_group total_income_category  \n",
       "0      приобретение недвижимости                     B  \n",
       "1             покупка автомобиля                     C  \n",
       "2      приобретение недвижимости                     C  \n",
       "3          получение образования                     B  \n",
       "4                     иные нужды                     C  \n",
       "...                          ...                   ...  \n",
       "21466  приобретение недвижимости                     B  \n",
       "21467         покупка автомобиля                     C  \n",
       "21468  приобретение недвижимости                     C  \n",
       "21469         покупка автомобиля                     B  \n",
       "21470         покупка автомобиля                     C  \n",
       "\n",
       "[21471 rows x 12 columns]"
      ]
     },
     "execution_count": 71,
     "metadata": {},
     "output_type": "execute_result"
    }
   ],
   "source": [
    "df # посмотрим на обновленный датафрейм"
   ]
  },
  {
   "cell_type": "markdown",
   "id": "02e0ef34",
   "metadata": {},
   "source": [
    "# Вопросы"
   ]
  },
  {
   "cell_type": "markdown",
   "id": "9917d1b4",
   "metadata": {},
   "source": [
    "Необходимо ответить на вопросы:\n",
    "* Есть ли зависимость между количеством детей и возвратом кредита в срок?\n",
    "* Есть ли зависимость между семейным положением и возвратом кредита в срок?\n",
    "* Есть ли зависимость между уровнем дохода и возвратом кредита в срок?\n",
    "* Как разные цели кредита влияют на его возврат в срок?\n"
   ]
  },
  {
   "cell_type": "code",
   "execution_count": 72,
   "id": "9ff88929",
   "metadata": {},
   "outputs": [],
   "source": [
    "debt_share = df['debt'].mean()"
   ]
  },
  {
   "cell_type": "code",
   "execution_count": 73,
   "id": "9bf5be90",
   "metadata": {},
   "outputs": [
    {
     "name": "stdout",
     "output_type": "stream",
     "text": [
      "Доля должников составляет всего 8.1%\n"
     ]
    }
   ],
   "source": [
    "print(f'Доля должников составляет всего {debt_share:.1%}')"
   ]
  },
  {
   "cell_type": "markdown",
   "id": "a60179f2",
   "metadata": {},
   "source": [
    "Оценим их общее количество."
   ]
  },
  {
   "cell_type": "code",
   "execution_count": 74,
   "id": "3620f358",
   "metadata": {},
   "outputs": [
    {
     "data": {
      "text/plain": [
       "1    1741\n",
       "Name: debt, dtype: int64"
      ]
     },
     "execution_count": 74,
     "metadata": {},
     "output_type": "execute_result"
    }
   ],
   "source": [
    "df[df['debt'] == 1]['debt'].value_counts() # оценим общее количество должников"
   ]
  },
  {
   "cell_type": "markdown",
   "id": "8d163c47",
   "metadata": {},
   "source": [
    "Сгруппируем датафрейм по графе дети, и факт возврата кредита, к значениям применим функции для расчета количества клиентов в каждой группе, количество должников по группам, и доля должников в общем количестве. Визуализируем результат функции."
   ]
  },
  {
   "cell_type": "code",
   "execution_count": 75,
   "id": "0b83b25b",
   "metadata": {},
   "outputs": [
    {
     "data": {
      "text/html": [
       "<div>\n",
       "<style scoped>\n",
       "    .dataframe tbody tr th:only-of-type {\n",
       "        vertical-align: middle;\n",
       "    }\n",
       "\n",
       "    .dataframe tbody tr th {\n",
       "        vertical-align: top;\n",
       "    }\n",
       "\n",
       "    .dataframe thead th {\n",
       "        text-align: right;\n",
       "    }\n",
       "</style>\n",
       "<table border=\"1\" class=\"dataframe\">\n",
       "  <thead>\n",
       "    <tr style=\"text-align: right;\">\n",
       "      <th></th>\n",
       "      <th>count</th>\n",
       "      <th>mean</th>\n",
       "      <th>sum</th>\n",
       "    </tr>\n",
       "    <tr>\n",
       "      <th>children</th>\n",
       "      <th></th>\n",
       "      <th></th>\n",
       "      <th></th>\n",
       "    </tr>\n",
       "  </thead>\n",
       "  <tbody>\n",
       "    <tr>\n",
       "      <th>0</th>\n",
       "      <td>14107</td>\n",
       "      <td>0.075353</td>\n",
       "      <td>1063</td>\n",
       "    </tr>\n",
       "    <tr>\n",
       "      <th>1</th>\n",
       "      <td>4856</td>\n",
       "      <td>0.091639</td>\n",
       "      <td>445</td>\n",
       "    </tr>\n",
       "    <tr>\n",
       "      <th>2</th>\n",
       "      <td>2128</td>\n",
       "      <td>0.094925</td>\n",
       "      <td>202</td>\n",
       "    </tr>\n",
       "    <tr>\n",
       "      <th>3</th>\n",
       "      <td>330</td>\n",
       "      <td>0.081818</td>\n",
       "      <td>27</td>\n",
       "    </tr>\n",
       "    <tr>\n",
       "      <th>4</th>\n",
       "      <td>41</td>\n",
       "      <td>0.097561</td>\n",
       "      <td>4</td>\n",
       "    </tr>\n",
       "    <tr>\n",
       "      <th>5</th>\n",
       "      <td>9</td>\n",
       "      <td>0.000000</td>\n",
       "      <td>0</td>\n",
       "    </tr>\n",
       "  </tbody>\n",
       "</table>\n",
       "</div>"
      ],
      "text/plain": [
       "          count      mean   sum\n",
       "children                       \n",
       "0         14107  0.075353  1063\n",
       "1          4856  0.091639   445\n",
       "2          2128  0.094925   202\n",
       "3           330  0.081818    27\n",
       "4            41  0.097561     4\n",
       "5             9  0.000000     0"
      ]
     },
     "execution_count": 75,
     "metadata": {},
     "output_type": "execute_result"
    }
   ],
   "source": [
    "df.groupby('children')['debt'].agg(['count','mean','sum'])"
   ]
  },
  {
   "cell_type": "code",
   "execution_count": 76,
   "id": "f55c2399",
   "metadata": {},
   "outputs": [
    {
     "data": {
      "text/plain": [
       "<AxesSubplot:xlabel='children'>"
      ]
     },
     "execution_count": 76,
     "metadata": {},
     "output_type": "execute_result"
    },
    {
     "data": {
      "image/png": "[encoded data removed]",
      "text/plain": [
       "<Figure size 504x288 with 1 Axes>"
      ]
     },
     "metadata": {
      "needs_background": "light"
     },
     "output_type": "display_data"
    }
   ],
   "source": [
    "df.groupby('children')['debt'].sum().plot.bar(figsize=(7,4)) # исследуем динамику, как изменяется количество должников \n",
    "                                                # в зависимости от количества детей"
   ]
  },
  {
   "cell_type": "code",
   "execution_count": 77,
   "id": "927ac2cf",
   "metadata": {},
   "outputs": [
    {
     "data": {
      "text/plain": [
       "<AxesSubplot:xlabel='children'>"
      ]
     },
     "execution_count": 77,
     "metadata": {},
     "output_type": "execute_result"
    },
    {
     "data": {
      "image/png": "[encoded data removed]",
      "text/plain": [
       "<Figure size 504x288 with 1 Axes>"
      ]
     },
     "metadata": {
      "needs_background": "light"
     },
     "output_type": "display_data"
    }
   ],
   "source": [
    "df.groupby('children')['debt'].mean().plot.bar(figsize=(7,4)) # рассмотрим динамику относительного показателя\n",
    "                                                 # как изменяется доля должников в зависимости от количества детей"
   ]
  },
  {
   "cell_type": "markdown",
   "id": "c70d8da2",
   "metadata": {},
   "source": [
    "Проверив первую гипотезу, можно сделать вывод, что количество должников тем больше, чем меньше детей в семье. Но учитывая, то что сама группа клиентов без детей и с одним ребенком намного превышет по численности многодетных клиентов, целесообразнее сравнивать относительные показатели. Доли должников среди клиентов в группах, сформированных по количеству детей, меняется не значительно. Наименьший процент должников наблюдается в группе клиентов, не имеющих детей 7.5%. Наибольший процент среди клиентов, имеющих 2 детей 9.5% "
   ]
  },
  {
   "cell_type": "markdown",
   "id": "12bc2393",
   "metadata": {},
   "source": [
    "Проделаем тоже самое для групп сформированных по признаку семейное положение."
   ]
  },
  {
   "cell_type": "code",
   "execution_count": 78,
   "id": "397fa597",
   "metadata": {},
   "outputs": [
    {
     "data": {
      "text/html": [
       "<div>\n",
       "<style scoped>\n",
       "    .dataframe tbody tr th:only-of-type {\n",
       "        vertical-align: middle;\n",
       "    }\n",
       "\n",
       "    .dataframe tbody tr th {\n",
       "        vertical-align: top;\n",
       "    }\n",
       "\n",
       "    .dataframe thead th {\n",
       "        text-align: right;\n",
       "    }\n",
       "</style>\n",
       "<table border=\"1\" class=\"dataframe\">\n",
       "  <thead>\n",
       "    <tr style=\"text-align: right;\">\n",
       "      <th></th>\n",
       "      <th>count</th>\n",
       "      <th>mean</th>\n",
       "      <th>sum</th>\n",
       "    </tr>\n",
       "    <tr>\n",
       "      <th>family_status_id</th>\n",
       "      <th></th>\n",
       "      <th></th>\n",
       "      <th></th>\n",
       "    </tr>\n",
       "  </thead>\n",
       "  <tbody>\n",
       "    <tr>\n",
       "      <th>0</th>\n",
       "      <td>12344</td>\n",
       "      <td>0.075421</td>\n",
       "      <td>931</td>\n",
       "    </tr>\n",
       "    <tr>\n",
       "      <th>1</th>\n",
       "      <td>4163</td>\n",
       "      <td>0.093202</td>\n",
       "      <td>388</td>\n",
       "    </tr>\n",
       "    <tr>\n",
       "      <th>2</th>\n",
       "      <td>959</td>\n",
       "      <td>0.065693</td>\n",
       "      <td>63</td>\n",
       "    </tr>\n",
       "    <tr>\n",
       "      <th>3</th>\n",
       "      <td>1195</td>\n",
       "      <td>0.071130</td>\n",
       "      <td>85</td>\n",
       "    </tr>\n",
       "    <tr>\n",
       "      <th>4</th>\n",
       "      <td>2810</td>\n",
       "      <td>0.097509</td>\n",
       "      <td>274</td>\n",
       "    </tr>\n",
       "  </tbody>\n",
       "</table>\n",
       "</div>"
      ],
      "text/plain": [
       "                  count      mean  sum\n",
       "family_status_id                      \n",
       "0                 12344  0.075421  931\n",
       "1                  4163  0.093202  388\n",
       "2                   959  0.065693   63\n",
       "3                  1195  0.071130   85\n",
       "4                  2810  0.097509  274"
      ]
     },
     "execution_count": 78,
     "metadata": {},
     "output_type": "execute_result"
    }
   ],
   "source": [
    "df.groupby('family_status_id')['debt'].agg(['count','mean','sum'])"
   ]
  },
  {
   "cell_type": "code",
   "execution_count": 79,
   "id": "7a107617",
   "metadata": {},
   "outputs": [
    {
     "data": {
      "text/plain": [
       "<AxesSubplot:xlabel='family_status_id'>"
      ]
     },
     "execution_count": 79,
     "metadata": {},
     "output_type": "execute_result"
    },
    {
     "data": {
      "image/png": "[encoded data removed]",
      "text/plain": [
       "<Figure size 504x288 with 1 Axes>"
      ]
     },
     "metadata": {
      "needs_background": "light"
     },
     "output_type": "display_data"
    }
   ],
   "source": [
    "df.groupby('family_status_id')['debt'].sum().plot.bar(figsize=(7,4)) # исследуем динамику, как изменяется количество должников \n",
    "                                                        # в зависимости от семейного положения"
   ]
  },
  {
   "cell_type": "code",
   "execution_count": 80,
   "id": "a4c5bf74",
   "metadata": {},
   "outputs": [
    {
     "data": {
      "text/plain": [
       "<AxesSubplot:xlabel='family_status_id'>"
      ]
     },
     "execution_count": 80,
     "metadata": {},
     "output_type": "execute_result"
    },
    {
     "data": {
      "image/png": "[encoded data removed]",
      "text/plain": [
       "<Figure size 504x288 with 1 Axes>"
      ]
     },
     "metadata": {
      "needs_background": "light"
     },
     "output_type": "display_data"
    }
   ],
   "source": [
    "df.groupby('family_status_id')['debt'].mean().plot.bar(figsize=(7,4)) # рассмотрим динамику относительного показателя\n",
    "                                                         # как изменяется доля должников в зависимости от семейного положения"
   ]
  },
  {
   "cell_type": "markdown",
   "id": "dd04af9c",
   "metadata": {},
   "source": [
    "Семейное положение имеет обозначение в виде ключа, которое мы можем увидеть в словаре. Отобразим его на экране."
   ]
  },
  {
   "cell_type": "code",
   "execution_count": 81,
   "id": "c61166e9",
   "metadata": {},
   "outputs": [
    {
     "data": {
      "text/html": [
       "<div>\n",
       "<style scoped>\n",
       "    .dataframe tbody tr th:only-of-type {\n",
       "        vertical-align: middle;\n",
       "    }\n",
       "\n",
       "    .dataframe tbody tr th {\n",
       "        vertical-align: top;\n",
       "    }\n",
       "\n",
       "    .dataframe thead th {\n",
       "        text-align: right;\n",
       "    }\n",
       "</style>\n",
       "<table border=\"1\" class=\"dataframe\">\n",
       "  <thead>\n",
       "    <tr style=\"text-align: right;\">\n",
       "      <th></th>\n",
       "      <th>family_status_id</th>\n",
       "      <th>family_status</th>\n",
       "    </tr>\n",
       "  </thead>\n",
       "  <tbody>\n",
       "    <tr>\n",
       "      <th>0</th>\n",
       "      <td>0</td>\n",
       "      <td>женат / замужем</td>\n",
       "    </tr>\n",
       "    <tr>\n",
       "      <th>1</th>\n",
       "      <td>1</td>\n",
       "      <td>гражданский брак</td>\n",
       "    </tr>\n",
       "    <tr>\n",
       "      <th>2</th>\n",
       "      <td>2</td>\n",
       "      <td>вдовец / вдова</td>\n",
       "    </tr>\n",
       "    <tr>\n",
       "      <th>3</th>\n",
       "      <td>3</td>\n",
       "      <td>в разводе</td>\n",
       "    </tr>\n",
       "    <tr>\n",
       "      <th>4</th>\n",
       "      <td>4</td>\n",
       "      <td>Не женат / не замужем</td>\n",
       "    </tr>\n",
       "  </tbody>\n",
       "</table>\n",
       "</div>"
      ],
      "text/plain": [
       "   family_status_id          family_status\n",
       "0                 0        женат / замужем\n",
       "1                 1       гражданский брак\n",
       "2                 2         вдовец / вдова\n",
       "3                 3              в разводе\n",
       "4                 4  Не женат / не замужем"
      ]
     },
     "execution_count": 81,
     "metadata": {},
     "output_type": "execute_result"
    }
   ],
   "source": [
    "df_family_status_id"
   ]
  },
  {
   "cell_type": "markdown",
   "id": "c924bf7a",
   "metadata": {},
   "source": [
    "Группы сформированные по семейному положению так же неоднородны по количеству, поэтому исследуем относительные показатели. Доля должников холостых клиентов и состоящих в гражданском браке превышает показатели остальных групп - 9.8% и 9.3% соответственно. Меньше всего должников в группе разведенных клиентов и со статусом вдовец/вдова - 7.1% и 6.6% соответственно."
   ]
  },
  {
   "cell_type": "markdown",
   "id": "66ea86dd",
   "metadata": {},
   "source": [
    "Исследуем как зависит факт погашения кредита от уровня дохода клиента."
   ]
  },
  {
   "cell_type": "code",
   "execution_count": 82,
   "id": "e541790e",
   "metadata": {},
   "outputs": [
    {
     "data": {
      "text/html": [
       "<div>\n",
       "<style scoped>\n",
       "    .dataframe tbody tr th:only-of-type {\n",
       "        vertical-align: middle;\n",
       "    }\n",
       "\n",
       "    .dataframe tbody tr th {\n",
       "        vertical-align: top;\n",
       "    }\n",
       "\n",
       "    .dataframe thead th {\n",
       "        text-align: right;\n",
       "    }\n",
       "</style>\n",
       "<table border=\"1\" class=\"dataframe\">\n",
       "  <thead>\n",
       "    <tr style=\"text-align: right;\">\n",
       "      <th></th>\n",
       "      <th>count</th>\n",
       "      <th>mean</th>\n",
       "      <th>sum</th>\n",
       "    </tr>\n",
       "    <tr>\n",
       "      <th>total_income_category</th>\n",
       "      <th></th>\n",
       "      <th></th>\n",
       "      <th></th>\n",
       "    </tr>\n",
       "  </thead>\n",
       "  <tbody>\n",
       "    <tr>\n",
       "      <th>A</th>\n",
       "      <td>25</td>\n",
       "      <td>0.080000</td>\n",
       "      <td>2</td>\n",
       "    </tr>\n",
       "    <tr>\n",
       "      <th>B</th>\n",
       "      <td>5042</td>\n",
       "      <td>0.070607</td>\n",
       "      <td>356</td>\n",
       "    </tr>\n",
       "    <tr>\n",
       "      <th>C</th>\n",
       "      <td>16032</td>\n",
       "      <td>0.084830</td>\n",
       "      <td>1360</td>\n",
       "    </tr>\n",
       "    <tr>\n",
       "      <th>D</th>\n",
       "      <td>350</td>\n",
       "      <td>0.060000</td>\n",
       "      <td>21</td>\n",
       "    </tr>\n",
       "    <tr>\n",
       "      <th>E</th>\n",
       "      <td>22</td>\n",
       "      <td>0.090909</td>\n",
       "      <td>2</td>\n",
       "    </tr>\n",
       "  </tbody>\n",
       "</table>\n",
       "</div>"
      ],
      "text/plain": [
       "                       count      mean   sum\n",
       "total_income_category                       \n",
       "A                         25  0.080000     2\n",
       "B                       5042  0.070607   356\n",
       "C                      16032  0.084830  1360\n",
       "D                        350  0.060000    21\n",
       "E                         22  0.090909     2"
      ]
     },
     "execution_count": 82,
     "metadata": {},
     "output_type": "execute_result"
    }
   ],
   "source": [
    "df.groupby('total_income_category')['debt'].agg(['count','mean','sum'])"
   ]
  },
  {
   "cell_type": "markdown",
   "id": "aac4d30c",
   "metadata": {},
   "source": [
    "Вспомним диапазоны уровня доходов для каждой категории:\n",
    "* 0–30000 — 'E';\n",
    "* 30001–50000 — 'D';\n",
    "* 50001–200000 — 'C';\n",
    "* 200001–1000000 — 'B';\n",
    "* 1000001 и выше — 'A'"
   ]
  },
  {
   "cell_type": "code",
   "execution_count": 83,
   "id": "9716450a",
   "metadata": {},
   "outputs": [
    {
     "data": {
      "text/plain": [
       "<AxesSubplot:xlabel='total_income_category'>"
      ]
     },
     "execution_count": 83,
     "metadata": {},
     "output_type": "execute_result"
    },
    {
     "data": {
      "image/png": "[encoded data removed]",
      "text/plain": [
       "<Figure size 504x288 with 1 Axes>"
      ]
     },
     "metadata": {
      "needs_background": "light"
     },
     "output_type": "display_data"
    }
   ],
   "source": [
    "df.groupby('total_income_category')['debt'].mean().plot.bar(figsize=(7,4)) # рассмотрим динамику относительного показателя\n",
    "                                                              # как изменяется доля должников в зависимости от уровня дохода"
   ]
  },
  {
   "cell_type": "markdown",
   "id": "633cf46e",
   "metadata": {},
   "source": [
    "В группах наблюдается очень большой разброс по количеству должников. Исходя из этого, стоит сместить границы групп по уровню дохода, чтобы получить наиболее равномерное распределение, с целью минимизировать вероятность аномальных отклонений. Результаты запишем в новый столбец, чтобы сохранить данные из исходной задачи.\n",
    "\n",
    "Сделаем следующее распределение по категориям:\n",
    "* 0–50000 — 'E';\n",
    "* 50001–100000 — 'D';\n",
    "* 100001–150000 — 'C';\n",
    "* 150001–300000 — 'B';\n",
    "* 300001 и выше — 'A'"
   ]
  },
  {
   "cell_type": "code",
   "execution_count": 84,
   "id": "d897b3fe",
   "metadata": {},
   "outputs": [],
   "source": [
    "def total_income_group_2(x):\n",
    "    if x <= 50000:\n",
    "        return 'E'\n",
    "    if x <= 100000:\n",
    "        return 'D'\n",
    "    if x <= 150000:\n",
    "        return 'C'\n",
    "    if x <= 300000:\n",
    "        return 'B'\n",
    "    return 'A'\n"
   ]
  },
  {
   "cell_type": "code",
   "execution_count": 85,
   "id": "4a314db3",
   "metadata": {},
   "outputs": [],
   "source": [
    "df['total_income_category_2'] = df['total_income'].apply(total_income_group_2) # применим к каждому значению в столбце нашу функцию\n",
    "                                                                           # запишем в новый столбец"
   ]
  },
  {
   "cell_type": "code",
   "execution_count": 86,
   "id": "db9bca6f",
   "metadata": {},
   "outputs": [
    {
     "data": {
      "text/html": [
       "<div>\n",
       "<style scoped>\n",
       "    .dataframe tbody tr th:only-of-type {\n",
       "        vertical-align: middle;\n",
       "    }\n",
       "\n",
       "    .dataframe tbody tr th {\n",
       "        vertical-align: top;\n",
       "    }\n",
       "\n",
       "    .dataframe thead th {\n",
       "        text-align: right;\n",
       "    }\n",
       "</style>\n",
       "<table border=\"1\" class=\"dataframe\">\n",
       "  <thead>\n",
       "    <tr style=\"text-align: right;\">\n",
       "      <th></th>\n",
       "      <th>count</th>\n",
       "      <th>mean</th>\n",
       "      <th>sum</th>\n",
       "    </tr>\n",
       "    <tr>\n",
       "      <th>total_income_category_2</th>\n",
       "      <th></th>\n",
       "      <th></th>\n",
       "      <th></th>\n",
       "    </tr>\n",
       "  </thead>\n",
       "  <tbody>\n",
       "    <tr>\n",
       "      <th>A</th>\n",
       "      <td>1483</td>\n",
       "      <td>0.071477</td>\n",
       "      <td>106</td>\n",
       "    </tr>\n",
       "    <tr>\n",
       "      <th>B</th>\n",
       "      <td>8350</td>\n",
       "      <td>0.078683</td>\n",
       "      <td>657</td>\n",
       "    </tr>\n",
       "    <tr>\n",
       "      <th>C</th>\n",
       "      <td>7175</td>\n",
       "      <td>0.086969</td>\n",
       "      <td>624</td>\n",
       "    </tr>\n",
       "    <tr>\n",
       "      <th>D</th>\n",
       "      <td>4091</td>\n",
       "      <td>0.080909</td>\n",
       "      <td>331</td>\n",
       "    </tr>\n",
       "    <tr>\n",
       "      <th>E</th>\n",
       "      <td>372</td>\n",
       "      <td>0.061828</td>\n",
       "      <td>23</td>\n",
       "    </tr>\n",
       "  </tbody>\n",
       "</table>\n",
       "</div>"
      ],
      "text/plain": [
       "                         count      mean  sum\n",
       "total_income_category_2                      \n",
       "A                         1483  0.071477  106\n",
       "B                         8350  0.078683  657\n",
       "C                         7175  0.086969  624\n",
       "D                         4091  0.080909  331\n",
       "E                          372  0.061828   23"
      ]
     },
     "execution_count": 86,
     "metadata": {},
     "output_type": "execute_result"
    }
   ],
   "source": [
    "df.groupby('total_income_category_2')['debt'].agg(['count','mean','sum'])"
   ]
  },
  {
   "cell_type": "code",
   "execution_count": 87,
   "id": "fcc9efa5",
   "metadata": {},
   "outputs": [
    {
     "data": {
      "text/plain": [
       "<AxesSubplot:xlabel='total_income_category_2'>"
      ]
     },
     "execution_count": 87,
     "metadata": {},
     "output_type": "execute_result"
    },
    {
     "data": {
      "image/png": "[encoded data removed]",
      "text/plain": [
       "<Figure size 504x288 with 1 Axes>"
      ]
     },
     "metadata": {
      "needs_background": "light"
     },
     "output_type": "display_data"
    }
   ],
   "source": [
    "df.groupby('total_income_category_2')['debt'].mean().plot.bar(figsize=(7,4)) # рассмотрим динамику относительного показателя\n",
    "                                                                # как изменяется доля должников в зависимости от уровня дохода"
   ]
  },
  {
   "cell_type": "markdown",
   "id": "159bf81a",
   "metadata": {},
   "source": [
    "Таким образом, среди клиентов с самым высоким достатком, свыше 300 тыс.руб., меньше всего должников, что составляет 6% от общего количества клиентов в этой группе. Больше всего должников среди людей со средним достатком, с доходом 100 - 300 тыс.руб. - 8% от общего числа."
   ]
  },
  {
   "cell_type": "markdown",
   "id": "a2c46e9d",
   "metadata": {},
   "source": [
    "Исследуем группы клиентов по цели получения кредита."
   ]
  },
  {
   "cell_type": "code",
   "execution_count": 88,
   "id": "1ef43152",
   "metadata": {},
   "outputs": [
    {
     "data": {
      "text/html": [
       "<div>\n",
       "<style scoped>\n",
       "    .dataframe tbody tr th:only-of-type {\n",
       "        vertical-align: middle;\n",
       "    }\n",
       "\n",
       "    .dataframe tbody tr th {\n",
       "        vertical-align: top;\n",
       "    }\n",
       "\n",
       "    .dataframe thead tr th {\n",
       "        text-align: left;\n",
       "    }\n",
       "\n",
       "    .dataframe thead tr:last-of-type th {\n",
       "        text-align: right;\n",
       "    }\n",
       "</style>\n",
       "<table border=\"1\" class=\"dataframe\">\n",
       "  <thead>\n",
       "    <tr>\n",
       "      <th></th>\n",
       "      <th>count</th>\n",
       "      <th>mean</th>\n",
       "      <th>sum</th>\n",
       "    </tr>\n",
       "    <tr>\n",
       "      <th></th>\n",
       "      <th>debt</th>\n",
       "      <th>debt</th>\n",
       "      <th>debt</th>\n",
       "    </tr>\n",
       "    <tr>\n",
       "      <th>purpose_group</th>\n",
       "      <th></th>\n",
       "      <th></th>\n",
       "      <th></th>\n",
       "    </tr>\n",
       "  </thead>\n",
       "  <tbody>\n",
       "    <tr>\n",
       "      <th>иные нужды</th>\n",
       "      <td>2942</td>\n",
       "      <td>0.075119</td>\n",
       "      <td>221</td>\n",
       "    </tr>\n",
       "    <tr>\n",
       "      <th>покупка автомобиля</th>\n",
       "      <td>4308</td>\n",
       "      <td>0.093547</td>\n",
       "      <td>403</td>\n",
       "    </tr>\n",
       "    <tr>\n",
       "      <th>получение образования</th>\n",
       "      <td>4014</td>\n",
       "      <td>0.092177</td>\n",
       "      <td>370</td>\n",
       "    </tr>\n",
       "    <tr>\n",
       "      <th>приобретение недвижимости</th>\n",
       "      <td>10207</td>\n",
       "      <td>0.073185</td>\n",
       "      <td>747</td>\n",
       "    </tr>\n",
       "  </tbody>\n",
       "</table>\n",
       "</div>"
      ],
      "text/plain": [
       "                           count      mean  sum\n",
       "                            debt      debt debt\n",
       "purpose_group                                  \n",
       "иные нужды                  2942  0.075119  221\n",
       "покупка автомобиля          4308  0.093547  403\n",
       "получение образования       4014  0.092177  370\n",
       "приобретение недвижимости  10207  0.073185  747"
      ]
     },
     "execution_count": 88,
     "metadata": {},
     "output_type": "execute_result"
    }
   ],
   "source": [
    "df.pivot_table(index = ['purpose_group'], values = 'debt', aggfunc = ['count','mean','sum'])"
   ]
  },
  {
   "cell_type": "code",
   "execution_count": 89,
   "id": "e5b2dd02",
   "metadata": {},
   "outputs": [
    {
     "data": {
      "text/plain": [
       "<AxesSubplot:xlabel='purpose_group'>"
      ]
     },
     "execution_count": 89,
     "metadata": {},
     "output_type": "execute_result"
    },
    {
     "data": {
      "image/png": "[encoded data removed]",
      "text/plain": [
       "<Figure size 504x288 with 1 Axes>"
      ]
     },
     "metadata": {
      "needs_background": "light"
     },
     "output_type": "display_data"
    }
   ],
   "source": [
    "df.pivot_table(index = ['purpose_group'], values = 'debt', aggfunc = 'mean').plot.bar(grid=True,rot=45,figsize=(7,4))"
   ]
  },
  {
   "cell_type": "markdown",
   "id": "2cdc3409",
   "metadata": {},
   "source": [
    "Самая высокая доля должников среди клиентов, которые получили кредит на приоблетения автомобиля и на получение образования, показатели составляют приблизительно 9.4% и 9.2%. Меньше должников среди людей, которые обратились в банк с целью получения кредитов на покупку недвижимости и на оплату иных потредительских нужд - 7.3% и 7.5%."
   ]
  },
  {
   "cell_type": "markdown",
   "id": "749eac3a",
   "metadata": {},
   "source": [
    "## Итоги исследования"
   ]
  },
  {
   "cell_type": "markdown",
   "id": "566a93fa",
   "metadata": {},
   "source": [
    "Целью проекта было выяснить, как различные факторы влияют на платежеспособность клиентов.\n",
    "Были изучены показатели, которые отражают зависимость таких параметров как количество детей в семье, семейное положение, уровень дохода, а так же цели получения кредита."
   ]
  },
  {
   "cell_type": "markdown",
   "id": "8c4fd771",
   "metadata": {},
   "source": [
    "1. Доли должников среди клиентов в группах, сформированных по количеству детей, меняется незначительно. Наименьший процент должников наблюдается в группе клиентов, не имеющих детей. Наибольший процент среди клиентов, имеющих 2 детей. Разница между показателями не превышает 2 п.п."
   ]
  },
  {
   "cell_type": "markdown",
   "id": "f9460592",
   "metadata": {},
   "source": [
    "2. Доля должников холостых клиентов и состоящих в гражданском браке превышает показатели остальных групп. Меньше всего должников со статусом вдова/вдовец. Разница между максимальной и минимальной величиной исследуемых показателей не превышает 3 п.п."
   ]
  },
  {
   "cell_type": "markdown",
   "id": "61366f32",
   "metadata": {},
   "source": [
    "3. Среди клиентов с самым высоким достатком, свыше 300 тыс.руб., меньше всего должников, что составляет 6% от общего количества клиентов в этой группе. Больше всего должников среди людей со средним достатком, с доходом 100 - 300 тыс.руб. - 8% от общего числа."
   ]
  },
  {
   "cell_type": "markdown",
   "id": "10ccaf42",
   "metadata": {},
   "source": [
    "4. Самая высокая доля должников среди клиентов, которые получили кредит на приоблетения автомобиля и на получение образования. Меньше должников среди людей, которые обратились в банк с целью получения кредитов на покупку недвижимости и на оплату иных потредительских нужд. Разница между показателями не превышает 2 п.п."
   ]
  }
 ],
 "metadata": {
  "ExecuteTimeLog": [
   {
    "duration": 774,
    "start_time": "2022-03-07T18:10:54.721Z"
   },
   {
    "duration": 2571,
    "start_time": "2022-03-07T18:10:55.498Z"
   },
   {
    "duration": -2435,
    "start_time": "2022-03-07T18:11:00.509Z"
   },
   {
    "duration": -2438,
    "start_time": "2022-03-07T18:11:00.514Z"
   },
   {
    "duration": -2440,
    "start_time": "2022-03-07T18:11:00.518Z"
   },
   {
    "duration": -2443,
    "start_time": "2022-03-07T18:11:00.523Z"
   },
   {
    "duration": -2447,
    "start_time": "2022-03-07T18:11:00.528Z"
   },
   {
    "duration": -2450,
    "start_time": "2022-03-07T18:11:00.532Z"
   },
   {
    "duration": -2451,
    "start_time": "2022-03-07T18:11:00.535Z"
   },
   {
    "duration": -2453,
    "start_time": "2022-03-07T18:11:00.538Z"
   },
   {
    "duration": -2455,
    "start_time": "2022-03-07T18:11:00.541Z"
   },
   {
    "duration": -2455,
    "start_time": "2022-03-07T18:11:00.543Z"
   },
   {
    "duration": -2456,
    "start_time": "2022-03-07T18:11:00.545Z"
   },
   {
    "duration": -2456,
    "start_time": "2022-03-07T18:11:00.547Z"
   },
   {
    "duration": -2457,
    "start_time": "2022-03-07T18:11:00.549Z"
   },
   {
    "duration": -2458,
    "start_time": "2022-03-07T18:11:00.551Z"
   },
   {
    "duration": -2459,
    "start_time": "2022-03-07T18:11:00.553Z"
   },
   {
    "duration": -2459,
    "start_time": "2022-03-07T18:11:00.555Z"
   },
   {
    "duration": -2460,
    "start_time": "2022-03-07T18:11:00.557Z"
   },
   {
    "duration": -2461,
    "start_time": "2022-03-07T18:11:00.559Z"
   },
   {
    "duration": -2461,
    "start_time": "2022-03-07T18:11:00.561Z"
   },
   {
    "duration": -2462,
    "start_time": "2022-03-07T18:11:00.563Z"
   },
   {
    "duration": -2462,
    "start_time": "2022-03-07T18:11:00.564Z"
   },
   {
    "duration": -2463,
    "start_time": "2022-03-07T18:11:00.566Z"
   },
   {
    "duration": -2465,
    "start_time": "2022-03-07T18:11:00.569Z"
   },
   {
    "duration": -2466,
    "start_time": "2022-03-07T18:11:00.571Z"
   },
   {
    "duration": -2468,
    "start_time": "2022-03-07T18:11:00.575Z"
   },
   {
    "duration": -2477,
    "start_time": "2022-03-07T18:11:00.585Z"
   },
   {
    "duration": -2479,
    "start_time": "2022-03-07T18:11:00.588Z"
   },
   {
    "duration": -2479,
    "start_time": "2022-03-07T18:11:00.589Z"
   },
   {
    "duration": -2479,
    "start_time": "2022-03-07T18:11:00.591Z"
   },
   {
    "duration": -2480,
    "start_time": "2022-03-07T18:11:00.593Z"
   },
   {
    "duration": -2481,
    "start_time": "2022-03-07T18:11:00.595Z"
   },
   {
    "duration": -2535,
    "start_time": "2022-03-07T18:11:00.650Z"
   },
   {
    "duration": -2523,
    "start_time": "2022-03-07T18:11:00.655Z"
   },
   {
    "duration": -2522,
    "start_time": "2022-03-07T18:11:00.656Z"
   },
   {
    "duration": -2526,
    "start_time": "2022-03-07T18:11:00.661Z"
   },
   {
    "duration": -2528,
    "start_time": "2022-03-07T18:11:00.664Z"
   },
   {
    "duration": -2530,
    "start_time": "2022-03-07T18:11:00.668Z"
   },
   {
    "duration": -2538,
    "start_time": "2022-03-07T18:11:00.677Z"
   },
   {
    "duration": -2539,
    "start_time": "2022-03-07T18:11:00.679Z"
   },
   {
    "duration": -2539,
    "start_time": "2022-03-07T18:11:00.681Z"
   },
   {
    "duration": -2539,
    "start_time": "2022-03-07T18:11:00.682Z"
   },
   {
    "duration": -2540,
    "start_time": "2022-03-07T18:11:00.684Z"
   },
   {
    "duration": -2540,
    "start_time": "2022-03-07T18:11:00.686Z"
   },
   {
    "duration": -2540,
    "start_time": "2022-03-07T18:11:00.687Z"
   },
   {
    "duration": -2540,
    "start_time": "2022-03-07T18:11:00.689Z"
   },
   {
    "duration": -2541,
    "start_time": "2022-03-07T18:11:00.691Z"
   },
   {
    "duration": -2541,
    "start_time": "2022-03-07T18:11:00.692Z"
   },
   {
    "duration": -2541,
    "start_time": "2022-03-07T18:11:00.694Z"
   },
   {
    "duration": -2541,
    "start_time": "2022-03-07T18:11:00.695Z"
   },
   {
    "duration": -2542,
    "start_time": "2022-03-07T18:11:00.697Z"
   },
   {
    "duration": -2543,
    "start_time": "2022-03-07T18:11:00.700Z"
   },
   {
    "duration": -2592,
    "start_time": "2022-03-07T18:11:00.750Z"
   },
   {
    "duration": -2593,
    "start_time": "2022-03-07T18:11:00.752Z"
   },
   {
    "duration": -2593,
    "start_time": "2022-03-07T18:11:00.754Z"
   },
   {
    "duration": -2594,
    "start_time": "2022-03-07T18:11:00.756Z"
   },
   {
    "duration": -2595,
    "start_time": "2022-03-07T18:11:00.758Z"
   },
   {
    "duration": -2594,
    "start_time": "2022-03-07T18:11:00.759Z"
   },
   {
    "duration": -2596,
    "start_time": "2022-03-07T18:11:00.762Z"
   },
   {
    "duration": -2596,
    "start_time": "2022-03-07T18:11:00.764Z"
   },
   {
    "duration": -2597,
    "start_time": "2022-03-07T18:11:00.766Z"
   },
   {
    "duration": -2525,
    "start_time": "2022-03-07T18:11:00.768Z"
   },
   {
    "duration": -2524,
    "start_time": "2022-03-07T18:11:00.769Z"
   },
   {
    "duration": -2526,
    "start_time": "2022-03-07T18:11:00.772Z"
   },
   {
    "duration": -2526,
    "start_time": "2022-03-07T18:11:00.774Z"
   },
   {
    "duration": -2527,
    "start_time": "2022-03-07T18:11:00.776Z"
   },
   {
    "duration": -2527,
    "start_time": "2022-03-07T18:11:00.778Z"
   },
   {
    "duration": -2527,
    "start_time": "2022-03-07T18:11:00.780Z"
   },
   {
    "duration": -2527,
    "start_time": "2022-03-07T18:11:00.782Z"
   },
   {
    "duration": -2528,
    "start_time": "2022-03-07T18:11:00.784Z"
   },
   {
    "duration": -2530,
    "start_time": "2022-03-07T18:11:00.787Z"
   },
   {
    "duration": -2530,
    "start_time": "2022-03-07T18:11:00.789Z"
   },
   {
    "duration": 65,
    "start_time": "2022-03-07T18:11:09.823Z"
   },
   {
    "duration": 846,
    "start_time": "2022-03-07T18:11:22.701Z"
   },
   {
    "duration": 64,
    "start_time": "2022-03-07T18:11:23.550Z"
   },
   {
    "duration": 47,
    "start_time": "2022-03-07T18:11:23.620Z"
   },
   {
    "duration": 15,
    "start_time": "2022-03-07T18:11:23.669Z"
   },
   {
    "duration": 12,
    "start_time": "2022-03-07T18:11:23.686Z"
   },
   {
    "duration": 19,
    "start_time": "2022-03-07T18:11:23.733Z"
   },
   {
    "duration": 6,
    "start_time": "2022-03-07T18:11:23.756Z"
   },
   {
    "duration": 6,
    "start_time": "2022-03-07T18:11:23.765Z"
   },
   {
    "duration": 5,
    "start_time": "2022-03-07T18:11:23.773Z"
   },
   {
    "duration": 10,
    "start_time": "2022-03-07T18:11:23.780Z"
   },
   {
    "duration": 6,
    "start_time": "2022-03-07T18:11:23.832Z"
   },
   {
    "duration": 5,
    "start_time": "2022-03-07T18:11:23.840Z"
   },
   {
    "duration": 5,
    "start_time": "2022-03-07T18:11:23.847Z"
   },
   {
    "duration": 6,
    "start_time": "2022-03-07T18:11:23.854Z"
   },
   {
    "duration": 6,
    "start_time": "2022-03-07T18:11:23.862Z"
   },
   {
    "duration": 5,
    "start_time": "2022-03-07T18:11:23.871Z"
   },
   {
    "duration": 5,
    "start_time": "2022-03-07T18:11:23.878Z"
   },
   {
    "duration": 5,
    "start_time": "2022-03-07T18:11:23.933Z"
   },
   {
    "duration": 13,
    "start_time": "2022-03-07T18:11:23.940Z"
   },
   {
    "duration": 4,
    "start_time": "2022-03-07T18:11:23.956Z"
   },
   {
    "duration": 18,
    "start_time": "2022-03-07T18:11:23.963Z"
   },
   {
    "duration": 66,
    "start_time": "2022-03-07T18:11:23.988Z"
   },
   {
    "duration": 28,
    "start_time": "2022-03-07T18:11:24.060Z"
   },
   {
    "duration": 54,
    "start_time": "2022-03-07T18:11:24.090Z"
   },
   {
    "duration": 4,
    "start_time": "2022-03-07T18:11:24.146Z"
   },
   {
    "duration": 9,
    "start_time": "2022-03-07T18:11:24.152Z"
   },
   {
    "duration": 566,
    "start_time": "2022-03-07T18:11:24.163Z"
   },
   {
    "duration": -2424,
    "start_time": "2022-03-07T18:11:27.156Z"
   },
   {
    "duration": -2424,
    "start_time": "2022-03-07T18:11:27.157Z"
   },
   {
    "duration": -2424,
    "start_time": "2022-03-07T18:11:27.159Z"
   },
   {
    "duration": -2428,
    "start_time": "2022-03-07T18:11:27.164Z"
   },
   {
    "duration": -2428,
    "start_time": "2022-03-07T18:11:27.166Z"
   },
   {
    "duration": -2429,
    "start_time": "2022-03-07T18:11:27.168Z"
   },
   {
    "duration": -2430,
    "start_time": "2022-03-07T18:11:27.170Z"
   },
   {
    "duration": -2430,
    "start_time": "2022-03-07T18:11:27.172Z"
   },
   {
    "duration": -2431,
    "start_time": "2022-03-07T18:11:27.174Z"
   },
   {
    "duration": -2430,
    "start_time": "2022-03-07T18:11:27.175Z"
   },
   {
    "duration": -2431,
    "start_time": "2022-03-07T18:11:27.177Z"
   },
   {
    "duration": -2431,
    "start_time": "2022-03-07T18:11:27.179Z"
   },
   {
    "duration": -2432,
    "start_time": "2022-03-07T18:11:27.181Z"
   },
   {
    "duration": -2433,
    "start_time": "2022-03-07T18:11:27.183Z"
   },
   {
    "duration": -2433,
    "start_time": "2022-03-07T18:11:27.185Z"
   },
   {
    "duration": -2434,
    "start_time": "2022-03-07T18:11:27.187Z"
   },
   {
    "duration": -2435,
    "start_time": "2022-03-07T18:11:27.189Z"
   },
   {
    "duration": -2435,
    "start_time": "2022-03-07T18:11:27.190Z"
   },
   {
    "duration": -2435,
    "start_time": "2022-03-07T18:11:27.192Z"
   },
   {
    "duration": -2436,
    "start_time": "2022-03-07T18:11:27.194Z"
   },
   {
    "duration": -2490,
    "start_time": "2022-03-07T18:11:27.250Z"
   },
   {
    "duration": -2490,
    "start_time": "2022-03-07T18:11:27.252Z"
   },
   {
    "duration": -2491,
    "start_time": "2022-03-07T18:11:27.254Z"
   },
   {
    "duration": -2491,
    "start_time": "2022-03-07T18:11:27.255Z"
   },
   {
    "duration": -2491,
    "start_time": "2022-03-07T18:11:27.257Z"
   },
   {
    "duration": -2492,
    "start_time": "2022-03-07T18:11:27.259Z"
   },
   {
    "duration": -2494,
    "start_time": "2022-03-07T18:11:27.262Z"
   },
   {
    "duration": -2494,
    "start_time": "2022-03-07T18:11:27.264Z"
   },
   {
    "duration": -2495,
    "start_time": "2022-03-07T18:11:27.266Z"
   },
   {
    "duration": -2497,
    "start_time": "2022-03-07T18:11:27.269Z"
   },
   {
    "duration": -2439,
    "start_time": "2022-03-07T18:11:27.271Z"
   },
   {
    "duration": -2439,
    "start_time": "2022-03-07T18:11:27.273Z"
   },
   {
    "duration": -2440,
    "start_time": "2022-03-07T18:11:27.275Z"
   },
   {
    "duration": -2441,
    "start_time": "2022-03-07T18:11:27.277Z"
   },
   {
    "duration": -2441,
    "start_time": "2022-03-07T18:11:27.279Z"
   },
   {
    "duration": -2441,
    "start_time": "2022-03-07T18:11:27.281Z"
   },
   {
    "duration": -2443,
    "start_time": "2022-03-07T18:11:27.284Z"
   },
   {
    "duration": -2443,
    "start_time": "2022-03-07T18:11:27.285Z"
   },
   {
    "duration": -2445,
    "start_time": "2022-03-07T18:11:27.288Z"
   },
   {
    "duration": -2446,
    "start_time": "2022-03-07T18:11:27.291Z"
   },
   {
    "duration": -2447,
    "start_time": "2022-03-07T18:11:27.294Z"
   },
   {
    "duration": -2447,
    "start_time": "2022-03-07T18:11:27.295Z"
   },
   {
    "duration": -2447,
    "start_time": "2022-03-07T18:11:27.297Z"
   },
   {
    "duration": -2448,
    "start_time": "2022-03-07T18:11:27.299Z"
   },
   {
    "duration": -2450,
    "start_time": "2022-03-07T18:11:27.302Z"
   },
   {
    "duration": -2494,
    "start_time": "2022-03-07T18:11:27.348Z"
   },
   {
    "duration": 17,
    "start_time": "2022-03-07T18:12:26.243Z"
   },
   {
    "duration": 5,
    "start_time": "2022-03-07T18:12:26.404Z"
   },
   {
    "duration": 8,
    "start_time": "2022-03-07T18:12:27.889Z"
   },
   {
    "duration": 9,
    "start_time": "2022-03-07T18:12:27.900Z"
   },
   {
    "duration": 7,
    "start_time": "2022-03-07T18:12:27.912Z"
   },
   {
    "duration": 7,
    "start_time": "2022-03-07T18:12:27.922Z"
   },
   {
    "duration": 6,
    "start_time": "2022-03-07T18:12:27.931Z"
   },
   {
    "duration": 10,
    "start_time": "2022-03-07T18:12:27.939Z"
   },
   {
    "duration": 25,
    "start_time": "2022-03-07T18:12:27.952Z"
   },
   {
    "duration": 10,
    "start_time": "2022-03-07T18:12:28.467Z"
   },
   {
    "duration": 26,
    "start_time": "2022-03-07T18:12:28.816Z"
   },
   {
    "duration": 5,
    "start_time": "2022-03-07T18:12:29.165Z"
   },
   {
    "duration": 8,
    "start_time": "2022-03-07T18:12:29.334Z"
   },
   {
    "duration": 25,
    "start_time": "2022-03-07T18:12:29.511Z"
   },
   {
    "duration": 3,
    "start_time": "2022-03-07T18:12:29.863Z"
   },
   {
    "duration": 486,
    "start_time": "2022-03-07T18:12:30.042Z"
   },
   {
    "duration": -2469,
    "start_time": "2022-03-07T18:12:32.999Z"
   },
   {
    "duration": 6,
    "start_time": "2022-03-07T18:12:30.731Z"
   },
   {
    "duration": 5,
    "start_time": "2022-03-07T18:12:30.895Z"
   },
   {
    "duration": 10,
    "start_time": "2022-03-07T18:12:31.062Z"
   },
   {
    "duration": 9,
    "start_time": "2022-03-07T18:12:31.239Z"
   },
   {
    "duration": 9,
    "start_time": "2022-03-07T18:12:31.411Z"
   },
   {
    "duration": 9,
    "start_time": "2022-03-07T18:12:31.577Z"
   },
   {
    "duration": 8,
    "start_time": "2022-03-07T18:12:31.934Z"
   },
   {
    "duration": 5,
    "start_time": "2022-03-07T18:12:32.100Z"
   },
   {
    "duration": 4,
    "start_time": "2022-03-07T18:12:32.465Z"
   },
   {
    "duration": 13,
    "start_time": "2022-03-07T18:12:32.632Z"
   },
   {
    "duration": 30,
    "start_time": "2022-03-07T18:12:32.829Z"
   },
   {
    "duration": 4,
    "start_time": "2022-03-07T18:12:33.359Z"
   },
   {
    "duration": 5,
    "start_time": "2022-03-07T18:12:33.532Z"
   },
   {
    "duration": 12,
    "start_time": "2022-03-07T18:12:33.902Z"
   },
   {
    "duration": 17,
    "start_time": "2022-03-07T18:12:34.260Z"
   },
   {
    "duration": 341,
    "start_time": "2022-03-07T18:12:34.443Z"
   },
   {
    "duration": 254,
    "start_time": "2022-03-07T18:12:34.787Z"
   },
   {
    "duration": 19,
    "start_time": "2022-03-07T18:12:35.181Z"
   },
   {
    "duration": 225,
    "start_time": "2022-03-07T18:12:35.364Z"
   },
   {
    "duration": 287,
    "start_time": "2022-03-07T18:12:35.592Z"
   },
   {
    "duration": 10,
    "start_time": "2022-03-07T18:12:35.916Z"
   },
   {
    "duration": 18,
    "start_time": "2022-03-07T18:12:36.475Z"
   },
   {
    "duration": 218,
    "start_time": "2022-03-07T18:12:36.844Z"
   },
   {
    "duration": 4,
    "start_time": "2022-03-07T18:12:37.220Z"
   },
   {
    "duration": 14,
    "start_time": "2022-03-07T18:12:37.409Z"
   },
   {
    "duration": 22,
    "start_time": "2022-03-07T18:12:37.775Z"
   },
   {
    "duration": 304,
    "start_time": "2022-03-07T18:12:38.075Z"
   },
   {
    "duration": 47,
    "start_time": "2022-03-07T18:12:38.650Z"
   },
   {
    "duration": 288,
    "start_time": "2022-03-07T18:12:38.834Z"
   },
   {
    "duration": 8336,
    "start_time": "2022-03-07T18:13:43.637Z"
   },
   {
    "duration": 29,
    "start_time": "2022-03-07T18:13:54.996Z"
   },
   {
    "duration": 10,
    "start_time": "2022-03-07T18:14:08.183Z"
   },
   {
    "duration": 251,
    "start_time": "2022-03-07T18:14:20.839Z"
   },
   {
    "duration": 11,
    "start_time": "2022-03-07T18:14:56.722Z"
   },
   {
    "duration": 10,
    "start_time": "2022-03-07T18:28:41.162Z"
   },
   {
    "duration": 330,
    "start_time": "2022-03-07T18:28:59.212Z"
   },
   {
    "duration": 11,
    "start_time": "2022-03-07T18:29:01.542Z"
   },
   {
    "duration": 407,
    "start_time": "2022-03-09T10:39:42.424Z"
   },
   {
    "duration": 717,
    "start_time": "2022-03-09T10:39:57.672Z"
   },
   {
    "duration": 67,
    "start_time": "2022-03-09T10:39:58.465Z"
   },
   {
    "duration": 45,
    "start_time": "2022-03-09T10:40:04.575Z"
   },
   {
    "duration": 47,
    "start_time": "2022-03-09T10:40:07.702Z"
   },
   {
    "duration": 14,
    "start_time": "2022-03-09T10:43:20.329Z"
   },
   {
    "duration": 14,
    "start_time": "2022-03-09T10:45:00.175Z"
   },
   {
    "duration": 20,
    "start_time": "2022-03-09T10:45:01.510Z"
   },
   {
    "duration": 7,
    "start_time": "2022-03-09T10:45:07.440Z"
   },
   {
    "duration": 7,
    "start_time": "2022-03-09T10:45:08.135Z"
   },
   {
    "duration": 4,
    "start_time": "2022-03-09T10:45:09.678Z"
   },
   {
    "duration": 12,
    "start_time": "2022-03-09T10:46:42.146Z"
   },
   {
    "duration": 5,
    "start_time": "2022-03-09T10:48:21.260Z"
   },
   {
    "duration": 4,
    "start_time": "2022-03-09T10:48:45.726Z"
   },
   {
    "duration": 408,
    "start_time": "2022-03-09T10:49:20.804Z"
   },
   {
    "duration": 7,
    "start_time": "2022-03-09T10:49:37.820Z"
   },
   {
    "duration": 5,
    "start_time": "2022-03-09T10:49:39.249Z"
   },
   {
    "duration": 9,
    "start_time": "2022-03-09T10:50:07.924Z"
   },
   {
    "duration": 34,
    "start_time": "2022-03-09T10:50:41.582Z"
   },
   {
    "duration": 7,
    "start_time": "2022-03-09T10:51:09.832Z"
   },
   {
    "duration": 32,
    "start_time": "2022-03-09T10:51:26.570Z"
   },
   {
    "duration": 7,
    "start_time": "2022-03-09T11:47:57.776Z"
   },
   {
    "duration": 27,
    "start_time": "2022-03-09T11:53:50.423Z"
   },
   {
    "duration": 6,
    "start_time": "2022-03-09T11:55:12.894Z"
   },
   {
    "duration": 5,
    "start_time": "2022-03-09T11:56:23.449Z"
   },
   {
    "duration": 7,
    "start_time": "2022-03-09T11:56:55.841Z"
   },
   {
    "duration": 6,
    "start_time": "2022-03-09T11:56:56.641Z"
   },
   {
    "duration": 4,
    "start_time": "2022-03-09T11:56:57.342Z"
   },
   {
    "duration": 10,
    "start_time": "2022-03-09T12:25:00.699Z"
   },
   {
    "duration": 752,
    "start_time": "2022-03-09T12:25:42.589Z"
   },
   {
    "duration": 72,
    "start_time": "2022-03-09T12:25:43.344Z"
   },
   {
    "duration": 43,
    "start_time": "2022-03-09T12:25:43.419Z"
   },
   {
    "duration": 45,
    "start_time": "2022-03-09T12:25:43.465Z"
   },
   {
    "duration": 32,
    "start_time": "2022-03-09T12:25:43.513Z"
   },
   {
    "duration": 12,
    "start_time": "2022-03-09T12:25:43.547Z"
   },
   {
    "duration": 18,
    "start_time": "2022-03-09T12:25:43.561Z"
   },
   {
    "duration": 5,
    "start_time": "2022-03-09T12:25:43.583Z"
   },
   {
    "duration": 6,
    "start_time": "2022-03-09T12:25:43.634Z"
   },
   {
    "duration": 9,
    "start_time": "2022-03-09T12:25:43.642Z"
   },
   {
    "duration": 15,
    "start_time": "2022-03-09T12:25:43.653Z"
   },
   {
    "duration": 5,
    "start_time": "2022-03-09T12:25:43.671Z"
   },
   {
    "duration": 6,
    "start_time": "2022-03-09T12:25:43.678Z"
   },
   {
    "duration": 48,
    "start_time": "2022-03-09T12:25:43.686Z"
   },
   {
    "duration": 5,
    "start_time": "2022-03-09T12:25:43.736Z"
   },
   {
    "duration": 11,
    "start_time": "2022-03-09T12:25:43.743Z"
   },
   {
    "duration": 5,
    "start_time": "2022-03-09T12:25:43.756Z"
   },
   {
    "duration": 4,
    "start_time": "2022-03-09T12:25:43.763Z"
   },
   {
    "duration": 5,
    "start_time": "2022-03-09T12:25:43.769Z"
   },
   {
    "duration": 6,
    "start_time": "2022-03-09T12:25:43.776Z"
   },
   {
    "duration": 49,
    "start_time": "2022-03-09T12:25:43.785Z"
   },
   {
    "duration": 14,
    "start_time": "2022-03-09T12:25:43.837Z"
   },
   {
    "duration": 4,
    "start_time": "2022-03-09T12:25:43.857Z"
   },
   {
    "duration": 15,
    "start_time": "2022-03-09T12:25:43.865Z"
   },
   {
    "duration": 58,
    "start_time": "2022-03-09T12:25:43.882Z"
   },
   {
    "duration": 23,
    "start_time": "2022-03-09T12:25:43.942Z"
   },
   {
    "duration": 22,
    "start_time": "2022-03-09T12:25:43.968Z"
   },
   {
    "duration": 3,
    "start_time": "2022-03-09T12:25:43.992Z"
   },
   {
    "duration": 35,
    "start_time": "2022-03-09T12:25:43.998Z"
   },
   {
    "duration": 547,
    "start_time": "2022-03-09T12:25:44.036Z"
   },
   {
    "duration": -89,
    "start_time": "2022-03-09T12:25:44.675Z"
   },
   {
    "duration": -91,
    "start_time": "2022-03-09T12:25:44.679Z"
   },
   {
    "duration": -94,
    "start_time": "2022-03-09T12:25:44.683Z"
   },
   {
    "duration": -96,
    "start_time": "2022-03-09T12:25:44.686Z"
   },
   {
    "duration": -97,
    "start_time": "2022-03-09T12:25:44.689Z"
   },
   {
    "duration": -98,
    "start_time": "2022-03-09T12:25:44.691Z"
   },
   {
    "duration": -101,
    "start_time": "2022-03-09T12:25:44.695Z"
   },
   {
    "duration": -103,
    "start_time": "2022-03-09T12:25:44.698Z"
   },
   {
    "duration": -104,
    "start_time": "2022-03-09T12:25:44.701Z"
   },
   {
    "duration": -106,
    "start_time": "2022-03-09T12:25:44.704Z"
   },
   {
    "duration": -108,
    "start_time": "2022-03-09T12:25:44.707Z"
   },
   {
    "duration": -116,
    "start_time": "2022-03-09T12:25:44.716Z"
   },
   {
    "duration": -117,
    "start_time": "2022-03-09T12:25:44.719Z"
   },
   {
    "duration": -119,
    "start_time": "2022-03-09T12:25:44.722Z"
   },
   {
    "duration": -121,
    "start_time": "2022-03-09T12:25:44.725Z"
   },
   {
    "duration": -123,
    "start_time": "2022-03-09T12:25:44.728Z"
   },
   {
    "duration": -125,
    "start_time": "2022-03-09T12:25:44.731Z"
   },
   {
    "duration": -126,
    "start_time": "2022-03-09T12:25:44.734Z"
   },
   {
    "duration": -128,
    "start_time": "2022-03-09T12:25:44.737Z"
   },
   {
    "duration": -129,
    "start_time": "2022-03-09T12:25:44.739Z"
   },
   {
    "duration": -131,
    "start_time": "2022-03-09T12:25:44.743Z"
   },
   {
    "duration": -133,
    "start_time": "2022-03-09T12:25:44.746Z"
   },
   {
    "duration": -135,
    "start_time": "2022-03-09T12:25:44.749Z"
   },
   {
    "duration": -136,
    "start_time": "2022-03-09T12:25:44.752Z"
   },
   {
    "duration": -138,
    "start_time": "2022-03-09T12:25:44.755Z"
   },
   {
    "duration": -139,
    "start_time": "2022-03-09T12:25:44.758Z"
   },
   {
    "duration": -129,
    "start_time": "2022-03-09T12:25:44.761Z"
   },
   {
    "duration": -131,
    "start_time": "2022-03-09T12:25:44.764Z"
   },
   {
    "duration": -132,
    "start_time": "2022-03-09T12:25:44.767Z"
   },
   {
    "duration": -134,
    "start_time": "2022-03-09T12:25:44.770Z"
   },
   {
    "duration": -136,
    "start_time": "2022-03-09T12:25:44.773Z"
   },
   {
    "duration": -136,
    "start_time": "2022-03-09T12:25:44.775Z"
   },
   {
    "duration": -139,
    "start_time": "2022-03-09T12:25:44.779Z"
   },
   {
    "duration": -141,
    "start_time": "2022-03-09T12:25:44.782Z"
   },
   {
    "duration": -142,
    "start_time": "2022-03-09T12:25:44.785Z"
   },
   {
    "duration": -144,
    "start_time": "2022-03-09T12:25:44.788Z"
   },
   {
    "duration": -147,
    "start_time": "2022-03-09T12:25:44.792Z"
   },
   {
    "duration": -147,
    "start_time": "2022-03-09T12:25:44.794Z"
   },
   {
    "duration": -156,
    "start_time": "2022-03-09T12:25:44.805Z"
   },
   {
    "duration": -170,
    "start_time": "2022-03-09T12:25:44.820Z"
   },
   {
    "duration": -172,
    "start_time": "2022-03-09T12:25:44.823Z"
   },
   {
    "duration": -177,
    "start_time": "2022-03-09T12:25:44.829Z"
   },
   {
    "duration": -179,
    "start_time": "2022-03-09T12:25:44.832Z"
   },
   {
    "duration": -180,
    "start_time": "2022-03-09T12:25:44.835Z"
   },
   {
    "duration": -183,
    "start_time": "2022-03-09T12:25:44.839Z"
   },
   {
    "duration": -185,
    "start_time": "2022-03-09T12:25:44.843Z"
   },
   {
    "duration": 7,
    "start_time": "2022-03-09T12:30:12.524Z"
   },
   {
    "duration": 7,
    "start_time": "2022-03-09T12:30:16.827Z"
   },
   {
    "duration": 766,
    "start_time": "2022-03-09T12:31:58.623Z"
   },
   {
    "duration": 70,
    "start_time": "2022-03-09T12:32:00.104Z"
   },
   {
    "duration": 43,
    "start_time": "2022-03-09T12:32:01.699Z"
   },
   {
    "duration": 47,
    "start_time": "2022-03-09T12:32:08.296Z"
   },
   {
    "duration": 15,
    "start_time": "2022-03-09T12:32:11.040Z"
   },
   {
    "duration": 13,
    "start_time": "2022-03-09T12:32:18.194Z"
   },
   {
    "duration": 19,
    "start_time": "2022-03-09T12:32:21.185Z"
   },
   {
    "duration": 6,
    "start_time": "2022-03-09T12:32:25.478Z"
   },
   {
    "duration": 7,
    "start_time": "2022-03-09T12:32:26.024Z"
   },
   {
    "duration": 5,
    "start_time": "2022-03-09T12:32:26.653Z"
   },
   {
    "duration": 14,
    "start_time": "2022-03-09T12:32:28.060Z"
   },
   {
    "duration": 7,
    "start_time": "2022-03-09T12:32:34.625Z"
   },
   {
    "duration": 7,
    "start_time": "2022-03-09T12:32:35.430Z"
   },
   {
    "duration": 6,
    "start_time": "2022-03-09T12:32:42.769Z"
   },
   {
    "duration": 7,
    "start_time": "2022-03-09T12:32:52.781Z"
   },
   {
    "duration": 8,
    "start_time": "2022-03-09T12:32:54.647Z"
   },
   {
    "duration": 88,
    "start_time": "2022-03-09T12:33:05.558Z"
   },
   {
    "duration": 7,
    "start_time": "2022-03-09T12:39:23.291Z"
   },
   {
    "duration": 3,
    "start_time": "2022-03-09T12:39:26.899Z"
   },
   {
    "duration": 23,
    "start_time": "2022-03-09T12:39:29.478Z"
   },
   {
    "duration": 3,
    "start_time": "2022-03-09T12:41:54.839Z"
   },
   {
    "duration": 3,
    "start_time": "2022-03-09T12:41:55.516Z"
   },
   {
    "duration": 3,
    "start_time": "2022-03-09T12:41:57.459Z"
   },
   {
    "duration": 10,
    "start_time": "2022-03-09T12:42:18.965Z"
   },
   {
    "duration": 13,
    "start_time": "2022-03-09T12:42:24.280Z"
   },
   {
    "duration": 414,
    "start_time": "2022-03-09T12:42:59.052Z"
   },
   {
    "duration": 10,
    "start_time": "2022-03-09T12:43:09.397Z"
   },
   {
    "duration": 3,
    "start_time": "2022-03-09T12:43:13.074Z"
   },
   {
    "duration": 3,
    "start_time": "2022-03-09T12:43:13.632Z"
   },
   {
    "duration": 3,
    "start_time": "2022-03-09T12:43:14.766Z"
   },
   {
    "duration": 12,
    "start_time": "2022-03-09T12:43:15.584Z"
   },
   {
    "duration": 13,
    "start_time": "2022-03-09T12:43:18.485Z"
   },
   {
    "duration": 10,
    "start_time": "2022-03-09T12:45:41.097Z"
   },
   {
    "duration": 3,
    "start_time": "2022-03-09T12:45:43.756Z"
   },
   {
    "duration": 3,
    "start_time": "2022-03-09T12:45:44.467Z"
   },
   {
    "duration": 4,
    "start_time": "2022-03-09T12:45:45.192Z"
   },
   {
    "duration": 10,
    "start_time": "2022-03-09T12:45:47.227Z"
   },
   {
    "duration": 13,
    "start_time": "2022-03-09T12:45:47.612Z"
   },
   {
    "duration": 6,
    "start_time": "2022-03-09T12:48:27.172Z"
   },
   {
    "duration": 16,
    "start_time": "2022-03-09T12:48:30.283Z"
   },
   {
    "duration": 23,
    "start_time": "2022-03-09T12:48:36.460Z"
   },
   {
    "duration": 26,
    "start_time": "2022-03-09T12:48:40.249Z"
   },
   {
    "duration": 23,
    "start_time": "2022-03-09T12:48:40.869Z"
   },
   {
    "duration": 4,
    "start_time": "2022-03-09T12:48:44.309Z"
   },
   {
    "duration": 4,
    "start_time": "2022-03-09T12:48:45.241Z"
   },
   {
    "duration": 3,
    "start_time": "2022-03-09T12:49:19.458Z"
   },
   {
    "duration": 509,
    "start_time": "2022-03-09T12:49:47.271Z"
   },
   {
    "duration": 8,
    "start_time": "2022-03-09T13:06:41.913Z"
   },
   {
    "duration": 9,
    "start_time": "2022-03-09T13:07:27.649Z"
   },
   {
    "duration": 22,
    "start_time": "2022-03-09T13:08:03.971Z"
   },
   {
    "duration": 10,
    "start_time": "2022-03-09T13:08:38.570Z"
   },
   {
    "duration": 22,
    "start_time": "2022-03-09T13:09:25.715Z"
   },
   {
    "duration": 10,
    "start_time": "2022-03-09T13:10:02.377Z"
   },
   {
    "duration": 10,
    "start_time": "2022-03-09T13:11:07.387Z"
   },
   {
    "duration": 20,
    "start_time": "2022-03-09T13:11:32.863Z"
   },
   {
    "duration": 24,
    "start_time": "2022-03-09T13:12:03.078Z"
   },
   {
    "duration": 8,
    "start_time": "2022-03-09T13:12:40.196Z"
   },
   {
    "duration": 26,
    "start_time": "2022-03-09T13:25:50.061Z"
   },
   {
    "duration": 16,
    "start_time": "2022-03-09T13:38:13.772Z"
   },
   {
    "duration": 5,
    "start_time": "2022-03-09T13:38:16.803Z"
   },
   {
    "duration": 9,
    "start_time": "2022-03-09T13:38:18.975Z"
   },
   {
    "duration": 11,
    "start_time": "2022-03-09T13:38:34.101Z"
   },
   {
    "duration": 8,
    "start_time": "2022-03-09T13:38:37.566Z"
   },
   {
    "duration": 7,
    "start_time": "2022-03-09T13:38:56.228Z"
   },
   {
    "duration": 3,
    "start_time": "2022-03-09T13:38:57.837Z"
   },
   {
    "duration": 6,
    "start_time": "2022-03-09T13:38:58.854Z"
   },
   {
    "duration": 19,
    "start_time": "2022-03-09T13:39:03.774Z"
   },
   {
    "duration": 10,
    "start_time": "2022-03-09T13:39:35.272Z"
   },
   {
    "duration": 26,
    "start_time": "2022-03-09T13:40:14.769Z"
   },
   {
    "duration": 5,
    "start_time": "2022-03-09T13:40:45.614Z"
   },
   {
    "duration": 7,
    "start_time": "2022-03-09T13:40:48.532Z"
   },
   {
    "duration": 27,
    "start_time": "2022-03-09T13:40:54.261Z"
   },
   {
    "duration": 3,
    "start_time": "2022-03-09T13:49:16.622Z"
   },
   {
    "duration": 3,
    "start_time": "2022-03-09T13:49:38.325Z"
   },
   {
    "duration": 8,
    "start_time": "2022-03-09T13:54:13.856Z"
   },
   {
    "duration": 30,
    "start_time": "2022-03-09T13:54:34.648Z"
   },
   {
    "duration": 27,
    "start_time": "2022-03-09T13:56:29.992Z"
   },
   {
    "duration": 24,
    "start_time": "2022-03-09T13:56:51.567Z"
   },
   {
    "duration": 365,
    "start_time": "2022-03-09T13:57:03.142Z"
   },
   {
    "duration": 11,
    "start_time": "2022-03-09T14:06:13.720Z"
   },
   {
    "duration": 6,
    "start_time": "2022-03-09T14:06:14.888Z"
   },
   {
    "duration": 9,
    "start_time": "2022-03-09T14:06:15.822Z"
   },
   {
    "duration": 8,
    "start_time": "2022-03-09T14:06:16.843Z"
   },
   {
    "duration": 9,
    "start_time": "2022-03-09T14:06:18.299Z"
   },
   {
    "duration": 8,
    "start_time": "2022-03-09T14:06:29.945Z"
   },
   {
    "duration": 6,
    "start_time": "2022-03-09T14:06:37.052Z"
   },
   {
    "duration": 6,
    "start_time": "2022-03-09T14:06:38.148Z"
   },
   {
    "duration": 5,
    "start_time": "2022-03-09T14:06:58.826Z"
   },
   {
    "duration": 14,
    "start_time": "2022-03-09T14:07:01.169Z"
   },
   {
    "duration": 29,
    "start_time": "2022-03-09T14:07:05.838Z"
   },
   {
    "duration": 5,
    "start_time": "2022-03-09T14:07:41.907Z"
   },
   {
    "duration": 5,
    "start_time": "2022-03-09T14:07:43.318Z"
   },
   {
    "duration": 13,
    "start_time": "2022-03-09T14:07:48.654Z"
   },
   {
    "duration": 17,
    "start_time": "2022-03-09T14:07:51.754Z"
   },
   {
    "duration": 230,
    "start_time": "2022-03-09T14:07:58.577Z"
   },
   {
    "duration": 246,
    "start_time": "2022-03-09T14:08:12.895Z"
   },
   {
    "duration": 19,
    "start_time": "2022-03-09T14:09:27.466Z"
   },
   {
    "duration": 303,
    "start_time": "2022-03-09T14:09:31.015Z"
   },
   {
    "duration": 232,
    "start_time": "2022-03-09T14:09:34.573Z"
   },
   {
    "duration": 9,
    "start_time": "2022-03-09T14:09:48.863Z"
   },
   {
    "duration": 19,
    "start_time": "2022-03-09T14:10:18.807Z"
   },
   {
    "duration": 224,
    "start_time": "2022-03-09T14:10:25.168Z"
   },
   {
    "duration": 4,
    "start_time": "2022-03-09T14:11:41.786Z"
   },
   {
    "duration": 17,
    "start_time": "2022-03-09T14:11:42.823Z"
   },
   {
    "duration": 22,
    "start_time": "2022-03-09T14:11:43.905Z"
   },
   {
    "duration": 231,
    "start_time": "2022-03-09T14:11:57.590Z"
   },
   {
    "duration": 46,
    "start_time": "2022-03-09T14:14:25.593Z"
   },
   {
    "duration": 275,
    "start_time": "2022-03-09T14:14:35.275Z"
   },
   {
    "duration": 782,
    "start_time": "2022-03-09T14:20:26.458Z"
   },
   {
    "duration": 80,
    "start_time": "2022-03-09T14:20:27.242Z"
   },
   {
    "duration": 45,
    "start_time": "2022-03-09T14:20:27.326Z"
   },
   {
    "duration": 71,
    "start_time": "2022-03-09T14:20:27.374Z"
   },
   {
    "duration": 14,
    "start_time": "2022-03-09T14:20:27.448Z"
   },
   {
    "duration": 12,
    "start_time": "2022-03-09T14:20:27.464Z"
   },
   {
    "duration": 19,
    "start_time": "2022-03-09T14:20:27.479Z"
   },
   {
    "duration": 35,
    "start_time": "2022-03-09T14:20:27.501Z"
   },
   {
    "duration": 5,
    "start_time": "2022-03-09T14:20:27.539Z"
   },
   {
    "duration": 6,
    "start_time": "2022-03-09T14:20:27.547Z"
   },
   {
    "duration": 15,
    "start_time": "2022-03-09T14:20:27.556Z"
   },
   {
    "duration": 6,
    "start_time": "2022-03-09T14:20:27.574Z"
   },
   {
    "duration": 55,
    "start_time": "2022-03-09T14:20:27.582Z"
   },
   {
    "duration": 4,
    "start_time": "2022-03-09T14:20:27.640Z"
   },
   {
    "duration": 6,
    "start_time": "2022-03-09T14:20:27.646Z"
   },
   {
    "duration": 4,
    "start_time": "2022-03-09T14:20:27.654Z"
   },
   {
    "duration": 13,
    "start_time": "2022-03-09T14:20:27.661Z"
   },
   {
    "duration": 3,
    "start_time": "2022-03-09T14:20:27.676Z"
   },
   {
    "duration": 5,
    "start_time": "2022-03-09T14:20:27.681Z"
   },
   {
    "duration": 48,
    "start_time": "2022-03-09T14:20:27.688Z"
   },
   {
    "duration": 12,
    "start_time": "2022-03-09T14:20:27.739Z"
   },
   {
    "duration": 14,
    "start_time": "2022-03-09T14:20:27.754Z"
   },
   {
    "duration": 5,
    "start_time": "2022-03-09T14:20:27.776Z"
   },
   {
    "duration": 57,
    "start_time": "2022-03-09T14:20:27.786Z"
   },
   {
    "duration": 22,
    "start_time": "2022-03-09T14:20:27.846Z"
   },
   {
    "duration": 24,
    "start_time": "2022-03-09T14:20:27.870Z"
   },
   {
    "duration": 50,
    "start_time": "2022-03-09T14:20:27.896Z"
   },
   {
    "duration": 4,
    "start_time": "2022-03-09T14:20:27.948Z"
   },
   {
    "duration": 7,
    "start_time": "2022-03-09T14:20:27.954Z"
   },
   {
    "duration": 5,
    "start_time": "2022-03-09T14:20:27.964Z"
   },
   {
    "duration": 10,
    "start_time": "2022-03-09T14:20:27.971Z"
   },
   {
    "duration": 8,
    "start_time": "2022-03-09T14:20:27.983Z"
   },
   {
    "duration": 22,
    "start_time": "2022-03-09T14:20:28.033Z"
   },
   {
    "duration": 8,
    "start_time": "2022-03-09T14:20:28.058Z"
   },
   {
    "duration": 21,
    "start_time": "2022-03-09T14:20:28.069Z"
   },
   {
    "duration": 41,
    "start_time": "2022-03-09T14:20:28.093Z"
   },
   {
    "duration": 20,
    "start_time": "2022-03-09T14:20:28.137Z"
   },
   {
    "duration": 21,
    "start_time": "2022-03-09T14:20:28.160Z"
   },
   {
    "duration": 7,
    "start_time": "2022-03-09T14:20:28.183Z"
   },
   {
    "duration": 61,
    "start_time": "2022-03-09T14:20:28.192Z"
   },
   {
    "duration": 15,
    "start_time": "2022-03-09T14:20:28.256Z"
   },
   {
    "duration": 6,
    "start_time": "2022-03-09T14:20:28.273Z"
   },
   {
    "duration": 10,
    "start_time": "2022-03-09T14:20:28.281Z"
   },
   {
    "duration": 44,
    "start_time": "2022-03-09T14:20:28.293Z"
   },
   {
    "duration": 8,
    "start_time": "2022-03-09T14:20:28.339Z"
   },
   {
    "duration": 7,
    "start_time": "2022-03-09T14:20:28.349Z"
   },
   {
    "duration": 7,
    "start_time": "2022-03-09T14:20:28.358Z"
   },
   {
    "duration": 7,
    "start_time": "2022-03-09T14:20:28.367Z"
   },
   {
    "duration": 57,
    "start_time": "2022-03-09T14:20:28.376Z"
   },
   {
    "duration": 10,
    "start_time": "2022-03-09T14:20:28.436Z"
   },
   {
    "duration": 25,
    "start_time": "2022-03-09T14:20:28.449Z"
   },
   {
    "duration": 5,
    "start_time": "2022-03-09T14:20:28.476Z"
   },
   {
    "duration": 8,
    "start_time": "2022-03-09T14:20:28.483Z"
   },
   {
    "duration": 33,
    "start_time": "2022-03-09T14:20:28.533Z"
   },
   {
    "duration": 4,
    "start_time": "2022-03-09T14:20:28.568Z"
   },
   {
    "duration": 6,
    "start_time": "2022-03-09T14:20:28.575Z"
   },
   {
    "duration": 8,
    "start_time": "2022-03-09T14:20:28.584Z"
   },
   {
    "duration": 57,
    "start_time": "2022-03-09T14:20:28.594Z"
   },
   {
    "duration": 24,
    "start_time": "2022-03-09T14:20:28.653Z"
   },
   {
    "duration": 400,
    "start_time": "2022-03-09T14:20:28.680Z"
   },
   {
    "duration": 12,
    "start_time": "2022-03-09T14:20:29.082Z"
   },
   {
    "duration": 7,
    "start_time": "2022-03-09T14:20:29.097Z"
   },
   {
    "duration": 11,
    "start_time": "2022-03-09T14:20:29.134Z"
   },
   {
    "duration": 9,
    "start_time": "2022-03-09T14:20:29.148Z"
   },
   {
    "duration": 11,
    "start_time": "2022-03-09T14:20:29.160Z"
   },
   {
    "duration": 11,
    "start_time": "2022-03-09T14:20:29.173Z"
   },
   {
    "duration": 48,
    "start_time": "2022-03-09T14:20:29.186Z"
   },
   {
    "duration": 6,
    "start_time": "2022-03-09T14:20:29.242Z"
   },
   {
    "duration": 4,
    "start_time": "2022-03-09T14:20:29.251Z"
   },
   {
    "duration": 15,
    "start_time": "2022-03-09T14:20:29.257Z"
   },
   {
    "duration": 63,
    "start_time": "2022-03-09T14:20:29.274Z"
   },
   {
    "duration": 4,
    "start_time": "2022-03-09T14:20:29.340Z"
   },
   {
    "duration": 8,
    "start_time": "2022-03-09T14:20:29.347Z"
   },
   {
    "duration": 13,
    "start_time": "2022-03-09T14:20:29.358Z"
   },
   {
    "duration": 58,
    "start_time": "2022-03-09T14:20:29.374Z"
   },
   {
    "duration": 245,
    "start_time": "2022-03-09T14:20:29.435Z"
   },
   {
    "duration": 254,
    "start_time": "2022-03-09T14:20:29.683Z"
   },
   {
    "duration": 19,
    "start_time": "2022-03-09T14:20:29.940Z"
   },
   {
    "duration": 310,
    "start_time": "2022-03-09T14:20:29.961Z"
   },
   {
    "duration": 253,
    "start_time": "2022-03-09T14:20:30.274Z"
   },
   {
    "duration": 9,
    "start_time": "2022-03-09T14:20:30.533Z"
   },
   {
    "duration": 24,
    "start_time": "2022-03-09T14:20:30.544Z"
   },
   {
    "duration": 250,
    "start_time": "2022-03-09T14:20:30.571Z"
   },
   {
    "duration": 10,
    "start_time": "2022-03-09T14:20:30.823Z"
   },
   {
    "duration": 27,
    "start_time": "2022-03-09T14:20:30.836Z"
   },
   {
    "duration": 27,
    "start_time": "2022-03-09T14:20:30.866Z"
   },
   {
    "duration": 258,
    "start_time": "2022-03-09T14:20:30.896Z"
   },
   {
    "duration": 54,
    "start_time": "2022-03-09T14:20:31.157Z"
   },
   {
    "duration": 373,
    "start_time": "2022-03-09T14:20:31.233Z"
   },
   {
    "duration": 593,
    "start_time": "2022-03-10T14:20:02.642Z"
   },
   {
    "duration": 45,
    "start_time": "2022-03-10T14:20:03.237Z"
   },
   {
    "duration": 28,
    "start_time": "2022-03-10T14:20:03.284Z"
   },
   {
    "duration": 47,
    "start_time": "2022-03-10T14:20:03.313Z"
   },
   {
    "duration": 11,
    "start_time": "2022-03-10T14:20:03.361Z"
   },
   {
    "duration": 10,
    "start_time": "2022-03-10T14:20:03.374Z"
   },
   {
    "duration": 22,
    "start_time": "2022-03-10T14:20:03.386Z"
   },
   {
    "duration": 5,
    "start_time": "2022-03-10T14:20:03.411Z"
   },
   {
    "duration": 5,
    "start_time": "2022-03-10T14:20:03.418Z"
   },
   {
    "duration": 7,
    "start_time": "2022-03-10T14:20:03.424Z"
   },
   {
    "duration": 39,
    "start_time": "2022-03-10T14:20:03.432Z"
   },
   {
    "duration": 5,
    "start_time": "2022-03-10T14:20:03.473Z"
   },
   {
    "duration": 5,
    "start_time": "2022-03-10T14:20:03.480Z"
   },
   {
    "duration": 4,
    "start_time": "2022-03-10T14:20:03.487Z"
   },
   {
    "duration": 4,
    "start_time": "2022-03-10T14:20:03.493Z"
   },
   {
    "duration": 4,
    "start_time": "2022-03-10T14:20:03.499Z"
   },
   {
    "duration": 8,
    "start_time": "2022-03-10T14:20:03.505Z"
   },
   {
    "duration": 3,
    "start_time": "2022-03-10T14:20:03.515Z"
   },
   {
    "duration": 3,
    "start_time": "2022-03-10T14:20:03.560Z"
   },
   {
    "duration": 6,
    "start_time": "2022-03-10T14:20:03.565Z"
   },
   {
    "duration": 11,
    "start_time": "2022-03-10T14:20:03.572Z"
   },
   {
    "duration": 10,
    "start_time": "2022-03-10T14:20:03.585Z"
   },
   {
    "duration": 3,
    "start_time": "2022-03-10T14:20:03.601Z"
   },
   {
    "duration": 18,
    "start_time": "2022-03-10T14:20:03.606Z"
   },
   {
    "duration": 43,
    "start_time": "2022-03-10T14:20:03.626Z"
   },
   {
    "duration": 18,
    "start_time": "2022-03-10T14:20:03.671Z"
   },
   {
    "duration": 16,
    "start_time": "2022-03-10T14:20:03.690Z"
   },
   {
    "duration": 2,
    "start_time": "2022-03-10T14:20:03.708Z"
   },
   {
    "duration": 4,
    "start_time": "2022-03-10T14:20:03.712Z"
   },
   {
    "duration": 4,
    "start_time": "2022-03-10T14:20:03.718Z"
   },
   {
    "duration": 36,
    "start_time": "2022-03-10T14:20:03.723Z"
   },
   {
    "duration": 6,
    "start_time": "2022-03-10T14:20:03.760Z"
   },
   {
    "duration": 18,
    "start_time": "2022-03-10T14:20:03.767Z"
   },
   {
    "duration": 6,
    "start_time": "2022-03-10T14:20:03.787Z"
   },
   {
    "duration": 17,
    "start_time": "2022-03-10T14:20:03.795Z"
   },
   {
    "duration": 6,
    "start_time": "2022-03-10T14:20:03.813Z"
   },
   {
    "duration": 41,
    "start_time": "2022-03-10T14:20:03.821Z"
   },
   {
    "duration": 16,
    "start_time": "2022-03-10T14:20:03.863Z"
   },
   {
    "duration": 10,
    "start_time": "2022-03-10T14:20:03.880Z"
   },
   {
    "duration": 23,
    "start_time": "2022-03-10T14:20:03.892Z"
   },
   {
    "duration": 16,
    "start_time": "2022-03-10T14:20:03.917Z"
   },
   {
    "duration": 7,
    "start_time": "2022-03-10T14:20:03.935Z"
   },
   {
    "duration": 16,
    "start_time": "2022-03-10T14:20:03.944Z"
   },
   {
    "duration": 10,
    "start_time": "2022-03-10T14:20:03.962Z"
   },
   {
    "duration": 9,
    "start_time": "2022-03-10T14:20:03.973Z"
   },
   {
    "duration": 7,
    "start_time": "2022-03-10T14:20:03.984Z"
   },
   {
    "duration": 7,
    "start_time": "2022-03-10T14:20:03.993Z"
   },
   {
    "duration": 6,
    "start_time": "2022-03-10T14:20:04.002Z"
   },
   {
    "duration": 12,
    "start_time": "2022-03-10T14:20:04.010Z"
   },
   {
    "duration": 9,
    "start_time": "2022-03-10T14:20:04.024Z"
   },
   {
    "duration": 39,
    "start_time": "2022-03-10T14:20:04.034Z"
   },
   {
    "duration": 3,
    "start_time": "2022-03-10T14:20:04.075Z"
   },
   {
    "duration": 8,
    "start_time": "2022-03-10T14:20:04.079Z"
   },
   {
    "duration": 23,
    "start_time": "2022-03-10T14:20:04.089Z"
   },
   {
    "duration": 4,
    "start_time": "2022-03-10T14:20:04.114Z"
   },
   {
    "duration": 6,
    "start_time": "2022-03-10T14:20:04.119Z"
   },
   {
    "duration": 8,
    "start_time": "2022-03-10T14:20:04.127Z"
   },
   {
    "duration": 44,
    "start_time": "2022-03-10T14:20:04.136Z"
   },
   {
    "duration": 18,
    "start_time": "2022-03-10T14:20:04.181Z"
   },
   {
    "duration": 262,
    "start_time": "2022-03-10T14:20:04.201Z"
   },
   {
    "duration": 9,
    "start_time": "2022-03-10T14:20:04.465Z"
   },
   {
    "duration": 5,
    "start_time": "2022-03-10T14:20:04.476Z"
   },
   {
    "duration": 9,
    "start_time": "2022-03-10T14:20:04.483Z"
   },
   {
    "duration": 8,
    "start_time": "2022-03-10T14:20:04.495Z"
   },
   {
    "duration": 7,
    "start_time": "2022-03-10T14:20:04.504Z"
   },
   {
    "duration": 47,
    "start_time": "2022-03-10T14:20:04.512Z"
   },
   {
    "duration": 5,
    "start_time": "2022-03-10T14:20:04.561Z"
   },
   {
    "duration": 4,
    "start_time": "2022-03-10T14:20:04.573Z"
   },
   {
    "duration": 4,
    "start_time": "2022-03-10T14:20:04.579Z"
   },
   {
    "duration": 14,
    "start_time": "2022-03-10T14:20:04.585Z"
   },
   {
    "duration": 18,
    "start_time": "2022-03-10T14:20:04.600Z"
   },
   {
    "duration": 3,
    "start_time": "2022-03-10T14:20:04.619Z"
   },
   {
    "duration": 37,
    "start_time": "2022-03-10T14:20:04.623Z"
   },
   {
    "duration": 11,
    "start_time": "2022-03-10T14:20:04.661Z"
   },
   {
    "duration": 11,
    "start_time": "2022-03-10T14:20:04.674Z"
   },
   {
    "duration": 178,
    "start_time": "2022-03-10T14:20:04.686Z"
   },
   {
    "duration": 162,
    "start_time": "2022-03-10T14:20:04.866Z"
   },
   {
    "duration": 12,
    "start_time": "2022-03-10T14:20:05.030Z"
   },
   {
    "duration": 215,
    "start_time": "2022-03-10T14:20:05.044Z"
   },
   {
    "duration": 168,
    "start_time": "2022-03-10T14:20:05.260Z"
   },
   {
    "duration": 8,
    "start_time": "2022-03-10T14:20:05.430Z"
   },
   {
    "duration": 28,
    "start_time": "2022-03-10T14:20:05.439Z"
   },
   {
    "duration": 166,
    "start_time": "2022-03-10T14:20:05.469Z"
   },
   {
    "duration": 4,
    "start_time": "2022-03-10T14:20:05.637Z"
   },
   {
    "duration": 21,
    "start_time": "2022-03-10T14:20:05.642Z"
   },
   {
    "duration": 18,
    "start_time": "2022-03-10T14:20:05.665Z"
   },
   {
    "duration": 177,
    "start_time": "2022-03-10T14:20:05.685Z"
   },
   {
    "duration": 30,
    "start_time": "2022-03-10T14:20:05.864Z"
   },
   {
    "duration": 215,
    "start_time": "2022-03-10T14:20:05.896Z"
   }
  ],
  "kernelspec": {
   "display_name": "Python 3 (ipykernel)",
   "language": "python",
   "name": "python3"
  },
  "language_info": {
   "codemirror_mode": {
    "name": "ipython",
    "version": 3
   },
   "file_extension": ".py",
   "mimetype": "text/x-python",
   "name": "python",
   "nbconvert_exporter": "python",
   "pygments_lexer": "ipython3",
   "version": "3.9.7"
  },
  "toc": {
   "base_numbering": 1,
   "nav_menu": {},
   "number_sections": true,
   "sideBar": true,
   "skip_h1_title": true,
   "title_cell": "Table of Contents",
   "title_sidebar": "Contents",
   "toc_cell": false,
   "toc_position": {},
   "toc_section_display": true,
   "toc_window_display": false
  }
 },
 "nbformat": 4,
 "nbformat_minor": 5
}
