{
 "cells": [
  {
   "cell_type": "code",
   "execution_count": 3,
   "metadata": {
    "id": "nlZBlglMDWKe"
   },
   "outputs": [],
   "source": [
    "import pandas as pd\n",
    "import matplotlib.pyplot as plt\n",
    "from sqlalchemy import create_engine "
   ]
  },
  {
   "cell_type": "markdown",
   "metadata": {
    "id": "XnOE3n28DWKg"
   },
   "source": [
    "### Конфигурация для подключения к базе данных `data-analyst-advanced-sql`\n",
    "Эта база данных содержит схему `stackoverflow`, с которой вы будете работать в проекте"
   ]
  },
  {
   "cell_type": "code",
   "execution_count": 4,
   "metadata": {
    "id": "6p-yGp7qDWKg"
   },
   "outputs": [],
   "source": [
    "db_config = {\n",
    "    'user': 'praktikum_student', # имя пользователя\n",
    "    'pwd': 'Sdf4$2;d-d30pp', # пароль\n",
    "    'host': 'rc1b-wcoijxj3yxfsf3fs.mdb.yandexcloud.net',\n",
    "    'port': 6432, # порт подключения\n",
    "    'db': 'data-analyst-advanced-sql' # название базы данных\n",
    "}  \n",
    "\n",
    "connection_string = 'postgresql://{}:{}@{}:{}/{}'.format(\n",
    "    db_config['user'],\n",
    "    db_config['pwd'],\n",
    "    db_config['host'],\n",
    "    db_config['port'],\n",
    "    db_config['db'],\n",
    ")"
   ]
  },
  {
   "cell_type": "markdown",
   "metadata": {
    "id": "2Rg8ZpS0DWKh"
   },
   "source": [
    "Создание подключения"
   ]
  },
  {
   "cell_type": "code",
   "execution_count": 5,
   "metadata": {
    "id": "DamCUTR6DWKi"
   },
   "outputs": [],
   "source": [
    "engine = create_engine(connection_string) "
   ]
  },
  {
   "cell_type": "markdown",
   "metadata": {
    "id": "bel8XeSlDWKj"
   },
   "source": [
    "Пример запроса к базе данных\n",
    "\n",
    "`sample_df` является pandas-датафреймом."
   ]
  },
  {
   "cell_type": "code",
   "execution_count": 6,
   "metadata": {
    "id": "6Z_fw0yLDWKk"
   },
   "outputs": [],
   "source": [
    "query = '''\n",
    "SELECT *\n",
    "FROM stackoverflow.users\n",
    "LIMIT 10;\n",
    "'''\n",
    "\n",
    "sample_df = pd.read_sql_query(query, con=engine) "
   ]
  },
  {
   "cell_type": "code",
   "execution_count": 7,
   "metadata": {
    "id": "ZpuZ290oDWKk",
    "outputId": "22785a0a-e2bc-4559-ec3c-4879c4b377eb"
   },
   "outputs": [
    {
     "data": {
      "text/html": [
       "<div>\n",
       "<style scoped>\n",
       "    .dataframe tbody tr th:only-of-type {\n",
       "        vertical-align: middle;\n",
       "    }\n",
       "\n",
       "    .dataframe tbody tr th {\n",
       "        vertical-align: top;\n",
       "    }\n",
       "\n",
       "    .dataframe thead th {\n",
       "        text-align: right;\n",
       "    }\n",
       "</style>\n",
       "<table border=\"1\" class=\"dataframe\">\n",
       "  <thead>\n",
       "    <tr style=\"text-align: right;\">\n",
       "      <th></th>\n",
       "      <th>id</th>\n",
       "      <th>creation_date</th>\n",
       "      <th>display_name</th>\n",
       "      <th>last_access_date</th>\n",
       "      <th>location</th>\n",
       "      <th>reputation</th>\n",
       "      <th>views</th>\n",
       "    </tr>\n",
       "  </thead>\n",
       "  <tbody>\n",
       "    <tr>\n",
       "      <th>0</th>\n",
       "      <td>1</td>\n",
       "      <td>2008-07-31 14:22:31</td>\n",
       "      <td>Jeff Atwood</td>\n",
       "      <td>2018-08-29 02:34:23</td>\n",
       "      <td>El Cerrito, CA</td>\n",
       "      <td>44300</td>\n",
       "      <td>408587</td>\n",
       "    </tr>\n",
       "    <tr>\n",
       "      <th>1</th>\n",
       "      <td>2</td>\n",
       "      <td>2008-07-31 14:22:31</td>\n",
       "      <td>Geoff Dalgas</td>\n",
       "      <td>2018-08-23 17:31:56</td>\n",
       "      <td>Corvallis, OR</td>\n",
       "      <td>3491</td>\n",
       "      <td>23966</td>\n",
       "    </tr>\n",
       "    <tr>\n",
       "      <th>2</th>\n",
       "      <td>3</td>\n",
       "      <td>2008-07-31 14:22:31</td>\n",
       "      <td>Jarrod Dixon</td>\n",
       "      <td>2018-08-30 20:56:24</td>\n",
       "      <td>Raleigh, NC, United States</td>\n",
       "      <td>13418</td>\n",
       "      <td>24396</td>\n",
       "    </tr>\n",
       "    <tr>\n",
       "      <th>3</th>\n",
       "      <td>4</td>\n",
       "      <td>2008-07-31 14:22:31</td>\n",
       "      <td>Joel Spolsky</td>\n",
       "      <td>2018-08-14 22:18:15</td>\n",
       "      <td>New York, NY</td>\n",
       "      <td>28768</td>\n",
       "      <td>73755</td>\n",
       "    </tr>\n",
       "    <tr>\n",
       "      <th>4</th>\n",
       "      <td>5</td>\n",
       "      <td>2008-07-31 14:22:31</td>\n",
       "      <td>Jon Galloway</td>\n",
       "      <td>2018-08-29 16:48:36</td>\n",
       "      <td>San Diego, CA</td>\n",
       "      <td>39172</td>\n",
       "      <td>11700</td>\n",
       "    </tr>\n",
       "    <tr>\n",
       "      <th>5</th>\n",
       "      <td>8</td>\n",
       "      <td>2008-07-31 21:33:24</td>\n",
       "      <td>Eggs McLaren</td>\n",
       "      <td>2018-04-09 02:04:56</td>\n",
       "      <td>None</td>\n",
       "      <td>942</td>\n",
       "      <td>6372</td>\n",
       "    </tr>\n",
       "    <tr>\n",
       "      <th>6</th>\n",
       "      <td>9</td>\n",
       "      <td>2008-07-31 21:35:27</td>\n",
       "      <td>Kevin Dente</td>\n",
       "      <td>2018-08-30 18:18:03</td>\n",
       "      <td>Oakland, CA</td>\n",
       "      <td>14337</td>\n",
       "      <td>4949</td>\n",
       "    </tr>\n",
       "    <tr>\n",
       "      <th>7</th>\n",
       "      <td>11</td>\n",
       "      <td>2008-08-01 00:59:11</td>\n",
       "      <td>Anonymous User</td>\n",
       "      <td>2008-08-01 00:59:11</td>\n",
       "      <td>None</td>\n",
       "      <td>1890</td>\n",
       "      <td>2123</td>\n",
       "    </tr>\n",
       "    <tr>\n",
       "      <th>8</th>\n",
       "      <td>13</td>\n",
       "      <td>2008-08-01 04:18:05</td>\n",
       "      <td>Chris Jester-Young</td>\n",
       "      <td>2018-08-30 02:47:23</td>\n",
       "      <td>Raleigh, NC, United States</td>\n",
       "      <td>177138</td>\n",
       "      <td>35414</td>\n",
       "    </tr>\n",
       "    <tr>\n",
       "      <th>9</th>\n",
       "      <td>17</td>\n",
       "      <td>2008-08-01 12:02:22</td>\n",
       "      <td>Nick Berardi</td>\n",
       "      <td>2018-01-22 01:35:38</td>\n",
       "      <td>Issaquah, WA</td>\n",
       "      <td>44443</td>\n",
       "      <td>4786</td>\n",
       "    </tr>\n",
       "  </tbody>\n",
       "</table>\n",
       "</div>"
      ],
      "text/plain": [
       "   id       creation_date        display_name    last_access_date  \\\n",
       "0   1 2008-07-31 14:22:31         Jeff Atwood 2018-08-29 02:34:23   \n",
       "1   2 2008-07-31 14:22:31        Geoff Dalgas 2018-08-23 17:31:56   \n",
       "2   3 2008-07-31 14:22:31        Jarrod Dixon 2018-08-30 20:56:24   \n",
       "3   4 2008-07-31 14:22:31        Joel Spolsky 2018-08-14 22:18:15   \n",
       "4   5 2008-07-31 14:22:31        Jon Galloway 2018-08-29 16:48:36   \n",
       "5   8 2008-07-31 21:33:24        Eggs McLaren 2018-04-09 02:04:56   \n",
       "6   9 2008-07-31 21:35:27         Kevin Dente 2018-08-30 18:18:03   \n",
       "7  11 2008-08-01 00:59:11      Anonymous User 2008-08-01 00:59:11   \n",
       "8  13 2008-08-01 04:18:05  Chris Jester-Young 2018-08-30 02:47:23   \n",
       "9  17 2008-08-01 12:02:22        Nick Berardi 2018-01-22 01:35:38   \n",
       "\n",
       "                     location  reputation   views  \n",
       "0              El Cerrito, CA       44300  408587  \n",
       "1               Corvallis, OR        3491   23966  \n",
       "2  Raleigh, NC, United States       13418   24396  \n",
       "3                New York, NY       28768   73755  \n",
       "4               San Diego, CA       39172   11700  \n",
       "5                        None         942    6372  \n",
       "6                 Oakland, CA       14337    4949  \n",
       "7                        None        1890    2123  \n",
       "8  Raleigh, NC, United States      177138   35414  \n",
       "9                Issaquah, WA       44443    4786  "
      ]
     },
     "execution_count": 7,
     "metadata": {},
     "output_type": "execute_result"
    }
   ],
   "source": [
    "sample_df"
   ]
  },
  {
   "cell_type": "markdown",
   "metadata": {
    "id": "gnBMXkDBDWKm"
   },
   "source": [
    "# Задание 1"
   ]
  },
  {
   "cell_type": "markdown",
   "metadata": {
    "id": "vHsfOrrNDWKn"
   },
   "source": [
    "Выведите общую сумму просмотров постов за каждый месяц 2008 года. Если данных за какой-либо месяц в базе нет, такой месяц можно пропустить. Результат отсортируйте по убыванию общего количества просмотров."
   ]
  },
  {
   "cell_type": "markdown",
   "metadata": {
    "id": "N5rTgGNmDWKn"
   },
   "source": [
    "| month_date  | total_views |\n",
    "| ------------- | ------------- |\n",
    "| 2008-09-01  | 452928568  |\n",
    "| 2008-10-01  | 365400138  |\n",
    "| ...         | ... |"
   ]
  },
  {
   "cell_type": "code",
   "execution_count": 8,
   "metadata": {
    "id": "eWvykcXTDWKo"
   },
   "outputs": [],
   "source": [
    "# напишите запрос\n",
    "query = '''\n",
    "SELECT DATE_TRUNC('month', creation_date)::DATE month_date,\n",
    "       SUM(views_count) total_views\n",
    "FROM stackoverflow.posts\n",
    "WHERE EXTRACT(YEAR FROM creation_date) = 2008\n",
    "GROUP BY DATE_TRUNC('month', creation_date)::DATE\n",
    "ORDER BY SUM(views_count) DESC \n",
    "'''\n",
    "# выполните запрос"
   ]
  },
  {
   "cell_type": "code",
   "execution_count": 9,
   "metadata": {},
   "outputs": [
    {
     "data": {
      "text/html": [
       "<div>\n",
       "<style scoped>\n",
       "    .dataframe tbody tr th:only-of-type {\n",
       "        vertical-align: middle;\n",
       "    }\n",
       "\n",
       "    .dataframe tbody tr th {\n",
       "        vertical-align: top;\n",
       "    }\n",
       "\n",
       "    .dataframe thead th {\n",
       "        text-align: right;\n",
       "    }\n",
       "</style>\n",
       "<table border=\"1\" class=\"dataframe\">\n",
       "  <thead>\n",
       "    <tr style=\"text-align: right;\">\n",
       "      <th></th>\n",
       "      <th>month_date</th>\n",
       "      <th>total_views</th>\n",
       "    </tr>\n",
       "  </thead>\n",
       "  <tbody>\n",
       "    <tr>\n",
       "      <th>0</th>\n",
       "      <td>2008-09-01</td>\n",
       "      <td>452928568</td>\n",
       "    </tr>\n",
       "    <tr>\n",
       "      <th>1</th>\n",
       "      <td>2008-10-01</td>\n",
       "      <td>365400138</td>\n",
       "    </tr>\n",
       "    <tr>\n",
       "      <th>2</th>\n",
       "      <td>2008-11-01</td>\n",
       "      <td>221759651</td>\n",
       "    </tr>\n",
       "    <tr>\n",
       "      <th>3</th>\n",
       "      <td>2008-12-01</td>\n",
       "      <td>197792841</td>\n",
       "    </tr>\n",
       "    <tr>\n",
       "      <th>4</th>\n",
       "      <td>2008-08-01</td>\n",
       "      <td>131367083</td>\n",
       "    </tr>\n",
       "    <tr>\n",
       "      <th>5</th>\n",
       "      <td>2008-07-01</td>\n",
       "      <td>669895</td>\n",
       "    </tr>\n",
       "  </tbody>\n",
       "</table>\n",
       "</div>"
      ],
      "text/plain": [
       "   month_date  total_views\n",
       "0  2008-09-01    452928568\n",
       "1  2008-10-01    365400138\n",
       "2  2008-11-01    221759651\n",
       "3  2008-12-01    197792841\n",
       "4  2008-08-01    131367083\n",
       "5  2008-07-01       669895"
      ]
     },
     "execution_count": 9,
     "metadata": {},
     "output_type": "execute_result"
    }
   ],
   "source": [
    "views_df = pd.read_sql_query(query, con=engine)\n",
    "views_df"
   ]
  },
  {
   "cell_type": "markdown",
   "metadata": {
    "id": "I_ZvhOxkDWKp"
   },
   "source": [
    "Проанализируйте итоговую таблицу. Отличаются ли данные за разные месяцы? С чем могут быть связаны отличия?"
   ]
  },
  {
   "cell_type": "code",
   "execution_count": 10,
   "metadata": {},
   "outputs": [],
   "source": [
    "import seaborn as sns"
   ]
  },
  {
   "cell_type": "code",
   "execution_count": 11,
   "metadata": {},
   "outputs": [
    {
     "data": {
      "image/png": "[encoded data removed]",
      "text/plain": [
       "<Figure size 1000x600 with 1 Axes>"
      ]
     },
     "metadata": {
      "needs_background": "light"
     },
     "output_type": "display_data"
    }
   ],
   "source": [
    "views_df = views_df.sort_values(by='month_date')\n",
    "\n",
    "dpi = 80\n",
    "fig = plt.figure(dpi = dpi, figsize = (1000 / dpi, 600 / dpi) )\n",
    "sns.barplot(x='month_date', y='total_views', data=views_df, color='pink')\n",
    "plt.xticks(rotation=90)\n",
    "plt.title('Количество просмотров постов за каждый мессяц 2008 года')\n",
    "plt.show()"
   ]
  },
  {
   "cell_type": "markdown",
   "metadata": {
    "id": "luxSj17oDWKq"
   },
   "source": [
    "**Ответ:**  \n",
    "\n",
    "Данные о количествах просмотров постов в 2008 году имеются только за период с июля. Можно предположить, что это момент основания социальной сети, и данные только начали агрегироваться. В сентябре наблюдается пик просмотров, это может быть связано с тем, что в сентябре вышли наиболее популярные посты с частозадаваемыми вопросами. Далее показатель идет на убыль, т.к. темы выходящих постов могут иметь наиболее узкую специфику для решения более сложных задач в программировании."
   ]
  },
  {
   "cell_type": "markdown",
   "metadata": {
    "id": "FziIXkn5DWKr"
   },
   "source": [
    "# Задание 2"
   ]
  },
  {
   "cell_type": "markdown",
   "metadata": {
    "id": "fTGESZvYDWKr"
   },
   "source": [
    "Выведите имена самых активных пользователей, которые в первый месяц после регистрации (включая день регистрации) дали больше 100 ответов. Вопросы, которые задавали пользователи, не учитывайте. Для каждого имени пользователя выведите количество уникальных значений `user_id`. Отсортируйте результат по полю с именами в лексикографическом порядке."
   ]
  },
  {
   "cell_type": "markdown",
   "metadata": {
    "id": "W5-tv6Y3DWKs"
   },
   "source": [
    "| display_name | count |\n",
    "| ------------ | ----- |\n",
    "| 1800 INFORMATION | 1 |\n",
    "| Adam Bellaire | 1 |\n",
    "| Adam Davis | 1 |\n",
    "| ... | ... |"
   ]
  },
  {
   "cell_type": "code",
   "execution_count": 12,
   "metadata": {
    "id": "fIO-y-YjDWKt"
   },
   "outputs": [],
   "source": [
    "# напишите запрос\n",
    "query = '''\n",
    "WITH selected AS (\n",
    "    SELECT u.display_name,\n",
    "           u.id,\n",
    "           u.creation_date registration_date,\n",
    "           ps.creation_date post_date,\n",
    "           u.creation_date + INTERVAL'1 months' interval_date\n",
    "    FROM stackoverflow.posts ps\n",
    "    JOIN stackoverflow.users u ON u.id=ps.user_id\n",
    "    WHERE ps.parent_id != 0),\n",
    "\n",
    "activity_users AS(\n",
    "    SELECT DISTINCT *\n",
    "    FROM (SELECT *,\n",
    "                 COUNT(*) OVER(PARTITION BY id) answers\n",
    "          FROM selected\n",
    "          WHERE post_date < interval_date) sl\n",
    "    WHERE answers > 100\n",
    "    ORDER BY answers DESC)\n",
    "    \n",
    "SELECT display_name,\n",
    "       COUNT(DISTINCT id)\n",
    "FROM activity_users\n",
    "GROUP BY display_name\n",
    "ORDER BY display_name\n",
    "'''\n",
    "\n",
    "# выполните запрос"
   ]
  },
  {
   "cell_type": "code",
   "execution_count": 13,
   "metadata": {},
   "outputs": [
    {
     "data": {
      "text/html": [
       "<div>\n",
       "<style scoped>\n",
       "    .dataframe tbody tr th:only-of-type {\n",
       "        vertical-align: middle;\n",
       "    }\n",
       "\n",
       "    .dataframe tbody tr th {\n",
       "        vertical-align: top;\n",
       "    }\n",
       "\n",
       "    .dataframe thead th {\n",
       "        text-align: right;\n",
       "    }\n",
       "</style>\n",
       "<table border=\"1\" class=\"dataframe\">\n",
       "  <thead>\n",
       "    <tr style=\"text-align: right;\">\n",
       "      <th></th>\n",
       "      <th>display_name</th>\n",
       "      <th>count</th>\n",
       "    </tr>\n",
       "  </thead>\n",
       "  <tbody>\n",
       "    <tr>\n",
       "      <th>0</th>\n",
       "      <td>1800 INFORMATION</td>\n",
       "      <td>1</td>\n",
       "    </tr>\n",
       "    <tr>\n",
       "      <th>1</th>\n",
       "      <td>Adam Bellaire</td>\n",
       "      <td>1</td>\n",
       "    </tr>\n",
       "    <tr>\n",
       "      <th>2</th>\n",
       "      <td>Adam Davis</td>\n",
       "      <td>1</td>\n",
       "    </tr>\n",
       "    <tr>\n",
       "      <th>3</th>\n",
       "      <td>Adam Liss</td>\n",
       "      <td>1</td>\n",
       "    </tr>\n",
       "    <tr>\n",
       "      <th>4</th>\n",
       "      <td>Amy B</td>\n",
       "      <td>1</td>\n",
       "    </tr>\n",
       "    <tr>\n",
       "      <th>...</th>\n",
       "      <td>...</td>\n",
       "      <td>...</td>\n",
       "    </tr>\n",
       "    <tr>\n",
       "      <th>57</th>\n",
       "      <td>leppie</td>\n",
       "      <td>1</td>\n",
       "    </tr>\n",
       "    <tr>\n",
       "      <th>58</th>\n",
       "      <td>lomaxx</td>\n",
       "      <td>1</td>\n",
       "    </tr>\n",
       "    <tr>\n",
       "      <th>59</th>\n",
       "      <td>mattlant</td>\n",
       "      <td>1</td>\n",
       "    </tr>\n",
       "    <tr>\n",
       "      <th>60</th>\n",
       "      <td>paxdiablo</td>\n",
       "      <td>1</td>\n",
       "    </tr>\n",
       "    <tr>\n",
       "      <th>61</th>\n",
       "      <td>tzot</td>\n",
       "      <td>1</td>\n",
       "    </tr>\n",
       "  </tbody>\n",
       "</table>\n",
       "<p>62 rows × 2 columns</p>\n",
       "</div>"
      ],
      "text/plain": [
       "        display_name  count\n",
       "0   1800 INFORMATION      1\n",
       "1      Adam Bellaire      1\n",
       "2         Adam Davis      1\n",
       "3          Adam Liss      1\n",
       "4              Amy B      1\n",
       "..               ...    ...\n",
       "57            leppie      1\n",
       "58            lomaxx      1\n",
       "59          mattlant      1\n",
       "60         paxdiablo      1\n",
       "61              tzot      1\n",
       "\n",
       "[62 rows x 2 columns]"
      ]
     },
     "execution_count": 13,
     "metadata": {},
     "output_type": "execute_result"
    }
   ],
   "source": [
    "act_users = pd.read_sql_query(query, con=engine)\n",
    "act_users"
   ]
  },
  {
   "cell_type": "markdown",
   "metadata": {
    "id": "I3Wr82TplKpI"
   },
   "source": [
    "Какие аномалии наблюдаются в данных? О чём они говорят?"
   ]
  },
  {
   "cell_type": "markdown",
   "metadata": {},
   "source": [
    "Самое большое число ответов в количестве 379 в первый месяц после регистрации дал пользователь под именем `Jon Skeet`. Дата его регистрации приходится на сентябрь 2008г. - месяц с самыми популярными вопросами. Можно предположить, что `Jon Skeet` - сотрудник соц сети. Расчеты представлены ниже:"
   ]
  },
  {
   "cell_type": "code",
   "execution_count": 14,
   "metadata": {},
   "outputs": [
    {
     "data": {
      "text/plain": [
       "array([1])"
      ]
     },
     "execution_count": 14,
     "metadata": {},
     "output_type": "execute_result"
    }
   ],
   "source": [
    "act_users['count'].unique()"
   ]
  },
  {
   "cell_type": "code",
   "execution_count": 15,
   "metadata": {},
   "outputs": [
    {
     "data": {
      "text/plain": [
       "array(['1800 INFORMATION', 'Adam Bellaire', 'Adam Davis', 'Adam Liss',\n",
       "       'Amy B', 'Ben Hoffstein', 'Cade Roux', 'CesarB',\n",
       "       'ConcernedOfTunbridgeWells', 'Dale Ragan', 'Dan', 'Eric Z Beard',\n",
       "       'Espo', 'FlySwat', 'Franci Penov', 'GEOCHET', 'GateKiller', 'Greg',\n",
       "       'Gulzar Nazim', 'Ilya Kochetov', 'James Curran', 'Joe',\n",
       "       'Joel Coehoorn', 'Johannes Schaub - litb', 'John Millikin',\n",
       "       'Jon Limjap', 'Jon Skeet', 'Jorge Ferreira', 'Keith', 'Kibbee',\n",
       "       'Konrad Rudolph', 'Lasse Vågsæther Karlsen', 'Marc Gravell',\n",
       "       'Mark Cidade', 'Mark Harrison', 'Matt Hamilton', 'Michael Burr',\n",
       "       'Michael Stum', 'Mitchel Sellers', 'Norman Ramsey', 'Oli',\n",
       "       'Orion Edwards', 'Paul Nathan', 'PhiLho', 'Rob Cooper',\n",
       "       'Rob Walker', 'S.Lott', 'Sklivvz', 'Steven A. Lowe', 'TheSmurf',\n",
       "       'Vilx-', 'Vinko Vrsalovic', 'aku', 'anjanb', 'dkretz',\n",
       "       'frankodwyer', 'gbjbaanb', 'leppie', 'lomaxx', 'mattlant',\n",
       "       'paxdiablo', 'tzot'], dtype=object)"
      ]
     },
     "execution_count": 15,
     "metadata": {},
     "output_type": "execute_result"
    }
   ],
   "source": [
    "act_users['display_name'].unique()"
   ]
  },
  {
   "cell_type": "code",
   "execution_count": 16,
   "metadata": {},
   "outputs": [],
   "source": [
    "# напишите запрос\n",
    "query1 = '''\n",
    "WITH selected AS (\n",
    "    SELECT u.display_name,\n",
    "           u.id,\n",
    "           u.creation_date registration_date,\n",
    "           ps.creation_date post_date,\n",
    "           u.creation_date + INTERVAL'1 months' interval_date\n",
    "    FROM stackoverflow.posts ps\n",
    "    JOIN stackoverflow.users u ON u.id=ps.user_id\n",
    "    WHERE ps.parent_id != 0)\n",
    "\n",
    "\n",
    "SELECT *,\n",
    "       COUNT(*) OVER(PARTITION BY id) answers\n",
    "FROM selected\n",
    "WHERE post_date < interval_date\n",
    "    \n",
    "\n",
    "'''\n",
    "\n",
    "# выполните запрос"
   ]
  },
  {
   "cell_type": "code",
   "execution_count": 17,
   "metadata": {},
   "outputs": [
    {
     "data": {
      "text/html": [
       "<div>\n",
       "<style scoped>\n",
       "    .dataframe tbody tr th:only-of-type {\n",
       "        vertical-align: middle;\n",
       "    }\n",
       "\n",
       "    .dataframe tbody tr th {\n",
       "        vertical-align: top;\n",
       "    }\n",
       "\n",
       "    .dataframe thead th {\n",
       "        text-align: right;\n",
       "    }\n",
       "</style>\n",
       "<table border=\"1\" class=\"dataframe\">\n",
       "  <thead>\n",
       "    <tr style=\"text-align: right;\">\n",
       "      <th></th>\n",
       "      <th>display_name</th>\n",
       "      <th>id</th>\n",
       "      <th>registration_date</th>\n",
       "      <th>post_date</th>\n",
       "      <th>interval_date</th>\n",
       "      <th>answers</th>\n",
       "    </tr>\n",
       "  </thead>\n",
       "  <tbody>\n",
       "    <tr>\n",
       "      <th>0</th>\n",
       "      <td>Jeff Atwood</td>\n",
       "      <td>1</td>\n",
       "      <td>2008-07-31 14:22:31</td>\n",
       "      <td>2008-08-12 00:30:43</td>\n",
       "      <td>2008-08-31 14:22:31</td>\n",
       "      <td>25</td>\n",
       "    </tr>\n",
       "    <tr>\n",
       "      <th>1</th>\n",
       "      <td>Jeff Atwood</td>\n",
       "      <td>1</td>\n",
       "      <td>2008-07-31 14:22:31</td>\n",
       "      <td>2008-08-28 13:26:28</td>\n",
       "      <td>2008-08-31 14:22:31</td>\n",
       "      <td>25</td>\n",
       "    </tr>\n",
       "    <tr>\n",
       "      <th>2</th>\n",
       "      <td>Jeff Atwood</td>\n",
       "      <td>1</td>\n",
       "      <td>2008-07-31 14:22:31</td>\n",
       "      <td>2008-08-04 08:04:42</td>\n",
       "      <td>2008-08-31 14:22:31</td>\n",
       "      <td>25</td>\n",
       "    </tr>\n",
       "    <tr>\n",
       "      <th>3</th>\n",
       "      <td>Jeff Atwood</td>\n",
       "      <td>1</td>\n",
       "      <td>2008-07-31 14:22:31</td>\n",
       "      <td>2008-08-12 23:13:41</td>\n",
       "      <td>2008-08-31 14:22:31</td>\n",
       "      <td>25</td>\n",
       "    </tr>\n",
       "    <tr>\n",
       "      <th>4</th>\n",
       "      <td>Jeff Atwood</td>\n",
       "      <td>1</td>\n",
       "      <td>2008-07-31 14:22:31</td>\n",
       "      <td>2008-08-25 00:11:44</td>\n",
       "      <td>2008-08-31 14:22:31</td>\n",
       "      <td>25</td>\n",
       "    </tr>\n",
       "    <tr>\n",
       "      <th>...</th>\n",
       "      <td>...</td>\n",
       "      <td>...</td>\n",
       "      <td>...</td>\n",
       "      <td>...</td>\n",
       "      <td>...</td>\n",
       "      <td>...</td>\n",
       "    </tr>\n",
       "    <tr>\n",
       "      <th>110391</th>\n",
       "      <td>Tom H</td>\n",
       "      <td>5696608</td>\n",
       "      <td>2008-09-17 14:15:24</td>\n",
       "      <td>2008-09-23 14:38:48</td>\n",
       "      <td>2008-10-17 14:15:24</td>\n",
       "      <td>34</td>\n",
       "    </tr>\n",
       "    <tr>\n",
       "      <th>110392</th>\n",
       "      <td>Tom H</td>\n",
       "      <td>5696608</td>\n",
       "      <td>2008-09-17 14:15:24</td>\n",
       "      <td>2008-09-24 20:18:37</td>\n",
       "      <td>2008-10-17 14:15:24</td>\n",
       "      <td>34</td>\n",
       "    </tr>\n",
       "    <tr>\n",
       "      <th>110393</th>\n",
       "      <td>Tom H</td>\n",
       "      <td>5696608</td>\n",
       "      <td>2008-09-17 14:15:24</td>\n",
       "      <td>2008-09-17 16:50:28</td>\n",
       "      <td>2008-10-17 14:15:24</td>\n",
       "      <td>34</td>\n",
       "    </tr>\n",
       "    <tr>\n",
       "      <th>110394</th>\n",
       "      <td>Tom H</td>\n",
       "      <td>5696608</td>\n",
       "      <td>2008-09-17 14:15:24</td>\n",
       "      <td>2008-09-17 16:40:38</td>\n",
       "      <td>2008-10-17 14:15:24</td>\n",
       "      <td>34</td>\n",
       "    </tr>\n",
       "    <tr>\n",
       "      <th>110395</th>\n",
       "      <td>Tom H</td>\n",
       "      <td>5696608</td>\n",
       "      <td>2008-09-17 14:15:24</td>\n",
       "      <td>2008-09-17 14:40:23</td>\n",
       "      <td>2008-10-17 14:15:24</td>\n",
       "      <td>34</td>\n",
       "    </tr>\n",
       "  </tbody>\n",
       "</table>\n",
       "<p>110396 rows × 6 columns</p>\n",
       "</div>"
      ],
      "text/plain": [
       "       display_name       id   registration_date           post_date  \\\n",
       "0       Jeff Atwood        1 2008-07-31 14:22:31 2008-08-12 00:30:43   \n",
       "1       Jeff Atwood        1 2008-07-31 14:22:31 2008-08-28 13:26:28   \n",
       "2       Jeff Atwood        1 2008-07-31 14:22:31 2008-08-04 08:04:42   \n",
       "3       Jeff Atwood        1 2008-07-31 14:22:31 2008-08-12 23:13:41   \n",
       "4       Jeff Atwood        1 2008-07-31 14:22:31 2008-08-25 00:11:44   \n",
       "...             ...      ...                 ...                 ...   \n",
       "110391        Tom H  5696608 2008-09-17 14:15:24 2008-09-23 14:38:48   \n",
       "110392        Tom H  5696608 2008-09-17 14:15:24 2008-09-24 20:18:37   \n",
       "110393        Tom H  5696608 2008-09-17 14:15:24 2008-09-17 16:50:28   \n",
       "110394        Tom H  5696608 2008-09-17 14:15:24 2008-09-17 16:40:38   \n",
       "110395        Tom H  5696608 2008-09-17 14:15:24 2008-09-17 14:40:23   \n",
       "\n",
       "             interval_date  answers  \n",
       "0      2008-08-31 14:22:31       25  \n",
       "1      2008-08-31 14:22:31       25  \n",
       "2      2008-08-31 14:22:31       25  \n",
       "3      2008-08-31 14:22:31       25  \n",
       "4      2008-08-31 14:22:31       25  \n",
       "...                    ...      ...  \n",
       "110391 2008-10-17 14:15:24       34  \n",
       "110392 2008-10-17 14:15:24       34  \n",
       "110393 2008-10-17 14:15:24       34  \n",
       "110394 2008-10-17 14:15:24       34  \n",
       "110395 2008-10-17 14:15:24       34  \n",
       "\n",
       "[110396 rows x 6 columns]"
      ]
     },
     "execution_count": 17,
     "metadata": {},
     "output_type": "execute_result"
    }
   ],
   "source": [
    "act_user = pd.read_sql_query(query1, con=engine)\n",
    "act_user"
   ]
  },
  {
   "cell_type": "code",
   "execution_count": 18,
   "metadata": {},
   "outputs": [
    {
     "data": {
      "text/plain": [
       "<AxesSubplot:>"
      ]
     },
     "execution_count": 18,
     "metadata": {},
     "output_type": "execute_result"
    },
    {
     "data": {
      "image/png": "[encoded data removed]",
      "text/plain": [
       "<Figure size 1080x720 with 1 Axes>"
      ]
     },
     "metadata": {
      "needs_background": "light"
     },
     "output_type": "display_data"
    }
   ],
   "source": [
    "act_user['answers'].hist(figsize=(15,10))"
   ]
  },
  {
   "cell_type": "code",
   "execution_count": 19,
   "metadata": {},
   "outputs": [
    {
     "data": {
      "text/plain": [
       "array(['Jon Skeet'], dtype=object)"
      ]
     },
     "execution_count": 19,
     "metadata": {},
     "output_type": "execute_result"
    }
   ],
   "source": [
    "act_user.query('answers > 350')['display_name'].unique()"
   ]
  },
  {
   "cell_type": "code",
   "execution_count": 20,
   "metadata": {},
   "outputs": [
    {
     "data": {
      "text/plain": [
       "array(['2008-09-26T12:05:05.000000000'], dtype='datetime64[ns]')"
      ]
     },
     "execution_count": 20,
     "metadata": {},
     "output_type": "execute_result"
    }
   ],
   "source": [
    "act_user.query('display_name == \"Jon Skeet\"')['registration_date'].unique()"
   ]
  },
  {
   "cell_type": "markdown",
   "metadata": {
    "id": "JhM2xXj5DWKu"
   },
   "source": [
    "# Задание 3"
   ]
  },
  {
   "cell_type": "markdown",
   "metadata": {
    "id": "IS6xPqyyDWKu"
   },
   "source": [
    "Выведите количество постов за 2008 год по месяцам. Отберите посты от пользователей, которые зарегистрировались в сентябре 2008 года и сделали хотя бы один пост в декабре того же года. Отсортируйте таблицу по значению месяца по убыванию."
   ]
  },
  {
   "cell_type": "markdown",
   "metadata": {
    "id": "WmjhjV2xDWKv"
   },
   "source": [
    "| month | count |\n",
    "| ------|------ |\n",
    "| 2008-12-01 | 17641 |\n",
    "| 2008-11-01 | 18294 |\n",
    "| ... | ... |"
   ]
  },
  {
   "cell_type": "code",
   "execution_count": 21,
   "metadata": {
    "id": "kVu0FB8WDWKv"
   },
   "outputs": [],
   "source": [
    "# напишите запрос\n",
    "query = '''\n",
    "\n",
    "SELECT DATE_TRUNC('month', ps.creation_date)::DATE,\n",
    "       COUNT(DISTINCT ps.id)\n",
    "FROM stackoverflow.posts ps\n",
    "JOIN stackoverflow.users u ON u.id=ps.user_id\n",
    "WHERE EXTRACT(YEAR FROM ps.creation_date) = 2008\n",
    "  AND u.id IN (SELECT DISTINCT u.id\n",
    "               FROM stackoverflow.posts ps\n",
    "               JOIN stackoverflow.users u ON u.id=ps.user_id\n",
    "               WHERE DATE_TRUNC('month', ps.creation_date)::DATE = '2008-12-01'\n",
    "                 AND DATE_TRUNC('month', u.creation_date)::DATE = '2008-09-01')\n",
    "GROUP BY DATE_TRUNC('month', ps.creation_date)::DATE\n",
    "ORDER BY DATE_TRUNC('month', ps.creation_date)::DATE DESC\n",
    "'''\n",
    "\n",
    "# выполните запрос"
   ]
  },
  {
   "cell_type": "code",
   "execution_count": 22,
   "metadata": {},
   "outputs": [
    {
     "data": {
      "text/html": [
       "<div>\n",
       "<style scoped>\n",
       "    .dataframe tbody tr th:only-of-type {\n",
       "        vertical-align: middle;\n",
       "    }\n",
       "\n",
       "    .dataframe tbody tr th {\n",
       "        vertical-align: top;\n",
       "    }\n",
       "\n",
       "    .dataframe thead th {\n",
       "        text-align: right;\n",
       "    }\n",
       "</style>\n",
       "<table border=\"1\" class=\"dataframe\">\n",
       "  <thead>\n",
       "    <tr style=\"text-align: right;\">\n",
       "      <th></th>\n",
       "      <th>date_trunc</th>\n",
       "      <th>count</th>\n",
       "    </tr>\n",
       "  </thead>\n",
       "  <tbody>\n",
       "    <tr>\n",
       "      <th>0</th>\n",
       "      <td>2008-12-01</td>\n",
       "      <td>17641</td>\n",
       "    </tr>\n",
       "    <tr>\n",
       "      <th>1</th>\n",
       "      <td>2008-11-01</td>\n",
       "      <td>18294</td>\n",
       "    </tr>\n",
       "    <tr>\n",
       "      <th>2</th>\n",
       "      <td>2008-10-01</td>\n",
       "      <td>27171</td>\n",
       "    </tr>\n",
       "    <tr>\n",
       "      <th>3</th>\n",
       "      <td>2008-09-01</td>\n",
       "      <td>24870</td>\n",
       "    </tr>\n",
       "    <tr>\n",
       "      <th>4</th>\n",
       "      <td>2008-08-01</td>\n",
       "      <td>32</td>\n",
       "    </tr>\n",
       "  </tbody>\n",
       "</table>\n",
       "</div>"
      ],
      "text/plain": [
       "   date_trunc  count\n",
       "0  2008-12-01  17641\n",
       "1  2008-11-01  18294\n",
       "2  2008-10-01  27171\n",
       "3  2008-09-01  24870\n",
       "4  2008-08-01     32"
      ]
     },
     "execution_count": 22,
     "metadata": {},
     "output_type": "execute_result"
    }
   ],
   "source": [
    "posts_2008 = pd.read_sql_query(query, con=engine)\n",
    "posts_2008"
   ]
  },
  {
   "cell_type": "markdown",
   "metadata": {
    "id": "Vnxn9DVHDWKx"
   },
   "source": [
    "Изучите данные: есть ли в них аномалии? Предположите, почему могли появиться аномальные значения."
   ]
  },
  {
   "cell_type": "markdown",
   "metadata": {},
   "source": [
    "**Ответ** \n",
    "\n",
    "Изучив сводную таблицу мы видим, что 32 поста были размещены  в августе 2008 года пользователями, которые зарегистрированы только в сентябре того же года. Можно предположить, что изначально посты можно было публиковать без прохождения регистрации. Изучив этих пользователей более детально, мы увидели что все эти посты были написаны двумя пользователями, основная часть из них пользователем с id 31505. Последняя дата посещения сайта ранее даты регистрации. Так же эти аномалии могли появится из-за пробелов в данных в период начала деятельности компании и пропуски заполняли интуитивно. Так же на это указывает округленное время регистрации `2008-09-01 00:00:00`."
   ]
  },
  {
   "cell_type": "code",
   "execution_count": 23,
   "metadata": {},
   "outputs": [],
   "source": [
    "# напишите запрос\n",
    "query = '''\n",
    "\n",
    "SELECT *\n",
    "FROM stackoverflow.posts ps\n",
    "JOIN stackoverflow.users u ON u.id=ps.user_id\n",
    "WHERE EXTRACT(YEAR FROM ps.creation_date) = 2008\n",
    "  AND u.id IN (SELECT DISTINCT u.id\n",
    "               FROM stackoverflow.posts ps\n",
    "               JOIN stackoverflow.users u ON u.id=ps.user_id\n",
    "               WHERE DATE_TRUNC('month', ps.creation_date)::DATE = '2008-12-01'\n",
    "                 AND DATE_TRUNC('month', u.creation_date)::DATE = '2008-09-01')\n",
    "  AND DATE_TRUNC('month', ps.creation_date)::DATE = '2008-08-01'\n",
    "'''\n",
    "\n",
    "# выполните запрос"
   ]
  },
  {
   "cell_type": "code",
   "execution_count": 24,
   "metadata": {},
   "outputs": [
    {
     "data": {
      "text/html": [
       "<div>\n",
       "<style scoped>\n",
       "    .dataframe tbody tr th:only-of-type {\n",
       "        vertical-align: middle;\n",
       "    }\n",
       "\n",
       "    .dataframe tbody tr th {\n",
       "        vertical-align: top;\n",
       "    }\n",
       "\n",
       "    .dataframe thead th {\n",
       "        text-align: right;\n",
       "    }\n",
       "</style>\n",
       "<table border=\"1\" class=\"dataframe\">\n",
       "  <thead>\n",
       "    <tr style=\"text-align: right;\">\n",
       "      <th></th>\n",
       "      <th>id</th>\n",
       "      <th>title</th>\n",
       "      <th>creation_date</th>\n",
       "      <th>favorites_count</th>\n",
       "      <th>last_activity_date</th>\n",
       "      <th>last_edit_date</th>\n",
       "      <th>user_id</th>\n",
       "      <th>parent_id</th>\n",
       "      <th>post_type_id</th>\n",
       "      <th>score</th>\n",
       "      <th>views_count</th>\n",
       "      <th>id</th>\n",
       "      <th>creation_date</th>\n",
       "      <th>display_name</th>\n",
       "      <th>last_access_date</th>\n",
       "      <th>location</th>\n",
       "      <th>reputation</th>\n",
       "      <th>views</th>\n",
       "    </tr>\n",
       "  </thead>\n",
       "  <tbody>\n",
       "    <tr>\n",
       "      <th>0</th>\n",
       "      <td>36034</td>\n",
       "      <td>None</td>\n",
       "      <td>2008-08-30 15:20:15</td>\n",
       "      <td>0</td>\n",
       "      <td>2015-09-08 02:12:15.213</td>\n",
       "      <td>2015-09-08 02:12:15</td>\n",
       "      <td>4381</td>\n",
       "      <td>35988</td>\n",
       "      <td>2</td>\n",
       "      <td>24</td>\n",
       "      <td>0</td>\n",
       "      <td>4381</td>\n",
       "      <td>2008-09-03 10:48:17</td>\n",
       "      <td>Vicent Marti</td>\n",
       "      <td>2013-10-16 02:51:37</td>\n",
       "      <td>None</td>\n",
       "      <td>4142</td>\n",
       "      <td>720</td>\n",
       "    </tr>\n",
       "    <tr>\n",
       "      <th>1</th>\n",
       "      <td>36039</td>\n",
       "      <td>Templates spread across multiple files</td>\n",
       "      <td>2008-08-30 15:27:35</td>\n",
       "      <td>1</td>\n",
       "      <td>2008-09-21 23:27:24.657</td>\n",
       "      <td>NaT</td>\n",
       "      <td>4381</td>\n",
       "      <td>0</td>\n",
       "      <td>1</td>\n",
       "      <td>22</td>\n",
       "      <td>11723</td>\n",
       "      <td>4381</td>\n",
       "      <td>2008-09-03 10:48:17</td>\n",
       "      <td>Vicent Marti</td>\n",
       "      <td>2013-10-16 02:51:37</td>\n",
       "      <td>None</td>\n",
       "      <td>4142</td>\n",
       "      <td>720</td>\n",
       "    </tr>\n",
       "    <tr>\n",
       "      <th>2</th>\n",
       "      <td>8807</td>\n",
       "      <td>Cannot add WebViewer of ActiveReports to an AS...</td>\n",
       "      <td>2008-08-12 13:15:47</td>\n",
       "      <td>0</td>\n",
       "      <td>2012-08-11 15:32:05.283</td>\n",
       "      <td>2012-08-11 15:32:05</td>\n",
       "      <td>31505</td>\n",
       "      <td>0</td>\n",
       "      <td>1</td>\n",
       "      <td>2</td>\n",
       "      <td>970</td>\n",
       "      <td>31505</td>\n",
       "      <td>2008-09-01 00:00:00</td>\n",
       "      <td>Serhat Ozgel</td>\n",
       "      <td>2018-08-31 14:18:10</td>\n",
       "      <td>Istanbul, Turkey</td>\n",
       "      <td>13622</td>\n",
       "      <td>2568</td>\n",
       "    </tr>\n",
       "    <tr>\n",
       "      <th>3</th>\n",
       "      <td>8876</td>\n",
       "      <td>Evidence Based Scheduling Tool</td>\n",
       "      <td>2008-08-12 14:16:42</td>\n",
       "      <td>8</td>\n",
       "      <td>2013-09-27 20:20:26.243</td>\n",
       "      <td>2013-09-27 20:20:26</td>\n",
       "      <td>31505</td>\n",
       "      <td>0</td>\n",
       "      <td>1</td>\n",
       "      <td>30</td>\n",
       "      <td>2722</td>\n",
       "      <td>31505</td>\n",
       "      <td>2008-09-01 00:00:00</td>\n",
       "      <td>Serhat Ozgel</td>\n",
       "      <td>2018-08-31 14:18:10</td>\n",
       "      <td>Istanbul, Turkey</td>\n",
       "      <td>13622</td>\n",
       "      <td>2568</td>\n",
       "    </tr>\n",
       "    <tr>\n",
       "      <th>4</th>\n",
       "      <td>8899</td>\n",
       "      <td>None</td>\n",
       "      <td>2008-08-12 14:39:20</td>\n",
       "      <td>0</td>\n",
       "      <td>2008-08-12 14:39:20.040</td>\n",
       "      <td>NaT</td>\n",
       "      <td>31505</td>\n",
       "      <td>8807</td>\n",
       "      <td>2</td>\n",
       "      <td>2</td>\n",
       "      <td>0</td>\n",
       "      <td>31505</td>\n",
       "      <td>2008-09-01 00:00:00</td>\n",
       "      <td>Serhat Ozgel</td>\n",
       "      <td>2018-08-31 14:18:10</td>\n",
       "      <td>Istanbul, Turkey</td>\n",
       "      <td>13622</td>\n",
       "      <td>2568</td>\n",
       "    </tr>\n",
       "    <tr>\n",
       "      <th>5</th>\n",
       "      <td>9033</td>\n",
       "      <td>Hidden Features of C#?</td>\n",
       "      <td>2008-08-12 16:32:25</td>\n",
       "      <td>5302</td>\n",
       "      <td>2017-09-25 20:53:48.090</td>\n",
       "      <td>2017-09-25 20:53:48</td>\n",
       "      <td>31505</td>\n",
       "      <td>0</td>\n",
       "      <td>1</td>\n",
       "      <td>1476</td>\n",
       "      <td>618901</td>\n",
       "      <td>31505</td>\n",
       "      <td>2008-09-01 00:00:00</td>\n",
       "      <td>Serhat Ozgel</td>\n",
       "      <td>2018-08-31 14:18:10</td>\n",
       "      <td>Istanbul, Turkey</td>\n",
       "      <td>13622</td>\n",
       "      <td>2568</td>\n",
       "    </tr>\n",
       "    <tr>\n",
       "      <th>6</th>\n",
       "      <td>9049</td>\n",
       "      <td>None</td>\n",
       "      <td>2008-08-12 17:00:35</td>\n",
       "      <td>0</td>\n",
       "      <td>2008-08-12 17:00:35.060</td>\n",
       "      <td>NaT</td>\n",
       "      <td>31505</td>\n",
       "      <td>5916</td>\n",
       "      <td>2</td>\n",
       "      <td>2</td>\n",
       "      <td>0</td>\n",
       "      <td>31505</td>\n",
       "      <td>2008-09-01 00:00:00</td>\n",
       "      <td>Serhat Ozgel</td>\n",
       "      <td>2018-08-31 14:18:10</td>\n",
       "      <td>Istanbul, Turkey</td>\n",
       "      <td>13622</td>\n",
       "      <td>2568</td>\n",
       "    </tr>\n",
       "    <tr>\n",
       "      <th>7</th>\n",
       "      <td>9851</td>\n",
       "      <td>None</td>\n",
       "      <td>2008-08-13 14:03:39</td>\n",
       "      <td>0</td>\n",
       "      <td>2008-08-13 14:11:24.807</td>\n",
       "      <td>2008-08-13 14:11:25</td>\n",
       "      <td>31505</td>\n",
       "      <td>9805</td>\n",
       "      <td>2</td>\n",
       "      <td>6</td>\n",
       "      <td>0</td>\n",
       "      <td>31505</td>\n",
       "      <td>2008-09-01 00:00:00</td>\n",
       "      <td>Serhat Ozgel</td>\n",
       "      <td>2018-08-31 14:18:10</td>\n",
       "      <td>Istanbul, Turkey</td>\n",
       "      <td>13622</td>\n",
       "      <td>2568</td>\n",
       "    </tr>\n",
       "    <tr>\n",
       "      <th>8</th>\n",
       "      <td>10378</td>\n",
       "      <td>None</td>\n",
       "      <td>2008-08-13 21:10:42</td>\n",
       "      <td>0</td>\n",
       "      <td>2016-11-30 10:30:22.153</td>\n",
       "      <td>2016-11-30 10:30:22</td>\n",
       "      <td>31505</td>\n",
       "      <td>10366</td>\n",
       "      <td>2</td>\n",
       "      <td>8</td>\n",
       "      <td>0</td>\n",
       "      <td>31505</td>\n",
       "      <td>2008-09-01 00:00:00</td>\n",
       "      <td>Serhat Ozgel</td>\n",
       "      <td>2018-08-31 14:18:10</td>\n",
       "      <td>Istanbul, Turkey</td>\n",
       "      <td>13622</td>\n",
       "      <td>2568</td>\n",
       "    </tr>\n",
       "    <tr>\n",
       "      <th>9</th>\n",
       "      <td>10866</td>\n",
       "      <td>None</td>\n",
       "      <td>2008-08-14 10:28:43</td>\n",
       "      <td>0</td>\n",
       "      <td>2008-08-14 10:28:43.070</td>\n",
       "      <td>NaT</td>\n",
       "      <td>31505</td>\n",
       "      <td>10860</td>\n",
       "      <td>2</td>\n",
       "      <td>3</td>\n",
       "      <td>0</td>\n",
       "      <td>31505</td>\n",
       "      <td>2008-09-01 00:00:00</td>\n",
       "      <td>Serhat Ozgel</td>\n",
       "      <td>2018-08-31 14:18:10</td>\n",
       "      <td>Istanbul, Turkey</td>\n",
       "      <td>13622</td>\n",
       "      <td>2568</td>\n",
       "    </tr>\n",
       "    <tr>\n",
       "      <th>10</th>\n",
       "      <td>10873</td>\n",
       "      <td>None</td>\n",
       "      <td>2008-08-14 10:36:04</td>\n",
       "      <td>0</td>\n",
       "      <td>2008-08-14 10:36:04.350</td>\n",
       "      <td>NaT</td>\n",
       "      <td>31505</td>\n",
       "      <td>10872</td>\n",
       "      <td>2</td>\n",
       "      <td>3</td>\n",
       "      <td>0</td>\n",
       "      <td>31505</td>\n",
       "      <td>2008-09-01 00:00:00</td>\n",
       "      <td>Serhat Ozgel</td>\n",
       "      <td>2018-08-31 14:18:10</td>\n",
       "      <td>Istanbul, Turkey</td>\n",
       "      <td>13622</td>\n",
       "      <td>2568</td>\n",
       "    </tr>\n",
       "    <tr>\n",
       "      <th>11</th>\n",
       "      <td>10892</td>\n",
       "      <td>None</td>\n",
       "      <td>2008-08-14 11:07:01</td>\n",
       "      <td>0</td>\n",
       "      <td>2010-05-19 15:01:55.763</td>\n",
       "      <td>2010-05-19 15:01:56</td>\n",
       "      <td>31505</td>\n",
       "      <td>9033</td>\n",
       "      <td>2</td>\n",
       "      <td>7</td>\n",
       "      <td>0</td>\n",
       "      <td>31505</td>\n",
       "      <td>2008-09-01 00:00:00</td>\n",
       "      <td>Serhat Ozgel</td>\n",
       "      <td>2018-08-31 14:18:10</td>\n",
       "      <td>Istanbul, Turkey</td>\n",
       "      <td>13622</td>\n",
       "      <td>2568</td>\n",
       "    </tr>\n",
       "    <tr>\n",
       "      <th>12</th>\n",
       "      <td>16466</td>\n",
       "      <td>None</td>\n",
       "      <td>2008-08-19 16:00:47</td>\n",
       "      <td>0</td>\n",
       "      <td>2008-08-19 16:00:46.550</td>\n",
       "      <td>NaT</td>\n",
       "      <td>31505</td>\n",
       "      <td>16460</td>\n",
       "      <td>2</td>\n",
       "      <td>1</td>\n",
       "      <td>0</td>\n",
       "      <td>31505</td>\n",
       "      <td>2008-09-01 00:00:00</td>\n",
       "      <td>Serhat Ozgel</td>\n",
       "      <td>2018-08-31 14:18:10</td>\n",
       "      <td>Istanbul, Turkey</td>\n",
       "      <td>13622</td>\n",
       "      <td>2568</td>\n",
       "    </tr>\n",
       "    <tr>\n",
       "      <th>13</th>\n",
       "      <td>16500</td>\n",
       "      <td>None</td>\n",
       "      <td>2008-08-19 16:19:51</td>\n",
       "      <td>0</td>\n",
       "      <td>2008-08-19 16:19:51.397</td>\n",
       "      <td>NaT</td>\n",
       "      <td>31505</td>\n",
       "      <td>16460</td>\n",
       "      <td>2</td>\n",
       "      <td>8</td>\n",
       "      <td>0</td>\n",
       "      <td>31505</td>\n",
       "      <td>2008-09-01 00:00:00</td>\n",
       "      <td>Serhat Ozgel</td>\n",
       "      <td>2018-08-31 14:18:10</td>\n",
       "      <td>Istanbul, Turkey</td>\n",
       "      <td>13622</td>\n",
       "      <td>2568</td>\n",
       "    </tr>\n",
       "    <tr>\n",
       "      <th>14</th>\n",
       "      <td>16511</td>\n",
       "      <td>None</td>\n",
       "      <td>2008-08-19 16:28:42</td>\n",
       "      <td>0</td>\n",
       "      <td>2008-08-19 16:28:41.753</td>\n",
       "      <td>NaT</td>\n",
       "      <td>31505</td>\n",
       "      <td>16501</td>\n",
       "      <td>2</td>\n",
       "      <td>1</td>\n",
       "      <td>0</td>\n",
       "      <td>31505</td>\n",
       "      <td>2008-09-01 00:00:00</td>\n",
       "      <td>Serhat Ozgel</td>\n",
       "      <td>2018-08-31 14:18:10</td>\n",
       "      <td>Istanbul, Turkey</td>\n",
       "      <td>13622</td>\n",
       "      <td>2568</td>\n",
       "    </tr>\n",
       "    <tr>\n",
       "      <th>15</th>\n",
       "      <td>18772</td>\n",
       "      <td>How to create a new instance of Sql Server 2005</td>\n",
       "      <td>2008-08-20 20:42:05</td>\n",
       "      <td>2</td>\n",
       "      <td>2008-11-17 21:53:06.630</td>\n",
       "      <td>2008-11-17 21:53:07</td>\n",
       "      <td>31505</td>\n",
       "      <td>0</td>\n",
       "      <td>1</td>\n",
       "      <td>0</td>\n",
       "      <td>10891</td>\n",
       "      <td>31505</td>\n",
       "      <td>2008-09-01 00:00:00</td>\n",
       "      <td>Serhat Ozgel</td>\n",
       "      <td>2018-08-31 14:18:10</td>\n",
       "      <td>Istanbul, Turkey</td>\n",
       "      <td>13622</td>\n",
       "      <td>2568</td>\n",
       "    </tr>\n",
       "    <tr>\n",
       "      <th>16</th>\n",
       "      <td>19805</td>\n",
       "      <td>None</td>\n",
       "      <td>2008-08-21 13:05:57</td>\n",
       "      <td>0</td>\n",
       "      <td>2012-06-14 15:26:55.937</td>\n",
       "      <td>2012-06-14 15:26:56</td>\n",
       "      <td>31505</td>\n",
       "      <td>19790</td>\n",
       "      <td>2</td>\n",
       "      <td>14</td>\n",
       "      <td>0</td>\n",
       "      <td>31505</td>\n",
       "      <td>2008-09-01 00:00:00</td>\n",
       "      <td>Serhat Ozgel</td>\n",
       "      <td>2018-08-31 14:18:10</td>\n",
       "      <td>Istanbul, Turkey</td>\n",
       "      <td>13622</td>\n",
       "      <td>2568</td>\n",
       "    </tr>\n",
       "    <tr>\n",
       "      <th>17</th>\n",
       "      <td>22814</td>\n",
       "      <td>How to decode viewstate</td>\n",
       "      <td>2008-08-22 16:38:49</td>\n",
       "      <td>19</td>\n",
       "      <td>2015-07-14 10:44:00.093</td>\n",
       "      <td>NaT</td>\n",
       "      <td>31505</td>\n",
       "      <td>0</td>\n",
       "      <td>1</td>\n",
       "      <td>53</td>\n",
       "      <td>84129</td>\n",
       "      <td>31505</td>\n",
       "      <td>2008-09-01 00:00:00</td>\n",
       "      <td>Serhat Ozgel</td>\n",
       "      <td>2018-08-31 14:18:10</td>\n",
       "      <td>Istanbul, Turkey</td>\n",
       "      <td>13622</td>\n",
       "      <td>2568</td>\n",
       "    </tr>\n",
       "    <tr>\n",
       "      <th>18</th>\n",
       "      <td>24993</td>\n",
       "      <td>InvalidOperationException while creating wcf w...</td>\n",
       "      <td>2008-08-24 12:11:01</td>\n",
       "      <td>2</td>\n",
       "      <td>2012-06-25 19:12:57.633</td>\n",
       "      <td>2012-06-25 19:12:58</td>\n",
       "      <td>31505</td>\n",
       "      <td>0</td>\n",
       "      <td>1</td>\n",
       "      <td>6</td>\n",
       "      <td>10271</td>\n",
       "      <td>31505</td>\n",
       "      <td>2008-09-01 00:00:00</td>\n",
       "      <td>Serhat Ozgel</td>\n",
       "      <td>2018-08-31 14:18:10</td>\n",
       "      <td>Istanbul, Turkey</td>\n",
       "      <td>13622</td>\n",
       "      <td>2568</td>\n",
       "    </tr>\n",
       "    <tr>\n",
       "      <th>19</th>\n",
       "      <td>25752</td>\n",
       "      <td>How do I put a space character before option t...</td>\n",
       "      <td>2008-08-25 08:02:43</td>\n",
       "      <td>3</td>\n",
       "      <td>2017-12-13 11:22:32.290</td>\n",
       "      <td>2008-08-25 11:27:03</td>\n",
       "      <td>31505</td>\n",
       "      <td>0</td>\n",
       "      <td>1</td>\n",
       "      <td>22</td>\n",
       "      <td>61217</td>\n",
       "      <td>31505</td>\n",
       "      <td>2008-09-01 00:00:00</td>\n",
       "      <td>Serhat Ozgel</td>\n",
       "      <td>2018-08-31 14:18:10</td>\n",
       "      <td>Istanbul, Turkey</td>\n",
       "      <td>13622</td>\n",
       "      <td>2568</td>\n",
       "    </tr>\n",
       "    <tr>\n",
       "      <th>20</th>\n",
       "      <td>26210</td>\n",
       "      <td>None</td>\n",
       "      <td>2008-08-25 15:16:03</td>\n",
       "      <td>0</td>\n",
       "      <td>2008-08-25 15:22:33.730</td>\n",
       "      <td>2008-08-25 15:22:34</td>\n",
       "      <td>31505</td>\n",
       "      <td>26196</td>\n",
       "      <td>2</td>\n",
       "      <td>6</td>\n",
       "      <td>0</td>\n",
       "      <td>31505</td>\n",
       "      <td>2008-09-01 00:00:00</td>\n",
       "      <td>Serhat Ozgel</td>\n",
       "      <td>2018-08-31 14:18:10</td>\n",
       "      <td>Istanbul, Turkey</td>\n",
       "      <td>13622</td>\n",
       "      <td>2568</td>\n",
       "    </tr>\n",
       "    <tr>\n",
       "      <th>21</th>\n",
       "      <td>26760</td>\n",
       "      <td>Parse string to TimeSpan</td>\n",
       "      <td>2008-08-25 20:16:27</td>\n",
       "      <td>2</td>\n",
       "      <td>2016-08-16 07:23:32.857</td>\n",
       "      <td>NaT</td>\n",
       "      <td>31505</td>\n",
       "      <td>0</td>\n",
       "      <td>1</td>\n",
       "      <td>29</td>\n",
       "      <td>56418</td>\n",
       "      <td>31505</td>\n",
       "      <td>2008-09-01 00:00:00</td>\n",
       "      <td>Serhat Ozgel</td>\n",
       "      <td>2018-08-31 14:18:10</td>\n",
       "      <td>Istanbul, Turkey</td>\n",
       "      <td>13622</td>\n",
       "      <td>2568</td>\n",
       "    </tr>\n",
       "    <tr>\n",
       "      <th>22</th>\n",
       "      <td>30339</td>\n",
       "      <td>None</td>\n",
       "      <td>2008-08-27 14:49:01</td>\n",
       "      <td>0</td>\n",
       "      <td>2008-08-27 14:49:00.627</td>\n",
       "      <td>NaT</td>\n",
       "      <td>31505</td>\n",
       "      <td>30286</td>\n",
       "      <td>2</td>\n",
       "      <td>0</td>\n",
       "      <td>0</td>\n",
       "      <td>31505</td>\n",
       "      <td>2008-09-01 00:00:00</td>\n",
       "      <td>Serhat Ozgel</td>\n",
       "      <td>2018-08-31 14:18:10</td>\n",
       "      <td>Istanbul, Turkey</td>\n",
       "      <td>13622</td>\n",
       "      <td>2568</td>\n",
       "    </tr>\n",
       "    <tr>\n",
       "      <th>23</th>\n",
       "      <td>30286</td>\n",
       "      <td>NullReferenceException on User Control handle</td>\n",
       "      <td>2008-08-27 14:31:58</td>\n",
       "      <td>0</td>\n",
       "      <td>2016-01-14 04:20:10.410</td>\n",
       "      <td>2016-01-14 04:20:10</td>\n",
       "      <td>31505</td>\n",
       "      <td>0</td>\n",
       "      <td>1</td>\n",
       "      <td>2</td>\n",
       "      <td>1859</td>\n",
       "      <td>31505</td>\n",
       "      <td>2008-09-01 00:00:00</td>\n",
       "      <td>Serhat Ozgel</td>\n",
       "      <td>2018-08-31 14:18:10</td>\n",
       "      <td>Istanbul, Turkey</td>\n",
       "      <td>13622</td>\n",
       "      <td>2568</td>\n",
       "    </tr>\n",
       "    <tr>\n",
       "      <th>24</th>\n",
       "      <td>33187</td>\n",
       "      <td>None</td>\n",
       "      <td>2008-08-28 19:32:43</td>\n",
       "      <td>0</td>\n",
       "      <td>2008-08-28 19:32:42.590</td>\n",
       "      <td>NaT</td>\n",
       "      <td>31505</td>\n",
       "      <td>33150</td>\n",
       "      <td>2</td>\n",
       "      <td>2</td>\n",
       "      <td>0</td>\n",
       "      <td>31505</td>\n",
       "      <td>2008-09-01 00:00:00</td>\n",
       "      <td>Serhat Ozgel</td>\n",
       "      <td>2018-08-31 14:18:10</td>\n",
       "      <td>Istanbul, Turkey</td>\n",
       "      <td>13622</td>\n",
       "      <td>2568</td>\n",
       "    </tr>\n",
       "    <tr>\n",
       "      <th>25</th>\n",
       "      <td>34390</td>\n",
       "      <td>How to make user controls know about css class...</td>\n",
       "      <td>2008-08-29 11:37:55</td>\n",
       "      <td>22</td>\n",
       "      <td>2013-02-08 14:42:52.563</td>\n",
       "      <td>2008-11-02 02:13:46</td>\n",
       "      <td>31505</td>\n",
       "      <td>0</td>\n",
       "      <td>1</td>\n",
       "      <td>49</td>\n",
       "      <td>55697</td>\n",
       "      <td>31505</td>\n",
       "      <td>2008-09-01 00:00:00</td>\n",
       "      <td>Serhat Ozgel</td>\n",
       "      <td>2018-08-31 14:18:10</td>\n",
       "      <td>Istanbul, Turkey</td>\n",
       "      <td>13622</td>\n",
       "      <td>2568</td>\n",
       "    </tr>\n",
       "    <tr>\n",
       "      <th>26</th>\n",
       "      <td>34792</td>\n",
       "      <td>None</td>\n",
       "      <td>2008-08-29 17:20:35</td>\n",
       "      <td>0</td>\n",
       "      <td>2013-09-25 14:36:31.363</td>\n",
       "      <td>2013-09-25 14:36:31</td>\n",
       "      <td>31505</td>\n",
       "      <td>34781</td>\n",
       "      <td>2</td>\n",
       "      <td>6</td>\n",
       "      <td>0</td>\n",
       "      <td>31505</td>\n",
       "      <td>2008-09-01 00:00:00</td>\n",
       "      <td>Serhat Ozgel</td>\n",
       "      <td>2018-08-31 14:18:10</td>\n",
       "      <td>Istanbul, Turkey</td>\n",
       "      <td>13622</td>\n",
       "      <td>2568</td>\n",
       "    </tr>\n",
       "    <tr>\n",
       "      <th>27</th>\n",
       "      <td>35213</td>\n",
       "      <td>None</td>\n",
       "      <td>2008-08-29 20:16:51</td>\n",
       "      <td>0</td>\n",
       "      <td>2008-08-29 20:16:51.140</td>\n",
       "      <td>NaT</td>\n",
       "      <td>31505</td>\n",
       "      <td>35208</td>\n",
       "      <td>2</td>\n",
       "      <td>0</td>\n",
       "      <td>0</td>\n",
       "      <td>31505</td>\n",
       "      <td>2008-09-01 00:00:00</td>\n",
       "      <td>Serhat Ozgel</td>\n",
       "      <td>2018-08-31 14:18:10</td>\n",
       "      <td>Istanbul, Turkey</td>\n",
       "      <td>13622</td>\n",
       "      <td>2568</td>\n",
       "    </tr>\n",
       "    <tr>\n",
       "      <th>28</th>\n",
       "      <td>34698</td>\n",
       "      <td>How to turn off sounds in TortoiseSVN?</td>\n",
       "      <td>2008-08-29 16:47:46</td>\n",
       "      <td>0</td>\n",
       "      <td>2014-12-13 02:55:06.340</td>\n",
       "      <td>2014-12-13 02:55:06</td>\n",
       "      <td>31505</td>\n",
       "      <td>0</td>\n",
       "      <td>1</td>\n",
       "      <td>1</td>\n",
       "      <td>296</td>\n",
       "      <td>31505</td>\n",
       "      <td>2008-09-01 00:00:00</td>\n",
       "      <td>Serhat Ozgel</td>\n",
       "      <td>2018-08-31 14:18:10</td>\n",
       "      <td>Istanbul, Turkey</td>\n",
       "      <td>13622</td>\n",
       "      <td>2568</td>\n",
       "    </tr>\n",
       "    <tr>\n",
       "      <th>29</th>\n",
       "      <td>35059</td>\n",
       "      <td>None</td>\n",
       "      <td>2008-08-29 19:06:19</td>\n",
       "      <td>0</td>\n",
       "      <td>2008-08-29 19:06:19.403</td>\n",
       "      <td>NaT</td>\n",
       "      <td>31505</td>\n",
       "      <td>35002</td>\n",
       "      <td>2</td>\n",
       "      <td>25</td>\n",
       "      <td>0</td>\n",
       "      <td>31505</td>\n",
       "      <td>2008-09-01 00:00:00</td>\n",
       "      <td>Serhat Ozgel</td>\n",
       "      <td>2018-08-31 14:18:10</td>\n",
       "      <td>Istanbul, Turkey</td>\n",
       "      <td>13622</td>\n",
       "      <td>2568</td>\n",
       "    </tr>\n",
       "    <tr>\n",
       "      <th>30</th>\n",
       "      <td>36350</td>\n",
       "      <td>How to pass a single object[] to a params obje...</td>\n",
       "      <td>2008-08-30 21:22:06</td>\n",
       "      <td>12</td>\n",
       "      <td>2018-04-11 15:23:54.897</td>\n",
       "      <td>2008-08-31 06:35:09</td>\n",
       "      <td>31505</td>\n",
       "      <td>0</td>\n",
       "      <td>1</td>\n",
       "      <td>109</td>\n",
       "      <td>96066</td>\n",
       "      <td>31505</td>\n",
       "      <td>2008-09-01 00:00:00</td>\n",
       "      <td>Serhat Ozgel</td>\n",
       "      <td>2018-08-31 14:18:10</td>\n",
       "      <td>Istanbul, Turkey</td>\n",
       "      <td>13622</td>\n",
       "      <td>2568</td>\n",
       "    </tr>\n",
       "    <tr>\n",
       "      <th>31</th>\n",
       "      <td>36876</td>\n",
       "      <td>Conditional Redirect on Login</td>\n",
       "      <td>2008-08-31 14:27:32</td>\n",
       "      <td>1</td>\n",
       "      <td>2012-07-16 11:45:28.327</td>\n",
       "      <td>NaT</td>\n",
       "      <td>31505</td>\n",
       "      <td>0</td>\n",
       "      <td>1</td>\n",
       "      <td>1</td>\n",
       "      <td>1227</td>\n",
       "      <td>31505</td>\n",
       "      <td>2008-09-01 00:00:00</td>\n",
       "      <td>Serhat Ozgel</td>\n",
       "      <td>2018-08-31 14:18:10</td>\n",
       "      <td>Istanbul, Turkey</td>\n",
       "      <td>13622</td>\n",
       "      <td>2568</td>\n",
       "    </tr>\n",
       "  </tbody>\n",
       "</table>\n",
       "</div>"
      ],
      "text/plain": [
       "       id                                              title  \\\n",
       "0   36034                                               None   \n",
       "1   36039             Templates spread across multiple files   \n",
       "2    8807  Cannot add WebViewer of ActiveReports to an AS...   \n",
       "3    8876                     Evidence Based Scheduling Tool   \n",
       "4    8899                                               None   \n",
       "5    9033                             Hidden Features of C#?   \n",
       "6    9049                                               None   \n",
       "7    9851                                               None   \n",
       "8   10378                                               None   \n",
       "9   10866                                               None   \n",
       "10  10873                                               None   \n",
       "11  10892                                               None   \n",
       "12  16466                                               None   \n",
       "13  16500                                               None   \n",
       "14  16511                                               None   \n",
       "15  18772    How to create a new instance of Sql Server 2005   \n",
       "16  19805                                               None   \n",
       "17  22814                            How to decode viewstate   \n",
       "18  24993  InvalidOperationException while creating wcf w...   \n",
       "19  25752  How do I put a space character before option t...   \n",
       "20  26210                                               None   \n",
       "21  26760                           Parse string to TimeSpan   \n",
       "22  30339                                               None   \n",
       "23  30286      NullReferenceException on User Control handle   \n",
       "24  33187                                               None   \n",
       "25  34390  How to make user controls know about css class...   \n",
       "26  34792                                               None   \n",
       "27  35213                                               None   \n",
       "28  34698             How to turn off sounds in TortoiseSVN?   \n",
       "29  35059                                               None   \n",
       "30  36350  How to pass a single object[] to a params obje...   \n",
       "31  36876                      Conditional Redirect on Login   \n",
       "\n",
       "         creation_date  favorites_count       last_activity_date  \\\n",
       "0  2008-08-30 15:20:15                0  2015-09-08 02:12:15.213   \n",
       "1  2008-08-30 15:27:35                1  2008-09-21 23:27:24.657   \n",
       "2  2008-08-12 13:15:47                0  2012-08-11 15:32:05.283   \n",
       "3  2008-08-12 14:16:42                8  2013-09-27 20:20:26.243   \n",
       "4  2008-08-12 14:39:20                0  2008-08-12 14:39:20.040   \n",
       "5  2008-08-12 16:32:25             5302  2017-09-25 20:53:48.090   \n",
       "6  2008-08-12 17:00:35                0  2008-08-12 17:00:35.060   \n",
       "7  2008-08-13 14:03:39                0  2008-08-13 14:11:24.807   \n",
       "8  2008-08-13 21:10:42                0  2016-11-30 10:30:22.153   \n",
       "9  2008-08-14 10:28:43                0  2008-08-14 10:28:43.070   \n",
       "10 2008-08-14 10:36:04                0  2008-08-14 10:36:04.350   \n",
       "11 2008-08-14 11:07:01                0  2010-05-19 15:01:55.763   \n",
       "12 2008-08-19 16:00:47                0  2008-08-19 16:00:46.550   \n",
       "13 2008-08-19 16:19:51                0  2008-08-19 16:19:51.397   \n",
       "14 2008-08-19 16:28:42                0  2008-08-19 16:28:41.753   \n",
       "15 2008-08-20 20:42:05                2  2008-11-17 21:53:06.630   \n",
       "16 2008-08-21 13:05:57                0  2012-06-14 15:26:55.937   \n",
       "17 2008-08-22 16:38:49               19  2015-07-14 10:44:00.093   \n",
       "18 2008-08-24 12:11:01                2  2012-06-25 19:12:57.633   \n",
       "19 2008-08-25 08:02:43                3  2017-12-13 11:22:32.290   \n",
       "20 2008-08-25 15:16:03                0  2008-08-25 15:22:33.730   \n",
       "21 2008-08-25 20:16:27                2  2016-08-16 07:23:32.857   \n",
       "22 2008-08-27 14:49:01                0  2008-08-27 14:49:00.627   \n",
       "23 2008-08-27 14:31:58                0  2016-01-14 04:20:10.410   \n",
       "24 2008-08-28 19:32:43                0  2008-08-28 19:32:42.590   \n",
       "25 2008-08-29 11:37:55               22  2013-02-08 14:42:52.563   \n",
       "26 2008-08-29 17:20:35                0  2013-09-25 14:36:31.363   \n",
       "27 2008-08-29 20:16:51                0  2008-08-29 20:16:51.140   \n",
       "28 2008-08-29 16:47:46                0  2014-12-13 02:55:06.340   \n",
       "29 2008-08-29 19:06:19                0  2008-08-29 19:06:19.403   \n",
       "30 2008-08-30 21:22:06               12  2018-04-11 15:23:54.897   \n",
       "31 2008-08-31 14:27:32                1  2012-07-16 11:45:28.327   \n",
       "\n",
       "        last_edit_date  user_id  parent_id  post_type_id  score  views_count  \\\n",
       "0  2015-09-08 02:12:15     4381      35988             2     24            0   \n",
       "1                  NaT     4381          0             1     22        11723   \n",
       "2  2012-08-11 15:32:05    31505          0             1      2          970   \n",
       "3  2013-09-27 20:20:26    31505          0             1     30         2722   \n",
       "4                  NaT    31505       8807             2      2            0   \n",
       "5  2017-09-25 20:53:48    31505          0             1   1476       618901   \n",
       "6                  NaT    31505       5916             2      2            0   \n",
       "7  2008-08-13 14:11:25    31505       9805             2      6            0   \n",
       "8  2016-11-30 10:30:22    31505      10366             2      8            0   \n",
       "9                  NaT    31505      10860             2      3            0   \n",
       "10                 NaT    31505      10872             2      3            0   \n",
       "11 2010-05-19 15:01:56    31505       9033             2      7            0   \n",
       "12                 NaT    31505      16460             2      1            0   \n",
       "13                 NaT    31505      16460             2      8            0   \n",
       "14                 NaT    31505      16501             2      1            0   \n",
       "15 2008-11-17 21:53:07    31505          0             1      0        10891   \n",
       "16 2012-06-14 15:26:56    31505      19790             2     14            0   \n",
       "17                 NaT    31505          0             1     53        84129   \n",
       "18 2012-06-25 19:12:58    31505          0             1      6        10271   \n",
       "19 2008-08-25 11:27:03    31505          0             1     22        61217   \n",
       "20 2008-08-25 15:22:34    31505      26196             2      6            0   \n",
       "21                 NaT    31505          0             1     29        56418   \n",
       "22                 NaT    31505      30286             2      0            0   \n",
       "23 2016-01-14 04:20:10    31505          0             1      2         1859   \n",
       "24                 NaT    31505      33150             2      2            0   \n",
       "25 2008-11-02 02:13:46    31505          0             1     49        55697   \n",
       "26 2013-09-25 14:36:31    31505      34781             2      6            0   \n",
       "27                 NaT    31505      35208             2      0            0   \n",
       "28 2014-12-13 02:55:06    31505          0             1      1          296   \n",
       "29                 NaT    31505      35002             2     25            0   \n",
       "30 2008-08-31 06:35:09    31505          0             1    109        96066   \n",
       "31                 NaT    31505          0             1      1         1227   \n",
       "\n",
       "       id       creation_date  display_name    last_access_date  \\\n",
       "0    4381 2008-09-03 10:48:17  Vicent Marti 2013-10-16 02:51:37   \n",
       "1    4381 2008-09-03 10:48:17  Vicent Marti 2013-10-16 02:51:37   \n",
       "2   31505 2008-09-01 00:00:00  Serhat Ozgel 2018-08-31 14:18:10   \n",
       "3   31505 2008-09-01 00:00:00  Serhat Ozgel 2018-08-31 14:18:10   \n",
       "4   31505 2008-09-01 00:00:00  Serhat Ozgel 2018-08-31 14:18:10   \n",
       "5   31505 2008-09-01 00:00:00  Serhat Ozgel 2018-08-31 14:18:10   \n",
       "6   31505 2008-09-01 00:00:00  Serhat Ozgel 2018-08-31 14:18:10   \n",
       "7   31505 2008-09-01 00:00:00  Serhat Ozgel 2018-08-31 14:18:10   \n",
       "8   31505 2008-09-01 00:00:00  Serhat Ozgel 2018-08-31 14:18:10   \n",
       "9   31505 2008-09-01 00:00:00  Serhat Ozgel 2018-08-31 14:18:10   \n",
       "10  31505 2008-09-01 00:00:00  Serhat Ozgel 2018-08-31 14:18:10   \n",
       "11  31505 2008-09-01 00:00:00  Serhat Ozgel 2018-08-31 14:18:10   \n",
       "12  31505 2008-09-01 00:00:00  Serhat Ozgel 2018-08-31 14:18:10   \n",
       "13  31505 2008-09-01 00:00:00  Serhat Ozgel 2018-08-31 14:18:10   \n",
       "14  31505 2008-09-01 00:00:00  Serhat Ozgel 2018-08-31 14:18:10   \n",
       "15  31505 2008-09-01 00:00:00  Serhat Ozgel 2018-08-31 14:18:10   \n",
       "16  31505 2008-09-01 00:00:00  Serhat Ozgel 2018-08-31 14:18:10   \n",
       "17  31505 2008-09-01 00:00:00  Serhat Ozgel 2018-08-31 14:18:10   \n",
       "18  31505 2008-09-01 00:00:00  Serhat Ozgel 2018-08-31 14:18:10   \n",
       "19  31505 2008-09-01 00:00:00  Serhat Ozgel 2018-08-31 14:18:10   \n",
       "20  31505 2008-09-01 00:00:00  Serhat Ozgel 2018-08-31 14:18:10   \n",
       "21  31505 2008-09-01 00:00:00  Serhat Ozgel 2018-08-31 14:18:10   \n",
       "22  31505 2008-09-01 00:00:00  Serhat Ozgel 2018-08-31 14:18:10   \n",
       "23  31505 2008-09-01 00:00:00  Serhat Ozgel 2018-08-31 14:18:10   \n",
       "24  31505 2008-09-01 00:00:00  Serhat Ozgel 2018-08-31 14:18:10   \n",
       "25  31505 2008-09-01 00:00:00  Serhat Ozgel 2018-08-31 14:18:10   \n",
       "26  31505 2008-09-01 00:00:00  Serhat Ozgel 2018-08-31 14:18:10   \n",
       "27  31505 2008-09-01 00:00:00  Serhat Ozgel 2018-08-31 14:18:10   \n",
       "28  31505 2008-09-01 00:00:00  Serhat Ozgel 2018-08-31 14:18:10   \n",
       "29  31505 2008-09-01 00:00:00  Serhat Ozgel 2018-08-31 14:18:10   \n",
       "30  31505 2008-09-01 00:00:00  Serhat Ozgel 2018-08-31 14:18:10   \n",
       "31  31505 2008-09-01 00:00:00  Serhat Ozgel 2018-08-31 14:18:10   \n",
       "\n",
       "            location  reputation  views  \n",
       "0               None        4142    720  \n",
       "1               None        4142    720  \n",
       "2   Istanbul, Turkey       13622   2568  \n",
       "3   Istanbul, Turkey       13622   2568  \n",
       "4   Istanbul, Turkey       13622   2568  \n",
       "5   Istanbul, Turkey       13622   2568  \n",
       "6   Istanbul, Turkey       13622   2568  \n",
       "7   Istanbul, Turkey       13622   2568  \n",
       "8   Istanbul, Turkey       13622   2568  \n",
       "9   Istanbul, Turkey       13622   2568  \n",
       "10  Istanbul, Turkey       13622   2568  \n",
       "11  Istanbul, Turkey       13622   2568  \n",
       "12  Istanbul, Turkey       13622   2568  \n",
       "13  Istanbul, Turkey       13622   2568  \n",
       "14  Istanbul, Turkey       13622   2568  \n",
       "15  Istanbul, Turkey       13622   2568  \n",
       "16  Istanbul, Turkey       13622   2568  \n",
       "17  Istanbul, Turkey       13622   2568  \n",
       "18  Istanbul, Turkey       13622   2568  \n",
       "19  Istanbul, Turkey       13622   2568  \n",
       "20  Istanbul, Turkey       13622   2568  \n",
       "21  Istanbul, Turkey       13622   2568  \n",
       "22  Istanbul, Turkey       13622   2568  \n",
       "23  Istanbul, Turkey       13622   2568  \n",
       "24  Istanbul, Turkey       13622   2568  \n",
       "25  Istanbul, Turkey       13622   2568  \n",
       "26  Istanbul, Turkey       13622   2568  \n",
       "27  Istanbul, Turkey       13622   2568  \n",
       "28  Istanbul, Turkey       13622   2568  \n",
       "29  Istanbul, Turkey       13622   2568  \n",
       "30  Istanbul, Turkey       13622   2568  \n",
       "31  Istanbul, Turkey       13622   2568  "
      ]
     },
     "execution_count": 24,
     "metadata": {},
     "output_type": "execute_result"
    }
   ],
   "source": [
    "posts_08 = pd.read_sql_query(query, con=engine)\n",
    "posts_08"
   ]
  },
  {
   "cell_type": "markdown",
   "metadata": {
    "id": "5Pcizm0DDWKz"
   },
   "source": [
    "# Задание 4"
   ]
  },
  {
   "cell_type": "markdown",
   "metadata": {
    "id": "KUZPF6vHDWKz"
   },
   "source": [
    "Используя данные о постах, выведите несколько полей:\n",
    "\n",
    "- идентификатор пользователя, который написал пост;\n",
    "- дата создания поста;\n",
    "- количество просмотров у текущего поста;\n",
    "- сумму просмотров постов автора с накоплением.\n",
    "\n",
    "Данные в таблице должны быть отсортированы по возрастанию идентификаторов пользователей, а данные об одном и том же пользователе — по возрастанию даты создания поста."
   ]
  },
  {
   "cell_type": "markdown",
   "metadata": {
    "id": "ZpsTUVDYDWK0"
   },
   "source": [
    "| user_id | creation_date | views_count | cumulative_count |\n",
    "| ------ | -------------- | ----------- | ---------------- |\n",
    "| 1 | 2008-07-31 23:41:00  | 480476   | 480476  |\n",
    "| 1 | 2008-07-31 23:55:38  | 136033 | 616509  | \n",
    "| 1 | 2008-07-31 23:56:41  | 0 |  616509  |\n",
    "| ... | ... | ... | ... |\n",
    "| 2 | 2008-07-31 23:56:41 | 79087  | 79087 |\n",
    "| 2 | 2008-08-01 05:09:56 | 65443 | 144530 |\n",
    "| ... | ...  | ...  | ...  |"
   ]
  },
  {
   "cell_type": "code",
   "execution_count": 25,
   "metadata": {
    "id": "hDoJhMzfDWK0"
   },
   "outputs": [],
   "source": [
    "# напишите запрос\n",
    "query = '''\n",
    "SELECT user_id,\n",
    "       creation_date,\n",
    "       views_count,\n",
    "       SUM(views_count) OVER (PARTITION BY user_id ORDER BY creation_date) cumulative_count\n",
    "       \n",
    "FROM stackoverflow.posts\n",
    "ORDER BY user_id\n",
    "'''\n",
    "\n",
    "# выполните запрос"
   ]
  },
  {
   "cell_type": "code",
   "execution_count": 26,
   "metadata": {},
   "outputs": [
    {
     "data": {
      "text/html": [
       "<div>\n",
       "<style scoped>\n",
       "    .dataframe tbody tr th:only-of-type {\n",
       "        vertical-align: middle;\n",
       "    }\n",
       "\n",
       "    .dataframe tbody tr th {\n",
       "        vertical-align: top;\n",
       "    }\n",
       "\n",
       "    .dataframe thead th {\n",
       "        text-align: right;\n",
       "    }\n",
       "</style>\n",
       "<table border=\"1\" class=\"dataframe\">\n",
       "  <thead>\n",
       "    <tr style=\"text-align: right;\">\n",
       "      <th></th>\n",
       "      <th>user_id</th>\n",
       "      <th>creation_date</th>\n",
       "      <th>views_count</th>\n",
       "      <th>cumulative_count</th>\n",
       "    </tr>\n",
       "  </thead>\n",
       "  <tbody>\n",
       "    <tr>\n",
       "      <th>0</th>\n",
       "      <td>1</td>\n",
       "      <td>2008-07-31 23:41:00</td>\n",
       "      <td>480476</td>\n",
       "      <td>480476</td>\n",
       "    </tr>\n",
       "    <tr>\n",
       "      <th>1</th>\n",
       "      <td>1</td>\n",
       "      <td>2008-07-31 23:55:38</td>\n",
       "      <td>136033</td>\n",
       "      <td>616509</td>\n",
       "    </tr>\n",
       "    <tr>\n",
       "      <th>2</th>\n",
       "      <td>1</td>\n",
       "      <td>2008-07-31 23:56:41</td>\n",
       "      <td>0</td>\n",
       "      <td>616509</td>\n",
       "    </tr>\n",
       "    <tr>\n",
       "      <th>3</th>\n",
       "      <td>1</td>\n",
       "      <td>2008-08-04 02:45:08</td>\n",
       "      <td>0</td>\n",
       "      <td>616509</td>\n",
       "    </tr>\n",
       "    <tr>\n",
       "      <th>4</th>\n",
       "      <td>1</td>\n",
       "      <td>2008-08-04 04:31:03</td>\n",
       "      <td>0</td>\n",
       "      <td>616509</td>\n",
       "    </tr>\n",
       "  </tbody>\n",
       "</table>\n",
       "</div>"
      ],
      "text/plain": [
       "   user_id       creation_date  views_count  cumulative_count\n",
       "0        1 2008-07-31 23:41:00       480476            480476\n",
       "1        1 2008-07-31 23:55:38       136033            616509\n",
       "2        1 2008-07-31 23:56:41            0            616509\n",
       "3        1 2008-08-04 02:45:08            0            616509\n",
       "4        1 2008-08-04 04:31:03            0            616509"
      ]
     },
     "execution_count": 26,
     "metadata": {},
     "output_type": "execute_result"
    }
   ],
   "source": [
    "cumulative_count = pd.read_sql_query(query, con=engine)\n",
    "cumulative_count.head()"
   ]
  },
  {
   "cell_type": "markdown",
   "metadata": {
    "id": "N0kHRHvIDWK2"
   },
   "source": [
    "# Задание 5"
   ]
  },
  {
   "cell_type": "markdown",
   "metadata": {
    "id": "gBgvmPtODWK2"
   },
   "source": [
    "Найдите среднее количество постов пользователей в день за август 2008 года. Отберите данные о пользователях, которые опубликовали больше 120 постов за август. Дни без публикаций не учитывайте. \n",
    "\n",
    "Отсортируйте результат по возрастанию среднего количества постов. Значения можно не округлять."
   ]
  },
  {
   "cell_type": "markdown",
   "metadata": {
    "id": "nfzR08BODWK3"
   },
   "source": [
    "| user_id | avg_daily |\n",
    "| ------- | --------- |\n",
    "| 116     | 4.777778  |\n",
    "| 234     | 5.208333  |\n",
    "| ...     | ... |"
   ]
  },
  {
   "cell_type": "code",
   "execution_count": 27,
   "metadata": {
    "id": "YFyPNz5GDWK3"
   },
   "outputs": [],
   "source": [
    "# напишите запрос\n",
    "query = '''\n",
    "WITH august_posts AS (\n",
    "    SELECT ps.id post_id,\n",
    "           u.id user_id,\n",
    "           ps.creation_date post_date,\n",
    "           u.creation_date registration_date,\n",
    "           COUNT(ps.id) OVER (PARTITION BY u.id) cnt\n",
    "    FROM stackoverflow.posts ps\n",
    "    JOIN stackoverflow.users u ON u.id=ps.user_id\n",
    "    WHERE DATE_TRUNC('month', ps.creation_date)::DATE = '2008-08-01'),\n",
    "    \n",
    "posts_daily AS (\n",
    "    SELECT user_id,\n",
    "           post_date::DATE,\n",
    "           COUNT(DISTINCT post_id) posts_daily\n",
    "    FROM august_posts\n",
    "    WHERE cnt > 120\n",
    "    GROUP BY 1,2)\n",
    "\n",
    "SELECT user_id,\n",
    "       AVG(posts_daily) avg_daily\n",
    "FROM posts_daily\n",
    "GROUP BY user_id\n",
    "ORDER BY AVG(posts_daily)\n",
    "'''\n",
    "\n",
    "# выполните запрос"
   ]
  },
  {
   "cell_type": "code",
   "execution_count": 28,
   "metadata": {},
   "outputs": [
    {
     "data": {
      "text/html": [
       "<div>\n",
       "<style scoped>\n",
       "    .dataframe tbody tr th:only-of-type {\n",
       "        vertical-align: middle;\n",
       "    }\n",
       "\n",
       "    .dataframe tbody tr th {\n",
       "        vertical-align: top;\n",
       "    }\n",
       "\n",
       "    .dataframe thead th {\n",
       "        text-align: right;\n",
       "    }\n",
       "</style>\n",
       "<table border=\"1\" class=\"dataframe\">\n",
       "  <thead>\n",
       "    <tr style=\"text-align: right;\">\n",
       "      <th></th>\n",
       "      <th>user_id</th>\n",
       "      <th>avg_daily</th>\n",
       "    </tr>\n",
       "  </thead>\n",
       "  <tbody>\n",
       "    <tr>\n",
       "      <th>0</th>\n",
       "      <td>116</td>\n",
       "      <td>4.777778</td>\n",
       "    </tr>\n",
       "    <tr>\n",
       "      <th>1</th>\n",
       "      <td>234</td>\n",
       "      <td>5.208333</td>\n",
       "    </tr>\n",
       "    <tr>\n",
       "      <th>2</th>\n",
       "      <td>91</td>\n",
       "      <td>5.681818</td>\n",
       "    </tr>\n",
       "    <tr>\n",
       "      <th>3</th>\n",
       "      <td>905</td>\n",
       "      <td>7.000000</td>\n",
       "    </tr>\n",
       "    <tr>\n",
       "      <th>4</th>\n",
       "      <td>383</td>\n",
       "      <td>7.277778</td>\n",
       "    </tr>\n",
       "  </tbody>\n",
       "</table>\n",
       "</div>"
      ],
      "text/plain": [
       "   user_id  avg_daily\n",
       "0      116   4.777778\n",
       "1      234   5.208333\n",
       "2       91   5.681818\n",
       "3      905   7.000000\n",
       "4      383   7.277778"
      ]
     },
     "execution_count": 28,
     "metadata": {},
     "output_type": "execute_result"
    }
   ],
   "source": [
    "avg_daily = pd.read_sql_query(query, con=engine)\n",
    "avg_daily"
   ]
  },
  {
   "cell_type": "markdown",
   "metadata": {
    "id": "EQ0dcFH4DWK5"
   },
   "source": [
    "# Задание 6"
   ]
  },
  {
   "cell_type": "markdown",
   "metadata": {
    "id": "c7flfg_hDWK5"
   },
   "source": [
    "Сколько в среднем дней в период с 1 по 7 декабря 2008 года пользователи взаимодействовали с платформой? Для каждого пользователя отберите дни, в которые он или она опубликовали хотя бы один пост. Нужно получить одно целое число — не забудьте округлить результат. "
   ]
  },
  {
   "cell_type": "markdown",
   "metadata": {
    "id": "RC1Ibzm9DWK6"
   },
   "source": [
    "| result |\n",
    "| -----  |\n",
    "| <целое число> |"
   ]
  },
  {
   "cell_type": "code",
   "execution_count": 39,
   "metadata": {
    "id": "kZ7LXTr6DWK6"
   },
   "outputs": [],
   "source": [
    "# напишите запрос\n",
    "query = '''\n",
    "WITH selected AS(\n",
    "     SELECT u.id,\n",
    "            ps.creation_date::DATE,\n",
    "            COUNT(ps.creation_date::DATE)\n",
    "     FROM stackoverflow.posts ps\n",
    "     JOIN stackoverflow.users u ON u.id=ps.user_id\n",
    "     WHERE ps.creation_date::DATE BETWEEN '2008-12-01' AND '2008-12-07'\n",
    "     GROUP BY 1,2)\n",
    "\n",
    "SELECT ROUND(SUM(count_day)/COUNT(user_id), 0)::INT result\n",
    "FROM (SELECT id user_id,\n",
    "             COUNT(DISTINCT creation_date) count_day\n",
    "      FROM selected\n",
    "      GROUP BY 1) slc\n",
    "'''\n",
    "\n",
    "# выполните запрос"
   ]
  },
  {
   "cell_type": "code",
   "execution_count": 40,
   "metadata": {},
   "outputs": [
    {
     "data": {
      "text/html": [
       "<div>\n",
       "<style scoped>\n",
       "    .dataframe tbody tr th:only-of-type {\n",
       "        vertical-align: middle;\n",
       "    }\n",
       "\n",
       "    .dataframe tbody tr th {\n",
       "        vertical-align: top;\n",
       "    }\n",
       "\n",
       "    .dataframe thead th {\n",
       "        text-align: right;\n",
       "    }\n",
       "</style>\n",
       "<table border=\"1\" class=\"dataframe\">\n",
       "  <thead>\n",
       "    <tr style=\"text-align: right;\">\n",
       "      <th></th>\n",
       "      <th>result</th>\n",
       "    </tr>\n",
       "  </thead>\n",
       "  <tbody>\n",
       "    <tr>\n",
       "      <th>0</th>\n",
       "      <td>2</td>\n",
       "    </tr>\n",
       "  </tbody>\n",
       "</table>\n",
       "</div>"
      ],
      "text/plain": [
       "   result\n",
       "0       2"
      ]
     },
     "execution_count": 40,
     "metadata": {},
     "output_type": "execute_result"
    }
   ],
   "source": [
    "result = pd.read_sql_query(query, con=engine)\n",
    "result"
   ]
  },
  {
   "cell_type": "markdown",
   "metadata": {},
   "source": [
    "В период с 1 по 7 декабря 2008 г. пользователи взаимодействовали с платформой в среднем 2 дня."
   ]
  },
  {
   "cell_type": "markdown",
   "metadata": {
    "id": "UJFtNNggDWK7"
   },
   "source": [
    "Проанализируйте итоговую таблицу — какие выводы можно сделать?"
   ]
  },
  {
   "cell_type": "code",
   "execution_count": 43,
   "metadata": {},
   "outputs": [],
   "source": [
    "# напишите запрос\n",
    "query = '''\n",
    "WITH selected AS(\n",
    "     SELECT u.id,\n",
    "            ps.creation_date::DATE,\n",
    "            COUNT(ps.creation_date::DATE)\n",
    "     FROM stackoverflow.posts ps\n",
    "     JOIN stackoverflow.users u ON u.id=ps.user_id\n",
    "     WHERE ps.creation_date::DATE BETWEEN '2008-12-01' AND '2008-12-07'\n",
    "     GROUP BY 1,2)\n",
    "     \n",
    "SELECT id user_id,\n",
    "       COUNT(DISTINCT creation_date) count_day\n",
    "FROM selected\n",
    "GROUP BY 1\n",
    "'''\n",
    "\n",
    "# выполните запрос"
   ]
  },
  {
   "cell_type": "code",
   "execution_count": 44,
   "metadata": {},
   "outputs": [
    {
     "data": {
      "text/html": [
       "<div>\n",
       "<style scoped>\n",
       "    .dataframe tbody tr th:only-of-type {\n",
       "        vertical-align: middle;\n",
       "    }\n",
       "\n",
       "    .dataframe tbody tr th {\n",
       "        vertical-align: top;\n",
       "    }\n",
       "\n",
       "    .dataframe thead th {\n",
       "        text-align: right;\n",
       "    }\n",
       "</style>\n",
       "<table border=\"1\" class=\"dataframe\">\n",
       "  <thead>\n",
       "    <tr style=\"text-align: right;\">\n",
       "      <th></th>\n",
       "      <th>user_id</th>\n",
       "      <th>count_day</th>\n",
       "    </tr>\n",
       "  </thead>\n",
       "  <tbody>\n",
       "    <tr>\n",
       "      <th>0</th>\n",
       "      <td>1</td>\n",
       "      <td>3</td>\n",
       "    </tr>\n",
       "    <tr>\n",
       "      <th>1</th>\n",
       "      <td>4</td>\n",
       "      <td>2</td>\n",
       "    </tr>\n",
       "    <tr>\n",
       "      <th>2</th>\n",
       "      <td>5</td>\n",
       "      <td>2</td>\n",
       "    </tr>\n",
       "    <tr>\n",
       "      <th>3</th>\n",
       "      <td>9</td>\n",
       "      <td>1</td>\n",
       "    </tr>\n",
       "    <tr>\n",
       "      <th>4</th>\n",
       "      <td>17</td>\n",
       "      <td>4</td>\n",
       "    </tr>\n",
       "    <tr>\n",
       "      <th>...</th>\n",
       "      <td>...</td>\n",
       "      <td>...</td>\n",
       "    </tr>\n",
       "    <tr>\n",
       "      <th>3761</th>\n",
       "      <td>2921654</td>\n",
       "      <td>2</td>\n",
       "    </tr>\n",
       "    <tr>\n",
       "      <th>3762</th>\n",
       "      <td>3535708</td>\n",
       "      <td>1</td>\n",
       "    </tr>\n",
       "    <tr>\n",
       "      <th>3763</th>\n",
       "      <td>3540161</td>\n",
       "      <td>4</td>\n",
       "    </tr>\n",
       "    <tr>\n",
       "      <th>3764</th>\n",
       "      <td>3644960</td>\n",
       "      <td>1</td>\n",
       "    </tr>\n",
       "    <tr>\n",
       "      <th>3765</th>\n",
       "      <td>5696608</td>\n",
       "      <td>5</td>\n",
       "    </tr>\n",
       "  </tbody>\n",
       "</table>\n",
       "<p>3766 rows × 2 columns</p>\n",
       "</div>"
      ],
      "text/plain": [
       "      user_id  count_day\n",
       "0           1          3\n",
       "1           4          2\n",
       "2           5          2\n",
       "3           9          1\n",
       "4          17          4\n",
       "...       ...        ...\n",
       "3761  2921654          2\n",
       "3762  3535708          1\n",
       "3763  3540161          4\n",
       "3764  3644960          1\n",
       "3765  5696608          5\n",
       "\n",
       "[3766 rows x 2 columns]"
      ]
     },
     "execution_count": 44,
     "metadata": {},
     "output_type": "execute_result"
    }
   ],
   "source": [
    "result1 = pd.read_sql_query(query, con=engine)\n",
    "result1"
   ]
  },
  {
   "cell_type": "code",
   "execution_count": 46,
   "metadata": {},
   "outputs": [
    {
     "data": {
      "image/png": "[encoded data removed]",
      "text/plain": [
       "<Figure size 1000x600 with 1 Axes>"
      ]
     },
     "metadata": {
      "needs_background": "light"
     },
     "output_type": "display_data"
    }
   ],
   "source": [
    "dpi = 80\n",
    "fig = plt.figure(dpi = dpi, figsize = (1000 / dpi, 600 / dpi) )\n",
    "ax = sns.countplot(x='count_day', data=result1, color='pink')\n",
    "plt.title('Количество активных дней пользователей в период с 1 по 7 декабря 2008')\n",
    "ax.set_ylabel('Кол-во пользователей')\n",
    "ax.set_xlabel('Кол-во активных дней пользователя')\n",
    "plt.show()"
   ]
  },
  {
   "cell_type": "code",
   "execution_count": 47,
   "metadata": {},
   "outputs": [
    {
     "data": {
      "text/plain": [
       "3766"
      ]
     },
     "execution_count": 47,
     "metadata": {},
     "output_type": "execute_result"
    }
   ],
   "source": [
    "result1['user_id'].count()"
   ]
  },
  {
   "cell_type": "markdown",
   "metadata": {},
   "source": [
    "Более половины пользователей проводит в социальной сети только один день из семи. "
   ]
  },
  {
   "cell_type": "code",
   "execution_count": 48,
   "metadata": {},
   "outputs": [],
   "source": [
    "# напишите запрос\n",
    "query = '''\n",
    "\n",
    "     SELECT u.id,\n",
    "            ps.creation_date::DATE,\n",
    "            COUNT(ps.creation_date::DATE)\n",
    "     FROM stackoverflow.posts ps\n",
    "     JOIN stackoverflow.users u ON u.id=ps.user_id\n",
    "     WHERE ps.creation_date::DATE BETWEEN '2008-12-01' AND '2008-12-07'\n",
    "     GROUP BY 1,2\n",
    "     \n",
    "\n",
    "'''\n",
    "\n",
    "# выполните запрос"
   ]
  },
  {
   "cell_type": "code",
   "execution_count": 49,
   "metadata": {},
   "outputs": [
    {
     "data": {
      "text/html": [
       "<div>\n",
       "<style scoped>\n",
       "    .dataframe tbody tr th:only-of-type {\n",
       "        vertical-align: middle;\n",
       "    }\n",
       "\n",
       "    .dataframe tbody tr th {\n",
       "        vertical-align: top;\n",
       "    }\n",
       "\n",
       "    .dataframe thead th {\n",
       "        text-align: right;\n",
       "    }\n",
       "</style>\n",
       "<table border=\"1\" class=\"dataframe\">\n",
       "  <thead>\n",
       "    <tr style=\"text-align: right;\">\n",
       "      <th></th>\n",
       "      <th>id</th>\n",
       "      <th>creation_date</th>\n",
       "      <th>count</th>\n",
       "    </tr>\n",
       "  </thead>\n",
       "  <tbody>\n",
       "    <tr>\n",
       "      <th>0</th>\n",
       "      <td>1</td>\n",
       "      <td>2008-12-01</td>\n",
       "      <td>2</td>\n",
       "    </tr>\n",
       "    <tr>\n",
       "      <th>1</th>\n",
       "      <td>1</td>\n",
       "      <td>2008-12-03</td>\n",
       "      <td>2</td>\n",
       "    </tr>\n",
       "    <tr>\n",
       "      <th>2</th>\n",
       "      <td>1</td>\n",
       "      <td>2008-12-05</td>\n",
       "      <td>1</td>\n",
       "    </tr>\n",
       "    <tr>\n",
       "      <th>3</th>\n",
       "      <td>4</td>\n",
       "      <td>2008-12-03</td>\n",
       "      <td>1</td>\n",
       "    </tr>\n",
       "    <tr>\n",
       "      <th>4</th>\n",
       "      <td>4</td>\n",
       "      <td>2008-12-06</td>\n",
       "      <td>1</td>\n",
       "    </tr>\n",
       "    <tr>\n",
       "      <th>...</th>\n",
       "      <td>...</td>\n",
       "      <td>...</td>\n",
       "      <td>...</td>\n",
       "    </tr>\n",
       "    <tr>\n",
       "      <th>6670</th>\n",
       "      <td>5696608</td>\n",
       "      <td>2008-12-01</td>\n",
       "      <td>2</td>\n",
       "    </tr>\n",
       "    <tr>\n",
       "      <th>6671</th>\n",
       "      <td>5696608</td>\n",
       "      <td>2008-12-02</td>\n",
       "      <td>2</td>\n",
       "    </tr>\n",
       "    <tr>\n",
       "      <th>6672</th>\n",
       "      <td>5696608</td>\n",
       "      <td>2008-12-03</td>\n",
       "      <td>2</td>\n",
       "    </tr>\n",
       "    <tr>\n",
       "      <th>6673</th>\n",
       "      <td>5696608</td>\n",
       "      <td>2008-12-04</td>\n",
       "      <td>1</td>\n",
       "    </tr>\n",
       "    <tr>\n",
       "      <th>6674</th>\n",
       "      <td>5696608</td>\n",
       "      <td>2008-12-05</td>\n",
       "      <td>1</td>\n",
       "    </tr>\n",
       "  </tbody>\n",
       "</table>\n",
       "<p>6675 rows × 3 columns</p>\n",
       "</div>"
      ],
      "text/plain": [
       "           id creation_date  count\n",
       "0           1    2008-12-01      2\n",
       "1           1    2008-12-03      2\n",
       "2           1    2008-12-05      1\n",
       "3           4    2008-12-03      1\n",
       "4           4    2008-12-06      1\n",
       "...       ...           ...    ...\n",
       "6670  5696608    2008-12-01      2\n",
       "6671  5696608    2008-12-02      2\n",
       "6672  5696608    2008-12-03      2\n",
       "6673  5696608    2008-12-04      1\n",
       "6674  5696608    2008-12-05      1\n",
       "\n",
       "[6675 rows x 3 columns]"
      ]
     },
     "execution_count": 49,
     "metadata": {},
     "output_type": "execute_result"
    }
   ],
   "source": [
    "result2 = pd.read_sql_query(query, con=engine)\n",
    "result2"
   ]
  },
  {
   "cell_type": "code",
   "execution_count": 52,
   "metadata": {},
   "outputs": [
    {
     "data": {
      "image/png": "[encoded data removed]",
      "text/plain": [
       "<Figure size 1000x600 with 1 Axes>"
      ]
     },
     "metadata": {
      "needs_background": "light"
     },
     "output_type": "display_data"
    }
   ],
   "source": [
    "dpi = 80\n",
    "fig = plt.figure(dpi = dpi, figsize = (1000 / dpi, 600 / dpi) )\n",
    "ax = sns.countplot(x='creation_date', data=result2, color='pink', order=result2['creation_date'].value_counts().index)\n",
    "plt.title('Количество активных дней пользователей в период с 1 по 7 декабря 2008')\n",
    "ax.set_ylabel('Кол-во пользователей')\n",
    "ax.set_xlabel('Дата')\n",
    "plt.show()\n",
    "# напишите ваш ответ здесь"
   ]
  },
  {
   "cell_type": "markdown",
   "metadata": {
    "id": "LfUuYz-1DWK8"
   },
   "source": [
    "**Вывод** \n",
    "\n",
    "В период с 1 по 7 декабря 2008 года пользователи взаимодействовали с платформой в среднем 2 дня. Стоит отметить, что больше половины пользователей в этот период провели в соц сети только 1 день. Если посмотреть активность пользователей по дням, то можно увидеть, что меньше всего взаимодействий было 6 и 7 декабря, если посмотреть на календарь, видно, что эти дни приходятся на субботу и воскресение. Таким образом, больше всего взаимодействий происходит в рабочие дни."
   ]
  },
  {
   "cell_type": "markdown",
   "metadata": {
    "id": "wfOmqmfLDWK8"
   },
   "source": [
    "# Задание 7"
   ]
  },
  {
   "cell_type": "markdown",
   "metadata": {
    "id": "X4ARQimADWK9"
   },
   "source": [
    "Выведите историю активности каждого пользователя в таком виде: идентификатор пользователя, дата публикации поста. Отсортируйте вывод по возрастанию идентификаторов пользователей, а для каждого пользователя — по возрастанию даты публикации.\n",
    "\n",
    "Добавьте в таблицу новое поле: для каждого поста в нём будет указано название месяца предпоследней публикации пользователя относительно текущей. Если такой публикации нет, укажите `NULL`.  Python автоматически поменяет `NULL` на `None`, но дополнительно преобразовывать значения `None` вам не нужно.\n",
    "\n",
    "Посмотрите внимательно на образец таблицы: для первых двух постов предпоследней публикации нет, но, начиная с третьего поста, в новое поле входит нужный месяц. Для следующего пользователя в первые две записи поля `second_last_month` тоже войдёт `NULL`."
   ]
  },
  {
   "cell_type": "markdown",
   "metadata": {
    "id": "IGPjRP01DWK9"
   },
   "source": [
    "| user_id | creation_date | second_last_month |\n",
    "| ------- | ------------- | ----------------- |\n",
    "| 1       | 2008-07-31 23:41:00 | None |\n",
    "| 1       | 2008-07-31 23:55:38 | None |\n",
    "| 1       | 2008-07-31 23:56:41 | July |\n",
    "| 1       | 2008-08-04 02:45:08 | July |\n",
    "| 1       | 2008-08-04 04:31:03 | July |\n",
    "| 1       | 2008-08-04 08:04:42 | August |\n",
    "| ... | ... | ... |"
   ]
  },
  {
   "cell_type": "code",
   "execution_count": 53,
   "metadata": {
    "id": "HzI1vhaMDWK-"
   },
   "outputs": [],
   "source": [
    "# напишите запрос\n",
    "query = '''\n",
    "WITH selected AS (\n",
    "     SELECT u.id user_id,\n",
    "            ps.creation_date,\n",
    "            LAG(EXTRACT(MONTH FROM ps.creation_date), 2) OVER (PARTITION BY u.id ORDER BY ps.creation_date) AS second_last_month\n",
    "     FROM stackoverflow.posts ps\n",
    "     JOIN stackoverflow.users u ON u.id=ps.user_id)\n",
    "     \n",
    "SELECT user_id,\n",
    "       creation_date,\n",
    "       CASE \n",
    "          WHEN second_last_month::INT = 1 THEN 'January'\n",
    "          WHEN second_last_month::INT = 2 THEN 'February'\n",
    "          WHEN second_last_month::INT = 3 THEN 'March'\n",
    "          WHEN second_last_month::INT = 4 THEN 'April'\n",
    "          WHEN second_last_month::INT = 5 THEN 'May'\n",
    "          WHEN second_last_month::INT = 6 THEN 'June'\n",
    "          WHEN second_last_month::INT = 7 THEN 'July'\n",
    "          WHEN second_last_month::INT = 8 THEN 'August'\n",
    "          WHEN second_last_month::INT = 9 THEN 'September'\n",
    "          WHEN second_last_month::INT = 10 THEN 'October'\n",
    "          WHEN second_last_month::INT = 11 THEN 'November'\n",
    "          WHEN second_last_month::INT = 12 THEN 'December'\n",
    "        END second_last_month\n",
    "FROM selected\n",
    "'''\n",
    "\n",
    "# выполните запрос"
   ]
  },
  {
   "cell_type": "code",
   "execution_count": 54,
   "metadata": {},
   "outputs": [
    {
     "data": {
      "text/html": [
       "<div>\n",
       "<style scoped>\n",
       "    .dataframe tbody tr th:only-of-type {\n",
       "        vertical-align: middle;\n",
       "    }\n",
       "\n",
       "    .dataframe tbody tr th {\n",
       "        vertical-align: top;\n",
       "    }\n",
       "\n",
       "    .dataframe thead th {\n",
       "        text-align: right;\n",
       "    }\n",
       "</style>\n",
       "<table border=\"1\" class=\"dataframe\">\n",
       "  <thead>\n",
       "    <tr style=\"text-align: right;\">\n",
       "      <th></th>\n",
       "      <th>user_id</th>\n",
       "      <th>creation_date</th>\n",
       "      <th>second_last_month</th>\n",
       "    </tr>\n",
       "  </thead>\n",
       "  <tbody>\n",
       "    <tr>\n",
       "      <th>0</th>\n",
       "      <td>1</td>\n",
       "      <td>2008-07-31 23:41:00</td>\n",
       "      <td>None</td>\n",
       "    </tr>\n",
       "    <tr>\n",
       "      <th>1</th>\n",
       "      <td>1</td>\n",
       "      <td>2008-07-31 23:55:38</td>\n",
       "      <td>None</td>\n",
       "    </tr>\n",
       "    <tr>\n",
       "      <th>2</th>\n",
       "      <td>1</td>\n",
       "      <td>2008-07-31 23:56:41</td>\n",
       "      <td>July</td>\n",
       "    </tr>\n",
       "    <tr>\n",
       "      <th>3</th>\n",
       "      <td>1</td>\n",
       "      <td>2008-08-04 02:45:08</td>\n",
       "      <td>July</td>\n",
       "    </tr>\n",
       "    <tr>\n",
       "      <th>4</th>\n",
       "      <td>1</td>\n",
       "      <td>2008-08-04 04:31:03</td>\n",
       "      <td>July</td>\n",
       "    </tr>\n",
       "    <tr>\n",
       "      <th>5</th>\n",
       "      <td>1</td>\n",
       "      <td>2008-08-04 08:04:42</td>\n",
       "      <td>August</td>\n",
       "    </tr>\n",
       "    <tr>\n",
       "      <th>6</th>\n",
       "      <td>1</td>\n",
       "      <td>2008-08-10 08:28:52</td>\n",
       "      <td>August</td>\n",
       "    </tr>\n",
       "    <tr>\n",
       "      <th>7</th>\n",
       "      <td>1</td>\n",
       "      <td>2008-08-11 19:23:47</td>\n",
       "      <td>August</td>\n",
       "    </tr>\n",
       "    <tr>\n",
       "      <th>8</th>\n",
       "      <td>1</td>\n",
       "      <td>2008-08-12 00:30:43</td>\n",
       "      <td>August</td>\n",
       "    </tr>\n",
       "    <tr>\n",
       "      <th>9</th>\n",
       "      <td>1</td>\n",
       "      <td>2008-08-12 04:59:35</td>\n",
       "      <td>August</td>\n",
       "    </tr>\n",
       "  </tbody>\n",
       "</table>\n",
       "</div>"
      ],
      "text/plain": [
       "   user_id       creation_date second_last_month\n",
       "0        1 2008-07-31 23:41:00              None\n",
       "1        1 2008-07-31 23:55:38              None\n",
       "2        1 2008-07-31 23:56:41              July\n",
       "3        1 2008-08-04 02:45:08              July\n",
       "4        1 2008-08-04 04:31:03              July\n",
       "5        1 2008-08-04 08:04:42            August\n",
       "6        1 2008-08-10 08:28:52            August\n",
       "7        1 2008-08-11 19:23:47            August\n",
       "8        1 2008-08-12 00:30:43            August\n",
       "9        1 2008-08-12 04:59:35            August"
      ]
     },
     "execution_count": 54,
     "metadata": {},
     "output_type": "execute_result"
    }
   ],
   "source": [
    "second_last_month = pd.read_sql_query(query, con=engine)\n",
    "second_last_month.head(10)"
   ]
  },
  {
   "cell_type": "markdown",
   "metadata": {
    "id": "tf9qq2yzDWK_"
   },
   "source": [
    "# Задание 8"
   ]
  },
  {
   "cell_type": "markdown",
   "metadata": {
    "id": "gfwLVXBYDWLA"
   },
   "source": [
    "Рассчитайте аналог Retention Rate по месяцам для пользователей StackOverflow. Объедините пользователей в когорты по месяцу их первого поста. Возвращение определяйте по наличию поста в текущем месяце. "
   ]
  },
  {
   "cell_type": "markdown",
   "metadata": {
    "id": "kN2ic39WlKpl"
   },
   "source": [
    "| cohort_dt | session_date | users_cnt | cohort_users_cnt | retention_rate |\n",
    "| --- | --- | --- | --- | --- |\n",
    "| 2008-07-01 00:00:00 | 2008-07-01 00:00:00 | 3 | 3 | 100 |\n",
    "| 2008-07-01 00:00:00 | 2008-08-01 00:00:00 | 2 | 3 | 66,67 |\n",
    "| 2008-07-01 00:00:00 | 2008-09-01 00:00:00 | 1 | 3 | 33,33 |\n",
    "| 2008-07-01 00:00:00 | 2008-10-01 00:00:00 | 2 | 3 | 66,67 |\n",
    "| 2008-07-01 00:00:00 | 2008-11-01 00:00:00 | 1 | 3 | 33,33 |\n",
    "| 2008-07-01 00:00:00 | 2008-12-01 00:00:00 | 2 | 3 | 66,67 |\n",
    "| 2008-08-01 00:00:00 | 2008-08-01 00:00:00 | 2151 | 2151 | 100 |\n",
    "| ... | ... | ... | ... | ... |"
   ]
  },
  {
   "cell_type": "code",
   "execution_count": 55,
   "metadata": {
    "id": "LUgFmwmTDWLB"
   },
   "outputs": [],
   "source": [
    "# напишите запрос\n",
    "query = '''\n",
    "WITH profile AS(\n",
    "   SELECT DISTINCT u.id user_id,\n",
    "          MIN(DATE_TRUNC('month', ps.creation_date)) OVER (PARTITION BY u.id) cohort_dt \n",
    "   FROM stackoverflow.posts ps\n",
    "   JOIN stackoverflow.users u ON u.id=ps.user_id),\n",
    "   \n",
    "     profile_2 AS(\n",
    "   SELECT *,\n",
    "          COUNT(user_id) OVER (PARTITION BY cohort_dt) cohort_users_cnt\n",
    "   FROM profile),\n",
    "   \n",
    "     sessions AS (\n",
    "   SELECT u.id user_id,\n",
    "       DATE_TRUNC('month', ps.creation_date)::DATE session_date\n",
    "   FROM stackoverflow.posts ps\n",
    "   JOIN stackoverflow.users u ON u.id=ps.user_id\n",
    "   GROUP BY 1,2) \n",
    "   \n",
    "SELECT p.cohort_dt,\n",
    "       s.session_date,\n",
    "       COUNT(p.user_id) AS users_cnt,\n",
    "       p.cohort_users_cnt,\n",
    "       ROUND(COUNT(p.user_id) * 100.0 / p.cohort_users_cnt, 2) AS retention_rate\n",
    "FROM profile_2 p\n",
    "JOIN sessions s ON p.user_id = s.user_id\n",
    "GROUP BY 1,2,4\n",
    "'''\n",
    "\n",
    "# выполните запрос"
   ]
  },
  {
   "cell_type": "code",
   "execution_count": 56,
   "metadata": {},
   "outputs": [
    {
     "data": {
      "text/html": [
       "<div>\n",
       "<style scoped>\n",
       "    .dataframe tbody tr th:only-of-type {\n",
       "        vertical-align: middle;\n",
       "    }\n",
       "\n",
       "    .dataframe tbody tr th {\n",
       "        vertical-align: top;\n",
       "    }\n",
       "\n",
       "    .dataframe thead th {\n",
       "        text-align: right;\n",
       "    }\n",
       "</style>\n",
       "<table border=\"1\" class=\"dataframe\">\n",
       "  <thead>\n",
       "    <tr style=\"text-align: right;\">\n",
       "      <th></th>\n",
       "      <th>cohort_dt</th>\n",
       "      <th>session_date</th>\n",
       "      <th>users_cnt</th>\n",
       "      <th>cohort_users_cnt</th>\n",
       "      <th>retention_rate</th>\n",
       "    </tr>\n",
       "  </thead>\n",
       "  <tbody>\n",
       "    <tr>\n",
       "      <th>0</th>\n",
       "      <td>2008-07-01</td>\n",
       "      <td>2008-07-01</td>\n",
       "      <td>3</td>\n",
       "      <td>3</td>\n",
       "      <td>100.00</td>\n",
       "    </tr>\n",
       "    <tr>\n",
       "      <th>1</th>\n",
       "      <td>2008-07-01</td>\n",
       "      <td>2008-08-01</td>\n",
       "      <td>2</td>\n",
       "      <td>3</td>\n",
       "      <td>66.67</td>\n",
       "    </tr>\n",
       "    <tr>\n",
       "      <th>2</th>\n",
       "      <td>2008-07-01</td>\n",
       "      <td>2008-09-01</td>\n",
       "      <td>1</td>\n",
       "      <td>3</td>\n",
       "      <td>33.33</td>\n",
       "    </tr>\n",
       "    <tr>\n",
       "      <th>3</th>\n",
       "      <td>2008-07-01</td>\n",
       "      <td>2008-10-01</td>\n",
       "      <td>2</td>\n",
       "      <td>3</td>\n",
       "      <td>66.67</td>\n",
       "    </tr>\n",
       "    <tr>\n",
       "      <th>4</th>\n",
       "      <td>2008-07-01</td>\n",
       "      <td>2008-11-01</td>\n",
       "      <td>1</td>\n",
       "      <td>3</td>\n",
       "      <td>33.33</td>\n",
       "    </tr>\n",
       "    <tr>\n",
       "      <th>5</th>\n",
       "      <td>2008-07-01</td>\n",
       "      <td>2008-12-01</td>\n",
       "      <td>2</td>\n",
       "      <td>3</td>\n",
       "      <td>66.67</td>\n",
       "    </tr>\n",
       "    <tr>\n",
       "      <th>6</th>\n",
       "      <td>2008-08-01</td>\n",
       "      <td>2008-08-01</td>\n",
       "      <td>2151</td>\n",
       "      <td>2151</td>\n",
       "      <td>100.00</td>\n",
       "    </tr>\n",
       "    <tr>\n",
       "      <th>7</th>\n",
       "      <td>2008-08-01</td>\n",
       "      <td>2008-09-01</td>\n",
       "      <td>1571</td>\n",
       "      <td>2151</td>\n",
       "      <td>73.04</td>\n",
       "    </tr>\n",
       "    <tr>\n",
       "      <th>8</th>\n",
       "      <td>2008-08-01</td>\n",
       "      <td>2008-10-01</td>\n",
       "      <td>1275</td>\n",
       "      <td>2151</td>\n",
       "      <td>59.27</td>\n",
       "    </tr>\n",
       "    <tr>\n",
       "      <th>9</th>\n",
       "      <td>2008-08-01</td>\n",
       "      <td>2008-11-01</td>\n",
       "      <td>1050</td>\n",
       "      <td>2151</td>\n",
       "      <td>48.81</td>\n",
       "    </tr>\n",
       "  </tbody>\n",
       "</table>\n",
       "</div>"
      ],
      "text/plain": [
       "   cohort_dt session_date  users_cnt  cohort_users_cnt  retention_rate\n",
       "0 2008-07-01   2008-07-01          3                 3          100.00\n",
       "1 2008-07-01   2008-08-01          2                 3           66.67\n",
       "2 2008-07-01   2008-09-01          1                 3           33.33\n",
       "3 2008-07-01   2008-10-01          2                 3           66.67\n",
       "4 2008-07-01   2008-11-01          1                 3           33.33\n",
       "5 2008-07-01   2008-12-01          2                 3           66.67\n",
       "6 2008-08-01   2008-08-01       2151              2151          100.00\n",
       "7 2008-08-01   2008-09-01       1571              2151           73.04\n",
       "8 2008-08-01   2008-10-01       1275              2151           59.27\n",
       "9 2008-08-01   2008-11-01       1050              2151           48.81"
      ]
     },
     "execution_count": 56,
     "metadata": {},
     "output_type": "execute_result"
    }
   ],
   "source": [
    "retention_rate = pd.read_sql_query(query, con=engine)\n",
    "retention_rate.head(10)"
   ]
  },
  {
   "cell_type": "markdown",
   "metadata": {
    "id": "_msBtnb2DWLC"
   },
   "source": [
    "Постройте тепловую карту Retention Rate. Какие аномалии или другие необычные явления удалось выявить? Сформулируйте гипотезы о возможных причинах."
   ]
  },
  {
   "cell_type": "code",
   "execution_count": 59,
   "metadata": {
    "id": "qAEJc8H1DWLC"
   },
   "outputs": [
    {
     "data": {
      "image/png": "[encoded data removed]",
      "text/plain": [
       "<Figure size 1152x1152 with 2 Axes>"
      ]
     },
     "metadata": {
      "needs_background": "light"
     },
     "output_type": "display_data"
    }
   ],
   "source": [
    "# постройте тепловую карту Retention Rate\n",
    "\n",
    "retention = retention_rate.pivot('cohort_dt', 'session_date', 'retention_rate')\n",
    "\n",
    "plt.figure(figsize=(16, 16)) # задаём размер графика\n",
    "sns.heatmap(retention, # датафрейм с данными\n",
    "            annot=True, # добавляем подписи\n",
    "            fmt='') # задаём исходный формат\n",
    "plt.title('Тепловая карта') # название графика\n",
    "plt.show() \n",
    "\n"
   ]
  },
  {
   "cell_type": "markdown",
   "metadata": {
    "id": "EgOfIsI4DWLC"
   },
   "source": [
    "**Вывод**\n",
    "\n",
    "Для когорты, пришедшей в июле 2008 года, удержание меняется с постоянной переодичностью, при этом из месяца в месяц то растет, то снижается. Посмотрев на данную когорту, можно увидеть, что она состоит из трех пользователей, поэтому эту когорту можно исключить из анализа, т.к. на основании такого малого числа наблюдений нельзя делать выводы о тенденциях динамики показателя.\n",
    "\n",
    "Удержание первого дня для когорты пришедшей в августе самое высокое, среди всех когорт и составляет 73 % от общего числа. Постепенно показатель первого дня снижается, чем позднее пришел пользователь, тем удержание ниже. Та же тенденция снижения и для второго и для третьего дня. Можно предположить, что в августе - в период начала работы системы, пришли проффессиональные участники в сфере IT и программирования, которые вносили наибольший вклад в создание и наполнение данной системы вопросов и ответов о программировании.  "
   ]
  },
  {
   "cell_type": "markdown",
   "metadata": {
    "id": "1k7oPWt5DWLK"
   },
   "source": [
    "# Задание 9\n"
   ]
  },
  {
   "cell_type": "markdown",
   "metadata": {
    "id": "ALsYVSyRDWLM"
   },
   "source": [
    "На сколько процентов менялось количество постов ежемесячно с 1 сентября по 31 декабря 2008 года? Отобразите таблицу со следующими полями:\n",
    "\n",
    "- номер месяца;\n",
    "- количество постов за месяц;\n",
    "- процент, который показывает, насколько изменилось количество постов в текущем месяце по сравнению с предыдущим.\n",
    "\n",
    "Если постов стало меньше, значение процента должно быть отрицательным, если больше — положительным. Округлите значение процента до двух знаков после запятой.\n",
    "\n",
    "Напомним, что при делении одного целого числа на другое в PostgreSQL в результате получится целое число, округлённое до ближайшего целого вниз. Чтобы этого избежать, переведите делимое в тип `numeric`."
   ]
  },
  {
   "cell_type": "markdown",
   "metadata": {
    "id": "u4E2zF8DDWLM"
   },
   "source": [
    "| creation_month | posts_count | percentage |\n",
    "| -------------- | ----------- | ---------- |\n",
    "| 9 | 70731 | Nan |\n",
    "| 10 | 63102 | -10.33 |\n",
    "| ... | ... | ... |"
   ]
  },
  {
   "cell_type": "code",
   "execution_count": 60,
   "metadata": {
    "id": "Mb5pShStDWLN"
   },
   "outputs": [],
   "source": [
    "# напишите запрос\n",
    "query = '''\n",
    "WITH selected AS(\n",
    "     SELECT EXTRACT(MONTH FROM creation_date)::INT creation_month,\n",
    "            COUNT(DISTINCT id) posts_count  \n",
    "     FROM stackoverflow.posts\n",
    "     WHERE creation_date::DATE BETWEEN '2008-09-01' AND '2008-12-31'\n",
    "     GROUP BY 1)\n",
    "     \n",
    "\n",
    "SELECT creation_month,\n",
    "       posts_count,\n",
    "       ROUND((posts_count - difference)*100.0/difference, 2) percentage\n",
    "       \n",
    "FROM (SELECT *,\n",
    "             LAG(posts_count) OVER () difference\n",
    "      FROM selected) sl\n",
    "\n",
    "'''\n",
    "\n",
    "# выполните запрос"
   ]
  },
  {
   "cell_type": "code",
   "execution_count": 61,
   "metadata": {},
   "outputs": [
    {
     "data": {
      "text/html": [
       "<div>\n",
       "<style scoped>\n",
       "    .dataframe tbody tr th:only-of-type {\n",
       "        vertical-align: middle;\n",
       "    }\n",
       "\n",
       "    .dataframe tbody tr th {\n",
       "        vertical-align: top;\n",
       "    }\n",
       "\n",
       "    .dataframe thead th {\n",
       "        text-align: right;\n",
       "    }\n",
       "</style>\n",
       "<table border=\"1\" class=\"dataframe\">\n",
       "  <thead>\n",
       "    <tr style=\"text-align: right;\">\n",
       "      <th></th>\n",
       "      <th>creation_month</th>\n",
       "      <th>posts_count</th>\n",
       "      <th>percentage</th>\n",
       "    </tr>\n",
       "  </thead>\n",
       "  <tbody>\n",
       "    <tr>\n",
       "      <th>0</th>\n",
       "      <td>9</td>\n",
       "      <td>70371</td>\n",
       "      <td>NaN</td>\n",
       "    </tr>\n",
       "    <tr>\n",
       "      <th>1</th>\n",
       "      <td>10</td>\n",
       "      <td>63102</td>\n",
       "      <td>-10.33</td>\n",
       "    </tr>\n",
       "    <tr>\n",
       "      <th>2</th>\n",
       "      <td>11</td>\n",
       "      <td>46975</td>\n",
       "      <td>-25.56</td>\n",
       "    </tr>\n",
       "    <tr>\n",
       "      <th>3</th>\n",
       "      <td>12</td>\n",
       "      <td>44592</td>\n",
       "      <td>-5.07</td>\n",
       "    </tr>\n",
       "  </tbody>\n",
       "</table>\n",
       "</div>"
      ],
      "text/plain": [
       "   creation_month  posts_count  percentage\n",
       "0               9        70371         NaN\n",
       "1              10        63102      -10.33\n",
       "2              11        46975      -25.56\n",
       "3              12        44592       -5.07"
      ]
     },
     "execution_count": 61,
     "metadata": {},
     "output_type": "execute_result"
    }
   ],
   "source": [
    "percentage = pd.read_sql_query(query, con=engine)\n",
    "percentage.head(10)"
   ]
  },
  {
   "cell_type": "markdown",
   "metadata": {
    "id": "9NQE2y_MDWLP"
   },
   "source": [
    "Постройте круговую диаграмму с количеством постов по месяцам."
   ]
  },
  {
   "cell_type": "code",
   "execution_count": 64,
   "metadata": {
    "id": "377ABjiVDWLP"
   },
   "outputs": [
    {
     "data": {
      "image/png": "[encoded data removed]",
      "text/plain": [
       "<Figure size 1000x600 with 1 Axes>"
      ]
     },
     "metadata": {},
     "output_type": "display_data"
    }
   ],
   "source": [
    "# постройте круговую диаграмму с количеством постов по месяцам\n",
    "\n",
    "dpi = 80\n",
    "fig = plt.figure(dpi = dpi, figsize = (1000 / dpi, 600 / dpi) )\n",
    "\n",
    "\n",
    "plt.title('Распределение количества постов по месяцам')\n",
    "\n",
    "plt.pie(percentage['posts_count'], labels=['Сентябрь 2008','Октябрь 2008','Ноябрь 2008','Декабрь 2008'], autopct='%.1f', pctdistance=0.9)\n",
    "plt.legend(loc=6, bbox_to_anchor=(1.0, 1.0))\n",
    "plt.show()"
   ]
  },
  {
   "cell_type": "markdown",
   "metadata": {},
   "source": [
    "Начиная с сентября 2008 года количество постов постепенно снижается. Темпы снижения меняются из месяца в месяц то в большую, то в меньшую сторону. Наибольший спад количества опубликованных постов пришелся с октября на ноябрь. Показатель упал на 25 %."
   ]
  },
  {
   "cell_type": "markdown",
   "metadata": {
    "id": "uw7qMtafDWLP"
   },
   "source": [
    "# Задание 10"
   ]
  },
  {
   "cell_type": "markdown",
   "metadata": {
    "id": "oRBpWKx3DWLQ"
   },
   "source": [
    "Выгрузите данные активности пользователя, который опубликовал больше всего постов за всё время. Выведите данные за октябрь 2008 года в таком виде:\n",
    "\n",
    "- номер недели;\n",
    "- дата и время последнего поста, опубликованного на этой неделе."
   ]
  },
  {
   "cell_type": "markdown",
   "metadata": {
    "id": "XjAWSn_3DWLQ"
   },
   "source": [
    "| week_creation | creation_date |\n",
    "| ------------- | ------------- |\n",
    "| 40 | 2008-10-05 09:00:58 |\n",
    "| 41 | 2008-10-12 21:22:23 |\n",
    "| ... | ... |"
   ]
  },
  {
   "cell_type": "code",
   "execution_count": 65,
   "metadata": {
    "id": "r5F5fSkwDWLQ"
   },
   "outputs": [],
   "source": [
    "# напишите запрос\n",
    "query = '''\n",
    "WITH users AS (\n",
    "     SELECT user_id,\n",
    "            COUNT(id)\n",
    "     FROM stackoverflow.posts\n",
    "     GROUP BY 1\n",
    "     ORDER BY COUNT(id) DESC\n",
    "     LIMIT 1)\n",
    "     \n",
    "SELECT DISTINCT EXTRACT(WEEK FROM creation_date)::INT week_creation,\n",
    "       MAX(creation_date) OVER (PARTITION BY EXTRACT(WEEK FROM creation_date))\n",
    "FROM stackoverflow.posts\n",
    "WHERE user_id in (SELECT user_id\n",
    "                  FROM users)\n",
    "  AND DATE_TRUNC('month', creation_date)::DATE = '2008-10-01'\n",
    "'''\n",
    "\n",
    "# выполните запрос"
   ]
  },
  {
   "cell_type": "code",
   "execution_count": 66,
   "metadata": {},
   "outputs": [
    {
     "data": {
      "text/html": [
       "<div>\n",
       "<style scoped>\n",
       "    .dataframe tbody tr th:only-of-type {\n",
       "        vertical-align: middle;\n",
       "    }\n",
       "\n",
       "    .dataframe tbody tr th {\n",
       "        vertical-align: top;\n",
       "    }\n",
       "\n",
       "    .dataframe thead th {\n",
       "        text-align: right;\n",
       "    }\n",
       "</style>\n",
       "<table border=\"1\" class=\"dataframe\">\n",
       "  <thead>\n",
       "    <tr style=\"text-align: right;\">\n",
       "      <th></th>\n",
       "      <th>week_creation</th>\n",
       "      <th>max</th>\n",
       "    </tr>\n",
       "  </thead>\n",
       "  <tbody>\n",
       "    <tr>\n",
       "      <th>0</th>\n",
       "      <td>40</td>\n",
       "      <td>2008-10-05 09:00:58</td>\n",
       "    </tr>\n",
       "    <tr>\n",
       "      <th>1</th>\n",
       "      <td>41</td>\n",
       "      <td>2008-10-12 21:22:23</td>\n",
       "    </tr>\n",
       "    <tr>\n",
       "      <th>2</th>\n",
       "      <td>42</td>\n",
       "      <td>2008-10-19 06:49:30</td>\n",
       "    </tr>\n",
       "    <tr>\n",
       "      <th>3</th>\n",
       "      <td>43</td>\n",
       "      <td>2008-10-26 21:44:36</td>\n",
       "    </tr>\n",
       "    <tr>\n",
       "      <th>4</th>\n",
       "      <td>44</td>\n",
       "      <td>2008-10-31 22:16:01</td>\n",
       "    </tr>\n",
       "  </tbody>\n",
       "</table>\n",
       "</div>"
      ],
      "text/plain": [
       "   week_creation                 max\n",
       "0             40 2008-10-05 09:00:58\n",
       "1             41 2008-10-12 21:22:23\n",
       "2             42 2008-10-19 06:49:30\n",
       "3             43 2008-10-26 21:44:36\n",
       "4             44 2008-10-31 22:16:01"
      ]
     },
     "execution_count": 66,
     "metadata": {},
     "output_type": "execute_result"
    }
   ],
   "source": [
    "week_creation = pd.read_sql_query(query, con=engine)\n",
    "week_creation"
   ]
  }
 ],
 "metadata": {
  "ExecuteTimeLog": [
   {
    "duration": 3,
    "start_time": "2022-08-23T12:25:57.271Z"
   },
   {
    "duration": 755,
    "start_time": "2022-08-23T12:26:10.235Z"
   },
   {
    "duration": 4,
    "start_time": "2022-08-23T12:26:12.619Z"
   },
   {
    "duration": 6940,
    "start_time": "2022-08-23T12:26:15.546Z"
   },
   {
    "duration": 265,
    "start_time": "2022-08-23T12:26:26.577Z"
   },
   {
    "duration": 15,
    "start_time": "2022-08-23T12:26:30.642Z"
   },
   {
    "duration": 3,
    "start_time": "2022-08-23T12:41:11.923Z"
   },
   {
    "duration": 94,
    "start_time": "2022-08-23T12:42:32.741Z"
   },
   {
    "duration": 3,
    "start_time": "2022-08-23T12:44:02.146Z"
   },
   {
    "duration": 93,
    "start_time": "2022-08-23T12:44:03.376Z"
   },
   {
    "duration": 3,
    "start_time": "2022-08-23T12:45:53.772Z"
   },
   {
    "duration": 92,
    "start_time": "2022-08-23T12:45:54.524Z"
   },
   {
    "duration": 715,
    "start_time": "2022-08-23T12:46:18.962Z"
   },
   {
    "duration": 3,
    "start_time": "2022-08-23T12:46:19.679Z"
   },
   {
    "duration": 8463,
    "start_time": "2022-08-23T12:46:19.684Z"
   },
   {
    "duration": 202,
    "start_time": "2022-08-23T12:46:28.149Z"
   },
   {
    "duration": 15,
    "start_time": "2022-08-23T12:46:28.352Z"
   },
   {
    "duration": 3,
    "start_time": "2022-08-23T12:46:28.368Z"
   },
   {
    "duration": 95,
    "start_time": "2022-08-23T12:46:28.373Z"
   },
   {
    "duration": 77,
    "start_time": "2022-08-23T12:49:13.288Z"
   },
   {
    "duration": 4,
    "start_time": "2022-08-23T12:49:22.294Z"
   },
   {
    "duration": 150,
    "start_time": "2022-08-23T12:49:36.999Z"
   },
   {
    "duration": 14,
    "start_time": "2022-08-23T12:52:29.964Z"
   },
   {
    "duration": 494,
    "start_time": "2022-08-23T12:52:54.377Z"
   },
   {
    "duration": 139,
    "start_time": "2022-08-23T12:52:56.199Z"
   },
   {
    "duration": 129,
    "start_time": "2022-08-23T12:53:19.674Z"
   },
   {
    "duration": 150,
    "start_time": "2022-08-23T12:55:07.021Z"
   },
   {
    "duration": 233,
    "start_time": "2022-08-23T12:55:58.838Z"
   },
   {
    "duration": 225,
    "start_time": "2022-08-23T12:56:04.642Z"
   },
   {
    "duration": 12,
    "start_time": "2022-08-23T12:57:26.948Z"
   },
   {
    "duration": 181,
    "start_time": "2022-08-23T12:57:55.361Z"
   },
   {
    "duration": 163,
    "start_time": "2022-08-23T13:12:04.986Z"
   },
   {
    "duration": 185,
    "start_time": "2022-08-23T13:12:10.501Z"
   },
   {
    "duration": 3,
    "start_time": "2022-08-23T13:32:57.079Z"
   },
   {
    "duration": 2035,
    "start_time": "2022-08-23T13:33:31.902Z"
   },
   {
    "duration": 4,
    "start_time": "2022-08-23T13:54:37.227Z"
   },
   {
    "duration": 233,
    "start_time": "2022-08-23T13:54:38.394Z"
   },
   {
    "duration": 3,
    "start_time": "2022-08-23T13:55:05.989Z"
   },
   {
    "duration": 101,
    "start_time": "2022-08-23T13:55:07.080Z"
   },
   {
    "duration": 4,
    "start_time": "2022-08-23T13:55:32.613Z"
   },
   {
    "duration": 115,
    "start_time": "2022-08-23T13:55:33.334Z"
   },
   {
    "duration": 4,
    "start_time": "2022-08-23T13:55:48.951Z"
   },
   {
    "duration": 119,
    "start_time": "2022-08-23T13:55:49.596Z"
   },
   {
    "duration": 5,
    "start_time": "2022-08-23T13:56:31.615Z"
   },
   {
    "duration": 881,
    "start_time": "2022-08-23T13:56:32.381Z"
   },
   {
    "duration": 3,
    "start_time": "2022-08-23T13:57:00.794Z"
   },
   {
    "duration": 970,
    "start_time": "2022-08-23T13:57:01.537Z"
   },
   {
    "duration": 3,
    "start_time": "2022-08-23T14:01:43.463Z"
   },
   {
    "duration": 113,
    "start_time": "2022-08-23T14:01:44.375Z"
   },
   {
    "duration": 771,
    "start_time": "2022-08-23T14:02:00.180Z"
   },
   {
    "duration": 4,
    "start_time": "2022-08-23T14:02:00.953Z"
   },
   {
    "duration": 8132,
    "start_time": "2022-08-23T14:02:00.959Z"
   },
   {
    "duration": 201,
    "start_time": "2022-08-23T14:02:09.094Z"
   },
   {
    "duration": 15,
    "start_time": "2022-08-23T14:02:09.297Z"
   },
   {
    "duration": 3,
    "start_time": "2022-08-23T14:02:09.313Z"
   },
   {
    "duration": 101,
    "start_time": "2022-08-23T14:02:09.318Z"
   },
   {
    "duration": 497,
    "start_time": "2022-08-23T14:02:09.420Z"
   },
   {
    "duration": 195,
    "start_time": "2022-08-23T14:02:09.918Z"
   },
   {
    "duration": 3,
    "start_time": "2022-08-23T14:03:46.563Z"
   },
   {
    "duration": 1238,
    "start_time": "2022-08-23T14:03:47.239Z"
   },
   {
    "duration": 3,
    "start_time": "2022-08-23T14:05:03.942Z"
   },
   {
    "duration": 205,
    "start_time": "2022-08-23T14:05:05.114Z"
   },
   {
    "duration": 4,
    "start_time": "2022-08-23T14:05:31.232Z"
   },
   {
    "duration": 617,
    "start_time": "2022-08-23T14:05:32.216Z"
   },
   {
    "duration": 2,
    "start_time": "2022-08-23T14:09:03.631Z"
   },
   {
    "duration": 142,
    "start_time": "2022-08-23T14:09:05.147Z"
   },
   {
    "duration": 3,
    "start_time": "2022-08-23T14:09:23.127Z"
   },
   {
    "duration": 832,
    "start_time": "2022-08-23T14:09:23.813Z"
   },
   {
    "duration": 2,
    "start_time": "2022-08-23T14:13:03.614Z"
   },
   {
    "duration": 111,
    "start_time": "2022-08-23T14:13:04.684Z"
   },
   {
    "duration": 4,
    "start_time": "2022-08-23T14:13:38.918Z"
   },
   {
    "duration": 126,
    "start_time": "2022-08-23T14:13:39.738Z"
   },
   {
    "duration": 4,
    "start_time": "2022-08-23T14:14:59.217Z"
   },
   {
    "duration": 412,
    "start_time": "2022-08-23T14:15:00.350Z"
   },
   {
    "duration": 4,
    "start_time": "2022-08-23T14:15:40.656Z"
   },
   {
    "duration": 262,
    "start_time": "2022-08-23T14:15:41.815Z"
   },
   {
    "duration": 3,
    "start_time": "2022-08-23T14:15:55.554Z"
   },
   {
    "duration": 122,
    "start_time": "2022-08-23T14:16:00.173Z"
   },
   {
    "duration": 3,
    "start_time": "2022-08-23T14:16:13.577Z"
   },
   {
    "duration": 266,
    "start_time": "2022-08-23T14:16:21.043Z"
   },
   {
    "duration": 3,
    "start_time": "2022-08-23T14:16:35.215Z"
   },
   {
    "duration": 327,
    "start_time": "2022-08-23T14:16:36.362Z"
   },
   {
    "duration": 3,
    "start_time": "2022-08-23T14:18:05.463Z"
   },
   {
    "duration": 128,
    "start_time": "2022-08-23T14:18:06.315Z"
   },
   {
    "duration": 3,
    "start_time": "2022-08-23T14:20:11.649Z"
   },
   {
    "duration": 114,
    "start_time": "2022-08-23T14:20:12.425Z"
   },
   {
    "duration": 3,
    "start_time": "2022-08-23T14:20:26.277Z"
   },
   {
    "duration": 338,
    "start_time": "2022-08-23T14:20:27.015Z"
   },
   {
    "duration": 3,
    "start_time": "2022-08-23T14:21:10.020Z"
   },
   {
    "duration": 131,
    "start_time": "2022-08-23T14:21:10.931Z"
   },
   {
    "duration": 3,
    "start_time": "2022-08-23T14:22:24.636Z"
   },
   {
    "duration": 248,
    "start_time": "2022-08-23T14:22:25.256Z"
   },
   {
    "duration": 3,
    "start_time": "2022-08-23T14:22:42.755Z"
   },
   {
    "duration": 248,
    "start_time": "2022-08-23T14:22:46.215Z"
   },
   {
    "duration": 4,
    "start_time": "2022-08-23T14:23:54.877Z"
   },
   {
    "duration": 5,
    "start_time": "2022-08-23T14:24:42.671Z"
   },
   {
    "duration": 3,
    "start_time": "2022-08-23T14:25:17.352Z"
   },
   {
    "duration": 247,
    "start_time": "2022-08-23T14:25:18.285Z"
   },
   {
    "duration": 6,
    "start_time": "2022-08-23T14:25:28.935Z"
   },
   {
    "duration": 4,
    "start_time": "2022-08-23T14:25:29.613Z"
   },
   {
    "duration": 15,
    "start_time": "2022-08-23T14:27:19.138Z"
   },
   {
    "duration": 3,
    "start_time": "2022-08-23T14:31:04.440Z"
   },
   {
    "duration": 113,
    "start_time": "2022-08-23T14:31:22.361Z"
   },
   {
    "duration": 3,
    "start_time": "2022-08-23T14:32:22.674Z"
   },
   {
    "duration": 103,
    "start_time": "2022-08-23T14:32:23.542Z"
   },
   {
    "duration": 3,
    "start_time": "2022-08-23T14:34:19.571Z"
   },
   {
    "duration": 105,
    "start_time": "2022-08-23T14:34:21.528Z"
   },
   {
    "duration": 3,
    "start_time": "2022-08-23T14:34:58.213Z"
   },
   {
    "duration": 102,
    "start_time": "2022-08-23T14:34:59.187Z"
   },
   {
    "duration": 2,
    "start_time": "2022-08-23T14:36:08.774Z"
   },
   {
    "duration": 97,
    "start_time": "2022-08-23T14:36:09.389Z"
   },
   {
    "duration": 2,
    "start_time": "2022-08-23T14:36:29.724Z"
   },
   {
    "duration": 104,
    "start_time": "2022-08-23T14:36:30.525Z"
   },
   {
    "duration": 2,
    "start_time": "2022-08-23T14:36:41.954Z"
   },
   {
    "duration": 137,
    "start_time": "2022-08-23T14:36:43.051Z"
   },
   {
    "duration": 3,
    "start_time": "2022-08-23T14:36:56.309Z"
   },
   {
    "duration": 892,
    "start_time": "2022-08-23T14:36:57.085Z"
   },
   {
    "duration": 159,
    "start_time": "2022-08-23T14:39:11.921Z"
   },
   {
    "duration": 249,
    "start_time": "2022-08-23T14:40:08.925Z"
   },
   {
    "duration": 205,
    "start_time": "2022-08-23T14:40:16.349Z"
   },
   {
    "duration": 19,
    "start_time": "2022-08-23T14:45:11.725Z"
   },
   {
    "duration": 8,
    "start_time": "2022-08-23T14:46:08.782Z"
   },
   {
    "duration": 91,
    "start_time": "2022-08-23T14:47:58.891Z"
   },
   {
    "duration": 15,
    "start_time": "2022-08-23T14:48:17.745Z"
   },
   {
    "duration": 10,
    "start_time": "2022-08-23T14:48:57.861Z"
   },
   {
    "duration": 818,
    "start_time": "2022-08-23T14:56:38.507Z"
   },
   {
    "duration": 3,
    "start_time": "2022-08-23T14:56:39.327Z"
   },
   {
    "duration": 6539,
    "start_time": "2022-08-23T14:56:39.331Z"
   },
   {
    "duration": 211,
    "start_time": "2022-08-23T14:56:45.872Z"
   },
   {
    "duration": 15,
    "start_time": "2022-08-23T14:56:46.085Z"
   },
   {
    "duration": 9,
    "start_time": "2022-08-23T14:56:46.102Z"
   },
   {
    "duration": 104,
    "start_time": "2022-08-23T14:56:46.113Z"
   },
   {
    "duration": 539,
    "start_time": "2022-08-23T14:56:46.218Z"
   },
   {
    "duration": 199,
    "start_time": "2022-08-23T14:56:46.759Z"
   },
   {
    "duration": 2,
    "start_time": "2022-08-23T14:56:46.961Z"
   },
   {
    "duration": 269,
    "start_time": "2022-08-23T14:56:46.965Z"
   },
   {
    "duration": 4,
    "start_time": "2022-08-23T14:56:47.236Z"
   },
   {
    "duration": 11,
    "start_time": "2022-08-23T14:56:47.242Z"
   },
   {
    "duration": 5,
    "start_time": "2022-08-23T14:56:47.255Z"
   },
   {
    "duration": 259,
    "start_time": "2022-08-23T14:56:47.261Z"
   },
   {
    "duration": 0,
    "start_time": "2022-08-23T14:56:47.522Z"
   },
   {
    "duration": 0,
    "start_time": "2022-08-23T14:56:47.524Z"
   },
   {
    "duration": 0,
    "start_time": "2022-08-23T14:56:47.525Z"
   },
   {
    "duration": 3,
    "start_time": "2022-08-23T14:57:20.281Z"
   },
   {
    "duration": 957,
    "start_time": "2022-08-23T14:57:21.109Z"
   },
   {
    "duration": 198,
    "start_time": "2022-08-23T14:57:24.656Z"
   },
   {
    "duration": 9,
    "start_time": "2022-08-23T14:57:27.758Z"
   },
   {
    "duration": 14,
    "start_time": "2022-08-23T14:57:29.080Z"
   },
   {
    "duration": 798,
    "start_time": "2022-08-23T16:31:40.006Z"
   },
   {
    "duration": 5,
    "start_time": "2022-08-23T16:31:40.806Z"
   },
   {
    "duration": 5539,
    "start_time": "2022-08-23T16:31:40.813Z"
   },
   {
    "duration": 271,
    "start_time": "2022-08-23T16:31:46.354Z"
   },
   {
    "duration": 15,
    "start_time": "2022-08-23T16:31:46.627Z"
   },
   {
    "duration": 3,
    "start_time": "2022-08-23T16:31:46.644Z"
   },
   {
    "duration": 106,
    "start_time": "2022-08-23T16:31:46.648Z"
   },
   {
    "duration": 549,
    "start_time": "2022-08-23T16:31:46.755Z"
   },
   {
    "duration": 226,
    "start_time": "2022-08-23T16:31:47.307Z"
   },
   {
    "duration": 3,
    "start_time": "2022-08-23T16:31:47.537Z"
   },
   {
    "duration": 276,
    "start_time": "2022-08-23T16:31:47.542Z"
   },
   {
    "duration": 8,
    "start_time": "2022-08-23T16:31:47.820Z"
   },
   {
    "duration": 11,
    "start_time": "2022-08-23T16:31:47.830Z"
   },
   {
    "duration": 7,
    "start_time": "2022-08-23T16:31:47.843Z"
   },
   {
    "duration": 1039,
    "start_time": "2022-08-23T16:31:47.852Z"
   },
   {
    "duration": 261,
    "start_time": "2022-08-23T16:31:48.893Z"
   },
   {
    "duration": 12,
    "start_time": "2022-08-23T16:31:49.157Z"
   },
   {
    "duration": 33,
    "start_time": "2022-08-23T16:31:49.171Z"
   },
   {
    "duration": 4,
    "start_time": "2022-08-23T16:59:29.392Z"
   },
   {
    "duration": 223,
    "start_time": "2022-08-23T16:59:30.111Z"
   },
   {
    "duration": 4,
    "start_time": "2022-08-23T17:00:16.198Z"
   },
   {
    "duration": 1071,
    "start_time": "2022-08-23T17:00:16.898Z"
   },
   {
    "duration": 3,
    "start_time": "2022-08-23T17:05:27.784Z"
   },
   {
    "duration": 813,
    "start_time": "2022-08-23T17:06:38.485Z"
   },
   {
    "duration": 5,
    "start_time": "2022-08-23T17:06:39.300Z"
   },
   {
    "duration": 5453,
    "start_time": "2022-08-23T17:06:39.307Z"
   },
   {
    "duration": 212,
    "start_time": "2022-08-23T17:06:44.763Z"
   },
   {
    "duration": 16,
    "start_time": "2022-08-23T17:06:44.977Z"
   },
   {
    "duration": 3,
    "start_time": "2022-08-23T17:06:44.995Z"
   },
   {
    "duration": 104,
    "start_time": "2022-08-23T17:06:45.000Z"
   },
   {
    "duration": 504,
    "start_time": "2022-08-23T17:06:45.106Z"
   },
   {
    "duration": 195,
    "start_time": "2022-08-23T17:06:45.611Z"
   },
   {
    "duration": 3,
    "start_time": "2022-08-23T17:06:45.808Z"
   },
   {
    "duration": 267,
    "start_time": "2022-08-23T17:06:45.813Z"
   },
   {
    "duration": 4,
    "start_time": "2022-08-23T17:06:46.082Z"
   },
   {
    "duration": 9,
    "start_time": "2022-08-23T17:06:46.088Z"
   },
   {
    "duration": 6,
    "start_time": "2022-08-23T17:06:46.099Z"
   },
   {
    "duration": 1012,
    "start_time": "2022-08-23T17:06:46.106Z"
   },
   {
    "duration": 207,
    "start_time": "2022-08-23T17:06:47.120Z"
   },
   {
    "duration": 9,
    "start_time": "2022-08-23T17:06:47.329Z"
   },
   {
    "duration": 13,
    "start_time": "2022-08-23T17:06:47.339Z"
   },
   {
    "duration": 5,
    "start_time": "2022-08-23T17:13:28.419Z"
   },
   {
    "duration": 29170,
    "start_time": "2022-08-23T17:13:30.019Z"
   },
   {
    "duration": 4,
    "start_time": "2022-08-23T17:18:11.938Z"
   },
   {
    "duration": 231,
    "start_time": "2022-08-23T17:18:13.042Z"
   },
   {
    "duration": 4,
    "start_time": "2022-08-23T17:18:54.430Z"
   },
   {
    "duration": 27241,
    "start_time": "2022-08-23T17:18:55.296Z"
   },
   {
    "duration": 4,
    "start_time": "2022-08-23T17:25:51.509Z"
   },
   {
    "duration": 29158,
    "start_time": "2022-08-23T17:26:08.946Z"
   },
   {
    "duration": 4,
    "start_time": "2022-08-23T17:29:42.025Z"
   },
   {
    "duration": 113,
    "start_time": "2022-08-23T17:29:42.933Z"
   },
   {
    "duration": 3,
    "start_time": "2022-08-23T17:30:05.677Z"
   },
   {
    "duration": 3464,
    "start_time": "2022-08-23T17:30:06.571Z"
   },
   {
    "duration": 3,
    "start_time": "2022-08-23T18:00:13.071Z"
   },
   {
    "duration": 1138,
    "start_time": "2022-08-23T18:00:54.819Z"
   },
   {
    "duration": 1274,
    "start_time": "2022-08-23T18:01:50.987Z"
   },
   {
    "duration": 1222,
    "start_time": "2022-08-23T18:01:59.625Z"
   },
   {
    "duration": 1317,
    "start_time": "2022-08-23T18:02:09.738Z"
   },
   {
    "duration": 3,
    "start_time": "2022-08-23T18:02:45.872Z"
   },
   {
    "duration": 1209,
    "start_time": "2022-08-23T18:02:47.230Z"
   },
   {
    "duration": 4,
    "start_time": "2022-08-23T19:17:49.606Z"
   },
   {
    "duration": 136,
    "start_time": "2022-08-23T19:17:50.897Z"
   },
   {
    "duration": 3,
    "start_time": "2022-08-23T19:18:24.451Z"
   },
   {
    "duration": 147,
    "start_time": "2022-08-23T19:18:25.299Z"
   },
   {
    "duration": 3,
    "start_time": "2022-08-23T19:19:13.417Z"
   },
   {
    "duration": 101,
    "start_time": "2022-08-23T19:19:14.128Z"
   },
   {
    "duration": 3,
    "start_time": "2022-08-23T19:19:21.802Z"
   },
   {
    "duration": 120,
    "start_time": "2022-08-23T19:19:23.306Z"
   },
   {
    "duration": 7,
    "start_time": "2022-08-23T19:19:49.073Z"
   },
   {
    "duration": 318,
    "start_time": "2022-08-23T19:19:50.056Z"
   },
   {
    "duration": 4,
    "start_time": "2022-08-23T19:23:30.903Z"
   },
   {
    "duration": 195,
    "start_time": "2022-08-23T19:23:31.489Z"
   },
   {
    "duration": 3,
    "start_time": "2022-08-23T19:24:47.458Z"
   },
   {
    "duration": 101,
    "start_time": "2022-08-23T19:24:48.986Z"
   },
   {
    "duration": 95,
    "start_time": "2022-08-23T19:24:54.381Z"
   },
   {
    "duration": 100,
    "start_time": "2022-08-23T19:25:05.259Z"
   },
   {
    "duration": 3,
    "start_time": "2022-08-23T19:48:11.455Z"
   },
   {
    "duration": 109,
    "start_time": "2022-08-23T19:48:12.425Z"
   },
   {
    "duration": 3,
    "start_time": "2022-08-23T19:48:49.718Z"
   },
   {
    "duration": 112,
    "start_time": "2022-08-23T19:48:50.423Z"
   },
   {
    "duration": 3,
    "start_time": "2022-08-23T19:51:00.452Z"
   },
   {
    "duration": 110,
    "start_time": "2022-08-23T19:51:01.115Z"
   },
   {
    "duration": 3,
    "start_time": "2022-08-23T19:53:02.296Z"
   },
   {
    "duration": 100,
    "start_time": "2022-08-23T19:53:02.941Z"
   },
   {
    "duration": 4,
    "start_time": "2022-08-23T20:05:04.863Z"
   },
   {
    "duration": 107,
    "start_time": "2022-08-23T20:05:05.881Z"
   },
   {
    "duration": 3,
    "start_time": "2022-08-23T20:05:11.636Z"
   },
   {
    "duration": 84,
    "start_time": "2022-08-23T20:05:12.269Z"
   },
   {
    "duration": 3,
    "start_time": "2022-08-23T20:09:53.695Z"
   },
   {
    "duration": 80,
    "start_time": "2022-08-23T20:09:54.612Z"
   },
   {
    "duration": 7,
    "start_time": "2022-08-24T10:25:29.437Z"
   },
   {
    "duration": 45,
    "start_time": "2022-08-24T10:25:47.542Z"
   },
   {
    "duration": 859,
    "start_time": "2022-08-24T10:26:05.327Z"
   },
   {
    "duration": 3,
    "start_time": "2022-08-24T10:26:06.188Z"
   },
   {
    "duration": 5052,
    "start_time": "2022-08-24T10:26:06.193Z"
   },
   {
    "duration": 204,
    "start_time": "2022-08-24T10:26:11.247Z"
   },
   {
    "duration": 12,
    "start_time": "2022-08-24T10:26:11.453Z"
   },
   {
    "duration": 7,
    "start_time": "2022-08-24T10:26:11.467Z"
   },
   {
    "duration": 98,
    "start_time": "2022-08-24T10:26:11.476Z"
   },
   {
    "duration": 521,
    "start_time": "2022-08-24T10:26:11.576Z"
   },
   {
    "duration": 182,
    "start_time": "2022-08-24T10:26:12.098Z"
   },
   {
    "duration": 3,
    "start_time": "2022-08-24T10:26:12.287Z"
   },
   {
    "duration": 261,
    "start_time": "2022-08-24T10:26:12.292Z"
   },
   {
    "duration": 5,
    "start_time": "2022-08-24T10:26:12.555Z"
   },
   {
    "duration": 5,
    "start_time": "2022-08-24T10:26:12.562Z"
   },
   {
    "duration": 4,
    "start_time": "2022-08-24T10:26:12.569Z"
   },
   {
    "duration": 890,
    "start_time": "2022-08-24T10:26:12.574Z"
   },
   {
    "duration": 191,
    "start_time": "2022-08-24T10:26:13.466Z"
   },
   {
    "duration": 9,
    "start_time": "2022-08-24T10:26:13.659Z"
   },
   {
    "duration": 26,
    "start_time": "2022-08-24T10:26:13.669Z"
   },
   {
    "duration": 2,
    "start_time": "2022-08-24T10:26:13.697Z"
   },
   {
    "duration": 26768,
    "start_time": "2022-08-24T10:26:13.701Z"
   },
   {
    "duration": 2,
    "start_time": "2022-08-24T10:26:40.471Z"
   },
   {
    "duration": 3619,
    "start_time": "2022-08-24T10:26:40.475Z"
   },
   {
    "duration": 2,
    "start_time": "2022-08-24T10:26:44.096Z"
   },
   {
    "duration": 1057,
    "start_time": "2022-08-24T10:26:44.100Z"
   },
   {
    "duration": 3,
    "start_time": "2022-08-24T10:27:33.699Z"
   },
   {
    "duration": 83,
    "start_time": "2022-08-24T10:27:36.857Z"
   },
   {
    "duration": 3,
    "start_time": "2022-08-24T10:27:42.036Z"
   },
   {
    "duration": 1018,
    "start_time": "2022-08-24T10:27:43.901Z"
   },
   {
    "duration": 3,
    "start_time": "2022-08-24T10:28:17.868Z"
   },
   {
    "duration": 183,
    "start_time": "2022-08-24T10:28:18.814Z"
   },
   {
    "duration": 2,
    "start_time": "2022-08-24T10:28:45.729Z"
   },
   {
    "duration": 317,
    "start_time": "2022-08-24T10:28:46.328Z"
   },
   {
    "duration": 2,
    "start_time": "2022-08-24T10:29:05.598Z"
   },
   {
    "duration": 97,
    "start_time": "2022-08-24T10:29:06.134Z"
   },
   {
    "duration": 2,
    "start_time": "2022-08-24T10:29:16.522Z"
   },
   {
    "duration": 117,
    "start_time": "2022-08-24T10:29:17.108Z"
   },
   {
    "duration": 3,
    "start_time": "2022-08-24T11:23:52.675Z"
   },
   {
    "duration": 65,
    "start_time": "2022-08-24T11:23:53.776Z"
   },
   {
    "duration": 3,
    "start_time": "2022-08-24T11:30:12.835Z"
   },
   {
    "duration": 137,
    "start_time": "2022-08-24T11:30:30.462Z"
   },
   {
    "duration": 3,
    "start_time": "2022-08-24T11:30:41.762Z"
   },
   {
    "duration": 99,
    "start_time": "2022-08-24T11:30:42.624Z"
   },
   {
    "duration": 23,
    "start_time": "2022-08-24T11:31:03.983Z"
   },
   {
    "duration": 150,
    "start_time": "2022-08-24T11:31:28.826Z"
   },
   {
    "duration": 4,
    "start_time": "2022-08-24T11:33:58.463Z"
   },
   {
    "duration": 3,
    "start_time": "2022-08-24T11:53:22.029Z"
   },
   {
    "duration": 112,
    "start_time": "2022-08-24T11:53:44.707Z"
   },
   {
    "duration": 914,
    "start_time": "2022-08-24T11:53:58.930Z"
   },
   {
    "duration": 893,
    "start_time": "2022-08-24T11:54:17.140Z"
   },
   {
    "duration": 164,
    "start_time": "2022-08-24T11:54:25.606Z"
   },
   {
    "duration": 4,
    "start_time": "2022-08-24T12:38:15.309Z"
   },
   {
    "duration": 1150,
    "start_time": "2022-08-24T12:38:26.311Z"
   },
   {
    "duration": 3,
    "start_time": "2022-08-24T14:13:29.568Z"
   },
   {
    "duration": 519,
    "start_time": "2022-08-24T14:13:39.940Z"
   },
   {
    "duration": 494,
    "start_time": "2022-08-24T14:17:10.497Z"
   },
   {
    "duration": 504,
    "start_time": "2022-08-24T15:02:36.315Z"
   },
   {
    "duration": 531,
    "start_time": "2022-08-24T15:02:56.216Z"
   },
   {
    "duration": 3,
    "start_time": "2022-08-24T15:34:29.606Z"
   },
   {
    "duration": 3726,
    "start_time": "2022-08-24T15:34:52.274Z"
   },
   {
    "duration": 218,
    "start_time": "2022-08-24T15:39:53.930Z"
   },
   {
    "duration": 134,
    "start_time": "2022-08-24T15:41:41.517Z"
   },
   {
    "duration": 162,
    "start_time": "2022-08-24T15:42:05.788Z"
   },
   {
    "duration": 3,
    "start_time": "2022-08-24T16:24:16.564Z"
   },
   {
    "duration": 128,
    "start_time": "2022-08-24T16:24:33.953Z"
   }
  ],
  "colab": {
   "name": "AdvansedSQLProjectTemplate.ipynb",
   "provenance": []
  },
  "kernelspec": {
   "display_name": "Python 3 (ipykernel)",
   "language": "python",
   "name": "python3"
  },
  "language_info": {
   "codemirror_mode": {
    "name": "ipython",
    "version": 3
   },
   "file_extension": ".py",
   "mimetype": "text/x-python",
   "name": "python",
   "nbconvert_exporter": "python",
   "pygments_lexer": "ipython3",
   "version": "3.9.7"
  },
  "toc": {
   "base_numbering": 1,
   "nav_menu": {},
   "number_sections": true,
   "sideBar": true,
   "skip_h1_title": true,
   "title_cell": "Table of Contents",
   "title_sidebar": "Contents",
   "toc_cell": false,
   "toc_position": {},
   "toc_section_display": true,
   "toc_window_display": false
  }
 },
 "nbformat": 4,
 "nbformat_minor": 1
}
