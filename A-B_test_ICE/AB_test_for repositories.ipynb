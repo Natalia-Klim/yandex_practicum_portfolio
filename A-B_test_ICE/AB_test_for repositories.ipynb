{
 "cells": [
  {
   "cell_type": "markdown",
   "id": "492c9c89",
   "metadata": {},
   "source": [
    "# Проверка гипотез с целью увеличения выручки интернет-магазина"
   ]
  },
  {
   "cell_type": "markdown",
   "id": "af92c8ca",
   "metadata": {},
   "source": [
    "Описание проекта:\n",
    "\n",
    "Вы — аналитик крупного интернет-магазина. Вместе с отделом маркетинга вы подготовили список гипотез для увеличения выручки.\n",
    "Приоритизируйте гипотезы, запустите A/B-тест и проанализируйте результаты.\n",
    "\n",
    "\n",
    "**Цель проекта:**\n",
    "\n",
    "* Выявить приоритетность гипотез\n",
    "* Проанализировать А/В тест и ответить на вопрос - стоит ли продолжить тест, или обьявить победу одной из групп.\n"
   ]
  },
  {
   "cell_type": "markdown",
   "id": "425612e9",
   "metadata": {},
   "source": [
    "### Часть 1.  \n",
    "### Приоритизация гипотез."
   ]
  },
  {
   "cell_type": "markdown",
   "id": "18f195d9",
   "metadata": {},
   "source": [
    "Откроем файлы с данными и изучмим информацию."
   ]
  },
  {
   "cell_type": "code",
   "execution_count": 1,
   "id": "33f6e869",
   "metadata": {},
   "outputs": [],
   "source": [
    "# Импортируем необходимые для работы библиотеки\n",
    "\n",
    "import pandas as pd\n",
    "import matplotlib.pyplot as plt\n",
    "from datetime import datetime, timedelta\n",
    "import numpy as np\n",
    "import warnings\n",
    "warnings.filterwarnings(\"ignore\")\n",
    "from pandas.plotting import register_matplotlib_converters\n",
    "register_matplotlib_converters()\n",
    "import datetime as dt\n",
    "import scipy.stats as stats"
   ]
  },
  {
   "cell_type": "code",
   "execution_count": 2,
   "id": "6b5591cf",
   "metadata": {},
   "outputs": [],
   "source": [
    "# Прочитаем файлы с данными\n",
    "\n",
    "try:\n",
    "    hypothesis = pd.read_csv('./datasets/hypothesis.csv')\n",
    "    orders = pd.read_csv('./datasets/orders.csv')\n",
    "    visitors = pd.read_csv('./datasets/visitors.csv')\n",
    "    \n",
    "    \n",
    "except FileNotFoundError:\n",
    "    \n",
    "    hypothesis = pd.read_csv('/datasets/hypothesis.csv')\n",
    "    orders = pd.read_csv('/datasets/orders.csv')\n",
    "    visitors = pd.read_csv('/datasets/visitors.csv')\n",
    "    "
   ]
  },
  {
   "cell_type": "code",
   "execution_count": 3,
   "id": "c8ff2aa6",
   "metadata": {},
   "outputs": [
    {
     "data": {
      "text/html": [
       "<div>\n",
       "<style scoped>\n",
       "    .dataframe tbody tr th:only-of-type {\n",
       "        vertical-align: middle;\n",
       "    }\n",
       "\n",
       "    .dataframe tbody tr th {\n",
       "        vertical-align: top;\n",
       "    }\n",
       "\n",
       "    .dataframe thead th {\n",
       "        text-align: right;\n",
       "    }\n",
       "</style>\n",
       "<table border=\"1\" class=\"dataframe\">\n",
       "  <thead>\n",
       "    <tr style=\"text-align: right;\">\n",
       "      <th></th>\n",
       "      <th>Hypothesis</th>\n",
       "      <th>Reach</th>\n",
       "      <th>Impact</th>\n",
       "      <th>Confidence</th>\n",
       "      <th>Efforts</th>\n",
       "    </tr>\n",
       "  </thead>\n",
       "  <tbody>\n",
       "    <tr>\n",
       "      <th>0</th>\n",
       "      <td>Добавить два новых канала привлечения трафика, что позволит привлекать на 30% больше пользователей</td>\n",
       "      <td>3</td>\n",
       "      <td>10</td>\n",
       "      <td>8</td>\n",
       "      <td>6</td>\n",
       "    </tr>\n",
       "    <tr>\n",
       "      <th>1</th>\n",
       "      <td>Запустить собственную службу доставки, что сократит срок доставки заказов</td>\n",
       "      <td>2</td>\n",
       "      <td>5</td>\n",
       "      <td>4</td>\n",
       "      <td>10</td>\n",
       "    </tr>\n",
       "    <tr>\n",
       "      <th>2</th>\n",
       "      <td>Добавить блоки рекомендаций товаров на сайт интернет магазина, чтобы повысить конверсию и средний чек заказа</td>\n",
       "      <td>8</td>\n",
       "      <td>3</td>\n",
       "      <td>7</td>\n",
       "      <td>3</td>\n",
       "    </tr>\n",
       "    <tr>\n",
       "      <th>3</th>\n",
       "      <td>Изменить структура категорий, что увеличит конверсию, т.к. пользователи быстрее найдут нужный товар</td>\n",
       "      <td>8</td>\n",
       "      <td>3</td>\n",
       "      <td>3</td>\n",
       "      <td>8</td>\n",
       "    </tr>\n",
       "    <tr>\n",
       "      <th>4</th>\n",
       "      <td>Изменить цвет фона главной страницы, чтобы увеличить вовлеченность пользователей</td>\n",
       "      <td>3</td>\n",
       "      <td>1</td>\n",
       "      <td>1</td>\n",
       "      <td>1</td>\n",
       "    </tr>\n",
       "    <tr>\n",
       "      <th>5</th>\n",
       "      <td>Добавить страницу отзывов клиентов о магазине, что позволит увеличить количество заказов</td>\n",
       "      <td>3</td>\n",
       "      <td>2</td>\n",
       "      <td>2</td>\n",
       "      <td>3</td>\n",
       "    </tr>\n",
       "    <tr>\n",
       "      <th>6</th>\n",
       "      <td>Показать на главной странице баннеры с актуальными акциями и распродажами, чтобы увеличить конверсию</td>\n",
       "      <td>5</td>\n",
       "      <td>3</td>\n",
       "      <td>8</td>\n",
       "      <td>3</td>\n",
       "    </tr>\n",
       "    <tr>\n",
       "      <th>7</th>\n",
       "      <td>Добавить форму подписки на все основные страницы, чтобы собрать базу клиентов для email-рассылок</td>\n",
       "      <td>10</td>\n",
       "      <td>7</td>\n",
       "      <td>8</td>\n",
       "      <td>5</td>\n",
       "    </tr>\n",
       "    <tr>\n",
       "      <th>8</th>\n",
       "      <td>Запустить акцию, дающую скидку на товар в день рождения</td>\n",
       "      <td>1</td>\n",
       "      <td>9</td>\n",
       "      <td>9</td>\n",
       "      <td>5</td>\n",
       "    </tr>\n",
       "  </tbody>\n",
       "</table>\n",
       "</div>"
      ],
      "text/plain": [
       "                                                                                                     Hypothesis  \\\n",
       "0            Добавить два новых канала привлечения трафика, что позволит привлекать на 30% больше пользователей   \n",
       "1                                     Запустить собственную службу доставки, что сократит срок доставки заказов   \n",
       "2  Добавить блоки рекомендаций товаров на сайт интернет магазина, чтобы повысить конверсию и средний чек заказа   \n",
       "3           Изменить структура категорий, что увеличит конверсию, т.к. пользователи быстрее найдут нужный товар   \n",
       "4                              Изменить цвет фона главной страницы, чтобы увеличить вовлеченность пользователей   \n",
       "5                      Добавить страницу отзывов клиентов о магазине, что позволит увеличить количество заказов   \n",
       "6          Показать на главной странице баннеры с актуальными акциями и распродажами, чтобы увеличить конверсию   \n",
       "7              Добавить форму подписки на все основные страницы, чтобы собрать базу клиентов для email-рассылок   \n",
       "8                                                       Запустить акцию, дающую скидку на товар в день рождения   \n",
       "\n",
       "   Reach  Impact  Confidence  Efforts  \n",
       "0      3      10           8        6  \n",
       "1      2       5           4       10  \n",
       "2      8       3           7        3  \n",
       "3      8       3           3        8  \n",
       "4      3       1           1        1  \n",
       "5      3       2           2        3  \n",
       "6      5       3           8        3  \n",
       "7     10       7           8        5  \n",
       "8      1       9           9        5  "
      ]
     },
     "execution_count": 3,
     "metadata": {},
     "output_type": "execute_result"
    }
   ],
   "source": [
    "pd.options.display.max_colwidth = 130\n",
    "hypothesis"
   ]
  },
  {
   "cell_type": "code",
   "execution_count": 4,
   "id": "07297762",
   "metadata": {},
   "outputs": [
    {
     "data": {
      "text/plain": [
       "array(['Добавить два новых канала привлечения трафика, что позволит привлекать на 30% больше пользователей',\n",
       "       'Запустить собственную службу доставки, что сократит срок доставки заказов',\n",
       "       'Добавить блоки рекомендаций товаров на сайт интернет магазина, чтобы повысить конверсию и средний чек заказа',\n",
       "       'Изменить структура категорий, что увеличит конверсию, т.к. пользователи быстрее найдут нужный товар',\n",
       "       'Изменить цвет фона главной страницы, чтобы увеличить вовлеченность пользователей',\n",
       "       'Добавить страницу отзывов клиентов о магазине, что позволит увеличить количество заказов',\n",
       "       'Показать на главной странице баннеры с актуальными акциями и распродажами, чтобы увеличить конверсию',\n",
       "       'Добавить форму подписки на все основные страницы, чтобы собрать базу клиентов для email-рассылок',\n",
       "       'Запустить акцию, дающую скидку на товар в день рождения'],\n",
       "      dtype=object)"
      ]
     },
     "execution_count": 4,
     "metadata": {},
     "output_type": "execute_result"
    }
   ],
   "source": [
    "hypothesis['Hypothesis'].unique()"
   ]
  },
  {
   "cell_type": "markdown",
   "id": "d9be0ed7",
   "metadata": {},
   "source": [
    "**1. Примените фреймворк ICE и RICE для приоритизации гипотез. Отсортируйте их по убыванию приоритета. Укажите, как изменилась приоритизация гипотез при применении RICE вместо ICE. Почему так произошло.**"
   ]
  },
  {
   "cell_type": "markdown",
   "id": "51cdd1c0",
   "metadata": {},
   "source": [
    "ICE (от англ. impact, confidence, effort / ease «влияние, уверенность, усилия / простота») — один из самых популярных способов приоритизации задач:"
   ]
  },
  {
   "attachments": {
    "image.png": {
     "image/png": "[encoded data removed]"
    }
   },
   "cell_type": "markdown",
   "id": "d6eda0bd",
   "metadata": {},
   "source": [
    "![image.png](attachment:image.png)"
   ]
  },
  {
   "cell_type": "markdown",
   "id": "bf3bb167",
   "metadata": {},
   "source": [
    "У этого метода есть модификация RICE (R от англ. reach, «охват»):"
   ]
  },
  {
   "attachments": {
    "image.png": {
     "image/png": "[encoded data removed]"
    }
   },
   "cell_type": "markdown",
   "id": "fa6fe5e2",
   "metadata": {},
   "source": [
    "![image.png](attachment:image.png)"
   ]
  },
  {
   "cell_type": "markdown",
   "id": "18e7bad5",
   "metadata": {},
   "source": [
    "Фреймворк RICE состоит из четырёх компонент:\n",
    "* ``Reach`` — скольких пользователей затронет изменение, которое вы хотите внести;\n",
    "* ``Impact`` — насколько сильно изменение повлияет на пользователей, их опыт и удовлетворение от продукта;\n",
    "* ``Confidence`` — насколько вы уверены, что это изменение повлияет на пользователей именно так;\n",
    "* ``Efforts`` — сколько стоит протестировать эту гипотезу.\n",
    "\n",
    "Посчитаем показатели ``ICE`` и ``RICE`` для каждой гипотезы. Создадим новые столбцы.\n",
    "\n",
    "Пронумеруем гипотезы для читабельности.\n",
    "\n",
    "* Гипотеза 1 - 'Добавить два новых канала привлечения трафика, что позволит привлекать на 30% больше пользователей',\n",
    "* Гипотеза 2 - 'Запустить собственную службу доставки, что сократит срок доставки заказов',\n",
    "* Гипотеза 3 - 'Добавить блоки рекомендаций товаров на сайт интернет магазина, чтобы повысить конверсию и средний чек заказа',\n",
    "* Гипотеза 4 - 'Изменить структура категорий, что увеличит конверсию, т.к. пользователи быстрее найдут нужный товар',\n",
    "* Гипотеза 5 - 'Изменить цвет фона главной страницы, чтобы увеличить вовлеченность пользователей',\n",
    "* Гипотеза 6 - 'Добавить страницу отзывов клиентов о магазине, что позволит увеличить количество заказов',\n",
    "* Гипотеза 7 - 'Показать на главной странице баннеры с актуальными акциями и распродажами, чтобы увеличить конверсию',\n",
    "* Гипотеза 8 - 'Добавить форму подписки на все основные страницы, чтобы собрать базу клиентов для email-рассылок',\n",
    "* Гипотеза 9 - 'Запустить акцию, дающую скидку на товар в день рождения'.\n"
   ]
  },
  {
   "cell_type": "code",
   "execution_count": 5,
   "id": "5229a3d2",
   "metadata": {},
   "outputs": [],
   "source": [
    "def hypothesis_number(row):\n",
    "    if row['Hypothesis'] == 'Добавить два новых канала привлечения трафика, что позволит привлекать на 30% больше пользователей':\n",
    "        return 'Гипотеза 1'\n",
    "    if row['Hypothesis'] == 'Запустить собственную службу доставки, что сократит срок доставки заказов':\n",
    "        return 'Гипотеза 2'\n",
    "    if row['Hypothesis'] == 'Добавить блоки рекомендаций товаров на сайт интернет магазина, чтобы повысить конверсию и средний чек заказа':\n",
    "        return 'Гипотеза 3'\n",
    "    if row['Hypothesis'] == 'Изменить структура категорий, что увеличит конверсию, т.к. пользователи быстрее найдут нужный товар':\n",
    "        return 'Гипотеза 4'\n",
    "    if row['Hypothesis'] == 'Изменить цвет фона главной страницы, чтобы увеличить вовлеченность пользователей':\n",
    "        return 'Гипотеза 5'\n",
    "    if row['Hypothesis'] == 'Добавить страницу отзывов клиентов о магазине, что позволит увеличить количество заказов':\n",
    "        return 'Гипотеза 6'\n",
    "    if row['Hypothesis'] == 'Показать на главной странице баннеры с актуальными акциями и распродажами, чтобы увеличить конверсию':\n",
    "        return 'Гипотеза 7'\n",
    "    if row['Hypothesis'] == 'Добавить форму подписки на все основные страницы, чтобы собрать базу клиентов для email-рассылок':\n",
    "        return 'Гипотеза 8'\n",
    "    if row['Hypothesis'] == 'Запустить акцию, дающую скидку на товар в день рождения':\n",
    "        return 'Гипотеза 9'\n",
    "\n",
    "    \n",
    "hypothesis['hypothesis_number'] = hypothesis.apply(hypothesis_number, axis = 1)"
   ]
  },
  {
   "cell_type": "code",
   "execution_count": 6,
   "id": "f0fc446a",
   "metadata": {},
   "outputs": [
    {
     "data": {
      "text/html": [
       "<div>\n",
       "<style scoped>\n",
       "    .dataframe tbody tr th:only-of-type {\n",
       "        vertical-align: middle;\n",
       "    }\n",
       "\n",
       "    .dataframe tbody tr th {\n",
       "        vertical-align: top;\n",
       "    }\n",
       "\n",
       "    .dataframe thead th {\n",
       "        text-align: right;\n",
       "    }\n",
       "</style>\n",
       "<table border=\"1\" class=\"dataframe\">\n",
       "  <thead>\n",
       "    <tr style=\"text-align: right;\">\n",
       "      <th></th>\n",
       "      <th>Hypothesis</th>\n",
       "      <th>Reach</th>\n",
       "      <th>Impact</th>\n",
       "      <th>Confidence</th>\n",
       "      <th>Efforts</th>\n",
       "      <th>hypothesis_number</th>\n",
       "      <th>ICE</th>\n",
       "      <th>RICE</th>\n",
       "    </tr>\n",
       "  </thead>\n",
       "  <tbody>\n",
       "    <tr>\n",
       "      <th>0</th>\n",
       "      <td>Добавить два новых канала привлечения трафика, что позволит привлекать на 30% больше пользователей</td>\n",
       "      <td>3</td>\n",
       "      <td>10</td>\n",
       "      <td>8</td>\n",
       "      <td>6</td>\n",
       "      <td>Гипотеза 1</td>\n",
       "      <td>13.333333</td>\n",
       "      <td>40.0</td>\n",
       "    </tr>\n",
       "    <tr>\n",
       "      <th>1</th>\n",
       "      <td>Запустить собственную службу доставки, что сократит срок доставки заказов</td>\n",
       "      <td>2</td>\n",
       "      <td>5</td>\n",
       "      <td>4</td>\n",
       "      <td>10</td>\n",
       "      <td>Гипотеза 2</td>\n",
       "      <td>2.000000</td>\n",
       "      <td>4.0</td>\n",
       "    </tr>\n",
       "    <tr>\n",
       "      <th>2</th>\n",
       "      <td>Добавить блоки рекомендаций товаров на сайт интернет магазина, чтобы повысить конверсию и средний чек заказа</td>\n",
       "      <td>8</td>\n",
       "      <td>3</td>\n",
       "      <td>7</td>\n",
       "      <td>3</td>\n",
       "      <td>Гипотеза 3</td>\n",
       "      <td>7.000000</td>\n",
       "      <td>56.0</td>\n",
       "    </tr>\n",
       "    <tr>\n",
       "      <th>3</th>\n",
       "      <td>Изменить структура категорий, что увеличит конверсию, т.к. пользователи быстрее найдут нужный товар</td>\n",
       "      <td>8</td>\n",
       "      <td>3</td>\n",
       "      <td>3</td>\n",
       "      <td>8</td>\n",
       "      <td>Гипотеза 4</td>\n",
       "      <td>1.125000</td>\n",
       "      <td>9.0</td>\n",
       "    </tr>\n",
       "    <tr>\n",
       "      <th>4</th>\n",
       "      <td>Изменить цвет фона главной страницы, чтобы увеличить вовлеченность пользователей</td>\n",
       "      <td>3</td>\n",
       "      <td>1</td>\n",
       "      <td>1</td>\n",
       "      <td>1</td>\n",
       "      <td>Гипотеза 5</td>\n",
       "      <td>1.000000</td>\n",
       "      <td>3.0</td>\n",
       "    </tr>\n",
       "    <tr>\n",
       "      <th>5</th>\n",
       "      <td>Добавить страницу отзывов клиентов о магазине, что позволит увеличить количество заказов</td>\n",
       "      <td>3</td>\n",
       "      <td>2</td>\n",
       "      <td>2</td>\n",
       "      <td>3</td>\n",
       "      <td>Гипотеза 6</td>\n",
       "      <td>1.333333</td>\n",
       "      <td>4.0</td>\n",
       "    </tr>\n",
       "    <tr>\n",
       "      <th>6</th>\n",
       "      <td>Показать на главной странице баннеры с актуальными акциями и распродажами, чтобы увеличить конверсию</td>\n",
       "      <td>5</td>\n",
       "      <td>3</td>\n",
       "      <td>8</td>\n",
       "      <td>3</td>\n",
       "      <td>Гипотеза 7</td>\n",
       "      <td>8.000000</td>\n",
       "      <td>40.0</td>\n",
       "    </tr>\n",
       "    <tr>\n",
       "      <th>7</th>\n",
       "      <td>Добавить форму подписки на все основные страницы, чтобы собрать базу клиентов для email-рассылок</td>\n",
       "      <td>10</td>\n",
       "      <td>7</td>\n",
       "      <td>8</td>\n",
       "      <td>5</td>\n",
       "      <td>Гипотеза 8</td>\n",
       "      <td>11.200000</td>\n",
       "      <td>112.0</td>\n",
       "    </tr>\n",
       "    <tr>\n",
       "      <th>8</th>\n",
       "      <td>Запустить акцию, дающую скидку на товар в день рождения</td>\n",
       "      <td>1</td>\n",
       "      <td>9</td>\n",
       "      <td>9</td>\n",
       "      <td>5</td>\n",
       "      <td>Гипотеза 9</td>\n",
       "      <td>16.200000</td>\n",
       "      <td>16.2</td>\n",
       "    </tr>\n",
       "  </tbody>\n",
       "</table>\n",
       "</div>"
      ],
      "text/plain": [
       "                                                                                                     Hypothesis  \\\n",
       "0            Добавить два новых канала привлечения трафика, что позволит привлекать на 30% больше пользователей   \n",
       "1                                     Запустить собственную службу доставки, что сократит срок доставки заказов   \n",
       "2  Добавить блоки рекомендаций товаров на сайт интернет магазина, чтобы повысить конверсию и средний чек заказа   \n",
       "3           Изменить структура категорий, что увеличит конверсию, т.к. пользователи быстрее найдут нужный товар   \n",
       "4                              Изменить цвет фона главной страницы, чтобы увеличить вовлеченность пользователей   \n",
       "5                      Добавить страницу отзывов клиентов о магазине, что позволит увеличить количество заказов   \n",
       "6          Показать на главной странице баннеры с актуальными акциями и распродажами, чтобы увеличить конверсию   \n",
       "7              Добавить форму подписки на все основные страницы, чтобы собрать базу клиентов для email-рассылок   \n",
       "8                                                       Запустить акцию, дающую скидку на товар в день рождения   \n",
       "\n",
       "   Reach  Impact  Confidence  Efforts hypothesis_number        ICE   RICE  \n",
       "0      3      10           8        6        Гипотеза 1  13.333333   40.0  \n",
       "1      2       5           4       10        Гипотеза 2   2.000000    4.0  \n",
       "2      8       3           7        3        Гипотеза 3   7.000000   56.0  \n",
       "3      8       3           3        8        Гипотеза 4   1.125000    9.0  \n",
       "4      3       1           1        1        Гипотеза 5   1.000000    3.0  \n",
       "5      3       2           2        3        Гипотеза 6   1.333333    4.0  \n",
       "6      5       3           8        3        Гипотеза 7   8.000000   40.0  \n",
       "7     10       7           8        5        Гипотеза 8  11.200000  112.0  \n",
       "8      1       9           9        5        Гипотеза 9  16.200000   16.2  "
      ]
     },
     "execution_count": 6,
     "metadata": {},
     "output_type": "execute_result"
    }
   ],
   "source": [
    "hypothesis['ICE'] = (hypothesis['Impact']*hypothesis['Confidence'])/hypothesis['Efforts']\n",
    "hypothesis['RICE'] = (hypothesis['Reach']*hypothesis['Impact']*hypothesis['Confidence'])/hypothesis['Efforts']\n",
    "hypothesis"
   ]
  },
  {
   "cell_type": "code",
   "execution_count": 7,
   "id": "70a3f8f5",
   "metadata": {},
   "outputs": [
    {
     "data": {
      "text/html": [
       "<div>\n",
       "<style scoped>\n",
       "    .dataframe tbody tr th:only-of-type {\n",
       "        vertical-align: middle;\n",
       "    }\n",
       "\n",
       "    .dataframe tbody tr th {\n",
       "        vertical-align: top;\n",
       "    }\n",
       "\n",
       "    .dataframe thead th {\n",
       "        text-align: right;\n",
       "    }\n",
       "</style>\n",
       "<table border=\"1\" class=\"dataframe\">\n",
       "  <thead>\n",
       "    <tr style=\"text-align: right;\">\n",
       "      <th></th>\n",
       "      <th>hypothesis_number</th>\n",
       "      <th>ICE</th>\n",
       "    </tr>\n",
       "  </thead>\n",
       "  <tbody>\n",
       "    <tr>\n",
       "      <th>8</th>\n",
       "      <td>Гипотеза 9</td>\n",
       "      <td>16.20</td>\n",
       "    </tr>\n",
       "    <tr>\n",
       "      <th>0</th>\n",
       "      <td>Гипотеза 1</td>\n",
       "      <td>13.33</td>\n",
       "    </tr>\n",
       "    <tr>\n",
       "      <th>7</th>\n",
       "      <td>Гипотеза 8</td>\n",
       "      <td>11.20</td>\n",
       "    </tr>\n",
       "    <tr>\n",
       "      <th>6</th>\n",
       "      <td>Гипотеза 7</td>\n",
       "      <td>8.00</td>\n",
       "    </tr>\n",
       "    <tr>\n",
       "      <th>2</th>\n",
       "      <td>Гипотеза 3</td>\n",
       "      <td>7.00</td>\n",
       "    </tr>\n",
       "    <tr>\n",
       "      <th>1</th>\n",
       "      <td>Гипотеза 2</td>\n",
       "      <td>2.00</td>\n",
       "    </tr>\n",
       "    <tr>\n",
       "      <th>5</th>\n",
       "      <td>Гипотеза 6</td>\n",
       "      <td>1.33</td>\n",
       "    </tr>\n",
       "    <tr>\n",
       "      <th>3</th>\n",
       "      <td>Гипотеза 4</td>\n",
       "      <td>1.12</td>\n",
       "    </tr>\n",
       "    <tr>\n",
       "      <th>4</th>\n",
       "      <td>Гипотеза 5</td>\n",
       "      <td>1.00</td>\n",
       "    </tr>\n",
       "  </tbody>\n",
       "</table>\n",
       "</div>"
      ],
      "text/plain": [
       "  hypothesis_number    ICE\n",
       "8        Гипотеза 9  16.20\n",
       "0        Гипотеза 1  13.33\n",
       "7        Гипотеза 8  11.20\n",
       "6        Гипотеза 7   8.00\n",
       "2        Гипотеза 3   7.00\n",
       "1        Гипотеза 2   2.00\n",
       "5        Гипотеза 6   1.33\n",
       "3        Гипотеза 4   1.12\n",
       "4        Гипотеза 5   1.00"
      ]
     },
     "metadata": {},
     "output_type": "display_data"
    },
    {
     "data": {
      "text/html": [
       "<div>\n",
       "<style scoped>\n",
       "    .dataframe tbody tr th:only-of-type {\n",
       "        vertical-align: middle;\n",
       "    }\n",
       "\n",
       "    .dataframe tbody tr th {\n",
       "        vertical-align: top;\n",
       "    }\n",
       "\n",
       "    .dataframe thead th {\n",
       "        text-align: right;\n",
       "    }\n",
       "</style>\n",
       "<table border=\"1\" class=\"dataframe\">\n",
       "  <thead>\n",
       "    <tr style=\"text-align: right;\">\n",
       "      <th></th>\n",
       "      <th>hypothesis_number</th>\n",
       "      <th>RICE</th>\n",
       "    </tr>\n",
       "  </thead>\n",
       "  <tbody>\n",
       "    <tr>\n",
       "      <th>7</th>\n",
       "      <td>Гипотеза 8</td>\n",
       "      <td>112.0</td>\n",
       "    </tr>\n",
       "    <tr>\n",
       "      <th>2</th>\n",
       "      <td>Гипотеза 3</td>\n",
       "      <td>56.0</td>\n",
       "    </tr>\n",
       "    <tr>\n",
       "      <th>0</th>\n",
       "      <td>Гипотеза 1</td>\n",
       "      <td>40.0</td>\n",
       "    </tr>\n",
       "    <tr>\n",
       "      <th>6</th>\n",
       "      <td>Гипотеза 7</td>\n",
       "      <td>40.0</td>\n",
       "    </tr>\n",
       "    <tr>\n",
       "      <th>8</th>\n",
       "      <td>Гипотеза 9</td>\n",
       "      <td>16.2</td>\n",
       "    </tr>\n",
       "    <tr>\n",
       "      <th>3</th>\n",
       "      <td>Гипотеза 4</td>\n",
       "      <td>9.0</td>\n",
       "    </tr>\n",
       "    <tr>\n",
       "      <th>1</th>\n",
       "      <td>Гипотеза 2</td>\n",
       "      <td>4.0</td>\n",
       "    </tr>\n",
       "    <tr>\n",
       "      <th>5</th>\n",
       "      <td>Гипотеза 6</td>\n",
       "      <td>4.0</td>\n",
       "    </tr>\n",
       "    <tr>\n",
       "      <th>4</th>\n",
       "      <td>Гипотеза 5</td>\n",
       "      <td>3.0</td>\n",
       "    </tr>\n",
       "  </tbody>\n",
       "</table>\n",
       "</div>"
      ],
      "text/plain": [
       "  hypothesis_number   RICE\n",
       "7        Гипотеза 8  112.0\n",
       "2        Гипотеза 3   56.0\n",
       "0        Гипотеза 1   40.0\n",
       "6        Гипотеза 7   40.0\n",
       "8        Гипотеза 9   16.2\n",
       "3        Гипотеза 4    9.0\n",
       "1        Гипотеза 2    4.0\n",
       "5        Гипотеза 6    4.0\n",
       "4        Гипотеза 5    3.0"
      ]
     },
     "execution_count": 7,
     "metadata": {},
     "output_type": "execute_result"
    }
   ],
   "source": [
    "display(round(hypothesis[['hypothesis_number','ICE']].sort_values(by='ICE', ascending=False), 2))\n",
    "hypothesis[['hypothesis_number','RICE']].sort_values(by='RICE', ascending=False)"
   ]
  },
  {
   "cell_type": "markdown",
   "id": "469d14b3",
   "metadata": {},
   "source": [
    "Приоритеты гипотез существенно изменились, так как фреймворк RICE содержит компонент ``reach``, который показывает какую по численности аудиторию затронет изменение, которое планируется внести.\n",
    "\n",
    "* При расчете ICE наиболее перспективные гипотезы - 9, 1, 8, 7, 3\n",
    "* При расчете RICE наиболее перспективные гипотезы - 8, 3, 1, 7, 9\n",
    "\n",
    "И первый и второй метод выделяет пять приоритетных- гипотез - 1, 3, 7, 8 и 9-ую. Только меняется последовательность их по приоритетности."
   ]
  },
  {
   "cell_type": "markdown",
   "id": "e33a41ec",
   "metadata": {},
   "source": [
    "**Вывод.**"
   ]
  },
  {
   "cell_type": "markdown",
   "id": "caf804fb",
   "metadata": {},
   "source": [
    "Применив фреймворк ICE и RICE для приоритизации гипотез вы выяснили, что наиболее приоритетные гипотезы с учетом того, как много пользователей они затронут, это следующие гипотезы:\n",
    "* Добавить форму подписки на все основные страницы, чтобы собрать базу клиентов для email-рассылок;\n",
    "* Добавить блоки рекомендаций товаров на сайт интернет магазина, чтобы повысить конверсию и средний чек заказа;\n",
    "* Добавить два новых канала привлечения трафика, что позволит привлекать на 30% больше пользователей;\n",
    "* Показать на главной странице баннеры с актуальными акциями и распродажами, чтобы увеличить конверсию;\n",
    "* Запустить акцию, дающую скидку на товар в день рождения."
   ]
  },
  {
   "cell_type": "markdown",
   "id": "a2788192",
   "metadata": {},
   "source": [
    "## Часть 2.\n",
    "## Анализ A/B-теста"
   ]
  },
  {
   "cell_type": "markdown",
   "id": "7b69db54",
   "metadata": {},
   "source": [
    "Прочтем файлы ``orders.csv`` и ``visitors.csv``. Изучим информацию."
   ]
  },
  {
   "cell_type": "code",
   "execution_count": 8,
   "id": "7cd49b3c",
   "metadata": {},
   "outputs": [
    {
     "data": {
      "text/html": [
       "<div>\n",
       "<style scoped>\n",
       "    .dataframe tbody tr th:only-of-type {\n",
       "        vertical-align: middle;\n",
       "    }\n",
       "\n",
       "    .dataframe tbody tr th {\n",
       "        vertical-align: top;\n",
       "    }\n",
       "\n",
       "    .dataframe thead th {\n",
       "        text-align: right;\n",
       "    }\n",
       "</style>\n",
       "<table border=\"1\" class=\"dataframe\">\n",
       "  <thead>\n",
       "    <tr style=\"text-align: right;\">\n",
       "      <th></th>\n",
       "      <th>transactionId</th>\n",
       "      <th>visitorId</th>\n",
       "      <th>date</th>\n",
       "      <th>revenue</th>\n",
       "      <th>group</th>\n",
       "    </tr>\n",
       "  </thead>\n",
       "  <tbody>\n",
       "    <tr>\n",
       "      <th>0</th>\n",
       "      <td>3667963787</td>\n",
       "      <td>3312258926</td>\n",
       "      <td>2019-08-15</td>\n",
       "      <td>1650</td>\n",
       "      <td>B</td>\n",
       "    </tr>\n",
       "    <tr>\n",
       "      <th>1</th>\n",
       "      <td>2804400009</td>\n",
       "      <td>3642806036</td>\n",
       "      <td>2019-08-15</td>\n",
       "      <td>730</td>\n",
       "      <td>B</td>\n",
       "    </tr>\n",
       "    <tr>\n",
       "      <th>2</th>\n",
       "      <td>2961555356</td>\n",
       "      <td>4069496402</td>\n",
       "      <td>2019-08-15</td>\n",
       "      <td>400</td>\n",
       "      <td>A</td>\n",
       "    </tr>\n",
       "    <tr>\n",
       "      <th>3</th>\n",
       "      <td>3797467345</td>\n",
       "      <td>1196621759</td>\n",
       "      <td>2019-08-15</td>\n",
       "      <td>9759</td>\n",
       "      <td>B</td>\n",
       "    </tr>\n",
       "    <tr>\n",
       "      <th>4</th>\n",
       "      <td>2282983706</td>\n",
       "      <td>2322279887</td>\n",
       "      <td>2019-08-15</td>\n",
       "      <td>2308</td>\n",
       "      <td>B</td>\n",
       "    </tr>\n",
       "    <tr>\n",
       "      <th>...</th>\n",
       "      <td>...</td>\n",
       "      <td>...</td>\n",
       "      <td>...</td>\n",
       "      <td>...</td>\n",
       "      <td>...</td>\n",
       "    </tr>\n",
       "    <tr>\n",
       "      <th>1192</th>\n",
       "      <td>2662137336</td>\n",
       "      <td>3733762160</td>\n",
       "      <td>2019-08-14</td>\n",
       "      <td>6490</td>\n",
       "      <td>B</td>\n",
       "    </tr>\n",
       "    <tr>\n",
       "      <th>1193</th>\n",
       "      <td>2203539145</td>\n",
       "      <td>370388673</td>\n",
       "      <td>2019-08-14</td>\n",
       "      <td>3190</td>\n",
       "      <td>A</td>\n",
       "    </tr>\n",
       "    <tr>\n",
       "      <th>1194</th>\n",
       "      <td>1807773912</td>\n",
       "      <td>573423106</td>\n",
       "      <td>2019-08-14</td>\n",
       "      <td>10550</td>\n",
       "      <td>A</td>\n",
       "    </tr>\n",
       "    <tr>\n",
       "      <th>1195</th>\n",
       "      <td>1947021204</td>\n",
       "      <td>1614305549</td>\n",
       "      <td>2019-08-14</td>\n",
       "      <td>100</td>\n",
       "      <td>A</td>\n",
       "    </tr>\n",
       "    <tr>\n",
       "      <th>1196</th>\n",
       "      <td>3936777065</td>\n",
       "      <td>2108080724</td>\n",
       "      <td>2019-08-15</td>\n",
       "      <td>202740</td>\n",
       "      <td>B</td>\n",
       "    </tr>\n",
       "  </tbody>\n",
       "</table>\n",
       "<p>1197 rows × 5 columns</p>\n",
       "</div>"
      ],
      "text/plain": [
       "      transactionId   visitorId        date  revenue group\n",
       "0        3667963787  3312258926  2019-08-15     1650     B\n",
       "1        2804400009  3642806036  2019-08-15      730     B\n",
       "2        2961555356  4069496402  2019-08-15      400     A\n",
       "3        3797467345  1196621759  2019-08-15     9759     B\n",
       "4        2282983706  2322279887  2019-08-15     2308     B\n",
       "...             ...         ...         ...      ...   ...\n",
       "1192     2662137336  3733762160  2019-08-14     6490     B\n",
       "1193     2203539145   370388673  2019-08-14     3190     A\n",
       "1194     1807773912   573423106  2019-08-14    10550     A\n",
       "1195     1947021204  1614305549  2019-08-14      100     A\n",
       "1196     3936777065  2108080724  2019-08-15   202740     B\n",
       "\n",
       "[1197 rows x 5 columns]"
      ]
     },
     "metadata": {},
     "output_type": "display_data"
    },
    {
     "data": {
      "text/html": [
       "<div>\n",
       "<style scoped>\n",
       "    .dataframe tbody tr th:only-of-type {\n",
       "        vertical-align: middle;\n",
       "    }\n",
       "\n",
       "    .dataframe tbody tr th {\n",
       "        vertical-align: top;\n",
       "    }\n",
       "\n",
       "    .dataframe thead th {\n",
       "        text-align: right;\n",
       "    }\n",
       "</style>\n",
       "<table border=\"1\" class=\"dataframe\">\n",
       "  <thead>\n",
       "    <tr style=\"text-align: right;\">\n",
       "      <th></th>\n",
       "      <th>date</th>\n",
       "      <th>group</th>\n",
       "      <th>visitors</th>\n",
       "    </tr>\n",
       "  </thead>\n",
       "  <tbody>\n",
       "    <tr>\n",
       "      <th>0</th>\n",
       "      <td>2019-08-01</td>\n",
       "      <td>A</td>\n",
       "      <td>719</td>\n",
       "    </tr>\n",
       "    <tr>\n",
       "      <th>1</th>\n",
       "      <td>2019-08-02</td>\n",
       "      <td>A</td>\n",
       "      <td>619</td>\n",
       "    </tr>\n",
       "    <tr>\n",
       "      <th>2</th>\n",
       "      <td>2019-08-03</td>\n",
       "      <td>A</td>\n",
       "      <td>507</td>\n",
       "    </tr>\n",
       "    <tr>\n",
       "      <th>3</th>\n",
       "      <td>2019-08-04</td>\n",
       "      <td>A</td>\n",
       "      <td>717</td>\n",
       "    </tr>\n",
       "    <tr>\n",
       "      <th>4</th>\n",
       "      <td>2019-08-05</td>\n",
       "      <td>A</td>\n",
       "      <td>756</td>\n",
       "    </tr>\n",
       "    <tr>\n",
       "      <th>...</th>\n",
       "      <td>...</td>\n",
       "      <td>...</td>\n",
       "      <td>...</td>\n",
       "    </tr>\n",
       "    <tr>\n",
       "      <th>57</th>\n",
       "      <td>2019-08-27</td>\n",
       "      <td>B</td>\n",
       "      <td>720</td>\n",
       "    </tr>\n",
       "    <tr>\n",
       "      <th>58</th>\n",
       "      <td>2019-08-28</td>\n",
       "      <td>B</td>\n",
       "      <td>654</td>\n",
       "    </tr>\n",
       "    <tr>\n",
       "      <th>59</th>\n",
       "      <td>2019-08-29</td>\n",
       "      <td>B</td>\n",
       "      <td>531</td>\n",
       "    </tr>\n",
       "    <tr>\n",
       "      <th>60</th>\n",
       "      <td>2019-08-30</td>\n",
       "      <td>B</td>\n",
       "      <td>490</td>\n",
       "    </tr>\n",
       "    <tr>\n",
       "      <th>61</th>\n",
       "      <td>2019-08-31</td>\n",
       "      <td>B</td>\n",
       "      <td>718</td>\n",
       "    </tr>\n",
       "  </tbody>\n",
       "</table>\n",
       "<p>62 rows × 3 columns</p>\n",
       "</div>"
      ],
      "text/plain": [
       "          date group  visitors\n",
       "0   2019-08-01     A       719\n",
       "1   2019-08-02     A       619\n",
       "2   2019-08-03     A       507\n",
       "3   2019-08-04     A       717\n",
       "4   2019-08-05     A       756\n",
       "..         ...   ...       ...\n",
       "57  2019-08-27     B       720\n",
       "58  2019-08-28     B       654\n",
       "59  2019-08-29     B       531\n",
       "60  2019-08-30     B       490\n",
       "61  2019-08-31     B       718\n",
       "\n",
       "[62 rows x 3 columns]"
      ]
     },
     "execution_count": 8,
     "metadata": {},
     "output_type": "execute_result"
    }
   ],
   "source": [
    "display(orders)\n",
    "visitors"
   ]
  },
  {
   "cell_type": "code",
   "execution_count": 9,
   "id": "8794bd58",
   "metadata": {},
   "outputs": [
    {
     "name": "stdout",
     "output_type": "stream",
     "text": [
      "<class 'pandas.core.frame.DataFrame'>\n",
      "RangeIndex: 1197 entries, 0 to 1196\n",
      "Data columns (total 5 columns):\n",
      " #   Column         Non-Null Count  Dtype \n",
      "---  ------         --------------  ----- \n",
      " 0   transactionId  1197 non-null   int64 \n",
      " 1   visitorId      1197 non-null   int64 \n",
      " 2   date           1197 non-null   object\n",
      " 3   revenue        1197 non-null   int64 \n",
      " 4   group          1197 non-null   object\n",
      "dtypes: int64(3), object(2)\n",
      "memory usage: 46.9+ KB\n"
     ]
    }
   ],
   "source": [
    "orders.info()"
   ]
  },
  {
   "cell_type": "code",
   "execution_count": 10,
   "id": "a532ffe4",
   "metadata": {},
   "outputs": [
    {
     "name": "stdout",
     "output_type": "stream",
     "text": [
      "<class 'pandas.core.frame.DataFrame'>\n",
      "RangeIndex: 62 entries, 0 to 61\n",
      "Data columns (total 3 columns):\n",
      " #   Column    Non-Null Count  Dtype \n",
      "---  ------    --------------  ----- \n",
      " 0   date      62 non-null     object\n",
      " 1   group     62 non-null     object\n",
      " 2   visitors  62 non-null     int64 \n",
      "dtypes: int64(1), object(2)\n",
      "memory usage: 1.6+ KB\n"
     ]
    }
   ],
   "source": [
    "visitors.info()"
   ]
  },
  {
   "cell_type": "code",
   "execution_count": 11,
   "id": "56cf25a1",
   "metadata": {},
   "outputs": [
    {
     "data": {
      "text/plain": [
       "503"
      ]
     },
     "execution_count": 11,
     "metadata": {},
     "output_type": "execute_result"
    }
   ],
   "source": [
    "orders.query('group == \"A\"')['visitorId'].nunique()"
   ]
  },
  {
   "cell_type": "code",
   "execution_count": 12,
   "id": "4725652e",
   "metadata": {},
   "outputs": [
    {
     "data": {
      "text/plain": [
       "586"
      ]
     },
     "execution_count": 12,
     "metadata": {},
     "output_type": "execute_result"
    }
   ],
   "source": [
    "orders.query('group == \"B\"')['visitorId'].nunique()"
   ]
  },
  {
   "cell_type": "code",
   "execution_count": 13,
   "id": "0d1225a1",
   "metadata": {},
   "outputs": [
    {
     "data": {
      "text/plain": [
       "557"
      ]
     },
     "execution_count": 13,
     "metadata": {},
     "output_type": "execute_result"
    }
   ],
   "source": [
    "orders.query('group == \"A\"')['visitorId'].count()"
   ]
  },
  {
   "cell_type": "code",
   "execution_count": 14,
   "id": "11d4be17",
   "metadata": {},
   "outputs": [
    {
     "data": {
      "text/plain": [
       "640"
      ]
     },
     "execution_count": 14,
     "metadata": {},
     "output_type": "execute_result"
    }
   ],
   "source": [
    "orders.query('group == \"B\"')['visitorId'].count()"
   ]
  },
  {
   "cell_type": "code",
   "execution_count": 15,
   "id": "33dea7df",
   "metadata": {},
   "outputs": [],
   "source": [
    "uniqueA = orders.query('group == \"A\"')['visitorId'].unique()"
   ]
  },
  {
   "cell_type": "code",
   "execution_count": 16,
   "id": "bcc5a968",
   "metadata": {},
   "outputs": [
    {
     "data": {
      "text/html": [
       "<div>\n",
       "<style scoped>\n",
       "    .dataframe tbody tr th:only-of-type {\n",
       "        vertical-align: middle;\n",
       "    }\n",
       "\n",
       "    .dataframe tbody tr th {\n",
       "        vertical-align: top;\n",
       "    }\n",
       "\n",
       "    .dataframe thead th {\n",
       "        text-align: right;\n",
       "    }\n",
       "</style>\n",
       "<table border=\"1\" class=\"dataframe\">\n",
       "  <thead>\n",
       "    <tr style=\"text-align: right;\">\n",
       "      <th></th>\n",
       "      <th>transactionId</th>\n",
       "      <th>visitorId</th>\n",
       "      <th>date</th>\n",
       "      <th>revenue</th>\n",
       "      <th>group</th>\n",
       "    </tr>\n",
       "  </thead>\n",
       "  <tbody>\n",
       "    <tr>\n",
       "      <th>20</th>\n",
       "      <td>2904772834</td>\n",
       "      <td>963407295</td>\n",
       "      <td>2019-08-15</td>\n",
       "      <td>300</td>\n",
       "      <td>B</td>\n",
       "    </tr>\n",
       "    <tr>\n",
       "      <th>23</th>\n",
       "      <td>4252514150</td>\n",
       "      <td>351125977</td>\n",
       "      <td>2019-08-15</td>\n",
       "      <td>15185</td>\n",
       "      <td>B</td>\n",
       "    </tr>\n",
       "    <tr>\n",
       "      <th>24</th>\n",
       "      <td>1162046357</td>\n",
       "      <td>3234906277</td>\n",
       "      <td>2019-08-15</td>\n",
       "      <td>7555</td>\n",
       "      <td>B</td>\n",
       "    </tr>\n",
       "    <tr>\n",
       "      <th>27</th>\n",
       "      <td>1630050528</td>\n",
       "      <td>237748145</td>\n",
       "      <td>2019-08-15</td>\n",
       "      <td>7620</td>\n",
       "      <td>B</td>\n",
       "    </tr>\n",
       "    <tr>\n",
       "      <th>32</th>\n",
       "      <td>3666913472</td>\n",
       "      <td>2038680547</td>\n",
       "      <td>2019-08-15</td>\n",
       "      <td>1680</td>\n",
       "      <td>B</td>\n",
       "    </tr>\n",
       "    <tr>\n",
       "      <th>...</th>\n",
       "      <td>...</td>\n",
       "      <td>...</td>\n",
       "      <td>...</td>\n",
       "      <td>...</td>\n",
       "      <td>...</td>\n",
       "    </tr>\n",
       "    <tr>\n",
       "      <th>1172</th>\n",
       "      <td>3898641900</td>\n",
       "      <td>3803269165</td>\n",
       "      <td>2019-08-14</td>\n",
       "      <td>790</td>\n",
       "      <td>B</td>\n",
       "    </tr>\n",
       "    <tr>\n",
       "      <th>1175</th>\n",
       "      <td>1373388206</td>\n",
       "      <td>3717692402</td>\n",
       "      <td>2019-08-14</td>\n",
       "      <td>2400</td>\n",
       "      <td>B</td>\n",
       "    </tr>\n",
       "    <tr>\n",
       "      <th>1182</th>\n",
       "      <td>2682156369</td>\n",
       "      <td>1668030113</td>\n",
       "      <td>2019-08-14</td>\n",
       "      <td>1290</td>\n",
       "      <td>B</td>\n",
       "    </tr>\n",
       "    <tr>\n",
       "      <th>1184</th>\n",
       "      <td>1329499668</td>\n",
       "      <td>2949041841</td>\n",
       "      <td>2019-08-14</td>\n",
       "      <td>10380</td>\n",
       "      <td>B</td>\n",
       "    </tr>\n",
       "    <tr>\n",
       "      <th>1189</th>\n",
       "      <td>4082620617</td>\n",
       "      <td>393266494</td>\n",
       "      <td>2019-08-14</td>\n",
       "      <td>31550</td>\n",
       "      <td>B</td>\n",
       "    </tr>\n",
       "  </tbody>\n",
       "</table>\n",
       "<p>92 rows × 5 columns</p>\n",
       "</div>"
      ],
      "text/plain": [
       "      transactionId   visitorId        date  revenue group\n",
       "20       2904772834   963407295  2019-08-15      300     B\n",
       "23       4252514150   351125977  2019-08-15    15185     B\n",
       "24       1162046357  3234906277  2019-08-15     7555     B\n",
       "27       1630050528   237748145  2019-08-15     7620     B\n",
       "32       3666913472  2038680547  2019-08-15     1680     B\n",
       "...             ...         ...         ...      ...   ...\n",
       "1172     3898641900  3803269165  2019-08-14      790     B\n",
       "1175     1373388206  3717692402  2019-08-14     2400     B\n",
       "1182     2682156369  1668030113  2019-08-14     1290     B\n",
       "1184     1329499668  2949041841  2019-08-14    10380     B\n",
       "1189     4082620617   393266494  2019-08-14    31550     B\n",
       "\n",
       "[92 rows x 5 columns]"
      ]
     },
     "execution_count": 16,
     "metadata": {},
     "output_type": "execute_result"
    }
   ],
   "source": [
    "orders.query('group == \"B\" and visitorId in @uniqueA')"
   ]
  },
  {
   "cell_type": "code",
   "execution_count": 17,
   "id": "0adda850",
   "metadata": {},
   "outputs": [
    {
     "data": {
      "text/html": [
       "<div>\n",
       "<style scoped>\n",
       "    .dataframe tbody tr th:only-of-type {\n",
       "        vertical-align: middle;\n",
       "    }\n",
       "\n",
       "    .dataframe tbody tr th {\n",
       "        vertical-align: top;\n",
       "    }\n",
       "\n",
       "    .dataframe thead th {\n",
       "        text-align: right;\n",
       "    }\n",
       "</style>\n",
       "<table border=\"1\" class=\"dataframe\">\n",
       "  <thead>\n",
       "    <tr style=\"text-align: right;\">\n",
       "      <th></th>\n",
       "      <th>transactionId</th>\n",
       "      <th>visitorId</th>\n",
       "      <th>date</th>\n",
       "      <th>revenue</th>\n",
       "      <th>group</th>\n",
       "    </tr>\n",
       "  </thead>\n",
       "  <tbody>\n",
       "    <tr>\n",
       "      <th>0</th>\n",
       "      <td>3667963787</td>\n",
       "      <td>3312258926</td>\n",
       "      <td>2019-08-15</td>\n",
       "      <td>1650</td>\n",
       "      <td>B</td>\n",
       "    </tr>\n",
       "    <tr>\n",
       "      <th>1</th>\n",
       "      <td>2804400009</td>\n",
       "      <td>3642806036</td>\n",
       "      <td>2019-08-15</td>\n",
       "      <td>730</td>\n",
       "      <td>B</td>\n",
       "    </tr>\n",
       "    <tr>\n",
       "      <th>3</th>\n",
       "      <td>3797467345</td>\n",
       "      <td>1196621759</td>\n",
       "      <td>2019-08-15</td>\n",
       "      <td>9759</td>\n",
       "      <td>B</td>\n",
       "    </tr>\n",
       "    <tr>\n",
       "      <th>4</th>\n",
       "      <td>2282983706</td>\n",
       "      <td>2322279887</td>\n",
       "      <td>2019-08-15</td>\n",
       "      <td>2308</td>\n",
       "      <td>B</td>\n",
       "    </tr>\n",
       "    <tr>\n",
       "      <th>5</th>\n",
       "      <td>182168103</td>\n",
       "      <td>935554773</td>\n",
       "      <td>2019-08-15</td>\n",
       "      <td>2210</td>\n",
       "      <td>B</td>\n",
       "    </tr>\n",
       "    <tr>\n",
       "      <th>...</th>\n",
       "      <td>...</td>\n",
       "      <td>...</td>\n",
       "      <td>...</td>\n",
       "      <td>...</td>\n",
       "      <td>...</td>\n",
       "    </tr>\n",
       "    <tr>\n",
       "      <th>1186</th>\n",
       "      <td>2116724386</td>\n",
       "      <td>2146711261</td>\n",
       "      <td>2019-08-14</td>\n",
       "      <td>15380</td>\n",
       "      <td>B</td>\n",
       "    </tr>\n",
       "    <tr>\n",
       "      <th>1190</th>\n",
       "      <td>38478481</td>\n",
       "      <td>1197745035</td>\n",
       "      <td>2019-08-14</td>\n",
       "      <td>8600</td>\n",
       "      <td>B</td>\n",
       "    </tr>\n",
       "    <tr>\n",
       "      <th>1191</th>\n",
       "      <td>3592955527</td>\n",
       "      <td>608641596</td>\n",
       "      <td>2019-08-14</td>\n",
       "      <td>16490</td>\n",
       "      <td>B</td>\n",
       "    </tr>\n",
       "    <tr>\n",
       "      <th>1192</th>\n",
       "      <td>2662137336</td>\n",
       "      <td>3733762160</td>\n",
       "      <td>2019-08-14</td>\n",
       "      <td>6490</td>\n",
       "      <td>B</td>\n",
       "    </tr>\n",
       "    <tr>\n",
       "      <th>1196</th>\n",
       "      <td>3936777065</td>\n",
       "      <td>2108080724</td>\n",
       "      <td>2019-08-15</td>\n",
       "      <td>202740</td>\n",
       "      <td>B</td>\n",
       "    </tr>\n",
       "  </tbody>\n",
       "</table>\n",
       "<p>548 rows × 5 columns</p>\n",
       "</div>"
      ],
      "text/plain": [
       "      transactionId   visitorId        date  revenue group\n",
       "0        3667963787  3312258926  2019-08-15     1650     B\n",
       "1        2804400009  3642806036  2019-08-15      730     B\n",
       "3        3797467345  1196621759  2019-08-15     9759     B\n",
       "4        2282983706  2322279887  2019-08-15     2308     B\n",
       "5         182168103   935554773  2019-08-15     2210     B\n",
       "...             ...         ...         ...      ...   ...\n",
       "1186     2116724386  2146711261  2019-08-14    15380     B\n",
       "1190       38478481  1197745035  2019-08-14     8600     B\n",
       "1191     3592955527   608641596  2019-08-14    16490     B\n",
       "1192     2662137336  3733762160  2019-08-14     6490     B\n",
       "1196     3936777065  2108080724  2019-08-15   202740     B\n",
       "\n",
       "[548 rows x 5 columns]"
      ]
     },
     "execution_count": 17,
     "metadata": {},
     "output_type": "execute_result"
    }
   ],
   "source": [
    "orders.query('group == \"B\" and visitorId not in @uniqueA')"
   ]
  },
  {
   "cell_type": "markdown",
   "id": "08186909",
   "metadata": {},
   "source": [
    "Размеры выборок отличаются незначительно. Аудитории в большинстве своем разные."
   ]
  },
  {
   "cell_type": "code",
   "execution_count": 18,
   "id": "503f1fb8",
   "metadata": {},
   "outputs": [],
   "source": [
    "orders = orders.rename(columns = {'transactionId' : 'transaction_id', 'visitorId' : 'visitor_id'})"
   ]
  },
  {
   "cell_type": "code",
   "execution_count": 19,
   "id": "056c2a52",
   "metadata": {},
   "outputs": [],
   "source": [
    "orders['date'] = pd.to_datetime(orders['date'], format='%Y-%m-%d', errors='ignore')          # приведем столбцы к типу дата\n",
    "visitors['date'] = pd.to_datetime(visitors['date'], format='%Y-%m-%d', errors='ignore')"
   ]
  },
  {
   "cell_type": "code",
   "execution_count": 20,
   "id": "4cbc69c1",
   "metadata": {},
   "outputs": [],
   "source": [
    "orders[['transaction_id','visitor_id']] = orders[['transaction_id','visitor_id']].astype(object)"
   ]
  },
  {
   "cell_type": "code",
   "execution_count": 21,
   "id": "9e528e88",
   "metadata": {},
   "outputs": [
    {
     "name": "stdout",
     "output_type": "stream",
     "text": [
      "min    01 August 2019\n",
      "max    31 August 2019\n",
      "Name: date, dtype: object\n",
      "min    01 August 2019\n",
      "max    31 August 2019\n",
      "Name: date, dtype: object\n"
     ]
    }
   ],
   "source": [
    "print(orders.query('group == \"B\"').date.agg(['min','max']).apply('{:%d %B %Y}'.format))\n",
    "print(orders.query('group == \"A\"').date.agg(['min','max']).apply('{:%d %B %Y}'.format))"
   ]
  },
  {
   "cell_type": "markdown",
   "id": "ea664715",
   "metadata": {},
   "source": [
    "Итак мы привели данные к нужным типам, изучили их содержание. Продолжим анализ А/В теста поэтапно."
   ]
  },
  {
   "cell_type": "code",
   "execution_count": 22,
   "id": "c476c608",
   "metadata": {},
   "outputs": [
    {
     "data": {
      "text/plain": [
       "0"
      ]
     },
     "execution_count": 22,
     "metadata": {},
     "output_type": "execute_result"
    }
   ],
   "source": [
    "orders.duplicated().sum()"
   ]
  },
  {
   "cell_type": "code",
   "execution_count": 23,
   "id": "da02059d",
   "metadata": {},
   "outputs": [
    {
     "data": {
      "image/png": "[encoded data removed]",
      "text/plain": [
       "<Figure size 1152x576 with 1 Axes>"
      ]
     },
     "metadata": {
      "needs_background": "light"
     },
     "output_type": "display_data"
    }
   ],
   "source": [
    "(\n",
    "    orders.\n",
    "    pivot_table(index='date', values='visitor_id', columns='group', aggfunc ='count').\n",
    "    plot(title = 'Динамика посетителей по дням', figsize = (16,8))\n",
    ")\n",
    "plt.xlabel('Дата')\n",
    "plt.ylabel('Количество посещений')\n",
    "plt.show()"
   ]
  },
  {
   "cell_type": "markdown",
   "id": "6779a37e",
   "metadata": {},
   "source": [
    "В целом визуально можно определить, что посещений в группе В больше, особенно в первой половине месяца. Так же можно заметить закономерность, что динамика посещений колеблется изо дня в день, причем в один день большое количество посещений в группе В соответствует малой активности в группе А, и наоборот."
   ]
  },
  {
   "cell_type": "markdown",
   "id": "65de2708",
   "metadata": {},
   "source": [
    "**1.\tПостройте график кумулятивной выручки по группам. Сделайте выводы и предположения.**"
   ]
  },
  {
   "cell_type": "markdown",
   "id": "0f59ed98",
   "metadata": {},
   "source": [
    "Чтобы построить графики, нужно собрать кумулятивные данные. Объявим датафрейм ``cumulativeData`` со столбцами:\n",
    "*\t``date`` — дата;\n",
    "*\t``group`` — группа A/B-теста (A или B);\n",
    "*\t``orders`` — кумулятивное количество заказов на указанную дату в указанной группе;\n",
    "*\t``buyers`` — кумулятивное количество пользователей, совершивших хотя бы один заказ, на указанную дату в указанной группе;\n",
    "*\t``revenue`` — кумулятивная выручка на указанную дату в указанной группе (средний чек);\n",
    "*\t``visitors`` — кумулятивное количество посетителей интернет-магазина на указанную дату в определённой группе.\n",
    "\n",
    "Создадим массив уникальных пар значений дат и групп теста методом drop_duplicates():"
   ]
  },
  {
   "cell_type": "code",
   "execution_count": 24,
   "id": "72b2ab4f",
   "metadata": {},
   "outputs": [],
   "source": [
    "# создаем массив уникальных пар значений дат и групп теста\n",
    "datesGroups = orders[['date','group']].drop_duplicates() "
   ]
  },
  {
   "cell_type": "markdown",
   "id": "1545d666",
   "metadata": {},
   "source": [
    "Соберём агрегированные кумулятивные по дням данные о заказах в несколько действий.\n",
    "Получим строки таблицы ``orders``, дата которых меньше или равна дате элемента из ``datesGroups``, а группа теста равна группе из ``datesGroups``:"
   ]
  },
  {
   "cell_type": "code",
   "execution_count": 25,
   "id": "2afd2a4e",
   "metadata": {},
   "outputs": [
    {
     "data": {
      "text/html": [
       "<div>\n",
       "<style scoped>\n",
       "    .dataframe tbody tr th:only-of-type {\n",
       "        vertical-align: middle;\n",
       "    }\n",
       "\n",
       "    .dataframe tbody tr th {\n",
       "        vertical-align: top;\n",
       "    }\n",
       "\n",
       "    .dataframe thead th {\n",
       "        text-align: right;\n",
       "    }\n",
       "</style>\n",
       "<table border=\"1\" class=\"dataframe\">\n",
       "  <thead>\n",
       "    <tr style=\"text-align: right;\">\n",
       "      <th></th>\n",
       "      <th>date</th>\n",
       "      <th>group</th>\n",
       "      <th>orders</th>\n",
       "      <th>buyers</th>\n",
       "      <th>revenue</th>\n",
       "      <th>visitors</th>\n",
       "    </tr>\n",
       "  </thead>\n",
       "  <tbody>\n",
       "    <tr>\n",
       "      <th>0</th>\n",
       "      <td>2019-08-01</td>\n",
       "      <td>A</td>\n",
       "      <td>24</td>\n",
       "      <td>20</td>\n",
       "      <td>148579</td>\n",
       "      <td>719</td>\n",
       "    </tr>\n",
       "    <tr>\n",
       "      <th>1</th>\n",
       "      <td>2019-08-01</td>\n",
       "      <td>B</td>\n",
       "      <td>21</td>\n",
       "      <td>20</td>\n",
       "      <td>101217</td>\n",
       "      <td>713</td>\n",
       "    </tr>\n",
       "    <tr>\n",
       "      <th>2</th>\n",
       "      <td>2019-08-02</td>\n",
       "      <td>A</td>\n",
       "      <td>44</td>\n",
       "      <td>38</td>\n",
       "      <td>242401</td>\n",
       "      <td>1338</td>\n",
       "    </tr>\n",
       "    <tr>\n",
       "      <th>3</th>\n",
       "      <td>2019-08-02</td>\n",
       "      <td>B</td>\n",
       "      <td>45</td>\n",
       "      <td>43</td>\n",
       "      <td>266748</td>\n",
       "      <td>1294</td>\n",
       "    </tr>\n",
       "    <tr>\n",
       "      <th>4</th>\n",
       "      <td>2019-08-03</td>\n",
       "      <td>A</td>\n",
       "      <td>68</td>\n",
       "      <td>62</td>\n",
       "      <td>354874</td>\n",
       "      <td>1845</td>\n",
       "    </tr>\n",
       "  </tbody>\n",
       "</table>\n",
       "</div>"
      ],
      "text/plain": [
       "        date group  orders  buyers  revenue  visitors\n",
       "0 2019-08-01     A      24      20   148579       719\n",
       "1 2019-08-01     B      21      20   101217       713\n",
       "2 2019-08-02     A      44      38   242401      1338\n",
       "3 2019-08-02     B      45      43   266748      1294\n",
       "4 2019-08-03     A      68      62   354874      1845"
      ]
     },
     "execution_count": 25,
     "metadata": {},
     "output_type": "execute_result"
    }
   ],
   "source": [
    "# получаем агрегированные кумулятивные по дням данные о заказах \n",
    "ordersAggregated = (\n",
    "    datesGroups.\n",
    "    apply(lambda x: orders[np.logical_and(orders['date'] <= x['date'], orders['group'] == x['group'])].\n",
    "          agg({'date' : 'max',\n",
    "               'group' : 'max',\n",
    "               'transaction_id' : 'nunique',\n",
    "               'visitor_id' : 'nunique',\n",
    "               'revenue' : 'sum'}), axis=1).\n",
    "    sort_values(by=['date','group'])\n",
    ")\n",
    "\n",
    "# получаем агрегированные кумулятивные по дням данные о посетителях интернет-магазина \n",
    "visitorsAggregated = (\n",
    "    datesGroups.\n",
    "    apply(lambda x: visitors[np.logical_and(visitors['date'] <= x['date'], visitors['group'] == x['group'])].\n",
    "          agg({'date' : 'max', 'group' : 'max', 'visitors' : 'sum'}), axis=1).\n",
    "    sort_values(by=['date','group'])\n",
    ")\n",
    "\n",
    "ordersAggregated = ordersAggregated.sort_values(by=['date','group'])\n",
    "\n",
    "visitorsAggregated = visitorsAggregated.sort_values(by=['date','group'])\n",
    "\n",
    "cumulativeData = ordersAggregated.merge(visitorsAggregated, left_on=['date', 'group'], right_on=['date', 'group'])\n",
    "cumulativeData.columns = ['date', 'group', 'orders', 'buyers', 'revenue', 'visitors']\n",
    "\n",
    "cumulativeData.head()\n"
   ]
  },
  {
   "cell_type": "markdown",
   "id": "60f59852",
   "metadata": {},
   "source": [
    "Перейдем к построению графиков."
   ]
  },
  {
   "cell_type": "code",
   "execution_count": 26,
   "id": "29863ac9",
   "metadata": {},
   "outputs": [
    {
     "data": {
      "image/png": "[encoded data removed]",
      "text/plain": [
       "<Figure size 1152x576 with 1 Axes>"
      ]
     },
     "metadata": {
      "needs_background": "light"
     },
     "output_type": "display_data"
    }
   ],
   "source": [
    "# датафрейм с кумулятивным количеством заказов и кумулятивной выручкой по дням в группе А\n",
    "cumulativeRevenueA = cumulativeData[cumulativeData['group']=='A'][['date','revenue', 'orders']]\n",
    "\n",
    "# датафрейм с кумулятивным количеством заказов и кумулятивной выручкой по дням в группе B\n",
    "cumulativeRevenueB = cumulativeData[cumulativeData['group']=='B'][['date','revenue', 'orders']]\n",
    "\n",
    "\n",
    "plt.figure(figsize=(16, 8))\n",
    "\n",
    "# Строим график выручки группы А\n",
    "plt.plot(cumulativeRevenueA['date'], cumulativeRevenueA['revenue'], label='A')\n",
    "\n",
    "# Строим график выручки группы B\n",
    "plt.plot(cumulativeRevenueB['date'], cumulativeRevenueB['revenue'], label='B')\n",
    "\n",
    "plt.legend()\n",
    "plt.title('Кумулятивная выручка по группам')\n",
    "plt.xlabel('Дата')\n",
    "plt.ylabel('Выручка')\n",
    "plt.show()\n"
   ]
  },
  {
   "cell_type": "markdown",
   "id": "6cbfbfda",
   "metadata": {},
   "source": [
    "Сегмент В лидировал практически весь период проведения теста. Необходимо не забывать о влиянии аномально больших заказов на результат теста. При заключительном анализе их нужно будет удалить, если они есть. По графику можно увидеть, что 19.08.2021 года был совершен заказ на аномально большую сумму. Этот факт нужно изучить более детально."
   ]
  },
  {
   "cell_type": "markdown",
   "id": "e230f679",
   "metadata": {},
   "source": [
    "**2.\tПостройте график кумулятивного среднего чека по группам. Сделайте выводы и предположения.**"
   ]
  },
  {
   "cell_type": "code",
   "execution_count": 27,
   "id": "77602ad8",
   "metadata": {},
   "outputs": [
    {
     "data": {
      "image/png": "[encoded data removed]",
      "text/plain": [
       "<Figure size 1152x576 with 1 Axes>"
      ]
     },
     "metadata": {
      "needs_background": "light"
     },
     "output_type": "display_data"
    }
   ],
   "source": [
    "plt.figure(figsize=(16, 8))\n",
    "\n",
    "# Строим график среднего чека группы А\n",
    "plt.plot(cumulativeRevenueA['date'], cumulativeRevenueA['revenue']/cumulativeRevenueA['orders'], label='A')\n",
    "\n",
    "# Строим график среднего чека группы B\n",
    "plt.plot(cumulativeRevenueB['date'], cumulativeRevenueB['revenue']/cumulativeRevenueB['orders'], label='B')\n",
    "\n",
    "plt.legend()\n",
    "plt.title('Кумулятивный средний чек по группам')\n",
    "plt.xlabel('Дата')\n",
    "plt.ylabel('Средний чек')\n",
    "plt.show()"
   ]
  },
  {
   "cell_type": "markdown",
   "id": "52ec0efa",
   "metadata": {},
   "source": [
    "Кумулятивное значение среднего чека по сегментам сильно колеблется. 19 августа произошел резкий скачок размера среднего чека в сегменте В. В сегменте А показатель так же не стабилен. Скорее всего, принимать решение по этой метрике рано. Или требуется дополнительный анализ выбросов, которые сильно искажают результаты."
   ]
  },
  {
   "cell_type": "markdown",
   "id": "1918aa22",
   "metadata": {},
   "source": [
    "**3.\tПостройте график относительного изменения кумулятивного среднего чека группы B к группе A. Сделайте выводы и предположения.**"
   ]
  },
  {
   "cell_type": "markdown",
   "id": "0f694d8f",
   "metadata": {},
   "source": [
    "Для этого объединим таблицы ``cumulativeRevenueA`` и ``cumulativeRevenueB`` методом merge()."
   ]
  },
  {
   "cell_type": "code",
   "execution_count": 28,
   "id": "e7292b3d",
   "metadata": {},
   "outputs": [
    {
     "data": {
      "image/png": "[encoded data removed]",
      "text/plain": [
       "<Figure size 1152x576 with 1 Axes>"
      ]
     },
     "metadata": {
      "needs_background": "light"
     },
     "output_type": "display_data"
    }
   ],
   "source": [
    "mergedCumulativeRevenue = (\n",
    "    cumulativeRevenueA.\n",
    "    merge(cumulativeRevenueB, left_on='date', right_on='date', how='left', suffixes=['A', 'B'])\n",
    ")\n",
    "\n",
    "plt.figure(figsize=(16, 8))\n",
    "\n",
    "# cтроим отношение средних чеков\n",
    "plt.plot\\\n",
    "(mergedCumulativeRevenue['date'],(mergedCumulativeRevenue['revenueB']\\\n",
    "/mergedCumulativeRevenue['ordersB'])/(mergedCumulativeRevenue['revenueA']\\\n",
    "/mergedCumulativeRevenue['ordersA'])-1,\\\n",
    " label=\"Относительный прирост конверсии группы B относительно группы A\")\n",
    "\n",
    "# добавляем ось X\n",
    "plt.axhline(y=0, color='black', linestyle='--')\n",
    "plt.title('Относительное изменение кумулятивного среднего чека группы B к группе A')\n",
    "plt.xlabel('Дата')\n",
    "plt.ylabel('Доля')\n",
    "plt.show()"
   ]
  },
  {
   "cell_type": "markdown",
   "id": "d9ed0620",
   "metadata": {},
   "source": [
    "Мы построили график относительного различия в среднем чеке между группами. Результаты теста значительно и резко менялись в несколько дат. Видимо, именно в эти даты были совершены аномальные заказы."
   ]
  },
  {
   "cell_type": "markdown",
   "id": "32535a76",
   "metadata": {},
   "source": [
    "**4.\tПостройте график кумулятивного среднего количества заказов по группам. Сделайте выводы и предположения.**"
   ]
  },
  {
   "cell_type": "markdown",
   "id": "88162fe2",
   "metadata": {},
   "source": [
    "Добавим в ``cumulativeData`` столбец ``conversion`` c отношением числа заказов к количеству пользователей в указанной группе в указанный день.\n",
    "\n",
    "Объявим переменные ``cumulativeDataA`` и ``cumulativeDataB``, в которых сохраним данные о заказах в сегментах A и B соответственно.\n",
    "\n",
    "Построим графики кумулятивной конверсии по дням по группам.\n"
   ]
  },
  {
   "cell_type": "code",
   "execution_count": 29,
   "id": "5f73ef71",
   "metadata": {},
   "outputs": [
    {
     "data": {
      "image/png": "[encoded data removed]",
      "text/plain": [
       "<Figure size 1152x576 with 1 Axes>"
      ]
     },
     "metadata": {
      "needs_background": "light"
     },
     "output_type": "display_data"
    }
   ],
   "source": [
    "cumulativeData['conversion'] = cumulativeData['orders']/cumulativeData['visitors']\n",
    "cumulativeDataA = cumulativeData.query('group == \"A\"')\n",
    "cumulativeDataB = cumulativeData.query('group == \"B\"')\n",
    "\n",
    "\n",
    "plt.figure(figsize=(16, 8))\n",
    "\n",
    "# строим графики\n",
    "plt.plot(cumulativeDataA['date'], cumulativeDataA['conversion'], label='A')\n",
    "plt.plot(cumulativeDataB['date'], cumulativeDataB['conversion'], label='B')\n",
    "plt.legend()\n",
    "\n",
    "plt.axis([dt.datetime(2019, 7, 31), dt.datetime(2019, 9, 1), 0, 0.05])\n",
    "plt.title('Кумулятивное среднее количество заказов по группам')\n",
    "plt.xlabel('Дата')\n",
    "plt.ylabel('Конверсия')\n",
    "plt.show()"
   ]
  },
  {
   "cell_type": "markdown",
   "id": "2c4734b4",
   "metadata": {},
   "source": [
    "В начале теста сегмент A переодически имел большую конверсию, но постепенно сегмент B выровнялся и зафиксировался примерно около одного значения, больше значения сегмента A.\n",
    "Мы изменили масштаб графика, чтобы было видно, что абсолютное значение колебания в начале и в конце теста не слишком большое: от 3% до 4%. В относительных величинах — это почти в 1,3 раза."
   ]
  },
  {
   "cell_type": "markdown",
   "id": "72cd7662",
   "metadata": {},
   "source": [
    "**5.\tПостройте график относительного изменения кумулятивного среднего количества заказов группы B к группе A. Сделайте выводы и предположения.**"
   ]
  },
  {
   "cell_type": "markdown",
   "id": "c4ebc52e",
   "metadata": {},
   "source": [
    "Объединим таблицы ``cumulativeDataA`` и ``cumulativeDataB``. "
   ]
  },
  {
   "cell_type": "code",
   "execution_count": 30,
   "id": "4fc49169",
   "metadata": {},
   "outputs": [
    {
     "data": {
      "image/png": "[encoded data removed]",
      "text/plain": [
       "<Figure size 1152x576 with 1 Axes>"
      ]
     },
     "metadata": {
      "needs_background": "light"
     },
     "output_type": "display_data"
    }
   ],
   "source": [
    "mergedCumulativeConversions = (\n",
    "    cumulativeDataA[['date','conversion']].\n",
    "    merge(cumulativeDataB[['date','conversion']], left_on='date', right_on='date', how='left', suffixes=['A', 'B'])\n",
    ")\n",
    "\n",
    "plt.figure(figsize=(16, 8))\n",
    "\n",
    "plt.plot(mergedCumulativeConversions['date'],\\\n",
    "         mergedCumulativeConversions['conversionB']/mergedCumulativeConversions['conversionA']-1,\\\n",
    "         label=\"Относительный прирост конверсии группы B относительно группы A\")\n",
    "\n",
    "plt.legend()\n",
    "\n",
    "plt.axhline(y=0, color='black', linestyle='--')\n",
    "plt.axhline(y=0.2, color='grey', linestyle='--')\n",
    "plt.axis([dt.datetime(2019, 8, 1), dt.datetime(2019, 9, 1), -0.5, 0.5])\n",
    "plt.title('Относительное изменение кумулятивного среднего количества заказов группы B к группе A')\n",
    "plt.xlabel('Дата')\n",
    "plt.ylabel('Конверсия')\n",
    "plt.show()"
   ]
  },
  {
   "cell_type": "markdown",
   "id": "747df14c",
   "metadata": {},
   "source": [
    "Мы построили график относительного различия конверсии между группами.\n",
    "Почти с самого начала теста группа B лидирует по конверсии: становится лучше и лучше до середины теста, дошла до отметки в 20% относительно группы A, затем идет на спад до 10 %."
   ]
  },
  {
   "cell_type": "markdown",
   "id": "0652e6ea",
   "metadata": {},
   "source": [
    "**6.\tПостройте точечный график количества заказов по пользователям. Сделайте выводы и предположения.**"
   ]
  },
  {
   "cell_type": "code",
   "execution_count": 31,
   "id": "56e7bca6",
   "metadata": {},
   "outputs": [
    {
     "data": {
      "text/html": [
       "<div>\n",
       "<style scoped>\n",
       "    .dataframe tbody tr th:only-of-type {\n",
       "        vertical-align: middle;\n",
       "    }\n",
       "\n",
       "    .dataframe tbody tr th {\n",
       "        vertical-align: top;\n",
       "    }\n",
       "\n",
       "    .dataframe thead th {\n",
       "        text-align: right;\n",
       "    }\n",
       "</style>\n",
       "<table border=\"1\" class=\"dataframe\">\n",
       "  <thead>\n",
       "    <tr style=\"text-align: right;\">\n",
       "      <th></th>\n",
       "      <th>visitors</th>\n",
       "      <th>orders</th>\n",
       "    </tr>\n",
       "  </thead>\n",
       "  <tbody>\n",
       "    <tr>\n",
       "      <th>1023</th>\n",
       "      <td>4256040402</td>\n",
       "      <td>11</td>\n",
       "    </tr>\n",
       "    <tr>\n",
       "      <th>591</th>\n",
       "      <td>2458001652</td>\n",
       "      <td>11</td>\n",
       "    </tr>\n",
       "    <tr>\n",
       "      <th>569</th>\n",
       "      <td>2378935119</td>\n",
       "      <td>9</td>\n",
       "    </tr>\n",
       "    <tr>\n",
       "      <th>487</th>\n",
       "      <td>2038680547</td>\n",
       "      <td>8</td>\n",
       "    </tr>\n",
       "    <tr>\n",
       "      <th>44</th>\n",
       "      <td>199603092</td>\n",
       "      <td>5</td>\n",
       "    </tr>\n",
       "    <tr>\n",
       "      <th>744</th>\n",
       "      <td>3062433592</td>\n",
       "      <td>5</td>\n",
       "    </tr>\n",
       "    <tr>\n",
       "      <th>55</th>\n",
       "      <td>237748145</td>\n",
       "      <td>5</td>\n",
       "    </tr>\n",
       "    <tr>\n",
       "      <th>917</th>\n",
       "      <td>3803269165</td>\n",
       "      <td>5</td>\n",
       "    </tr>\n",
       "    <tr>\n",
       "      <th>299</th>\n",
       "      <td>1230306981</td>\n",
       "      <td>5</td>\n",
       "    </tr>\n",
       "    <tr>\n",
       "      <th>897</th>\n",
       "      <td>3717692402</td>\n",
       "      <td>5</td>\n",
       "    </tr>\n",
       "  </tbody>\n",
       "</table>\n",
       "</div>"
      ],
      "text/plain": [
       "        visitors  orders\n",
       "1023  4256040402      11\n",
       "591   2458001652      11\n",
       "569   2378935119       9\n",
       "487   2038680547       8\n",
       "44     199603092       5\n",
       "744   3062433592       5\n",
       "55     237748145       5\n",
       "917   3803269165       5\n",
       "299   1230306981       5\n",
       "897   3717692402       5"
      ]
     },
     "metadata": {},
     "output_type": "display_data"
    }
   ],
   "source": [
    "ordersByUsers = (\n",
    "    orders.groupby('visitor_id', as_index=False)\n",
    "    .agg({'transaction_id': 'nunique'})\n",
    ")\n",
    "\n",
    "ordersByUsers.columns = ['visitors', 'orders']\n",
    "\n",
    "display(ordersByUsers.sort_values(by='orders', ascending=False).head(10)) \n"
   ]
  },
  {
   "cell_type": "markdown",
   "id": "77686e53",
   "metadata": {},
   "source": [
    "Есть пользователи которые совершали 11, 9 и 8 заказов за весь период. Построим точечную диаграмму числа заказов на одного пользователя:"
   ]
  },
  {
   "cell_type": "code",
   "execution_count": 32,
   "id": "00aa9a4c",
   "metadata": {},
   "outputs": [
    {
     "data": {
      "image/png": "[encoded data removed]",
      "text/plain": [
       "<Figure size 1152x576 with 1 Axes>"
      ]
     },
     "metadata": {
      "needs_background": "light"
     },
     "output_type": "display_data"
    }
   ],
   "source": [
    "x_values = pd.Series(range(0,len(ordersByUsers)))\n",
    "\n",
    "plt.figure(figsize=(16, 8))\n",
    "plt.scatter(x_values, ordersByUsers['orders'])\n",
    "plt.title('Распределение количества заказов по пользователям')\n",
    "plt.xlabel('Пользователь')\n",
    "plt.ylabel('Заказы')\n",
    "plt.show()"
   ]
  },
  {
   "cell_type": "markdown",
   "id": "34b9b71e",
   "metadata": {},
   "source": [
    "Большинство пользователей совершали по 1 заказу, но есть часть пользователей, которые совершали по 2 заказа и более. Исходя из графика нельзя однозначно определить аномальные значения для данного показателя."
   ]
  },
  {
   "cell_type": "markdown",
   "id": "d35137ce",
   "metadata": {},
   "source": [
    "**7.\tПосчитайте 95-й и 99-й перцентили количества заказов на пользователя. Выберите границу для определения аномальных пользователей.**"
   ]
  },
  {
   "cell_type": "markdown",
   "id": "15bb1803",
   "metadata": {},
   "source": [
    "Для определения аномалий в данных принято отсеивать от 1% до 5% наблюдений с крайними значениями.\n",
    "\n",
    "Если делить упорядоченную выборку на 100 — получим перцентиль (от лат. per centum + ile, «на сотню, процент»). N-й выборочный перцентиль — значение, больше которого определённая доля элементов выборки. Найдем 95-й и 99-й перцентиль."
   ]
  },
  {
   "cell_type": "code",
   "execution_count": 33,
   "id": "c854f92d",
   "metadata": {},
   "outputs": [
    {
     "data": {
      "text/plain": [
       "array([2., 4.])"
      ]
     },
     "execution_count": 33,
     "metadata": {},
     "output_type": "execute_result"
    }
   ],
   "source": [
    "np.percentile(ordersByUsers['orders'], [95, 99])"
   ]
  },
  {
   "cell_type": "markdown",
   "id": "5b3aa4b6",
   "metadata": {},
   "source": [
    "Не более 5% пользователей оформляли от 2 заказов. Примем за аномальные значения число заказов от 2 и более. "
   ]
  },
  {
   "cell_type": "markdown",
   "id": "4217631e",
   "metadata": {},
   "source": [
    "**8.\tПостройте точечный график стоимостей заказов. Сделайте выводы и предположения.**"
   ]
  },
  {
   "cell_type": "code",
   "execution_count": 34,
   "id": "a414cbf0",
   "metadata": {},
   "outputs": [
    {
     "data": {
      "image/png": "[encoded data removed]",
      "text/plain": [
       "<Figure size 1152x576 with 1 Axes>"
      ]
     },
     "metadata": {
      "needs_background": "light"
     },
     "output_type": "display_data"
    }
   ],
   "source": [
    "x_values = pd.Series(range(0,len(orders['revenue'])))\n",
    "\n",
    "plt.figure(figsize=(16, 8))\n",
    "plt.scatter(x_values, orders['revenue'])\n",
    "plt.title('Распределение стоимостей заказов по пользователям')\n",
    "plt.xlabel('Пользователь')\n",
    "plt.ylabel('Стоимость заказа')\n",
    "plt.show()"
   ]
  },
  {
   "cell_type": "markdown",
   "id": "52db73e9",
   "metadata": {},
   "source": [
    "Исходя из графика, есть несколько дорогих заказов. Можно выбрать границу аномальных заказов более 100 000 рублей. Однако принято отсеивать от 1% до 5% наблюдений с крайними значениями."
   ]
  },
  {
   "cell_type": "code",
   "execution_count": 35,
   "id": "a3e98e91",
   "metadata": {},
   "outputs": [
    {
     "data": {
      "image/png": "[encoded data removed]",
      "text/plain": [
       "<Figure size 1152x576 with 1 Axes>"
      ]
     },
     "metadata": {
      "needs_background": "light"
     },
     "output_type": "display_data"
    }
   ],
   "source": [
    "x_values = pd.Series(range(0,len(orders['revenue'])))\n",
    "\n",
    "plt.figure(figsize=(16, 8))\n",
    "plt.scatter(x_values, orders['revenue'])\n",
    "plt.ylim(top = 100000, bottom = 0)\n",
    "plt.title('Распределение стоимостей заказов по пользователям')\n",
    "plt.xlabel('Пользователь')\n",
    "plt.ylabel('Стоимость заказа')\n",
    "plt.show()"
   ]
  },
  {
   "cell_type": "markdown",
   "id": "7a31e9fc",
   "metadata": {},
   "source": [
    "Сложно наглядно определить, какие из значений стоимостей заказов являются аномальными, поэтому воспользуемся расчетами."
   ]
  },
  {
   "cell_type": "markdown",
   "id": "422a4108",
   "metadata": {},
   "source": [
    "**9.\tПосчитайте 95-й и 99-й перцентили стоимости заказов. Выберите границу для определения аномальных заказов.**"
   ]
  },
  {
   "cell_type": "code",
   "execution_count": 36,
   "id": "cb917b3f",
   "metadata": {},
   "outputs": [
    {
     "name": "stdout",
     "output_type": "stream",
     "text": [
      "[28000.  58233.2]\n"
     ]
    }
   ],
   "source": [
    "print(np.percentile(orders['revenue'], [95, 99])) "
   ]
  },
  {
   "cell_type": "markdown",
   "id": "46903e1f",
   "metadata": {},
   "source": [
    "Не более 5% заказов дороже 28 000 рублей и не более 1% дороже 58 233 рублей. За аномальные значения примем заказы дороже 28 000 рублей."
   ]
  },
  {
   "cell_type": "markdown",
   "id": "452d1e7f",
   "metadata": {},
   "source": [
    "**10.\tПосчитайте статистическую значимость различий в среднем количестве заказов между группами по «сырым» данным. Сделайте выводы и предположения.**"
   ]
  },
  {
   "cell_type": "markdown",
   "id": "0ba39ce6",
   "metadata": {},
   "source": [
    "Посчитаем статистическую значимость различий в среднем числе заказов на пользователя и среднем чеке между группами по «сырым» данным — без удаления аномальных пользователей.\n",
    "Сформулируем гипотезы. Нулевая: различий в среднем количестве заказов между группами нет. Альтернативная: различия в среднем между группами есть."
   ]
  },
  {
   "cell_type": "code",
   "execution_count": 37,
   "id": "6bc8399e",
   "metadata": {},
   "outputs": [
    {
     "data": {
      "text/html": [
       "<div>\n",
       "<style scoped>\n",
       "    .dataframe tbody tr th:only-of-type {\n",
       "        vertical-align: middle;\n",
       "    }\n",
       "\n",
       "    .dataframe tbody tr th {\n",
       "        vertical-align: top;\n",
       "    }\n",
       "\n",
       "    .dataframe thead th {\n",
       "        text-align: right;\n",
       "    }\n",
       "</style>\n",
       "<table border=\"1\" class=\"dataframe\">\n",
       "  <thead>\n",
       "    <tr style=\"text-align: right;\">\n",
       "      <th></th>\n",
       "      <th>date</th>\n",
       "      <th>ordersPerDateA</th>\n",
       "      <th>revenuePerDateA</th>\n",
       "      <th>ordersPerDateB</th>\n",
       "      <th>revenuePerDateB</th>\n",
       "      <th>ordersCummulativeA</th>\n",
       "      <th>revenueCummulativeA</th>\n",
       "      <th>ordersCummulativeB</th>\n",
       "      <th>revenueCummulativeB</th>\n",
       "      <th>visitorsPerDateA</th>\n",
       "      <th>visitorsPerDateB</th>\n",
       "      <th>visitorsCummulativeA</th>\n",
       "      <th>visitorsCummulativeB</th>\n",
       "    </tr>\n",
       "  </thead>\n",
       "  <tbody>\n",
       "    <tr>\n",
       "      <th>0</th>\n",
       "      <td>2019-08-01</td>\n",
       "      <td>24</td>\n",
       "      <td>148579</td>\n",
       "      <td>21</td>\n",
       "      <td>101217</td>\n",
       "      <td>24</td>\n",
       "      <td>148579</td>\n",
       "      <td>21</td>\n",
       "      <td>101217</td>\n",
       "      <td>719</td>\n",
       "      <td>713</td>\n",
       "      <td>719</td>\n",
       "      <td>713</td>\n",
       "    </tr>\n",
       "    <tr>\n",
       "      <th>1</th>\n",
       "      <td>2019-08-02</td>\n",
       "      <td>20</td>\n",
       "      <td>93822</td>\n",
       "      <td>24</td>\n",
       "      <td>165531</td>\n",
       "      <td>44</td>\n",
       "      <td>242401</td>\n",
       "      <td>45</td>\n",
       "      <td>266748</td>\n",
       "      <td>619</td>\n",
       "      <td>581</td>\n",
       "      <td>1338</td>\n",
       "      <td>1294</td>\n",
       "    </tr>\n",
       "    <tr>\n",
       "      <th>2</th>\n",
       "      <td>2019-08-03</td>\n",
       "      <td>24</td>\n",
       "      <td>112473</td>\n",
       "      <td>16</td>\n",
       "      <td>114248</td>\n",
       "      <td>68</td>\n",
       "      <td>354874</td>\n",
       "      <td>61</td>\n",
       "      <td>380996</td>\n",
       "      <td>507</td>\n",
       "      <td>509</td>\n",
       "      <td>1845</td>\n",
       "      <td>1803</td>\n",
       "    </tr>\n",
       "    <tr>\n",
       "      <th>3</th>\n",
       "      <td>2019-08-04</td>\n",
       "      <td>16</td>\n",
       "      <td>70825</td>\n",
       "      <td>17</td>\n",
       "      <td>108571</td>\n",
       "      <td>84</td>\n",
       "      <td>425699</td>\n",
       "      <td>78</td>\n",
       "      <td>489567</td>\n",
       "      <td>717</td>\n",
       "      <td>770</td>\n",
       "      <td>2562</td>\n",
       "      <td>2573</td>\n",
       "    </tr>\n",
       "    <tr>\n",
       "      <th>4</th>\n",
       "      <td>2019-08-05</td>\n",
       "      <td>25</td>\n",
       "      <td>124218</td>\n",
       "      <td>23</td>\n",
       "      <td>92428</td>\n",
       "      <td>109</td>\n",
       "      <td>549917</td>\n",
       "      <td>101</td>\n",
       "      <td>581995</td>\n",
       "      <td>756</td>\n",
       "      <td>707</td>\n",
       "      <td>3318</td>\n",
       "      <td>3280</td>\n",
       "    </tr>\n",
       "  </tbody>\n",
       "</table>\n",
       "</div>"
      ],
      "text/plain": [
       "        date  ordersPerDateA  revenuePerDateA  ordersPerDateB  \\\n",
       "0 2019-08-01              24           148579              21   \n",
       "1 2019-08-02              20            93822              24   \n",
       "2 2019-08-03              24           112473              16   \n",
       "3 2019-08-04              16            70825              17   \n",
       "4 2019-08-05              25           124218              23   \n",
       "\n",
       "   revenuePerDateB  ordersCummulativeA  revenueCummulativeA  \\\n",
       "0           101217                  24               148579   \n",
       "1           165531                  44               242401   \n",
       "2           114248                  68               354874   \n",
       "3           108571                  84               425699   \n",
       "4            92428                 109               549917   \n",
       "\n",
       "   ordersCummulativeB  revenueCummulativeB  visitorsPerDateA  \\\n",
       "0                  21               101217               719   \n",
       "1                  45               266748               619   \n",
       "2                  61               380996               507   \n",
       "3                  78               489567               717   \n",
       "4                 101               581995               756   \n",
       "\n",
       "   visitorsPerDateB  visitorsCummulativeA  visitorsCummulativeB  \n",
       "0               713                   719                   713  \n",
       "1               581                  1338                  1294  \n",
       "2               509                  1845                  1803  \n",
       "3               770                  2562                  2573  \n",
       "4               707                  3318                  3280  "
      ]
     },
     "metadata": {},
     "output_type": "display_data"
    }
   ],
   "source": [
    "visitorsADaily = visitors[visitors['group'] == 'A'][['date', 'visitors']]\n",
    "visitorsADaily.columns = ['date', 'visitorsPerDateA']\n",
    "\n",
    "visitorsACummulative = visitorsADaily.apply(\n",
    "    lambda x: visitorsADaily[visitorsADaily['date'] <= x['date']].agg(\n",
    "        {'date': 'max', 'visitorsPerDateA': 'sum'}\n",
    "    ),\n",
    "    axis=1,\n",
    ")\n",
    "visitorsACummulative.columns = ['date', 'visitorsCummulativeA']\n",
    "\n",
    "visitorsBDaily = visitors[visitors['group'] == 'B'][['date', 'visitors']]\n",
    "visitorsBDaily.columns = ['date', 'visitorsPerDateB']\n",
    "\n",
    "visitorsBCummulative = visitorsBDaily.apply(\n",
    "    lambda x: visitorsBDaily[visitorsBDaily['date'] <= x['date']].agg(\n",
    "        {'date': 'max', 'visitorsPerDateB': 'sum'}\n",
    "    ),\n",
    "    axis=1,\n",
    ")\n",
    "visitorsBCummulative.columns = ['date', 'visitorsCummulativeB']\n",
    "\n",
    "ordersADaily = (\n",
    "    orders[orders['group'] == 'A'][['date', 'transaction_id', 'visitor_id', 'revenue']]\n",
    "    .groupby('date', as_index=False)\n",
    "    .agg({'transaction_id': pd.Series.nunique, 'revenue': 'sum'})\n",
    ")\n",
    "ordersADaily.columns = ['date', 'ordersPerDateA', 'revenuePerDateA']\n",
    "\n",
    "ordersACummulative = ordersADaily.apply(\n",
    "    lambda x: ordersADaily[ordersADaily['date'] <= x['date']].agg(\n",
    "        {'date': 'max', 'ordersPerDateA': 'sum', 'revenuePerDateA': 'sum'}\n",
    "    ),\n",
    "    axis=1,\n",
    ").sort_values(by=['date'])\n",
    "ordersACummulative.columns = [\n",
    "    'date',\n",
    "    'ordersCummulativeA',\n",
    "    'revenueCummulativeA',\n",
    "]\n",
    "\n",
    "ordersBDaily = (\n",
    "    orders[orders['group'] == 'B'][['date', 'transaction_id', 'visitor_id', 'revenue']]\n",
    "    .groupby('date', as_index=False)\n",
    "    .agg({'transaction_id': pd.Series.nunique, 'revenue': 'sum'})\n",
    ")\n",
    "ordersBDaily.columns = ['date', 'ordersPerDateB', 'revenuePerDateB']\n",
    "\n",
    "ordersBCummulative = ordersBDaily.apply(\n",
    "    lambda x: ordersBDaily[ordersBDaily['date'] <= x['date']].agg(\n",
    "        {'date': 'max', 'ordersPerDateB': 'sum', 'revenuePerDateB': 'sum'}\n",
    "    ),\n",
    "    axis=1,\n",
    ").sort_values(by=['date'])\n",
    "ordersBCummulative.columns = [\n",
    "    'date',\n",
    "    'ordersCummulativeB',\n",
    "    'revenueCummulativeB',\n",
    "]\n",
    "\n",
    "data = (\n",
    "    ordersADaily.merge(\n",
    "        ordersBDaily, left_on='date', right_on='date', how='left'\n",
    "    )\n",
    "    .merge(ordersACummulative, left_on='date', right_on='date', how='left')\n",
    "    .merge(ordersBCummulative, left_on='date', right_on='date', how='left')\n",
    "    .merge(visitorsADaily, left_on='date', right_on='date', how='left')\n",
    "    .merge(visitorsBDaily, left_on='date', right_on='date', how='left')\n",
    "    .merge(visitorsACummulative, left_on='date', right_on='date', how='left')\n",
    "    .merge(visitorsBCummulative, left_on='date', right_on='date', how='left')\n",
    ")\n",
    "\n",
    "display(data.head(5)) \n"
   ]
  },
  {
   "cell_type": "markdown",
   "id": "50f427f7",
   "metadata": {},
   "source": [
    "Напомним названия столбцов данных:\n",
    "*\t``date`` — дата;\n",
    "*\t``ordersPerDateA`` — количество заказов в выбранную дату в группе A;\n",
    "*\t``revenuePerDateA`` — суммарная выручка в выбранную дату в группе A;\n",
    "*\t``ordersPerDateB`` — количество заказов в выбранную дату в группе B;\n",
    "*\t``revenuePerDateB`` — суммарная выручка в выбранную дату в группе B;\n",
    "*\t``ordersCummulativeA`` — суммарное число заказов до выбранной даты включительно в группе A;\n",
    "*\t``revenueCummulativeA`` — суммарная выручка до выбранной даты включительно в группе A;\n",
    "*\t``ordersCummulativeB`` — суммарное количество заказов до выбранной даты включительно в группе B;\n",
    "*\t``revenueCummulativeB`` — суммарная выручка до выбранной даты включительно в группе B;\n",
    "*\t``visitorsPerDateA`` — количество пользователей в выбранную дату в группе A;\n",
    "*\t``visitorsPerDateB`` — количество пользователей в выбранную дату в группе B;\n",
    "*\t``visitorsCummulativeA`` — количество пользователей до выбранной даты включительно в группе A;\n",
    "*\t``visitorsCummulativeB`` — количество пользователей до выбранной даты включительно в группе B.\n"
   ]
  },
  {
   "cell_type": "markdown",
   "id": "99bc89f3",
   "metadata": {},
   "source": [
    "Посчитаем статистическую значимость различия в среднем количестве заказов между группами.\n",
    "Создадим переменные ``ordersByUsersA`` и ``ordersByUsersB`` со столбцами ``visitor_id``, ``orders``. В них для пользователей, которые заказывали хотя бы 1 раз, укажем число совершённых заказов."
   ]
  },
  {
   "cell_type": "code",
   "execution_count": 38,
   "id": "097edb7d",
   "metadata": {},
   "outputs": [],
   "source": [
    "ordersByUsersA = (\n",
    "    orders[orders['group'] == 'A']\n",
    "    .groupby('visitor_id', as_index=False)\n",
    "    .agg({'transaction_id': pd.Series.nunique})\n",
    ")\n",
    "ordersByUsersA.columns = ['visitor_id', 'orders']\n",
    "\n",
    "ordersByUsersB = (\n",
    "    orders[orders['group'] == 'B']\n",
    "    .groupby('visitor_id', as_index=False)\n",
    "    .agg({'transaction_id': pd.Series.nunique})\n",
    ")\n",
    "ordersByUsersB.columns = ['visitor_id', 'orders'] \n"
   ]
  },
  {
   "cell_type": "markdown",
   "id": "c0c57598",
   "metadata": {},
   "source": [
    "Объявим переменные ``sampleA`` и ``sampleB``, в которых пользователям из разных групп будет соответствовать количество заказов. Тем, кто ничего не заказал, будут соответствовать нули. Это нужно, чтобы подготовить выборки к проверке критерием Манна-Уитни."
   ]
  },
  {
   "cell_type": "code",
   "execution_count": 39,
   "id": "d0fcb01f",
   "metadata": {},
   "outputs": [
    {
     "name": "stdout",
     "output_type": "stream",
     "text": [
      "p-value - 0.01679\n",
      "различие в средних - 0.138\n"
     ]
    }
   ],
   "source": [
    "sampleA = pd.concat(\n",
    "    [\n",
    "        ordersByUsersA['orders'],\n",
    "        pd.Series(\n",
    "            0,\n",
    "            index=np.arange(\n",
    "                data['visitorsPerDateA'].sum() - len(ordersByUsersA['orders'])\n",
    "            ),\n",
    "            name='orders',\n",
    "        ),\n",
    "    ],\n",
    "    axis=0,\n",
    ")\n",
    "\n",
    "sampleB = pd.concat(\n",
    "    [\n",
    "        ordersByUsersB['orders'],\n",
    "        pd.Series(\n",
    "            0,\n",
    "            index=np.arange(\n",
    "                data['visitorsPerDateB'].sum() - len(ordersByUsersB['orders'])\n",
    "            ),\n",
    "            name='orders',\n",
    "        ),\n",
    "    ],\n",
    "    axis=0,\n",
    ")\n",
    "\n",
    "print(\"p-value - {0:.5f}\".format(stats.mannwhitneyu(sampleA, sampleB)[1]))\n",
    "\n",
    "print(\"различие в средних - {0:.3f}\".format(sampleB.mean() / sampleA.mean() - 1))\n"
   ]
  },
  {
   "cell_type": "markdown",
   "id": "13dbbec9",
   "metadata": {},
   "source": [
    "P-value меньше 0.05, потому нулевую гипотезу отвергаем. Анализ «сырых данных» сообщает, что в среднем количестве заказов между группами есть статистически значимые различия. Относительный прирост среднего группы B к конверсии группы A равен 13.8%.\n",
    "Осталось сравнить средние чеки по «сырым данным», а затем обе метрики ещё раз после удаления выбросов.\n"
   ]
  },
  {
   "cell_type": "markdown",
   "id": "c2ec289c",
   "metadata": {},
   "source": [
    "**11.\tПосчитайте статистическую значимость различий в среднем чеке заказа между группами по «сырым» данным. Сделайте выводы и предположения.**"
   ]
  },
  {
   "cell_type": "markdown",
   "id": "2e9b0900",
   "metadata": {},
   "source": [
    "Нулевая гипотеза: различий в среднем чеке между группами нет. Альтернативная гипотеза: различия в среднем чеке между группами есть.\n",
    "\n",
    "Чтобы рассчитать статистическую значимость различий в среднем чеке, передадим критерию mannwhitneyu() данные о выручке с заказов. А ещё найдём относительные различия в среднем чеке между группами:\n"
   ]
  },
  {
   "cell_type": "code",
   "execution_count": 40,
   "id": "8de8fcad",
   "metadata": {},
   "outputs": [
    {
     "name": "stdout",
     "output_type": "stream",
     "text": [
      "p-value - 0.729\n",
      "различие в средних - 0.259\n"
     ]
    }
   ],
   "source": [
    "print('p-value - {0:.3f}'.format(stats.mannwhitneyu(orders[orders['group']=='A']['revenue'],\\\n",
    "                                                    orders[orders['group']=='B']['revenue'])[1]))\n",
    "print('различие в средних - {0:.3f}'.format(orders[orders['group']=='B']['revenue'].mean()/\\\n",
    "                                            orders[orders['group']=='A']['revenue'].mean()-1)) \n"
   ]
  },
  {
   "cell_type": "markdown",
   "id": "9f44670d",
   "metadata": {},
   "source": [
    "P-value значительно больше 0.05. Значит, причин отвергать нулевую гипотезу и считать, что в среднем чеке есть различия, нет. Впрочем, средний чек группы B значительно выше среднего чека группы A - практически на 26%. Наблюдаемые различия не являются значимыми при таком уровне значимости, а следовательно были получены случайно."
   ]
  },
  {
   "cell_type": "markdown",
   "id": "167894bc",
   "metadata": {},
   "source": [
    "**12.\tПосчитайте статистическую значимость различий в среднем количестве заказов между группами по «очищенным» данным. Сделайте выводы и предположения.**"
   ]
  },
  {
   "cell_type": "markdown",
   "id": "173d7a08",
   "metadata": {},
   "source": [
    "Примем за аномальных пользователей тех, кто совершил от 2 заказов или совершил заказ дороже 28 000 рублей. Так мы уберём 5% пользователей с наибольшим числом заказов и  5% пользователей с дорогими заказами."
   ]
  },
  {
   "cell_type": "markdown",
   "id": "8aee262d",
   "metadata": {},
   "source": [
    "Сделаем срезы пользователей с числом заказов больше 1 — ``usersWithManyOrders`` и пользователей, совершивших заказы дороже 28 000 — ``usersWithExpensiveOrders``. Объединим их в таблице ``abnormalUsers``.\n",
    "Узнаем, сколько всего аномальных пользователей атрибутом shape."
   ]
  },
  {
   "cell_type": "code",
   "execution_count": 41,
   "id": "ea390bb2",
   "metadata": {},
   "outputs": [
    {
     "data": {
      "text/plain": [
       "1099    148427295\n",
       "18      199603092\n",
       "928     204675465\n",
       "23      237748145\n",
       "37      249864742\n",
       "Name: visitor_id, dtype: object"
      ]
     },
     "metadata": {},
     "output_type": "display_data"
    },
    {
     "name": "stdout",
     "output_type": "stream",
     "text": [
      "111\n"
     ]
    }
   ],
   "source": [
    "usersWithManyOrders = pd.concat(\n",
    "    [\n",
    "        ordersByUsersA[ordersByUsersA['orders'] > 1]['visitor_id'],\n",
    "        ordersByUsersB[ordersByUsersB['orders'] > 1]['visitor_id'],\n",
    "    ],\n",
    "    axis=0,\n",
    ")\n",
    "usersWithExpensiveOrders = orders[orders['revenue'] > 28000]['visitor_id']\n",
    "abnormalUsers = (\n",
    "    pd.concat([usersWithManyOrders, usersWithExpensiveOrders], axis=0)\n",
    "    .drop_duplicates()\n",
    "    .sort_values()\n",
    ")\n",
    "display(abnormalUsers.head(5))\n",
    "print(abnormalUsers.shape[0]) \n"
   ]
  },
  {
   "cell_type": "markdown",
   "id": "349f86c4",
   "metadata": {},
   "source": [
    "Всего 111 аномальных пользователей.\n",
    "\n",
    "Узнаем, как их действия повлияли на результаты теста. Посчитаем статистическую значимость различий в среднем количестве заказов между группами теста по очищенным данным. Сначала подготовим выборки количества заказов по пользователям по группам теста:"
   ]
  },
  {
   "cell_type": "code",
   "execution_count": 42,
   "id": "da579482",
   "metadata": {},
   "outputs": [],
   "source": [
    "sampleAFiltered = pd.concat(\n",
    "    [\n",
    "        ordersByUsersA[\n",
    "            np.logical_not(ordersByUsersA['visitor_id'].isin(abnormalUsers))\n",
    "        ]['orders'],\n",
    "        pd.Series(\n",
    "            0,\n",
    "            index=np.arange(\n",
    "                data['visitorsPerDateA'].sum() - len(ordersByUsersA['orders'])\n",
    "            ),\n",
    "            name='orders',\n",
    "        ),\n",
    "    ],\n",
    "    axis=0,\n",
    ")\n",
    "\n",
    "sampleBFiltered = pd.concat(\n",
    "    [\n",
    "        ordersByUsersB[\n",
    "            np.logical_not(ordersByUsersB['visitor_id'].isin(abnormalUsers))\n",
    "        ]['orders'],\n",
    "        pd.Series(\n",
    "            0,\n",
    "            index=np.arange(\n",
    "                data['visitorsPerDateB'].sum() - len(ordersByUsersB['orders'])\n",
    "            ),\n",
    "            name='orders',\n",
    "        ),\n",
    "    ],\n",
    "    axis=0,\n",
    ") \n"
   ]
  },
  {
   "cell_type": "markdown",
   "id": "d6318547",
   "metadata": {},
   "source": [
    "Применим статистический критерий Манна-Уитни к полученным выборкам:"
   ]
  },
  {
   "cell_type": "code",
   "execution_count": 43,
   "id": "8cabb64f",
   "metadata": {},
   "outputs": [
    {
     "name": "stdout",
     "output_type": "stream",
     "text": [
      "p-value - 0.016\n",
      "различие в средних - 0.168\n"
     ]
    }
   ],
   "source": [
    "print('p-value - {0:.3f}'.format(stats.mannwhitneyu(sampleAFiltered, sampleBFiltered)[1]))\n",
    "print('различие в средних - {0:.3f}'.format(sampleBFiltered.mean()/sampleAFiltered.mean()-1)) "
   ]
  },
  {
   "cell_type": "markdown",
   "id": "04baff9a",
   "metadata": {},
   "source": [
    "Результаты по среднему количеству заказов практически не изменились, кроме того, что относительный прирост среднего группы B к конверсии группы A увеличился на 3%. Произошло ли что-нибудь с результатами по среднему чеку?"
   ]
  },
  {
   "cell_type": "markdown",
   "id": "f4b9265a",
   "metadata": {},
   "source": [
    "**13.\tПосчитайте статистическую значимость различий в среднем чеке заказа между группами по «очищенным» данным. Сделайте выводы и предположения.**"
   ]
  },
  {
   "cell_type": "code",
   "execution_count": 44,
   "id": "2411ad24",
   "metadata": {},
   "outputs": [
    {
     "name": "stdout",
     "output_type": "stream",
     "text": [
      "p-value - 0.835\n",
      "различие в средних - -0.006\n"
     ]
    }
   ],
   "source": [
    "print(\n",
    "    'p-value - {0:.3f}'.format(\n",
    "        stats.mannwhitneyu(\n",
    "            orders[\n",
    "                np.logical_and(\n",
    "                    orders['group'] == 'A',\n",
    "                    np.logical_not(orders['visitor_id'].isin(abnormalUsers)),\n",
    "                )\n",
    "            ]['revenue'],\n",
    "            orders[\n",
    "                np.logical_and(\n",
    "                    orders['group'] == 'B',\n",
    "                    np.logical_not(orders['visitor_id'].isin(abnormalUsers)),\n",
    "                )\n",
    "            ]['revenue'],\n",
    "        )[1]\n",
    "    )\n",
    ")\n",
    "\n",
    "print(\n",
    "    \"различие в средних - {0:.3f}\".format(\n",
    "        orders[\n",
    "            np.logical_and(\n",
    "                orders['group'] == 'B',\n",
    "                np.logical_not(orders['visitor_id'].isin(abnormalUsers)),\n",
    "            )\n",
    "        ]['revenue'].mean()\n",
    "        / orders[\n",
    "            np.logical_and(\n",
    "                orders['group'] == 'A',\n",
    "                np.logical_not(orders['visitor_id'].isin(abnormalUsers)),\n",
    "            )\n",
    "        ]['revenue'].mean()\n",
    "        - 1\n",
    "    )\n",
    ") \n"
   ]
  },
  {
   "cell_type": "markdown",
   "id": "9a681d3e",
   "metadata": {},
   "source": [
    "P-value увеличился, но и разница между сегментами сократилась с 26% до 0.6%. Причем средний чек группы А стал незначительно выше среднего чека группы В.\n",
    "Хотя общие выводы по результатам теста не изменились, такой пример хорошо показывает, как сильно аномалии могут влиять на результаты A/B-теста.\n"
   ]
  },
  {
   "cell_type": "markdown",
   "id": "6f9e1d7b",
   "metadata": {},
   "source": [
    "**14.\tПримите решение по результатам теста и объясните его. Варианты решений:** \n",
    "1. Остановить тест, зафиксировать победу одной из групп. \n",
    "2. Остановить тест, зафиксировать отсутствие различий между группами. \n",
    "3. Продолжить тест."
   ]
  },
  {
   "cell_type": "code",
   "execution_count": 45,
   "id": "d4411205",
   "metadata": {},
   "outputs": [
    {
     "data": {
      "text/html": [
       "<div>\n",
       "<style scoped>\n",
       "    .dataframe tbody tr th:only-of-type {\n",
       "        vertical-align: middle;\n",
       "    }\n",
       "\n",
       "    .dataframe tbody tr th {\n",
       "        vertical-align: top;\n",
       "    }\n",
       "\n",
       "    .dataframe thead th {\n",
       "        text-align: right;\n",
       "    }\n",
       "</style>\n",
       "<table border=\"1\" class=\"dataframe\">\n",
       "  <thead>\n",
       "    <tr style=\"text-align: right;\">\n",
       "      <th></th>\n",
       "      <th>transaction_id</th>\n",
       "      <th>visitor_id</th>\n",
       "      <th>date</th>\n",
       "      <th>revenue</th>\n",
       "      <th>group</th>\n",
       "    </tr>\n",
       "  </thead>\n",
       "  <tbody>\n",
       "    <tr>\n",
       "      <th>0</th>\n",
       "      <td>3667963787</td>\n",
       "      <td>3312258926</td>\n",
       "      <td>2019-08-15</td>\n",
       "      <td>1650</td>\n",
       "      <td>B</td>\n",
       "    </tr>\n",
       "    <tr>\n",
       "      <th>1</th>\n",
       "      <td>2804400009</td>\n",
       "      <td>3642806036</td>\n",
       "      <td>2019-08-15</td>\n",
       "      <td>730</td>\n",
       "      <td>B</td>\n",
       "    </tr>\n",
       "    <tr>\n",
       "      <th>2</th>\n",
       "      <td>2961555356</td>\n",
       "      <td>4069496402</td>\n",
       "      <td>2019-08-15</td>\n",
       "      <td>400</td>\n",
       "      <td>A</td>\n",
       "    </tr>\n",
       "    <tr>\n",
       "      <th>3</th>\n",
       "      <td>3797467345</td>\n",
       "      <td>1196621759</td>\n",
       "      <td>2019-08-15</td>\n",
       "      <td>9759</td>\n",
       "      <td>B</td>\n",
       "    </tr>\n",
       "    <tr>\n",
       "      <th>4</th>\n",
       "      <td>2282983706</td>\n",
       "      <td>2322279887</td>\n",
       "      <td>2019-08-15</td>\n",
       "      <td>2308</td>\n",
       "      <td>B</td>\n",
       "    </tr>\n",
       "    <tr>\n",
       "      <th>...</th>\n",
       "      <td>...</td>\n",
       "      <td>...</td>\n",
       "      <td>...</td>\n",
       "      <td>...</td>\n",
       "      <td>...</td>\n",
       "    </tr>\n",
       "    <tr>\n",
       "      <th>1190</th>\n",
       "      <td>38478481</td>\n",
       "      <td>1197745035</td>\n",
       "      <td>2019-08-14</td>\n",
       "      <td>8600</td>\n",
       "      <td>B</td>\n",
       "    </tr>\n",
       "    <tr>\n",
       "      <th>1191</th>\n",
       "      <td>3592955527</td>\n",
       "      <td>608641596</td>\n",
       "      <td>2019-08-14</td>\n",
       "      <td>16490</td>\n",
       "      <td>B</td>\n",
       "    </tr>\n",
       "    <tr>\n",
       "      <th>1192</th>\n",
       "      <td>2662137336</td>\n",
       "      <td>3733762160</td>\n",
       "      <td>2019-08-14</td>\n",
       "      <td>6490</td>\n",
       "      <td>B</td>\n",
       "    </tr>\n",
       "    <tr>\n",
       "      <th>1193</th>\n",
       "      <td>2203539145</td>\n",
       "      <td>370388673</td>\n",
       "      <td>2019-08-14</td>\n",
       "      <td>3190</td>\n",
       "      <td>A</td>\n",
       "    </tr>\n",
       "    <tr>\n",
       "      <th>1194</th>\n",
       "      <td>1807773912</td>\n",
       "      <td>573423106</td>\n",
       "      <td>2019-08-14</td>\n",
       "      <td>10550</td>\n",
       "      <td>A</td>\n",
       "    </tr>\n",
       "  </tbody>\n",
       "</table>\n",
       "<p>950 rows × 5 columns</p>\n",
       "</div>"
      ],
      "text/plain": [
       "     transaction_id  visitor_id       date  revenue group\n",
       "0        3667963787  3312258926 2019-08-15     1650     B\n",
       "1        2804400009  3642806036 2019-08-15      730     B\n",
       "2        2961555356  4069496402 2019-08-15      400     A\n",
       "3        3797467345  1196621759 2019-08-15     9759     B\n",
       "4        2282983706  2322279887 2019-08-15     2308     B\n",
       "...             ...         ...        ...      ...   ...\n",
       "1190       38478481  1197745035 2019-08-14     8600     B\n",
       "1191     3592955527   608641596 2019-08-14    16490     B\n",
       "1192     2662137336  3733762160 2019-08-14     6490     B\n",
       "1193     2203539145   370388673 2019-08-14     3190     A\n",
       "1194     1807773912   573423106 2019-08-14    10550     A\n",
       "\n",
       "[950 rows x 5 columns]"
      ]
     },
     "execution_count": 45,
     "metadata": {},
     "output_type": "execute_result"
    }
   ],
   "source": [
    "orders[np.logical_not(orders['visitor_id'].isin(abnormalUsers))]"
   ]
  },
  {
   "cell_type": "code",
   "execution_count": 46,
   "id": "462c60ec",
   "metadata": {},
   "outputs": [
    {
     "data": {
      "text/html": [
       "<div>\n",
       "<style scoped>\n",
       "    .dataframe tbody tr th:only-of-type {\n",
       "        vertical-align: middle;\n",
       "    }\n",
       "\n",
       "    .dataframe tbody tr th {\n",
       "        vertical-align: top;\n",
       "    }\n",
       "\n",
       "    .dataframe thead th {\n",
       "        text-align: right;\n",
       "    }\n",
       "</style>\n",
       "<table border=\"1\" class=\"dataframe\">\n",
       "  <thead>\n",
       "    <tr style=\"text-align: right;\">\n",
       "      <th></th>\n",
       "      <th>date</th>\n",
       "      <th>group</th>\n",
       "      <th>visitors</th>\n",
       "    </tr>\n",
       "  </thead>\n",
       "  <tbody>\n",
       "    <tr>\n",
       "      <th>0</th>\n",
       "      <td>2019-08-01</td>\n",
       "      <td>A</td>\n",
       "      <td>719</td>\n",
       "    </tr>\n",
       "    <tr>\n",
       "      <th>1</th>\n",
       "      <td>2019-08-02</td>\n",
       "      <td>A</td>\n",
       "      <td>619</td>\n",
       "    </tr>\n",
       "    <tr>\n",
       "      <th>2</th>\n",
       "      <td>2019-08-03</td>\n",
       "      <td>A</td>\n",
       "      <td>507</td>\n",
       "    </tr>\n",
       "    <tr>\n",
       "      <th>3</th>\n",
       "      <td>2019-08-04</td>\n",
       "      <td>A</td>\n",
       "      <td>717</td>\n",
       "    </tr>\n",
       "    <tr>\n",
       "      <th>4</th>\n",
       "      <td>2019-08-05</td>\n",
       "      <td>A</td>\n",
       "      <td>756</td>\n",
       "    </tr>\n",
       "    <tr>\n",
       "      <th>...</th>\n",
       "      <td>...</td>\n",
       "      <td>...</td>\n",
       "      <td>...</td>\n",
       "    </tr>\n",
       "    <tr>\n",
       "      <th>57</th>\n",
       "      <td>2019-08-27</td>\n",
       "      <td>B</td>\n",
       "      <td>720</td>\n",
       "    </tr>\n",
       "    <tr>\n",
       "      <th>58</th>\n",
       "      <td>2019-08-28</td>\n",
       "      <td>B</td>\n",
       "      <td>654</td>\n",
       "    </tr>\n",
       "    <tr>\n",
       "      <th>59</th>\n",
       "      <td>2019-08-29</td>\n",
       "      <td>B</td>\n",
       "      <td>531</td>\n",
       "    </tr>\n",
       "    <tr>\n",
       "      <th>60</th>\n",
       "      <td>2019-08-30</td>\n",
       "      <td>B</td>\n",
       "      <td>490</td>\n",
       "    </tr>\n",
       "    <tr>\n",
       "      <th>61</th>\n",
       "      <td>2019-08-31</td>\n",
       "      <td>B</td>\n",
       "      <td>718</td>\n",
       "    </tr>\n",
       "  </tbody>\n",
       "</table>\n",
       "<p>62 rows × 3 columns</p>\n",
       "</div>"
      ],
      "text/plain": [
       "         date group  visitors\n",
       "0  2019-08-01     A       719\n",
       "1  2019-08-02     A       619\n",
       "2  2019-08-03     A       507\n",
       "3  2019-08-04     A       717\n",
       "4  2019-08-05     A       756\n",
       "..        ...   ...       ...\n",
       "57 2019-08-27     B       720\n",
       "58 2019-08-28     B       654\n",
       "59 2019-08-29     B       531\n",
       "60 2019-08-30     B       490\n",
       "61 2019-08-31     B       718\n",
       "\n",
       "[62 rows x 3 columns]"
      ]
     },
     "execution_count": 46,
     "metadata": {},
     "output_type": "execute_result"
    }
   ],
   "source": [
    "visitors"
   ]
  },
  {
   "cell_type": "code",
   "execution_count": 47,
   "id": "7b3460b1",
   "metadata": {},
   "outputs": [
    {
     "data": {
      "text/html": [
       "<div>\n",
       "<style scoped>\n",
       "    .dataframe tbody tr th:only-of-type {\n",
       "        vertical-align: middle;\n",
       "    }\n",
       "\n",
       "    .dataframe tbody tr th {\n",
       "        vertical-align: top;\n",
       "    }\n",
       "\n",
       "    .dataframe thead th {\n",
       "        text-align: right;\n",
       "    }\n",
       "</style>\n",
       "<table border=\"1\" class=\"dataframe\">\n",
       "  <thead>\n",
       "    <tr style=\"text-align: right;\">\n",
       "      <th></th>\n",
       "      <th>date</th>\n",
       "      <th>group</th>\n",
       "      <th>orders</th>\n",
       "      <th>buyers</th>\n",
       "      <th>revenue</th>\n",
       "      <th>visitors</th>\n",
       "    </tr>\n",
       "  </thead>\n",
       "  <tbody>\n",
       "    <tr>\n",
       "      <th>0</th>\n",
       "      <td>2019-08-01</td>\n",
       "      <td>A</td>\n",
       "      <td>13</td>\n",
       "      <td>13</td>\n",
       "      <td>31869</td>\n",
       "      <td>719</td>\n",
       "    </tr>\n",
       "    <tr>\n",
       "      <th>1</th>\n",
       "      <td>2019-08-01</td>\n",
       "      <td>B</td>\n",
       "      <td>19</td>\n",
       "      <td>19</td>\n",
       "      <td>78258</td>\n",
       "      <td>713</td>\n",
       "    </tr>\n",
       "    <tr>\n",
       "      <th>2</th>\n",
       "      <td>2019-08-02</td>\n",
       "      <td>A</td>\n",
       "      <td>29</td>\n",
       "      <td>29</td>\n",
       "      <td>80572</td>\n",
       "      <td>1338</td>\n",
       "    </tr>\n",
       "    <tr>\n",
       "      <th>3</th>\n",
       "      <td>2019-08-02</td>\n",
       "      <td>B</td>\n",
       "      <td>37</td>\n",
       "      <td>37</td>\n",
       "      <td>163122</td>\n",
       "      <td>1294</td>\n",
       "    </tr>\n",
       "    <tr>\n",
       "      <th>4</th>\n",
       "      <td>2019-08-03</td>\n",
       "      <td>A</td>\n",
       "      <td>53</td>\n",
       "      <td>53</td>\n",
       "      <td>193045</td>\n",
       "      <td>1845</td>\n",
       "    </tr>\n",
       "  </tbody>\n",
       "</table>\n",
       "</div>"
      ],
      "text/plain": [
       "        date group  orders  buyers  revenue  visitors\n",
       "0 2019-08-01     A      13      13    31869       719\n",
       "1 2019-08-01     B      19      19    78258       713\n",
       "2 2019-08-02     A      29      29    80572      1338\n",
       "3 2019-08-02     B      37      37   163122      1294\n",
       "4 2019-08-03     A      53      53   193045      1845"
      ]
     },
     "execution_count": 47,
     "metadata": {},
     "output_type": "execute_result"
    }
   ],
   "source": [
    "# получаем агрегированные кумулятивные по дням данные о заказах \n",
    "ordersAggregated = (\n",
    "    datesGroups.\n",
    "    apply(lambda x: orders[np.logical_not(orders['visitor_id'].isin(abnormalUsers))][np.logical_and(orders['date'] <= x['date'], orders['group'] == x['group'])].\n",
    "          agg({'date' : 'max',\n",
    "               'group' : 'max',\n",
    "               'transaction_id' : 'nunique',\n",
    "               'visitor_id' : 'nunique',\n",
    "               'revenue' : 'sum'}), axis=1).\n",
    "    sort_values(by=['date','group'])\n",
    ")\n",
    "\n",
    "# получаем агрегированные кумулятивные по дням данные о посетителях интернет-магазина \n",
    "visitorsAggregated = (\n",
    "    datesGroups.\n",
    "    apply(lambda x: visitors[np.logical_and(visitors['date'] <= x['date'], visitors['group'] == x['group'])].\n",
    "          agg({'date' : 'max', 'group' : 'max', 'visitors' : 'sum'}), axis=1).\n",
    "    sort_values(by=['date','group'])\n",
    ")\n",
    "\n",
    "ordersAggregated = ordersAggregated.sort_values(by=['date','group'])\n",
    "\n",
    "visitorsAggregated = visitorsAggregated.sort_values(by=['date','group'])\n",
    "\n",
    "cumulativeData = ordersAggregated.merge(visitorsAggregated, left_on=['date', 'group'], right_on=['date', 'group'])\n",
    "cumulativeData.columns = ['date', 'group', 'orders', 'buyers', 'revenue', 'visitors']\n",
    "\n",
    "cumulativeData.head()\n"
   ]
  },
  {
   "cell_type": "code",
   "execution_count": 48,
   "id": "ff043d4f",
   "metadata": {},
   "outputs": [
    {
     "data": {
      "image/png": "[encoded data removed]",
      "text/plain": [
       "<Figure size 1152x576 with 1 Axes>"
      ]
     },
     "metadata": {
      "needs_background": "light"
     },
     "output_type": "display_data"
    }
   ],
   "source": [
    "# датафрейм с кумулятивным количеством заказов и кумулятивной выручкой по дням в группе А\n",
    "cumulativeRevenueA = cumulativeData[cumulativeData['group']=='A'][['date','revenue', 'orders']]\n",
    "\n",
    "# датафрейм с кумулятивным количеством заказов и кумулятивной выручкой по дням в группе B\n",
    "cumulativeRevenueB = cumulativeData[cumulativeData['group']=='B'][['date','revenue', 'orders']]\n",
    "\n",
    "cumulativeData['conversion'] = cumulativeData['orders']/cumulativeData['visitors']\n",
    "cumulativeDataA = cumulativeData.query('group == \"A\"')\n",
    "cumulativeDataB = cumulativeData.query('group == \"B\"')\n",
    "\n",
    "\n",
    "mergedCumulativeConversions = (\n",
    "    cumulativeDataA[['date','conversion']].\n",
    "    merge(cumulativeDataB[['date','conversion']], left_on='date', right_on='date', how='left', suffixes=['A', 'B'])\n",
    ")\n",
    "\n",
    "plt.figure(figsize=(16, 8))\n",
    "\n",
    "plt.plot(mergedCumulativeConversions['date'],\\\n",
    "         mergedCumulativeConversions['conversionB']/mergedCumulativeConversions['conversionA']-1,\\\n",
    "         label=\"Относительный прирост конверсии группы B относительно группы A\")\n",
    "\n",
    "plt.legend()\n",
    "\n",
    "plt.axhline(y=0, color='black', linestyle='--')\n",
    "plt.axhline(y=0.2, color='grey', linestyle='--')\n",
    "plt.axis([dt.datetime(2019, 8, 1), dt.datetime(2019, 9, 1), -0.5, 0.5])\n",
    "plt.title('Относительное изменение кумулятивного среднего количества заказов группы B к группе A')\n",
    "plt.xlabel('Дата')\n",
    "plt.ylabel('Конверсия')\n",
    "plt.show()"
   ]
  },
  {
   "cell_type": "markdown",
   "id": "abeef0a0",
   "metadata": {},
   "source": [
    "Относительный прирост конверсии группы В относительно группы А по очищенным данным в целом увеличился, по отношению к показателю расчитанному по сырым данным. "
   ]
  },
  {
   "cell_type": "code",
   "execution_count": 49,
   "id": "5687b0e0",
   "metadata": {},
   "outputs": [
    {
     "data": {
      "image/png": "[encoded data removed]",
      "text/plain": [
       "<Figure size 1152x576 with 1 Axes>"
      ]
     },
     "metadata": {
      "needs_background": "light"
     },
     "output_type": "display_data"
    }
   ],
   "source": [
    "mergedCumulativeRevenue = (\n",
    "    cumulativeRevenueA.\n",
    "    merge(cumulativeRevenueB, left_on='date', right_on='date', how='left', suffixes=['A', 'B'])\n",
    ")\n",
    "\n",
    "plt.figure(figsize=(16, 8))\n",
    "\n",
    "# cтроим отношение средних чеков\n",
    "plt.plot\\\n",
    "(mergedCumulativeRevenue['date'],(mergedCumulativeRevenue['revenueB']\\\n",
    "/mergedCumulativeRevenue['ordersB'])/(mergedCumulativeRevenue['revenueA']\\\n",
    "/mergedCumulativeRevenue['ordersA'])-1,\\\n",
    " label=\"Относительный прирост конверсии группы B относительно группы A\")\n",
    "\n",
    "# добавляем ось X\n",
    "plt.axhline(y=0, color='black', linestyle='--')\n",
    "plt.title('Относительное изменение кумулятивного среднего чека группы B к группе A')\n",
    "plt.xlabel('Дата')\n",
    "plt.ylabel('Конверсия')\n",
    "plt.show()"
   ]
  },
  {
   "cell_type": "markdown",
   "id": "b3d6c930",
   "metadata": {},
   "source": [
    "Мы построили график относительного различия в среднем чеке между группами по очищенным данным. В начале месяца средний чек в группе В зничительно превышал средний чек в группе А, с середины месяца разница не превышала 5% и колебалась около отметки 0 то в большую сторону, то в меньшую."
   ]
  },
  {
   "cell_type": "markdown",
   "id": "636cfdc2",
   "metadata": {},
   "source": [
    "## Часть 3.\n",
    "## Выводы:\n",
    "\n",
    "* В среднем количестве заказов между группами есть статистически значимые различия, и по сырым данным и по очищеным;\n",
    "* Нет статистически значимого различия по среднему чеку между группами ни по «сырым», ни по данным после фильтрации аномалий;\n",
    "* График различия конверсии между группами сообщает, что результаты группы B стабильно лучше группы A;\n",
    "* График различия среднего чека по ощищенным данным говорит о том, что результаты группы B значительно превосходили в первой половине теста, после 15 августа происходили несущественные колебания до 5 % то в меньшую то в большую сторону.\n",
    "* Группы данных распределены не 50 на 50, различия почти на 14%. В группе В большее количество пользователей."
   ]
  },
  {
   "cell_type": "markdown",
   "id": "48093e1f",
   "metadata": {},
   "source": [
    "Исходя из обнаруженных фактов, тест следует остановить и признать его неуспешным. Различия в конверсии между группами пользователей могли образоваться из за неоднородности групп. Различий между размером среднего чека групп не выявлено. Возможно тест стоит начать заново, уделив внимание формированию выборки пользователей. Некоторые пользователи входят и в группу А и в группу В проведенного теста. Нет понимания, что это за тест, и как формировались выборки."
   ]
  }
 ],
 "metadata": {
  "ExecuteTimeLog": [
   {
    "duration": 1355,
    "start_time": "2022-11-01T10:57:07.394Z"
   },
   {
    "duration": 237,
    "start_time": "2022-11-01T10:57:08.752Z"
   },
   {
    "duration": 15,
    "start_time": "2022-11-01T10:57:08.991Z"
   },
   {
    "duration": 7,
    "start_time": "2022-11-01T10:57:09.008Z"
   },
   {
    "duration": 18,
    "start_time": "2022-11-01T10:57:09.017Z"
   },
   {
    "duration": 33,
    "start_time": "2022-11-01T10:57:09.037Z"
   },
   {
    "duration": 19,
    "start_time": "2022-11-01T10:57:09.073Z"
   },
   {
    "duration": 30,
    "start_time": "2022-11-01T10:57:09.096Z"
   },
   {
    "duration": 20,
    "start_time": "2022-11-01T10:57:09.128Z"
   },
   {
    "duration": 19,
    "start_time": "2022-11-01T10:57:09.153Z"
   },
   {
    "duration": 24,
    "start_time": "2022-11-01T10:57:09.174Z"
   },
   {
    "duration": 15,
    "start_time": "2022-11-01T10:57:09.200Z"
   },
   {
    "duration": 9,
    "start_time": "2022-11-01T10:57:09.222Z"
   },
   {
    "duration": 9,
    "start_time": "2022-11-01T10:57:09.233Z"
   },
   {
    "duration": 6,
    "start_time": "2022-11-01T10:57:09.244Z"
   },
   {
    "duration": 17,
    "start_time": "2022-11-01T10:57:09.251Z"
   },
   {
    "duration": 14,
    "start_time": "2022-11-01T10:57:09.270Z"
   },
   {
    "duration": 9,
    "start_time": "2022-11-01T10:57:09.285Z"
   },
   {
    "duration": 30,
    "start_time": "2022-11-01T10:57:09.295Z"
   },
   {
    "duration": 18,
    "start_time": "2022-11-01T10:57:09.326Z"
   },
   {
    "duration": 26,
    "start_time": "2022-11-01T10:57:09.345Z"
   },
   {
    "duration": 16,
    "start_time": "2022-11-01T10:57:09.372Z"
   },
   {
    "duration": 290,
    "start_time": "2022-11-01T10:57:09.390Z"
   },
   {
    "duration": 288,
    "start_time": "2022-11-01T10:57:09.682Z"
   },
   {
    "duration": 204,
    "start_time": "2022-11-01T10:57:09.972Z"
   },
   {
    "duration": 417,
    "start_time": "2022-11-01T10:57:10.178Z"
   },
   {
    "duration": 222,
    "start_time": "2022-11-01T10:57:10.596Z"
   },
   {
    "duration": 313,
    "start_time": "2022-11-01T10:57:10.821Z"
   },
   {
    "duration": 11,
    "start_time": "2022-11-01T10:57:11.135Z"
   },
   {
    "duration": 146,
    "start_time": "2022-11-01T10:57:11.148Z"
   },
   {
    "duration": 4,
    "start_time": "2022-11-01T10:57:11.296Z"
   },
   {
    "duration": 159,
    "start_time": "2022-11-01T10:57:11.302Z"
   },
   {
    "duration": 5,
    "start_time": "2022-11-01T10:57:11.463Z"
   },
   {
    "duration": 245,
    "start_time": "2022-11-01T10:57:11.470Z"
   },
   {
    "duration": 151,
    "start_time": "2022-11-01T10:57:11.723Z"
   },
   {
    "duration": 25,
    "start_time": "2022-11-01T10:57:11.876Z"
   },
   {
    "duration": 25,
    "start_time": "2022-11-01T10:57:11.903Z"
   },
   {
    "duration": 12,
    "start_time": "2022-11-01T10:57:11.930Z"
   },
   {
    "duration": 14,
    "start_time": "2022-11-01T10:57:11.944Z"
   },
   {
    "duration": 21,
    "start_time": "2022-11-01T10:57:11.960Z"
   },
   {
    "duration": 45,
    "start_time": "2022-11-01T10:57:11.982Z"
   },
   {
    "duration": 14,
    "start_time": "2022-11-01T10:57:12.029Z"
   },
   {
    "duration": 10,
    "start_time": "2022-11-01T10:57:12.045Z"
   },
   {
    "duration": 343,
    "start_time": "2022-11-01T10:57:12.057Z"
   },
   {
    "duration": 408,
    "start_time": "2022-11-01T10:57:12.401Z"
   },
   {
    "duration": 319,
    "start_time": "2022-11-01T10:57:12.810Z"
   }
  ],
  "kernelspec": {
   "display_name": "Python 3 (ipykernel)",
   "language": "python",
   "name": "python3"
  },
  "language_info": {
   "codemirror_mode": {
    "name": "ipython",
    "version": 3
   },
   "file_extension": ".py",
   "mimetype": "text/x-python",
   "name": "python",
   "nbconvert_exporter": "python",
   "pygments_lexer": "ipython3",
   "version": "3.9.7"
  },
  "toc": {
   "base_numbering": 1,
   "nav_menu": {},
   "number_sections": true,
   "sideBar": true,
   "skip_h1_title": true,
   "title_cell": "Table of Contents",
   "title_sidebar": "Contents",
   "toc_cell": false,
   "toc_position": {},
   "toc_section_display": true,
   "toc_window_display": false
  }
 },
 "nbformat": 4,
 "nbformat_minor": 5
}
