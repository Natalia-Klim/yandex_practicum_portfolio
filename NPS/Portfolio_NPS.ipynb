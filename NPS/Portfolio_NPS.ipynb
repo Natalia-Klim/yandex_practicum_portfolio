{
 "cells": [
  {
   "cell_type": "markdown",
   "id": "760006b3",
   "metadata": {},
   "source": [
    "## Анализ потребительской лояльности"
   ]
  },
  {
   "cell_type": "markdown",
   "id": "92b84cd8",
   "metadata": {},
   "source": [
    "__*Цель исследования*__ - определить текущий уровень потребительской лояльности, или NPS (от англ. Net Promoter Score), среди клиентов из России.\n",
    "\n",
    "Заказчик этого исследования — большая телекоммуникационная компания, которая оказывает услуги на территории всего СНГ.\n",
    "\n",
    "Чтобы определить уровень лояльности, клиентам задавали классический вопрос: «Оцените по шкале от 1 до 10 вероятность того, что вы порекомендуете компанию друзьям и знакомым».\n",
    "Компания провела опрос и попросила вас подготовить дашборд с его итогами. Большую базу данных для такой задачи разворачивать не стали и выгрузили данные в SQLite.\n",
    "\n",
    "Чтобы оценить результаты опроса, оценки обычно делят на три группы:\n",
    "* 9-10 баллов — «cторонники» (англ. promoters);\n",
    "* 7-8 баллов — «нейтралы» (англ. passives);\n",
    "* 0-6 баллов — «критики» (англ. detractors).\n",
    "\n",
    "__*Итоговое значение NPS рассчитывается по формуле: % «сторонников» - % «критиков».*__\n",
    "\n",
    "Таким образом, значение этого показателя варьируется от -100% (когда все клиенты «критики») до 100% (когда все клиенты лояльны к сервису). Но это крайние случаи, которые редко встретишь на практике.\n",
    "Интерпретируя результаты NPS-опросов, следует также помнить, что само значение мало о чём говорит. Однако исследования показывают, что клиенты-сторонники полезны любому бизнесу. Они чаще других повторно совершают покупки, активнее тестируют обновления и приводят в сервис своих друзей и знакомых. Поэтому NPS остаётся одной из важнейших метрик бизнеса.\n"
   ]
  },
  {
   "cell_type": "code",
   "execution_count": 1,
   "id": "397d3485",
   "metadata": {},
   "outputs": [],
   "source": [
    "import pandas as pd"
   ]
  },
  {
   "cell_type": "code",
   "execution_count": 2,
   "id": "15e4166e",
   "metadata": {},
   "outputs": [],
   "source": [
    "from sqlalchemy import create_engine"
   ]
  },
  {
   "cell_type": "code",
   "execution_count": 3,
   "id": "34962dd3",
   "metadata": {},
   "outputs": [],
   "source": [
    "import warnings\n",
    "warnings.filterwarnings(\"ignore\")"
   ]
  },
  {
   "cell_type": "code",
   "execution_count": 4,
   "id": "af0cd0ce",
   "metadata": {},
   "outputs": [],
   "source": [
    "try:\n",
    "    path_to_db = './datasets/telecomm_csi.db' # путь к файлу\n",
    "except FileNotFoundError:\n",
    "    print('Файл не найден')"
   ]
  },
  {
   "cell_type": "code",
   "execution_count": null,
   "id": "2fefe131",
   "metadata": {},
   "outputs": [],
   "source": [
    "query = \"\"\"\n",
    "SELECT u.user_id,\n",
    "       u.lt_day,\n",
    "       CASE\n",
    "           WHEN u.lt_day <= 365 THEN 'True'\n",
    "           ELSE 'False'\n",
    "       END AS is_new,\n",
    "       u.age,\n",
    "       u.gender_segment,\n",
    "       u.os_name,\n",
    "       u.cpe_type_name,\n",
    "       l.country,\n",
    "       l.city,\n",
    "       ags.bucket_min,\n",
    "       ags.bucket_max,\n",
    "       substr(ags.title,3) AS name_age_segment,\n",
    "       ts.bucket_min,\n",
    "       ts.bucket_max,\n",
    "       substr(ts.title,3) AS name_traffic_segment,\n",
    "       ls.bucket_min,\n",
    "       ls.bucket_max,\n",
    "       substr(ls.title,3) AS name_lifetime_segment,\n",
    "       u.nps_score,\n",
    "       CASE\n",
    "           WHEN u.nps_score >= 9 THEN 'promoters'\n",
    "           WHEN u.nps_score >= 7 THEN 'passives'\n",
    "           ELSE 'detractors'\n",
    "       END AS nps_group    \n",
    "FROM user AS u\n",
    "LEFT JOIN location AS l ON u.location_id=l.location_id\n",
    "LEFT JOIN age_segment AS ags ON u.age_gr_id=ags.age_gr_id\n",
    "LEFT JOIN traffic_segment AS ts ON u.tr_gr_id=ts.tr_gr_id\n",
    "LEFT JOIN lifetime_segment AS ls ON u.lt_gr_id=ls.lt_gr_id\n",
    "\n",
    "\"\"\"\n"
   ]
  },
  {
   "cell_type": "code",
   "execution_count": 8,
   "id": "bf54e98f",
   "metadata": {},
   "outputs": [],
   "source": [
    "df = pd.read_sql(query, engine)"
   ]
  },
  {
   "cell_type": "code",
   "execution_count": 9,
   "id": "d36eb405",
   "metadata": {},
   "outputs": [
    {
     "data": {
      "text/html": [
       "<div>\n",
       "<style scoped>\n",
       "    .dataframe tbody tr th:only-of-type {\n",
       "        vertical-align: middle;\n",
       "    }\n",
       "\n",
       "    .dataframe tbody tr th {\n",
       "        vertical-align: top;\n",
       "    }\n",
       "\n",
       "    .dataframe thead th {\n",
       "        text-align: right;\n",
       "    }\n",
       "</style>\n",
       "<table border=\"1\" class=\"dataframe\">\n",
       "  <thead>\n",
       "    <tr style=\"text-align: right;\">\n",
       "      <th></th>\n",
       "      <th>user_id</th>\n",
       "      <th>lt_day</th>\n",
       "      <th>is_new</th>\n",
       "      <th>age</th>\n",
       "      <th>gender_segment</th>\n",
       "      <th>os_name</th>\n",
       "      <th>cpe_type_name</th>\n",
       "      <th>country</th>\n",
       "      <th>city</th>\n",
       "      <th>bucket_min</th>\n",
       "      <th>bucket_max</th>\n",
       "      <th>name_age_segment</th>\n",
       "      <th>bucket_min</th>\n",
       "      <th>bucket_max</th>\n",
       "      <th>name_traffic_segment</th>\n",
       "      <th>bucket_min</th>\n",
       "      <th>bucket_max</th>\n",
       "      <th>name_lifetime_segment</th>\n",
       "      <th>nps_score</th>\n",
       "      <th>nps_group</th>\n",
       "    </tr>\n",
       "  </thead>\n",
       "  <tbody>\n",
       "    <tr>\n",
       "      <th>0</th>\n",
       "      <td>A001A2</td>\n",
       "      <td>2320</td>\n",
       "      <td>False</td>\n",
       "      <td>45.0</td>\n",
       "      <td>1.0</td>\n",
       "      <td>ANDROID</td>\n",
       "      <td>SMARTPHONE</td>\n",
       "      <td>Россия</td>\n",
       "      <td>Уфа</td>\n",
       "      <td>45.0</td>\n",
       "      <td>54.0</td>\n",
       "      <td>45-54</td>\n",
       "      <td>1.0</td>\n",
       "      <td>5.0</td>\n",
       "      <td>1-5</td>\n",
       "      <td>36.0</td>\n",
       "      <td>NaN</td>\n",
       "      <td>36+</td>\n",
       "      <td>10</td>\n",
       "      <td>promoters</td>\n",
       "    </tr>\n",
       "    <tr>\n",
       "      <th>1</th>\n",
       "      <td>A001WF</td>\n",
       "      <td>2344</td>\n",
       "      <td>False</td>\n",
       "      <td>53.0</td>\n",
       "      <td>0.0</td>\n",
       "      <td>ANDROID</td>\n",
       "      <td>SMARTPHONE</td>\n",
       "      <td>Россия</td>\n",
       "      <td>Киров</td>\n",
       "      <td>45.0</td>\n",
       "      <td>54.0</td>\n",
       "      <td>45-54</td>\n",
       "      <td>1.0</td>\n",
       "      <td>5.0</td>\n",
       "      <td>1-5</td>\n",
       "      <td>36.0</td>\n",
       "      <td>NaN</td>\n",
       "      <td>36+</td>\n",
       "      <td>10</td>\n",
       "      <td>promoters</td>\n",
       "    </tr>\n",
       "    <tr>\n",
       "      <th>2</th>\n",
       "      <td>A003Q7</td>\n",
       "      <td>467</td>\n",
       "      <td>False</td>\n",
       "      <td>57.0</td>\n",
       "      <td>0.0</td>\n",
       "      <td>ANDROID</td>\n",
       "      <td>SMARTPHONE</td>\n",
       "      <td>Россия</td>\n",
       "      <td>Москва</td>\n",
       "      <td>55.0</td>\n",
       "      <td>64.0</td>\n",
       "      <td>55-64</td>\n",
       "      <td>20.0</td>\n",
       "      <td>25.0</td>\n",
       "      <td>20-25</td>\n",
       "      <td>13.0</td>\n",
       "      <td>24.0</td>\n",
       "      <td>13-24</td>\n",
       "      <td>10</td>\n",
       "      <td>promoters</td>\n",
       "    </tr>\n",
       "    <tr>\n",
       "      <th>3</th>\n",
       "      <td>A004TB</td>\n",
       "      <td>4190</td>\n",
       "      <td>False</td>\n",
       "      <td>44.0</td>\n",
       "      <td>1.0</td>\n",
       "      <td>IOS</td>\n",
       "      <td>SMARTPHONE</td>\n",
       "      <td>Россия</td>\n",
       "      <td>РостовнаДону</td>\n",
       "      <td>35.0</td>\n",
       "      <td>44.0</td>\n",
       "      <td>35-44</td>\n",
       "      <td>0.1</td>\n",
       "      <td>1.0</td>\n",
       "      <td>0.1-1</td>\n",
       "      <td>36.0</td>\n",
       "      <td>NaN</td>\n",
       "      <td>36+</td>\n",
       "      <td>10</td>\n",
       "      <td>promoters</td>\n",
       "    </tr>\n",
       "    <tr>\n",
       "      <th>4</th>\n",
       "      <td>A004XT</td>\n",
       "      <td>1163</td>\n",
       "      <td>False</td>\n",
       "      <td>24.0</td>\n",
       "      <td>0.0</td>\n",
       "      <td>ANDROID</td>\n",
       "      <td>SMARTPHONE</td>\n",
       "      <td>Россия</td>\n",
       "      <td>Рязань</td>\n",
       "      <td>16.0</td>\n",
       "      <td>24.0</td>\n",
       "      <td>16-24</td>\n",
       "      <td>5.0</td>\n",
       "      <td>10.0</td>\n",
       "      <td>5-10</td>\n",
       "      <td>36.0</td>\n",
       "      <td>NaN</td>\n",
       "      <td>36+</td>\n",
       "      <td>10</td>\n",
       "      <td>promoters</td>\n",
       "    </tr>\n",
       "    <tr>\n",
       "      <th>...</th>\n",
       "      <td>...</td>\n",
       "      <td>...</td>\n",
       "      <td>...</td>\n",
       "      <td>...</td>\n",
       "      <td>...</td>\n",
       "      <td>...</td>\n",
       "      <td>...</td>\n",
       "      <td>...</td>\n",
       "      <td>...</td>\n",
       "      <td>...</td>\n",
       "      <td>...</td>\n",
       "      <td>...</td>\n",
       "      <td>...</td>\n",
       "      <td>...</td>\n",
       "      <td>...</td>\n",
       "      <td>...</td>\n",
       "      <td>...</td>\n",
       "      <td>...</td>\n",
       "      <td>...</td>\n",
       "      <td>...</td>\n",
       "    </tr>\n",
       "    <tr>\n",
       "      <th>502488</th>\n",
       "      <td>ZZZKLD</td>\n",
       "      <td>1249</td>\n",
       "      <td>False</td>\n",
       "      <td>54.0</td>\n",
       "      <td>1.0</td>\n",
       "      <td>ANDROID</td>\n",
       "      <td>SMARTPHONE</td>\n",
       "      <td>Россия</td>\n",
       "      <td>Москва</td>\n",
       "      <td>45.0</td>\n",
       "      <td>54.0</td>\n",
       "      <td>45-54</td>\n",
       "      <td>1.0</td>\n",
       "      <td>5.0</td>\n",
       "      <td>1-5</td>\n",
       "      <td>36.0</td>\n",
       "      <td>NaN</td>\n",
       "      <td>36+</td>\n",
       "      <td>5</td>\n",
       "      <td>detractors</td>\n",
       "    </tr>\n",
       "    <tr>\n",
       "      <th>502489</th>\n",
       "      <td>ZZZLWY</td>\n",
       "      <td>129</td>\n",
       "      <td>True</td>\n",
       "      <td>31.0</td>\n",
       "      <td>0.0</td>\n",
       "      <td>ANDROID</td>\n",
       "      <td>SMARTPHONE</td>\n",
       "      <td>Россия</td>\n",
       "      <td>Москва</td>\n",
       "      <td>25.0</td>\n",
       "      <td>34.0</td>\n",
       "      <td>25-34</td>\n",
       "      <td>1.0</td>\n",
       "      <td>5.0</td>\n",
       "      <td>1-5</td>\n",
       "      <td>4.0</td>\n",
       "      <td>6.0</td>\n",
       "      <td>4-6</td>\n",
       "      <td>8</td>\n",
       "      <td>passives</td>\n",
       "    </tr>\n",
       "    <tr>\n",
       "      <th>502490</th>\n",
       "      <td>ZZZQ5F</td>\n",
       "      <td>522</td>\n",
       "      <td>False</td>\n",
       "      <td>36.0</td>\n",
       "      <td>0.0</td>\n",
       "      <td>ANDROID</td>\n",
       "      <td>SMARTPHONE</td>\n",
       "      <td>Россия</td>\n",
       "      <td>Сургут</td>\n",
       "      <td>35.0</td>\n",
       "      <td>44.0</td>\n",
       "      <td>35-44</td>\n",
       "      <td>25.0</td>\n",
       "      <td>30.0</td>\n",
       "      <td>25-30</td>\n",
       "      <td>13.0</td>\n",
       "      <td>24.0</td>\n",
       "      <td>13-24</td>\n",
       "      <td>10</td>\n",
       "      <td>promoters</td>\n",
       "    </tr>\n",
       "    <tr>\n",
       "      <th>502491</th>\n",
       "      <td>ZZZQ8E</td>\n",
       "      <td>2936</td>\n",
       "      <td>False</td>\n",
       "      <td>37.0</td>\n",
       "      <td>1.0</td>\n",
       "      <td>ANDROID</td>\n",
       "      <td>SMARTPHONE</td>\n",
       "      <td>Россия</td>\n",
       "      <td>УланУдэ</td>\n",
       "      <td>35.0</td>\n",
       "      <td>44.0</td>\n",
       "      <td>35-44</td>\n",
       "      <td>65.0</td>\n",
       "      <td>70.0</td>\n",
       "      <td>65-70</td>\n",
       "      <td>36.0</td>\n",
       "      <td>NaN</td>\n",
       "      <td>36+</td>\n",
       "      <td>9</td>\n",
       "      <td>promoters</td>\n",
       "    </tr>\n",
       "    <tr>\n",
       "      <th>502492</th>\n",
       "      <td>ZZZYH0</td>\n",
       "      <td>2471</td>\n",
       "      <td>False</td>\n",
       "      <td>37.0</td>\n",
       "      <td>0.0</td>\n",
       "      <td>IOS</td>\n",
       "      <td>SMARTPHONE</td>\n",
       "      <td>Россия</td>\n",
       "      <td>Самара</td>\n",
       "      <td>35.0</td>\n",
       "      <td>44.0</td>\n",
       "      <td>35-44</td>\n",
       "      <td>10.0</td>\n",
       "      <td>15.0</td>\n",
       "      <td>10-15</td>\n",
       "      <td>36.0</td>\n",
       "      <td>NaN</td>\n",
       "      <td>36+</td>\n",
       "      <td>2</td>\n",
       "      <td>detractors</td>\n",
       "    </tr>\n",
       "  </tbody>\n",
       "</table>\n",
       "<p>502493 rows × 20 columns</p>\n",
       "</div>"
      ],
      "text/plain": [
       "       user_id  lt_day is_new   age  gender_segment  os_name cpe_type_name  \\\n",
       "0       A001A2    2320  False  45.0             1.0  ANDROID    SMARTPHONE   \n",
       "1       A001WF    2344  False  53.0             0.0  ANDROID    SMARTPHONE   \n",
       "2       A003Q7     467  False  57.0             0.0  ANDROID    SMARTPHONE   \n",
       "3       A004TB    4190  False  44.0             1.0      IOS    SMARTPHONE   \n",
       "4       A004XT    1163  False  24.0             0.0  ANDROID    SMARTPHONE   \n",
       "...        ...     ...    ...   ...             ...      ...           ...   \n",
       "502488  ZZZKLD    1249  False  54.0             1.0  ANDROID    SMARTPHONE   \n",
       "502489  ZZZLWY     129   True  31.0             0.0  ANDROID    SMARTPHONE   \n",
       "502490  ZZZQ5F     522  False  36.0             0.0  ANDROID    SMARTPHONE   \n",
       "502491  ZZZQ8E    2936  False  37.0             1.0  ANDROID    SMARTPHONE   \n",
       "502492  ZZZYH0    2471  False  37.0             0.0      IOS    SMARTPHONE   \n",
       "\n",
       "       country          city  bucket_min  bucket_max name_age_segment  \\\n",
       "0       Россия           Уфа        45.0        54.0            45-54   \n",
       "1       Россия         Киров        45.0        54.0            45-54   \n",
       "2       Россия        Москва        55.0        64.0            55-64   \n",
       "3       Россия  РостовнаДону        35.0        44.0            35-44   \n",
       "4       Россия        Рязань        16.0        24.0            16-24   \n",
       "...        ...           ...         ...         ...              ...   \n",
       "502488  Россия        Москва        45.0        54.0            45-54   \n",
       "502489  Россия        Москва        25.0        34.0            25-34   \n",
       "502490  Россия        Сургут        35.0        44.0            35-44   \n",
       "502491  Россия       УланУдэ        35.0        44.0            35-44   \n",
       "502492  Россия        Самара        35.0        44.0            35-44   \n",
       "\n",
       "        bucket_min  bucket_max name_traffic_segment  bucket_min  bucket_max  \\\n",
       "0              1.0         5.0                  1-5        36.0         NaN   \n",
       "1              1.0         5.0                  1-5        36.0         NaN   \n",
       "2             20.0        25.0                20-25        13.0        24.0   \n",
       "3              0.1         1.0                0.1-1        36.0         NaN   \n",
       "4              5.0        10.0                 5-10        36.0         NaN   \n",
       "...            ...         ...                  ...         ...         ...   \n",
       "502488         1.0         5.0                  1-5        36.0         NaN   \n",
       "502489         1.0         5.0                  1-5         4.0         6.0   \n",
       "502490        25.0        30.0                25-30        13.0        24.0   \n",
       "502491        65.0        70.0                65-70        36.0         NaN   \n",
       "502492        10.0        15.0                10-15        36.0         NaN   \n",
       "\n",
       "       name_lifetime_segment  nps_score   nps_group  \n",
       "0                        36+         10   promoters  \n",
       "1                        36+         10   promoters  \n",
       "2                      13-24         10   promoters  \n",
       "3                        36+         10   promoters  \n",
       "4                        36+         10   promoters  \n",
       "...                      ...        ...         ...  \n",
       "502488                   36+          5  detractors  \n",
       "502489                   4-6          8    passives  \n",
       "502490                 13-24         10   promoters  \n",
       "502491                   36+          9   promoters  \n",
       "502492                   36+          2  detractors  \n",
       "\n",
       "[502493 rows x 20 columns]"
      ]
     },
     "execution_count": 9,
     "metadata": {},
     "output_type": "execute_result"
    }
   ],
   "source": [
    "df"
   ]
  },
  {
   "cell_type": "code",
   "execution_count": 10,
   "id": "137685a2",
   "metadata": {},
   "outputs": [
    {
     "name": "stdout",
     "output_type": "stream",
     "text": [
      "<class 'pandas.core.frame.DataFrame'>\n",
      "RangeIndex: 502493 entries, 0 to 502492\n",
      "Data columns (total 20 columns):\n",
      " #   Column                 Non-Null Count   Dtype  \n",
      "---  ------                 --------------   -----  \n",
      " 0   user_id                502493 non-null  object \n",
      " 1   lt_day                 502493 non-null  int64  \n",
      " 2   is_new                 502493 non-null  object \n",
      " 3   age                    501939 non-null  float64\n",
      " 4   gender_segment         501192 non-null  float64\n",
      " 5   os_name                502493 non-null  object \n",
      " 6   cpe_type_name          502493 non-null  object \n",
      " 7   country                502493 non-null  object \n",
      " 8   city                   502493 non-null  object \n",
      " 9   bucket_min             501254 non-null  float64\n",
      " 10  bucket_max             488703 non-null  float64\n",
      " 11  name_age_segment       502493 non-null  object \n",
      " 12  bucket_min             502493 non-null  float64\n",
      " 13  bucket_max             491388 non-null  float64\n",
      " 14  name_traffic_segment   502493 non-null  object \n",
      " 15  bucket_min             502493 non-null  float64\n",
      " 16  bucket_max             228194 non-null  float64\n",
      " 17  name_lifetime_segment  502493 non-null  object \n",
      " 18  nps_score              502493 non-null  int64  \n",
      " 19  nps_group              502493 non-null  object \n",
      "dtypes: float64(8), int64(2), object(10)\n",
      "memory usage: 76.7+ MB\n"
     ]
    }
   ],
   "source": [
    "df.info()"
   ]
  },
  {
   "cell_type": "code",
   "execution_count": 11,
   "id": "ee6f539f",
   "metadata": {},
   "outputs": [
    {
     "data": {
      "text/plain": [
       "user_id                       0\n",
       "lt_day                        0\n",
       "is_new                        0\n",
       "age                         554\n",
       "gender_segment             1301\n",
       "os_name                       0\n",
       "cpe_type_name                 0\n",
       "country                       0\n",
       "city                          0\n",
       "bucket_min                 1239\n",
       "bucket_max                13790\n",
       "name_age_segment              0\n",
       "bucket_min                    0\n",
       "bucket_max                11105\n",
       "name_traffic_segment          0\n",
       "bucket_min                    0\n",
       "bucket_max               274299\n",
       "name_lifetime_segment         0\n",
       "nps_score                     0\n",
       "nps_group                     0\n",
       "dtype: int64"
      ]
     },
     "execution_count": 11,
     "metadata": {},
     "output_type": "execute_result"
    }
   ],
   "source": [
    "df.isnull().sum()"
   ]
  },
  {
   "cell_type": "markdown",
   "id": "a9976ba7",
   "metadata": {},
   "source": [
    "Мы видем большое количество пропусков в столбцах со значениями границ сегментов, изучив содержание этих столбцов и столбцов с наименованием сегментов, можно сделать вывод, что все необходимые значения можно увидеть в столбце с наименованием, поэтому мы избавимся от ненужных столбцов."
   ]
  },
  {
   "cell_type": "code",
   "execution_count": 12,
   "id": "aa9d6e2e",
   "metadata": {},
   "outputs": [],
   "source": [
    "df = df.drop(columns=['bucket_min','bucket_max','bucket_min','bucket_max','bucket_min','bucket_max'])"
   ]
  },
  {
   "cell_type": "code",
   "execution_count": 13,
   "id": "3d4a9c65",
   "metadata": {},
   "outputs": [
    {
     "data": {
      "text/html": [
       "<div>\n",
       "<style scoped>\n",
       "    .dataframe tbody tr th:only-of-type {\n",
       "        vertical-align: middle;\n",
       "    }\n",
       "\n",
       "    .dataframe tbody tr th {\n",
       "        vertical-align: top;\n",
       "    }\n",
       "\n",
       "    .dataframe thead th {\n",
       "        text-align: right;\n",
       "    }\n",
       "</style>\n",
       "<table border=\"1\" class=\"dataframe\">\n",
       "  <thead>\n",
       "    <tr style=\"text-align: right;\">\n",
       "      <th></th>\n",
       "      <th>user_id</th>\n",
       "      <th>lt_day</th>\n",
       "      <th>is_new</th>\n",
       "      <th>age</th>\n",
       "      <th>gender_segment</th>\n",
       "      <th>os_name</th>\n",
       "      <th>cpe_type_name</th>\n",
       "      <th>country</th>\n",
       "      <th>city</th>\n",
       "      <th>name_age_segment</th>\n",
       "      <th>name_traffic_segment</th>\n",
       "      <th>name_lifetime_segment</th>\n",
       "      <th>nps_score</th>\n",
       "      <th>nps_group</th>\n",
       "    </tr>\n",
       "  </thead>\n",
       "  <tbody>\n",
       "    <tr>\n",
       "      <th>0</th>\n",
       "      <td>A001A2</td>\n",
       "      <td>2320</td>\n",
       "      <td>False</td>\n",
       "      <td>45.0</td>\n",
       "      <td>1.0</td>\n",
       "      <td>ANDROID</td>\n",
       "      <td>SMARTPHONE</td>\n",
       "      <td>Россия</td>\n",
       "      <td>Уфа</td>\n",
       "      <td>45-54</td>\n",
       "      <td>1-5</td>\n",
       "      <td>36+</td>\n",
       "      <td>10</td>\n",
       "      <td>promoters</td>\n",
       "    </tr>\n",
       "    <tr>\n",
       "      <th>1</th>\n",
       "      <td>A001WF</td>\n",
       "      <td>2344</td>\n",
       "      <td>False</td>\n",
       "      <td>53.0</td>\n",
       "      <td>0.0</td>\n",
       "      <td>ANDROID</td>\n",
       "      <td>SMARTPHONE</td>\n",
       "      <td>Россия</td>\n",
       "      <td>Киров</td>\n",
       "      <td>45-54</td>\n",
       "      <td>1-5</td>\n",
       "      <td>36+</td>\n",
       "      <td>10</td>\n",
       "      <td>promoters</td>\n",
       "    </tr>\n",
       "    <tr>\n",
       "      <th>2</th>\n",
       "      <td>A003Q7</td>\n",
       "      <td>467</td>\n",
       "      <td>False</td>\n",
       "      <td>57.0</td>\n",
       "      <td>0.0</td>\n",
       "      <td>ANDROID</td>\n",
       "      <td>SMARTPHONE</td>\n",
       "      <td>Россия</td>\n",
       "      <td>Москва</td>\n",
       "      <td>55-64</td>\n",
       "      <td>20-25</td>\n",
       "      <td>13-24</td>\n",
       "      <td>10</td>\n",
       "      <td>promoters</td>\n",
       "    </tr>\n",
       "    <tr>\n",
       "      <th>3</th>\n",
       "      <td>A004TB</td>\n",
       "      <td>4190</td>\n",
       "      <td>False</td>\n",
       "      <td>44.0</td>\n",
       "      <td>1.0</td>\n",
       "      <td>IOS</td>\n",
       "      <td>SMARTPHONE</td>\n",
       "      <td>Россия</td>\n",
       "      <td>РостовнаДону</td>\n",
       "      <td>35-44</td>\n",
       "      <td>0.1-1</td>\n",
       "      <td>36+</td>\n",
       "      <td>10</td>\n",
       "      <td>promoters</td>\n",
       "    </tr>\n",
       "    <tr>\n",
       "      <th>4</th>\n",
       "      <td>A004XT</td>\n",
       "      <td>1163</td>\n",
       "      <td>False</td>\n",
       "      <td>24.0</td>\n",
       "      <td>0.0</td>\n",
       "      <td>ANDROID</td>\n",
       "      <td>SMARTPHONE</td>\n",
       "      <td>Россия</td>\n",
       "      <td>Рязань</td>\n",
       "      <td>16-24</td>\n",
       "      <td>5-10</td>\n",
       "      <td>36+</td>\n",
       "      <td>10</td>\n",
       "      <td>promoters</td>\n",
       "    </tr>\n",
       "    <tr>\n",
       "      <th>...</th>\n",
       "      <td>...</td>\n",
       "      <td>...</td>\n",
       "      <td>...</td>\n",
       "      <td>...</td>\n",
       "      <td>...</td>\n",
       "      <td>...</td>\n",
       "      <td>...</td>\n",
       "      <td>...</td>\n",
       "      <td>...</td>\n",
       "      <td>...</td>\n",
       "      <td>...</td>\n",
       "      <td>...</td>\n",
       "      <td>...</td>\n",
       "      <td>...</td>\n",
       "    </tr>\n",
       "    <tr>\n",
       "      <th>502488</th>\n",
       "      <td>ZZZKLD</td>\n",
       "      <td>1249</td>\n",
       "      <td>False</td>\n",
       "      <td>54.0</td>\n",
       "      <td>1.0</td>\n",
       "      <td>ANDROID</td>\n",
       "      <td>SMARTPHONE</td>\n",
       "      <td>Россия</td>\n",
       "      <td>Москва</td>\n",
       "      <td>45-54</td>\n",
       "      <td>1-5</td>\n",
       "      <td>36+</td>\n",
       "      <td>5</td>\n",
       "      <td>detractors</td>\n",
       "    </tr>\n",
       "    <tr>\n",
       "      <th>502489</th>\n",
       "      <td>ZZZLWY</td>\n",
       "      <td>129</td>\n",
       "      <td>True</td>\n",
       "      <td>31.0</td>\n",
       "      <td>0.0</td>\n",
       "      <td>ANDROID</td>\n",
       "      <td>SMARTPHONE</td>\n",
       "      <td>Россия</td>\n",
       "      <td>Москва</td>\n",
       "      <td>25-34</td>\n",
       "      <td>1-5</td>\n",
       "      <td>4-6</td>\n",
       "      <td>8</td>\n",
       "      <td>passives</td>\n",
       "    </tr>\n",
       "    <tr>\n",
       "      <th>502490</th>\n",
       "      <td>ZZZQ5F</td>\n",
       "      <td>522</td>\n",
       "      <td>False</td>\n",
       "      <td>36.0</td>\n",
       "      <td>0.0</td>\n",
       "      <td>ANDROID</td>\n",
       "      <td>SMARTPHONE</td>\n",
       "      <td>Россия</td>\n",
       "      <td>Сургут</td>\n",
       "      <td>35-44</td>\n",
       "      <td>25-30</td>\n",
       "      <td>13-24</td>\n",
       "      <td>10</td>\n",
       "      <td>promoters</td>\n",
       "    </tr>\n",
       "    <tr>\n",
       "      <th>502491</th>\n",
       "      <td>ZZZQ8E</td>\n",
       "      <td>2936</td>\n",
       "      <td>False</td>\n",
       "      <td>37.0</td>\n",
       "      <td>1.0</td>\n",
       "      <td>ANDROID</td>\n",
       "      <td>SMARTPHONE</td>\n",
       "      <td>Россия</td>\n",
       "      <td>УланУдэ</td>\n",
       "      <td>35-44</td>\n",
       "      <td>65-70</td>\n",
       "      <td>36+</td>\n",
       "      <td>9</td>\n",
       "      <td>promoters</td>\n",
       "    </tr>\n",
       "    <tr>\n",
       "      <th>502492</th>\n",
       "      <td>ZZZYH0</td>\n",
       "      <td>2471</td>\n",
       "      <td>False</td>\n",
       "      <td>37.0</td>\n",
       "      <td>0.0</td>\n",
       "      <td>IOS</td>\n",
       "      <td>SMARTPHONE</td>\n",
       "      <td>Россия</td>\n",
       "      <td>Самара</td>\n",
       "      <td>35-44</td>\n",
       "      <td>10-15</td>\n",
       "      <td>36+</td>\n",
       "      <td>2</td>\n",
       "      <td>detractors</td>\n",
       "    </tr>\n",
       "  </tbody>\n",
       "</table>\n",
       "<p>502493 rows × 14 columns</p>\n",
       "</div>"
      ],
      "text/plain": [
       "       user_id  lt_day is_new   age  gender_segment  os_name cpe_type_name  \\\n",
       "0       A001A2    2320  False  45.0             1.0  ANDROID    SMARTPHONE   \n",
       "1       A001WF    2344  False  53.0             0.0  ANDROID    SMARTPHONE   \n",
       "2       A003Q7     467  False  57.0             0.0  ANDROID    SMARTPHONE   \n",
       "3       A004TB    4190  False  44.0             1.0      IOS    SMARTPHONE   \n",
       "4       A004XT    1163  False  24.0             0.0  ANDROID    SMARTPHONE   \n",
       "...        ...     ...    ...   ...             ...      ...           ...   \n",
       "502488  ZZZKLD    1249  False  54.0             1.0  ANDROID    SMARTPHONE   \n",
       "502489  ZZZLWY     129   True  31.0             0.0  ANDROID    SMARTPHONE   \n",
       "502490  ZZZQ5F     522  False  36.0             0.0  ANDROID    SMARTPHONE   \n",
       "502491  ZZZQ8E    2936  False  37.0             1.0  ANDROID    SMARTPHONE   \n",
       "502492  ZZZYH0    2471  False  37.0             0.0      IOS    SMARTPHONE   \n",
       "\n",
       "       country          city name_age_segment name_traffic_segment  \\\n",
       "0       Россия           Уфа            45-54                  1-5   \n",
       "1       Россия         Киров            45-54                  1-5   \n",
       "2       Россия        Москва            55-64                20-25   \n",
       "3       Россия  РостовнаДону            35-44                0.1-1   \n",
       "4       Россия        Рязань            16-24                 5-10   \n",
       "...        ...           ...              ...                  ...   \n",
       "502488  Россия        Москва            45-54                  1-5   \n",
       "502489  Россия        Москва            25-34                  1-5   \n",
       "502490  Россия        Сургут            35-44                25-30   \n",
       "502491  Россия       УланУдэ            35-44                65-70   \n",
       "502492  Россия        Самара            35-44                10-15   \n",
       "\n",
       "       name_lifetime_segment  nps_score   nps_group  \n",
       "0                        36+         10   promoters  \n",
       "1                        36+         10   promoters  \n",
       "2                      13-24         10   promoters  \n",
       "3                        36+         10   promoters  \n",
       "4                        36+         10   promoters  \n",
       "...                      ...        ...         ...  \n",
       "502488                   36+          5  detractors  \n",
       "502489                   4-6          8    passives  \n",
       "502490                 13-24         10   promoters  \n",
       "502491                   36+          9   promoters  \n",
       "502492                   36+          2  detractors  \n",
       "\n",
       "[502493 rows x 14 columns]"
      ]
     },
     "execution_count": 13,
     "metadata": {},
     "output_type": "execute_result"
    }
   ],
   "source": [
    "df"
   ]
  },
  {
   "cell_type": "markdown",
   "id": "519cd642",
   "metadata": {},
   "source": [
    "Удалим так же строки с пропущенными значениями столбцов `age` и `gender_segment` так как ввиду небольшого количества пропусков, на результаты исследования это не скажется."
   ]
  },
  {
   "cell_type": "code",
   "execution_count": 14,
   "id": "0cc9cc19",
   "metadata": {},
   "outputs": [],
   "source": [
    "df = df.dropna(subset=['age','gender_segment']) # удалим строки с пропущенными значениями в столбцах"
   ]
  },
  {
   "cell_type": "code",
   "execution_count": 15,
   "id": "01d5ed7b",
   "metadata": {},
   "outputs": [
    {
     "data": {
      "text/plain": [
       "user_id                  0\n",
       "lt_day                   0\n",
       "is_new                   0\n",
       "age                      0\n",
       "gender_segment           0\n",
       "os_name                  0\n",
       "cpe_type_name            0\n",
       "country                  0\n",
       "city                     0\n",
       "name_age_segment         0\n",
       "name_traffic_segment     0\n",
       "name_lifetime_segment    0\n",
       "nps_score                0\n",
       "nps_group                0\n",
       "dtype: int64"
      ]
     },
     "execution_count": 15,
     "metadata": {},
     "output_type": "execute_result"
    }
   ],
   "source": [
    "df.isnull().sum()"
   ]
  },
  {
   "cell_type": "code",
   "execution_count": 16,
   "id": "f22019b8",
   "metadata": {},
   "outputs": [
    {
     "name": "stdout",
     "output_type": "stream",
     "text": [
      "<class 'pandas.core.frame.DataFrame'>\n",
      "Int64Index: 501152 entries, 0 to 502492\n",
      "Data columns (total 14 columns):\n",
      " #   Column                 Non-Null Count   Dtype  \n",
      "---  ------                 --------------   -----  \n",
      " 0   user_id                501152 non-null  object \n",
      " 1   lt_day                 501152 non-null  int64  \n",
      " 2   is_new                 501152 non-null  object \n",
      " 3   age                    501152 non-null  float64\n",
      " 4   gender_segment         501152 non-null  float64\n",
      " 5   os_name                501152 non-null  object \n",
      " 6   cpe_type_name          501152 non-null  object \n",
      " 7   country                501152 non-null  object \n",
      " 8   city                   501152 non-null  object \n",
      " 9   name_age_segment       501152 non-null  object \n",
      " 10  name_traffic_segment   501152 non-null  object \n",
      " 11  name_lifetime_segment  501152 non-null  object \n",
      " 12  nps_score              501152 non-null  int64  \n",
      " 13  nps_group              501152 non-null  object \n",
      "dtypes: float64(2), int64(2), object(10)\n",
      "memory usage: 57.4+ MB\n"
     ]
    }
   ],
   "source": [
    "df.info()"
   ]
  },
  {
   "cell_type": "code",
   "execution_count": 17,
   "id": "2cc69368",
   "metadata": {},
   "outputs": [],
   "source": [
    "df['age'] = pd.to_numeric(df['age'], downcast='integer')"
   ]
  },
  {
   "cell_type": "code",
   "execution_count": 18,
   "id": "b4f84583",
   "metadata": {},
   "outputs": [],
   "source": [
    "df['gender_segment'] = pd.to_numeric(df['gender_segment'], downcast='integer')"
   ]
  },
  {
   "cell_type": "code",
   "execution_count": 19,
   "id": "47da5688",
   "metadata": {},
   "outputs": [
    {
     "data": {
      "text/html": [
       "<div>\n",
       "<style scoped>\n",
       "    .dataframe tbody tr th:only-of-type {\n",
       "        vertical-align: middle;\n",
       "    }\n",
       "\n",
       "    .dataframe tbody tr th {\n",
       "        vertical-align: top;\n",
       "    }\n",
       "\n",
       "    .dataframe thead th {\n",
       "        text-align: right;\n",
       "    }\n",
       "</style>\n",
       "<table border=\"1\" class=\"dataframe\">\n",
       "  <thead>\n",
       "    <tr style=\"text-align: right;\">\n",
       "      <th></th>\n",
       "      <th>user_id</th>\n",
       "      <th>lt_day</th>\n",
       "      <th>is_new</th>\n",
       "      <th>age</th>\n",
       "      <th>gender_segment</th>\n",
       "      <th>os_name</th>\n",
       "      <th>cpe_type_name</th>\n",
       "      <th>country</th>\n",
       "      <th>city</th>\n",
       "      <th>name_age_segment</th>\n",
       "      <th>name_traffic_segment</th>\n",
       "      <th>name_lifetime_segment</th>\n",
       "      <th>nps_score</th>\n",
       "      <th>nps_group</th>\n",
       "    </tr>\n",
       "  </thead>\n",
       "  <tbody>\n",
       "    <tr>\n",
       "      <th>0</th>\n",
       "      <td>A001A2</td>\n",
       "      <td>2320</td>\n",
       "      <td>False</td>\n",
       "      <td>45</td>\n",
       "      <td>1</td>\n",
       "      <td>ANDROID</td>\n",
       "      <td>SMARTPHONE</td>\n",
       "      <td>Россия</td>\n",
       "      <td>Уфа</td>\n",
       "      <td>45-54</td>\n",
       "      <td>1-5</td>\n",
       "      <td>36+</td>\n",
       "      <td>10</td>\n",
       "      <td>promoters</td>\n",
       "    </tr>\n",
       "    <tr>\n",
       "      <th>1</th>\n",
       "      <td>A001WF</td>\n",
       "      <td>2344</td>\n",
       "      <td>False</td>\n",
       "      <td>53</td>\n",
       "      <td>0</td>\n",
       "      <td>ANDROID</td>\n",
       "      <td>SMARTPHONE</td>\n",
       "      <td>Россия</td>\n",
       "      <td>Киров</td>\n",
       "      <td>45-54</td>\n",
       "      <td>1-5</td>\n",
       "      <td>36+</td>\n",
       "      <td>10</td>\n",
       "      <td>promoters</td>\n",
       "    </tr>\n",
       "    <tr>\n",
       "      <th>2</th>\n",
       "      <td>A003Q7</td>\n",
       "      <td>467</td>\n",
       "      <td>False</td>\n",
       "      <td>57</td>\n",
       "      <td>0</td>\n",
       "      <td>ANDROID</td>\n",
       "      <td>SMARTPHONE</td>\n",
       "      <td>Россия</td>\n",
       "      <td>Москва</td>\n",
       "      <td>55-64</td>\n",
       "      <td>20-25</td>\n",
       "      <td>13-24</td>\n",
       "      <td>10</td>\n",
       "      <td>promoters</td>\n",
       "    </tr>\n",
       "    <tr>\n",
       "      <th>3</th>\n",
       "      <td>A004TB</td>\n",
       "      <td>4190</td>\n",
       "      <td>False</td>\n",
       "      <td>44</td>\n",
       "      <td>1</td>\n",
       "      <td>IOS</td>\n",
       "      <td>SMARTPHONE</td>\n",
       "      <td>Россия</td>\n",
       "      <td>РостовнаДону</td>\n",
       "      <td>35-44</td>\n",
       "      <td>0.1-1</td>\n",
       "      <td>36+</td>\n",
       "      <td>10</td>\n",
       "      <td>promoters</td>\n",
       "    </tr>\n",
       "    <tr>\n",
       "      <th>4</th>\n",
       "      <td>A004XT</td>\n",
       "      <td>1163</td>\n",
       "      <td>False</td>\n",
       "      <td>24</td>\n",
       "      <td>0</td>\n",
       "      <td>ANDROID</td>\n",
       "      <td>SMARTPHONE</td>\n",
       "      <td>Россия</td>\n",
       "      <td>Рязань</td>\n",
       "      <td>16-24</td>\n",
       "      <td>5-10</td>\n",
       "      <td>36+</td>\n",
       "      <td>10</td>\n",
       "      <td>promoters</td>\n",
       "    </tr>\n",
       "    <tr>\n",
       "      <th>...</th>\n",
       "      <td>...</td>\n",
       "      <td>...</td>\n",
       "      <td>...</td>\n",
       "      <td>...</td>\n",
       "      <td>...</td>\n",
       "      <td>...</td>\n",
       "      <td>...</td>\n",
       "      <td>...</td>\n",
       "      <td>...</td>\n",
       "      <td>...</td>\n",
       "      <td>...</td>\n",
       "      <td>...</td>\n",
       "      <td>...</td>\n",
       "      <td>...</td>\n",
       "    </tr>\n",
       "    <tr>\n",
       "      <th>502488</th>\n",
       "      <td>ZZZKLD</td>\n",
       "      <td>1249</td>\n",
       "      <td>False</td>\n",
       "      <td>54</td>\n",
       "      <td>1</td>\n",
       "      <td>ANDROID</td>\n",
       "      <td>SMARTPHONE</td>\n",
       "      <td>Россия</td>\n",
       "      <td>Москва</td>\n",
       "      <td>45-54</td>\n",
       "      <td>1-5</td>\n",
       "      <td>36+</td>\n",
       "      <td>5</td>\n",
       "      <td>detractors</td>\n",
       "    </tr>\n",
       "    <tr>\n",
       "      <th>502489</th>\n",
       "      <td>ZZZLWY</td>\n",
       "      <td>129</td>\n",
       "      <td>True</td>\n",
       "      <td>31</td>\n",
       "      <td>0</td>\n",
       "      <td>ANDROID</td>\n",
       "      <td>SMARTPHONE</td>\n",
       "      <td>Россия</td>\n",
       "      <td>Москва</td>\n",
       "      <td>25-34</td>\n",
       "      <td>1-5</td>\n",
       "      <td>4-6</td>\n",
       "      <td>8</td>\n",
       "      <td>passives</td>\n",
       "    </tr>\n",
       "    <tr>\n",
       "      <th>502490</th>\n",
       "      <td>ZZZQ5F</td>\n",
       "      <td>522</td>\n",
       "      <td>False</td>\n",
       "      <td>36</td>\n",
       "      <td>0</td>\n",
       "      <td>ANDROID</td>\n",
       "      <td>SMARTPHONE</td>\n",
       "      <td>Россия</td>\n",
       "      <td>Сургут</td>\n",
       "      <td>35-44</td>\n",
       "      <td>25-30</td>\n",
       "      <td>13-24</td>\n",
       "      <td>10</td>\n",
       "      <td>promoters</td>\n",
       "    </tr>\n",
       "    <tr>\n",
       "      <th>502491</th>\n",
       "      <td>ZZZQ8E</td>\n",
       "      <td>2936</td>\n",
       "      <td>False</td>\n",
       "      <td>37</td>\n",
       "      <td>1</td>\n",
       "      <td>ANDROID</td>\n",
       "      <td>SMARTPHONE</td>\n",
       "      <td>Россия</td>\n",
       "      <td>УланУдэ</td>\n",
       "      <td>35-44</td>\n",
       "      <td>65-70</td>\n",
       "      <td>36+</td>\n",
       "      <td>9</td>\n",
       "      <td>promoters</td>\n",
       "    </tr>\n",
       "    <tr>\n",
       "      <th>502492</th>\n",
       "      <td>ZZZYH0</td>\n",
       "      <td>2471</td>\n",
       "      <td>False</td>\n",
       "      <td>37</td>\n",
       "      <td>0</td>\n",
       "      <td>IOS</td>\n",
       "      <td>SMARTPHONE</td>\n",
       "      <td>Россия</td>\n",
       "      <td>Самара</td>\n",
       "      <td>35-44</td>\n",
       "      <td>10-15</td>\n",
       "      <td>36+</td>\n",
       "      <td>2</td>\n",
       "      <td>detractors</td>\n",
       "    </tr>\n",
       "  </tbody>\n",
       "</table>\n",
       "<p>501152 rows × 14 columns</p>\n",
       "</div>"
      ],
      "text/plain": [
       "       user_id  lt_day is_new  age  gender_segment  os_name cpe_type_name  \\\n",
       "0       A001A2    2320  False   45               1  ANDROID    SMARTPHONE   \n",
       "1       A001WF    2344  False   53               0  ANDROID    SMARTPHONE   \n",
       "2       A003Q7     467  False   57               0  ANDROID    SMARTPHONE   \n",
       "3       A004TB    4190  False   44               1      IOS    SMARTPHONE   \n",
       "4       A004XT    1163  False   24               0  ANDROID    SMARTPHONE   \n",
       "...        ...     ...    ...  ...             ...      ...           ...   \n",
       "502488  ZZZKLD    1249  False   54               1  ANDROID    SMARTPHONE   \n",
       "502489  ZZZLWY     129   True   31               0  ANDROID    SMARTPHONE   \n",
       "502490  ZZZQ5F     522  False   36               0  ANDROID    SMARTPHONE   \n",
       "502491  ZZZQ8E    2936  False   37               1  ANDROID    SMARTPHONE   \n",
       "502492  ZZZYH0    2471  False   37               0      IOS    SMARTPHONE   \n",
       "\n",
       "       country          city name_age_segment name_traffic_segment  \\\n",
       "0       Россия           Уфа            45-54                  1-5   \n",
       "1       Россия         Киров            45-54                  1-5   \n",
       "2       Россия        Москва            55-64                20-25   \n",
       "3       Россия  РостовнаДону            35-44                0.1-1   \n",
       "4       Россия        Рязань            16-24                 5-10   \n",
       "...        ...           ...              ...                  ...   \n",
       "502488  Россия        Москва            45-54                  1-5   \n",
       "502489  Россия        Москва            25-34                  1-5   \n",
       "502490  Россия        Сургут            35-44                25-30   \n",
       "502491  Россия       УланУдэ            35-44                65-70   \n",
       "502492  Россия        Самара            35-44                10-15   \n",
       "\n",
       "       name_lifetime_segment  nps_score   nps_group  \n",
       "0                        36+         10   promoters  \n",
       "1                        36+         10   promoters  \n",
       "2                      13-24         10   promoters  \n",
       "3                        36+         10   promoters  \n",
       "4                        36+         10   promoters  \n",
       "...                      ...        ...         ...  \n",
       "502488                   36+          5  detractors  \n",
       "502489                   4-6          8    passives  \n",
       "502490                 13-24         10   promoters  \n",
       "502491                   36+          9   promoters  \n",
       "502492                   36+          2  detractors  \n",
       "\n",
       "[501152 rows x 14 columns]"
      ]
     },
     "execution_count": 19,
     "metadata": {},
     "output_type": "execute_result"
    }
   ],
   "source": [
    "df"
   ]
  },
  {
   "cell_type": "markdown",
   "id": "03ff77e1",
   "metadata": {},
   "source": [
    "Просмотрим уникальные значения столбцов."
   ]
  },
  {
   "cell_type": "code",
   "execution_count": 20,
   "id": "778344ce",
   "metadata": {},
   "outputs": [],
   "source": [
    "columns = ['age','gender_segment','os_name','cpe_type_name','country','city','name_age_segment', 'name_traffic_segment','name_lifetime_segment']"
   ]
  },
  {
   "cell_type": "code",
   "execution_count": 21,
   "id": "a1522ac8",
   "metadata": {},
   "outputs": [
    {
     "name": "stdout",
     "output_type": "stream",
     "text": [
      "[45 53 57 44 24 42 35 36 54 39 21 27 60 34 47 37 43 33 31 25 51 28 41 40\n",
      " 46 48 32 30 52 59 26 50 62 29 55 22 38 56 23 49 66 74 75 17 65 64 69 58\n",
      " 20 19 80 70 81 63 67 68 72 15 79 18 73 14 71 61 16 77 13 76 10 78 12 82\n",
      " 11 83 89 84 85 87 86]\n",
      "[1 0]\n",
      "['ANDROID' 'IOS' 'OTHER' 'unknown' 'PROPRIETARY' 'WINDOWS PHONE'\n",
      " 'SYMBIAN OS' 'BADA OS' 'WINDOWS MOBILE']\n",
      "['SMARTPHONE' 'TABLET' 'MOBILE PHONE/FEATURE PHONE' 'PHONE' 'ROUTER'\n",
      " 'MODEM' 'WLAN ROUTER' 'USB MODEM' 'unknown' 'PORTABLE(INCLUDE PDA)'\n",
      " 'NETWORK DEVICE' 'MIFI ROUTER' 'MOBILE TEST PLATFORM' 'HANDHELD']\n",
      "['Россия']\n",
      "['Уфа' 'Киров' 'Москва' 'РостовнаДону' 'Рязань' 'Омск' 'СанктПетербург'\n",
      " 'Волгоград' 'Тольятти' 'Казань' 'Самара' 'Красноярск' 'Екатеринбург'\n",
      " 'Калуга' 'Краснодар' 'Иркутск' 'Пермь' 'Владимир' 'Ижевск' 'Тюмень'\n",
      " 'Оренбург' 'НижнийНовгород' 'Брянск' 'Челябинск' 'Астрахань' 'Сургут'\n",
      " 'Тверь' 'Новосибирск' 'НабережныеЧелны' 'Махачкала' 'Воронеж' 'Курск'\n",
      " 'Владивосток' 'Балашиха' 'Пенза' 'Калининград' 'Тула' 'Саратов'\n",
      " 'Кемерово' 'Белгород' 'Барнаул' 'Чебоксары' 'Архангельск' 'Томск'\n",
      " 'Ярославль' 'Ульяновск' 'Хабаровск' 'Грозный' 'Ставрополь' 'Липецк'\n",
      " 'Новокузнецк' 'Якутск' 'УланУдэ' 'Сочи' 'Иваново' 'НижнийТагил'\n",
      " 'Смоленск' 'Волжский' 'Магнитогорск' 'Чита' 'Череповец' 'Саранск']\n",
      "[' 45-54' ' 55-64' ' 35-44' ' 16-24' ' 25-34' ' 66 +' ' до 16']\n",
      "[' 1-5' ' 20-25' ' 0.1-1' ' 5-10' ' 10-15' ' 45-50' ' 15-20' ' 25-30'\n",
      " ' 40-45' ' 75-80' ' 50-55' ' 85-90' ' 60-65' ' 70-75' ' 30-35' ' 80-85'\n",
      " ' 100+' ' 35-40' ' 55-60' ' 90-95' ' 65-70' ' 0.01-0.1' ' 95-100'\n",
      " ' 0-0.01' ' 0']\n",
      "[' 36+' ' 13-24' ' 7-12' ' 4-6' ' 25-36' ' 2' ' 3' ' 1']\n"
     ]
    }
   ],
   "source": [
    "for column in columns:\n",
    "    print(df[column].unique())"
   ]
  },
  {
   "cell_type": "code",
   "execution_count": 22,
   "id": "02b37198",
   "metadata": {},
   "outputs": [
    {
     "data": {
      "text/plain": [
       "0"
      ]
     },
     "execution_count": 22,
     "metadata": {},
     "output_type": "execute_result"
    }
   ],
   "source": [
    "df.duplicated().sum()"
   ]
  },
  {
   "cell_type": "code",
   "execution_count": 23,
   "id": "987773d0",
   "metadata": {},
   "outputs": [],
   "source": [
    "df['gender_segment'] = df['gender_segment'].astype('object')"
   ]
  },
  {
   "cell_type": "code",
   "execution_count": 24,
   "id": "8bcaca3a",
   "metadata": {},
   "outputs": [
    {
     "name": "stdout",
     "output_type": "stream",
     "text": [
      "<class 'pandas.core.frame.DataFrame'>\n",
      "Int64Index: 501152 entries, 0 to 502492\n",
      "Data columns (total 14 columns):\n",
      " #   Column                 Non-Null Count   Dtype \n",
      "---  ------                 --------------   ----- \n",
      " 0   user_id                501152 non-null  object\n",
      " 1   lt_day                 501152 non-null  int64 \n",
      " 2   is_new                 501152 non-null  object\n",
      " 3   age                    501152 non-null  int8  \n",
      " 4   gender_segment         501152 non-null  object\n",
      " 5   os_name                501152 non-null  object\n",
      " 6   cpe_type_name          501152 non-null  object\n",
      " 7   country                501152 non-null  object\n",
      " 8   city                   501152 non-null  object\n",
      " 9   name_age_segment       501152 non-null  object\n",
      " 10  name_traffic_segment   501152 non-null  object\n",
      " 11  name_lifetime_segment  501152 non-null  object\n",
      " 12  nps_score              501152 non-null  int64 \n",
      " 13  nps_group              501152 non-null  object\n",
      "dtypes: int64(2), int8(1), object(11)\n",
      "memory usage: 54.0+ MB\n"
     ]
    }
   ],
   "source": [
    "df.info()"
   ]
  },
  {
   "cell_type": "code",
   "execution_count": 25,
   "id": "70573488",
   "metadata": {},
   "outputs": [],
   "source": [
    "dash_nps = df"
   ]
  },
  {
   "cell_type": "code",
   "execution_count": 26,
   "id": "4325ddc6",
   "metadata": {},
   "outputs": [],
   "source": [
    "dash_nps.to_csv('dash_nps2.csv')"
   ]
  },
  {
   "cell_type": "markdown",
   "id": "74a8d15a",
   "metadata": {},
   "source": [
    "* Ссылка на презентацию: https://drive.google.com/file/d/1ys5YGtJowOi9-0yEjxA4m2Wx7N_9BMc-/view?usp=sharing\n",
    "* Сылка на дашборды: https://public.tableau.com/views/dash_nps/Dashboard1?:language=en-US&publish=yes&:display_count=n&:origin=viz_share_link"
   ]
  },
  {
   "cell_type": "code",
   "execution_count": 27,
   "id": "818bb132",
   "metadata": {},
   "outputs": [
    {
     "data": {
      "text/plain": [
       "array(['promoters', 'detractors', 'passives'], dtype=object)"
      ]
     },
     "execution_count": 27,
     "metadata": {},
     "output_type": "execute_result"
    }
   ],
   "source": [
    "#CODE REVIEW\n",
    "# Формируем новый столбец по такому алгоритму:\n",
    "# if promoters then 1, if detractors then -1, else 0\n",
    "df[\"nps_group\"].unique()"
   ]
  },
  {
   "cell_type": "code",
   "execution_count": 28,
   "id": "bd972926",
   "metadata": {},
   "outputs": [],
   "source": [
    "#CODE REVIEW\n",
    "# Алгоритм реализую словарем, но можно и функцией\n",
    "df[\"total_nps\"] = df[\"nps_group\"].map({\n",
    "    \"promoters\": 1,\n",
    "    \"detractors\": -1,\n",
    "    \"passives\": 0\n",
    "})"
   ]
  },
  {
   "cell_type": "markdown",
   "id": "3d2a9cfc",
   "metadata": {},
   "source": [
    "Такой подход дает возможность для любых срезов, фильтраций, агрегаций считать среднее по столбцу <code>total_nps</code> и получать готовый уровень NPS, попробуем парочку примеров👇"
   ]
  },
  {
   "cell_type": "code",
   "execution_count": 29,
   "id": "ccb5d51d",
   "metadata": {},
   "outputs": [
    {
     "name": "stdout",
     "output_type": "stream",
     "text": [
      "Total NPS: 22.0%\n"
     ]
    }
   ],
   "source": [
    "#CODE REVIEW\n",
    "# Проверим общий NPS\n",
    "total_nps = df[\"total_nps\"].mean()\n",
    "print(f\"Total NPS: {total_nps:.1%}\")"
   ]
  },
  {
   "cell_type": "code",
   "execution_count": 30,
   "id": "0473ed82",
   "metadata": {},
   "outputs": [
    {
     "data": {
      "text/html": [
       "<style type=\"text/css\">\n",
       "</style>\n",
       "<table id=\"T_e8114_\">\n",
       "  <thead>\n",
       "    <tr>\n",
       "      <th class=\"index_name level0\" >name_age_segment</th>\n",
       "      <th class=\"col_heading level0 col0\" > 16-24</th>\n",
       "      <th class=\"col_heading level0 col1\" > 25-34</th>\n",
       "      <th class=\"col_heading level0 col2\" > 35-44</th>\n",
       "      <th class=\"col_heading level0 col3\" > 45-54</th>\n",
       "      <th class=\"col_heading level0 col4\" > 55-64</th>\n",
       "      <th class=\"col_heading level0 col5\" > 66 +</th>\n",
       "      <th class=\"col_heading level0 col6\" > до 16</th>\n",
       "    </tr>\n",
       "    <tr>\n",
       "      <th class=\"index_name level0\" >gender_segment</th>\n",
       "      <th class=\"blank col0\" >&nbsp;</th>\n",
       "      <th class=\"blank col1\" >&nbsp;</th>\n",
       "      <th class=\"blank col2\" >&nbsp;</th>\n",
       "      <th class=\"blank col3\" >&nbsp;</th>\n",
       "      <th class=\"blank col4\" >&nbsp;</th>\n",
       "      <th class=\"blank col5\" >&nbsp;</th>\n",
       "      <th class=\"blank col6\" >&nbsp;</th>\n",
       "    </tr>\n",
       "  </thead>\n",
       "  <tbody>\n",
       "    <tr>\n",
       "      <th id=\"T_e8114_level0_row0\" class=\"row_heading level0 row0\" >0</th>\n",
       "      <td id=\"T_e8114_row0_col0\" class=\"data row0 col0\" >3.6%</td>\n",
       "      <td id=\"T_e8114_row0_col1\" class=\"data row0 col1\" >7.9%</td>\n",
       "      <td id=\"T_e8114_row0_col2\" class=\"data row0 col2\" >19.4%</td>\n",
       "      <td id=\"T_e8114_row0_col3\" class=\"data row0 col3\" >28.7%</td>\n",
       "      <td id=\"T_e8114_row0_col4\" class=\"data row0 col4\" >37.3%</td>\n",
       "      <td id=\"T_e8114_row0_col5\" class=\"data row0 col5\" >45.1%</td>\n",
       "      <td id=\"T_e8114_row0_col6\" class=\"data row0 col6\" >-10.0%</td>\n",
       "    </tr>\n",
       "    <tr>\n",
       "      <th id=\"T_e8114_level0_row1\" class=\"row_heading level0 row1\" >1</th>\n",
       "      <td id=\"T_e8114_row1_col0\" class=\"data row1 col0\" >6.2%</td>\n",
       "      <td id=\"T_e8114_row1_col1\" class=\"data row1 col1\" >13.2%</td>\n",
       "      <td id=\"T_e8114_row1_col2\" class=\"data row1 col2\" >24.7%</td>\n",
       "      <td id=\"T_e8114_row1_col3\" class=\"data row1 col3\" >34.9%</td>\n",
       "      <td id=\"T_e8114_row1_col4\" class=\"data row1 col4\" >45.3%</td>\n",
       "      <td id=\"T_e8114_row1_col5\" class=\"data row1 col5\" >54.8%</td>\n",
       "      <td id=\"T_e8114_row1_col6\" class=\"data row1 col6\" >1.9%</td>\n",
       "    </tr>\n",
       "  </tbody>\n",
       "</table>\n"
      ],
      "text/plain": [
       "<pandas.io.formats.style.Styler at 0x261b6cf3280>"
      ]
     },
     "execution_count": 30,
     "metadata": {},
     "output_type": "execute_result"
    }
   ],
   "source": [
    "#CODE REVIEW\n",
    "# Например, сводная таблица по полу и возрасту\n",
    "df.pivot_table(index=\"gender_segment\", columns=\"name_age_segment\", values=\"total_nps\", aggfunc=\"mean\")\\\n",
    "    .style.format('{:.1%}')"
   ]
  },
  {
   "cell_type": "code",
   "execution_count": 31,
   "id": "be6b7abd",
   "metadata": {},
   "outputs": [
    {
     "data": {
      "text/html": [
       "<style type=\"text/css\">\n",
       "</style>\n",
       "<table id=\"T_9d63e_\">\n",
       "  <thead>\n",
       "    <tr>\n",
       "      <th class=\"blank level0\" >&nbsp;</th>\n",
       "      <th class=\"col_heading level0 col0\" >total_nps</th>\n",
       "    </tr>\n",
       "    <tr>\n",
       "      <th class=\"index_name level0\" >gender_segment</th>\n",
       "      <th class=\"blank col0\" >&nbsp;</th>\n",
       "    </tr>\n",
       "  </thead>\n",
       "  <tbody>\n",
       "    <tr>\n",
       "      <th id=\"T_9d63e_level0_row0\" class=\"row_heading level0 row0\" >0</th>\n",
       "      <td id=\"T_9d63e_row0_col0\" class=\"data row0 col0\" >17.7%</td>\n",
       "    </tr>\n",
       "    <tr>\n",
       "      <th id=\"T_9d63e_level0_row1\" class=\"row_heading level0 row1\" >1</th>\n",
       "      <td id=\"T_9d63e_row1_col0\" class=\"data row1 col0\" >25.6%</td>\n",
       "    </tr>\n",
       "  </tbody>\n",
       "</table>\n"
      ],
      "text/plain": [
       "<pandas.io.formats.style.Styler at 0x261b6d57520>"
      ]
     },
     "execution_count": 31,
     "metadata": {},
     "output_type": "execute_result"
    }
   ],
   "source": [
    "#CODE REVIEW\n",
    "# Например, сводная таблица по полу\n",
    "df.pivot_table(index=\"gender_segment\", values=\"total_nps\", aggfunc=\"mean\")\\\n",
    "    .style.format('{:.1%}')"
   ]
  },
  {
   "cell_type": "code",
   "execution_count": 32,
   "id": "75378b9a",
   "metadata": {},
   "outputs": [
    {
     "data": {
      "text/html": [
       "<style type=\"text/css\">\n",
       "</style>\n",
       "<table id=\"T_3ff73_\">\n",
       "  <thead>\n",
       "    <tr>\n",
       "      <th class=\"index_name level0\" >name_lifetime_segment</th>\n",
       "      <th class=\"col_heading level0 col0\" > 1</th>\n",
       "      <th class=\"col_heading level0 col1\" > 13-24</th>\n",
       "      <th class=\"col_heading level0 col2\" > 2</th>\n",
       "      <th class=\"col_heading level0 col3\" > 25-36</th>\n",
       "      <th class=\"col_heading level0 col4\" > 3</th>\n",
       "      <th class=\"col_heading level0 col5\" > 36+</th>\n",
       "      <th class=\"col_heading level0 col6\" > 4-6</th>\n",
       "      <th class=\"col_heading level0 col7\" > 7-12</th>\n",
       "    </tr>\n",
       "    <tr>\n",
       "      <th class=\"index_name level0\" >name_age_segment</th>\n",
       "      <th class=\"blank col0\" >&nbsp;</th>\n",
       "      <th class=\"blank col1\" >&nbsp;</th>\n",
       "      <th class=\"blank col2\" >&nbsp;</th>\n",
       "      <th class=\"blank col3\" >&nbsp;</th>\n",
       "      <th class=\"blank col4\" >&nbsp;</th>\n",
       "      <th class=\"blank col5\" >&nbsp;</th>\n",
       "      <th class=\"blank col6\" >&nbsp;</th>\n",
       "      <th class=\"blank col7\" >&nbsp;</th>\n",
       "    </tr>\n",
       "  </thead>\n",
       "  <tbody>\n",
       "    <tr>\n",
       "      <th id=\"T_3ff73_level0_row0\" class=\"row_heading level0 row0\" > 16-24</th>\n",
       "      <td id=\"T_3ff73_row0_col0\" class=\"data row0 col0\" ></td>\n",
       "      <td id=\"T_3ff73_row0_col1\" class=\"data row0 col1\" >7.2%</td>\n",
       "      <td id=\"T_3ff73_row0_col2\" class=\"data row0 col2\" >21.2%</td>\n",
       "      <td id=\"T_3ff73_row0_col3\" class=\"data row0 col3\" >-0.6%</td>\n",
       "      <td id=\"T_3ff73_row0_col4\" class=\"data row0 col4\" >22.4%</td>\n",
       "      <td id=\"T_3ff73_row0_col5\" class=\"data row0 col5\" >-8.4%</td>\n",
       "      <td id=\"T_3ff73_row0_col6\" class=\"data row0 col6\" >23.9%</td>\n",
       "      <td id=\"T_3ff73_row0_col7\" class=\"data row0 col7\" >17.7%</td>\n",
       "    </tr>\n",
       "    <tr>\n",
       "      <th id=\"T_3ff73_level0_row1\" class=\"row_heading level0 row1\" > 25-34</th>\n",
       "      <td id=\"T_3ff73_row1_col0\" class=\"data row1 col0\" >50.0%</td>\n",
       "      <td id=\"T_3ff73_row1_col1\" class=\"data row1 col1\" >18.2%</td>\n",
       "      <td id=\"T_3ff73_row1_col2\" class=\"data row1 col2\" >30.0%</td>\n",
       "      <td id=\"T_3ff73_row1_col3\" class=\"data row1 col3\" >11.6%</td>\n",
       "      <td id=\"T_3ff73_row1_col4\" class=\"data row1 col4\" >32.6%</td>\n",
       "      <td id=\"T_3ff73_row1_col5\" class=\"data row1 col5\" >-0.5%</td>\n",
       "      <td id=\"T_3ff73_row1_col6\" class=\"data row1 col6\" >29.7%</td>\n",
       "      <td id=\"T_3ff73_row1_col7\" class=\"data row1 col7\" >26.4%</td>\n",
       "    </tr>\n",
       "    <tr>\n",
       "      <th id=\"T_3ff73_level0_row2\" class=\"row_heading level0 row2\" > 35-44</th>\n",
       "      <td id=\"T_3ff73_row2_col0\" class=\"data row2 col0\" >33.3%</td>\n",
       "      <td id=\"T_3ff73_row2_col1\" class=\"data row2 col1\" >32.1%</td>\n",
       "      <td id=\"T_3ff73_row2_col2\" class=\"data row2 col2\" >41.2%</td>\n",
       "      <td id=\"T_3ff73_row2_col3\" class=\"data row2 col3\" >24.8%</td>\n",
       "      <td id=\"T_3ff73_row2_col4\" class=\"data row2 col4\" >41.7%</td>\n",
       "      <td id=\"T_3ff73_row2_col5\" class=\"data row2 col5\" >14.2%</td>\n",
       "      <td id=\"T_3ff73_row2_col6\" class=\"data row2 col6\" >41.6%</td>\n",
       "      <td id=\"T_3ff73_row2_col7\" class=\"data row2 col7\" >38.0%</td>\n",
       "    </tr>\n",
       "    <tr>\n",
       "      <th id=\"T_3ff73_level0_row3\" class=\"row_heading level0 row3\" > 45-54</th>\n",
       "      <td id=\"T_3ff73_row3_col0\" class=\"data row3 col0\" >100.0%</td>\n",
       "      <td id=\"T_3ff73_row3_col1\" class=\"data row3 col1\" >41.0%</td>\n",
       "      <td id=\"T_3ff73_row3_col2\" class=\"data row3 col2\" >52.5%</td>\n",
       "      <td id=\"T_3ff73_row3_col3\" class=\"data row3 col3\" >33.8%</td>\n",
       "      <td id=\"T_3ff73_row3_col4\" class=\"data row3 col4\" >54.7%</td>\n",
       "      <td id=\"T_3ff73_row3_col5\" class=\"data row3 col5\" >27.0%</td>\n",
       "      <td id=\"T_3ff73_row3_col6\" class=\"data row3 col6\" >49.3%</td>\n",
       "      <td id=\"T_3ff73_row3_col7\" class=\"data row3 col7\" >46.9%</td>\n",
       "    </tr>\n",
       "    <tr>\n",
       "      <th id=\"T_3ff73_level0_row4\" class=\"row_heading level0 row4\" > 55-64</th>\n",
       "      <td id=\"T_3ff73_row4_col0\" class=\"data row4 col0\" >100.0%</td>\n",
       "      <td id=\"T_3ff73_row4_col1\" class=\"data row4 col1\" >48.4%</td>\n",
       "      <td id=\"T_3ff73_row4_col2\" class=\"data row4 col2\" >55.7%</td>\n",
       "      <td id=\"T_3ff73_row4_col3\" class=\"data row4 col3\" >44.4%</td>\n",
       "      <td id=\"T_3ff73_row4_col4\" class=\"data row4 col4\" >54.9%</td>\n",
       "      <td id=\"T_3ff73_row4_col5\" class=\"data row4 col5\" >38.9%</td>\n",
       "      <td id=\"T_3ff73_row4_col6\" class=\"data row4 col6\" >58.0%</td>\n",
       "      <td id=\"T_3ff73_row4_col7\" class=\"data row4 col7\" >53.8%</td>\n",
       "    </tr>\n",
       "    <tr>\n",
       "      <th id=\"T_3ff73_level0_row5\" class=\"row_heading level0 row5\" > 66 +</th>\n",
       "      <td id=\"T_3ff73_row5_col0\" class=\"data row5 col0\" ></td>\n",
       "      <td id=\"T_3ff73_row5_col1\" class=\"data row5 col1\" >53.3%</td>\n",
       "      <td id=\"T_3ff73_row5_col2\" class=\"data row5 col2\" >60.4%</td>\n",
       "      <td id=\"T_3ff73_row5_col3\" class=\"data row5 col3\" >49.9%</td>\n",
       "      <td id=\"T_3ff73_row5_col4\" class=\"data row5 col4\" >60.0%</td>\n",
       "      <td id=\"T_3ff73_row5_col5\" class=\"data row5 col5\" >50.6%</td>\n",
       "      <td id=\"T_3ff73_row5_col6\" class=\"data row5 col6\" >55.2%</td>\n",
       "      <td id=\"T_3ff73_row5_col7\" class=\"data row5 col7\" >60.2%</td>\n",
       "    </tr>\n",
       "    <tr>\n",
       "      <th id=\"T_3ff73_level0_row6\" class=\"row_heading level0 row6\" > до 16</th>\n",
       "      <td id=\"T_3ff73_row6_col0\" class=\"data row6 col0\" ></td>\n",
       "      <td id=\"T_3ff73_row6_col1\" class=\"data row6 col1\" >3.1%</td>\n",
       "      <td id=\"T_3ff73_row6_col2\" class=\"data row6 col2\" >16.7%</td>\n",
       "      <td id=\"T_3ff73_row6_col3\" class=\"data row6 col3\" >-0.8%</td>\n",
       "      <td id=\"T_3ff73_row6_col4\" class=\"data row6 col4\" >26.1%</td>\n",
       "      <td id=\"T_3ff73_row6_col5\" class=\"data row6 col5\" >-19.5%</td>\n",
       "      <td id=\"T_3ff73_row6_col6\" class=\"data row6 col6\" >14.3%</td>\n",
       "      <td id=\"T_3ff73_row6_col7\" class=\"data row6 col7\" >8.5%</td>\n",
       "    </tr>\n",
       "  </tbody>\n",
       "</table>\n"
      ],
      "text/plain": [
       "<pandas.io.formats.style.Styler at 0x261b44c7850>"
      ]
     },
     "execution_count": 32,
     "metadata": {},
     "output_type": "execute_result"
    }
   ],
   "source": [
    "#CODE REVIEW\n",
    "# И что-нибудь большое, сводная таблица по возрасту и lifetime\n",
    "df.pivot_table(index=\"name_age_segment\", columns=\"name_lifetime_segment\", values=\"total_nps\", aggfunc=\"mean\")\\\n",
    "    .style.format('{:.1%}', na_rep=\"\")"
   ]
  },
  {
   "cell_type": "markdown",
   "id": "e631cbb2",
   "metadata": {},
   "source": [
    "<hr style=\"border: 2px solid orange;\" />"
   ]
  },
  {
   "cell_type": "code",
   "execution_count": 33,
   "id": "d458f9fd",
   "metadata": {},
   "outputs": [
    {
     "data": {
      "text/html": [
       "<style type=\"text/css\">\n",
       "</style>\n",
       "<table id=\"T_f91b9_\">\n",
       "  <thead>\n",
       "    <tr>\n",
       "      <th class=\"blank level0\" >&nbsp;</th>\n",
       "      <th class=\"col_heading level0 col0\" >total_nps</th>\n",
       "    </tr>\n",
       "    <tr>\n",
       "      <th class=\"index_name level0\" >name_lifetime_segment</th>\n",
       "      <th class=\"blank col0\" >&nbsp;</th>\n",
       "    </tr>\n",
       "  </thead>\n",
       "  <tbody>\n",
       "    <tr>\n",
       "      <th id=\"T_f91b9_level0_row0\" class=\"row_heading level0 row0\" > 1</th>\n",
       "      <td id=\"T_f91b9_row0_col0\" class=\"data row0 col0\" >61.5%</td>\n",
       "    </tr>\n",
       "    <tr>\n",
       "      <th id=\"T_f91b9_level0_row1\" class=\"row_heading level0 row1\" > 13-24</th>\n",
       "      <td id=\"T_f91b9_row1_col0\" class=\"data row1 col0\" >28.1%</td>\n",
       "    </tr>\n",
       "    <tr>\n",
       "      <th id=\"T_f91b9_level0_row2\" class=\"row_heading level0 row2\" > 2</th>\n",
       "      <td id=\"T_f91b9_row2_col0\" class=\"data row2 col0\" >36.6%</td>\n",
       "    </tr>\n",
       "    <tr>\n",
       "      <th id=\"T_f91b9_level0_row3\" class=\"row_heading level0 row3\" > 25-36</th>\n",
       "      <td id=\"T_f91b9_row3_col0\" class=\"data row3 col0\" >22.2%</td>\n",
       "    </tr>\n",
       "    <tr>\n",
       "      <th id=\"T_f91b9_level0_row4\" class=\"row_heading level0 row4\" > 3</th>\n",
       "      <td id=\"T_f91b9_row4_col0\" class=\"data row4 col0\" >38.1%</td>\n",
       "    </tr>\n",
       "    <tr>\n",
       "      <th id=\"T_f91b9_level0_row5\" class=\"row_heading level0 row5\" > 36+</th>\n",
       "      <td id=\"T_f91b9_row5_col0\" class=\"data row5 col0\" >15.8%</td>\n",
       "    </tr>\n",
       "    <tr>\n",
       "      <th id=\"T_f91b9_level0_row6\" class=\"row_heading level0 row6\" > 4-6</th>\n",
       "      <td id=\"T_f91b9_row6_col0\" class=\"data row6 col0\" >37.1%</td>\n",
       "    </tr>\n",
       "    <tr>\n",
       "      <th id=\"T_f91b9_level0_row7\" class=\"row_heading level0 row7\" > 7-12</th>\n",
       "      <td id=\"T_f91b9_row7_col0\" class=\"data row7 col0\" >34.2%</td>\n",
       "    </tr>\n",
       "  </tbody>\n",
       "</table>\n"
      ],
      "text/plain": [
       "<pandas.io.formats.style.Styler at 0x261b6d57df0>"
      ]
     },
     "execution_count": 33,
     "metadata": {},
     "output_type": "execute_result"
    }
   ],
   "source": [
    "df.pivot_table(index=\"name_lifetime_segment\", values=\"total_nps\", aggfunc=\"mean\")\\\n",
    "    .style.format('{:.1%}')"
   ]
  },
  {
   "cell_type": "code",
   "execution_count": 34,
   "id": "e3b773bf",
   "metadata": {},
   "outputs": [
    {
     "data": {
      "text/html": [
       "<style type=\"text/css\">\n",
       "</style>\n",
       "<table id=\"T_1001b_\">\n",
       "  <thead>\n",
       "    <tr>\n",
       "      <th class=\"blank level0\" >&nbsp;</th>\n",
       "      <th class=\"col_heading level0 col0\" >total_nps</th>\n",
       "    </tr>\n",
       "    <tr>\n",
       "      <th class=\"index_name level0\" >name_age_segment</th>\n",
       "      <th class=\"blank col0\" >&nbsp;</th>\n",
       "    </tr>\n",
       "  </thead>\n",
       "  <tbody>\n",
       "    <tr>\n",
       "      <th id=\"T_1001b_level0_row0\" class=\"row_heading level0 row0\" > 16-24</th>\n",
       "      <td id=\"T_1001b_row0_col0\" class=\"data row0 col0\" >4.8%</td>\n",
       "    </tr>\n",
       "    <tr>\n",
       "      <th id=\"T_1001b_level0_row1\" class=\"row_heading level0 row1\" > 25-34</th>\n",
       "      <td id=\"T_1001b_row1_col0\" class=\"data row1 col0\" >10.6%</td>\n",
       "    </tr>\n",
       "    <tr>\n",
       "      <th id=\"T_1001b_level0_row2\" class=\"row_heading level0 row2\" > 35-44</th>\n",
       "      <td id=\"T_1001b_row2_col0\" class=\"data row2 col0\" >22.2%</td>\n",
       "    </tr>\n",
       "    <tr>\n",
       "      <th id=\"T_1001b_level0_row3\" class=\"row_heading level0 row3\" > 45-54</th>\n",
       "      <td id=\"T_1001b_row3_col0\" class=\"data row3 col0\" >32.3%</td>\n",
       "    </tr>\n",
       "    <tr>\n",
       "      <th id=\"T_1001b_level0_row4\" class=\"row_heading level0 row4\" > 55-64</th>\n",
       "      <td id=\"T_1001b_row4_col0\" class=\"data row4 col0\" >42.5%</td>\n",
       "    </tr>\n",
       "    <tr>\n",
       "      <th id=\"T_1001b_level0_row5\" class=\"row_heading level0 row5\" > 66 +</th>\n",
       "      <td id=\"T_1001b_row5_col0\" class=\"data row5 col0\" >51.6%</td>\n",
       "    </tr>\n",
       "    <tr>\n",
       "      <th id=\"T_1001b_level0_row6\" class=\"row_heading level0 row6\" > до 16</th>\n",
       "      <td id=\"T_1001b_row6_col0\" class=\"data row6 col0\" >-4.4%</td>\n",
       "    </tr>\n",
       "  </tbody>\n",
       "</table>\n"
      ],
      "text/plain": [
       "<pandas.io.formats.style.Styler at 0x261bc16ec40>"
      ]
     },
     "execution_count": 34,
     "metadata": {},
     "output_type": "execute_result"
    }
   ],
   "source": [
    "df.pivot_table(index=\"name_age_segment\", values=\"total_nps\", aggfunc=\"mean\")\\\n",
    "    .style.format('{:.1%}')"
   ]
  },
  {
   "cell_type": "code",
   "execution_count": null,
   "id": "d67c638c",
   "metadata": {},
   "outputs": [],
   "source": []
  }
 ],
 "metadata": {
  "ExecuteTimeLog": [
   {
    "duration": 375,
    "start_time": "2022-07-17T05:03:26.878Z"
   },
   {
    "duration": 132,
    "start_time": "2022-07-17T05:03:27.255Z"
   },
   {
    "duration": 3,
    "start_time": "2022-07-17T05:03:27.389Z"
   },
   {
    "duration": 8,
    "start_time": "2022-07-17T05:03:27.394Z"
   },
   {
    "duration": 33,
    "start_time": "2022-07-17T05:03:27.405Z"
   },
   {
    "duration": 3,
    "start_time": "2022-07-17T05:03:27.440Z"
   },
   {
    "duration": 554,
    "start_time": "2022-07-17T05:03:27.445Z"
   },
   {
    "duration": 0,
    "start_time": "2022-07-17T05:03:28.001Z"
   },
   {
    "duration": 0,
    "start_time": "2022-07-17T05:03:28.002Z"
   },
   {
    "duration": 0,
    "start_time": "2022-07-17T05:03:28.004Z"
   },
   {
    "duration": 0,
    "start_time": "2022-07-17T05:03:28.006Z"
   },
   {
    "duration": 0,
    "start_time": "2022-07-17T05:03:28.007Z"
   },
   {
    "duration": 0,
    "start_time": "2022-07-17T05:03:28.009Z"
   },
   {
    "duration": 0,
    "start_time": "2022-07-17T05:03:28.010Z"
   },
   {
    "duration": 0,
    "start_time": "2022-07-17T05:03:28.011Z"
   },
   {
    "duration": 0,
    "start_time": "2022-07-17T05:03:28.012Z"
   },
   {
    "duration": 0,
    "start_time": "2022-07-17T05:03:28.014Z"
   },
   {
    "duration": 0,
    "start_time": "2022-07-17T05:03:28.015Z"
   },
   {
    "duration": 0,
    "start_time": "2022-07-17T05:03:28.017Z"
   },
   {
    "duration": 0,
    "start_time": "2022-07-17T05:03:28.018Z"
   },
   {
    "duration": 0,
    "start_time": "2022-07-17T05:03:28.020Z"
   },
   {
    "duration": 0,
    "start_time": "2022-07-17T05:03:28.021Z"
   },
   {
    "duration": 0,
    "start_time": "2022-07-17T05:03:28.022Z"
   },
   {
    "duration": 0,
    "start_time": "2022-07-17T05:03:28.024Z"
   },
   {
    "duration": 0,
    "start_time": "2022-07-17T05:03:28.025Z"
   },
   {
    "duration": 3,
    "start_time": "2022-07-17T05:05:24.538Z"
   },
   {
    "duration": 76,
    "start_time": "2022-07-17T05:06:40.417Z"
   },
   {
    "duration": 84,
    "start_time": "2022-07-17T05:06:44.817Z"
   },
   {
    "duration": 81,
    "start_time": "2022-07-17T05:07:02.387Z"
   },
   {
    "duration": 123,
    "start_time": "2022-07-17T05:07:30.777Z"
   },
   {
    "duration": 86,
    "start_time": "2022-07-17T05:07:45.432Z"
   },
   {
    "duration": 3,
    "start_time": "2022-07-17T05:08:22.857Z"
   },
   {
    "duration": 3,
    "start_time": "2022-07-17T05:08:23.597Z"
   },
   {
    "duration": 81,
    "start_time": "2022-07-17T05:08:25.519Z"
   },
   {
    "duration": 3,
    "start_time": "2022-07-17T05:08:26.617Z"
   },
   {
    "duration": 3,
    "start_time": "2022-07-17T05:08:27.202Z"
   },
   {
    "duration": 7199,
    "start_time": "2022-07-17T05:08:28.018Z"
   },
   {
    "duration": 37,
    "start_time": "2022-07-17T05:08:42.737Z"
   },
   {
    "duration": 411,
    "start_time": "2022-07-17T05:12:57.437Z"
   },
   {
    "duration": 121,
    "start_time": "2022-07-17T05:12:57.849Z"
   },
   {
    "duration": 2,
    "start_time": "2022-07-17T05:12:57.972Z"
   },
   {
    "duration": 6,
    "start_time": "2022-07-17T05:12:57.976Z"
   },
   {
    "duration": 5,
    "start_time": "2022-07-17T05:12:57.984Z"
   },
   {
    "duration": 12,
    "start_time": "2022-07-17T05:12:57.991Z"
   },
   {
    "duration": 4,
    "start_time": "2022-07-17T05:12:58.004Z"
   },
   {
    "duration": 6719,
    "start_time": "2022-07-17T05:12:58.009Z"
   },
   {
    "duration": 36,
    "start_time": "2022-07-17T05:13:04.730Z"
   },
   {
    "duration": 518,
    "start_time": "2022-07-17T05:13:04.769Z"
   },
   {
    "duration": 515,
    "start_time": "2022-07-17T05:13:05.288Z"
   },
   {
    "duration": 151,
    "start_time": "2022-07-17T05:13:05.804Z"
   },
   {
    "duration": 19,
    "start_time": "2022-07-17T05:13:05.957Z"
   },
   {
    "duration": 235,
    "start_time": "2022-07-17T05:13:05.977Z"
   },
   {
    "duration": 498,
    "start_time": "2022-07-17T05:13:06.214Z"
   },
   {
    "duration": 523,
    "start_time": "2022-07-17T05:13:06.714Z"
   },
   {
    "duration": 10,
    "start_time": "2022-07-17T05:13:07.245Z"
   },
   {
    "duration": 9,
    "start_time": "2022-07-17T05:13:07.257Z"
   },
   {
    "duration": 20,
    "start_time": "2022-07-17T05:13:07.268Z"
   },
   {
    "duration": 3,
    "start_time": "2022-07-17T05:13:07.291Z"
   },
   {
    "duration": 744,
    "start_time": "2022-07-17T05:13:07.295Z"
   },
   {
    "duration": 1473,
    "start_time": "2022-07-17T05:13:08.041Z"
   },
   {
    "duration": 9,
    "start_time": "2022-07-17T05:13:09.515Z"
   },
   {
    "duration": 511,
    "start_time": "2022-07-17T05:13:09.526Z"
   },
   {
    "duration": 8,
    "start_time": "2022-07-17T05:13:10.038Z"
   },
   {
    "duration": 4213,
    "start_time": "2022-07-17T05:13:10.048Z"
   },
   {
    "duration": 122,
    "start_time": "2022-07-17T05:36:08.498Z"
   },
   {
    "duration": 135,
    "start_time": "2022-07-17T05:38:26.258Z"
   },
   {
    "duration": 682,
    "start_time": "2022-07-17T05:41:03.682Z"
   },
   {
    "duration": 19,
    "start_time": "2022-07-17T05:41:11.933Z"
   },
   {
    "duration": 212,
    "start_time": "2022-07-17T05:41:29.138Z"
   },
   {
    "duration": 594,
    "start_time": "2022-07-17T05:41:47.718Z"
   },
   {
    "duration": 281,
    "start_time": "2022-07-17T05:42:40.378Z"
   },
   {
    "duration": 235,
    "start_time": "2022-07-17T05:43:14.158Z"
   },
   {
    "duration": 204,
    "start_time": "2022-07-17T05:43:22.197Z"
   },
   {
    "duration": 6,
    "start_time": "2022-07-17T05:44:34.838Z"
   },
   {
    "duration": 52,
    "start_time": "2022-07-17T05:44:58.357Z"
   },
   {
    "duration": 82,
    "start_time": "2022-07-17T05:46:01.999Z"
   },
   {
    "duration": 383,
    "start_time": "2022-07-17T05:46:21.438Z"
   },
   {
    "duration": 341,
    "start_time": "2022-07-17T05:47:48.578Z"
   },
   {
    "duration": 305,
    "start_time": "2022-07-17T05:48:05.618Z"
   },
   {
    "duration": 5,
    "start_time": "2022-07-17T05:48:34.498Z"
   },
   {
    "duration": 326,
    "start_time": "2022-07-17T05:48:52.958Z"
   },
   {
    "duration": 327,
    "start_time": "2022-07-17T05:49:00.138Z"
   },
   {
    "duration": 309,
    "start_time": "2022-07-17T05:49:48.258Z"
   },
   {
    "duration": 321,
    "start_time": "2022-07-17T05:50:27.338Z"
   },
   {
    "duration": 315,
    "start_time": "2022-07-17T05:50:34.727Z"
   },
   {
    "duration": 327,
    "start_time": "2022-07-17T05:50:53.619Z"
   },
   {
    "duration": 302,
    "start_time": "2022-07-17T05:51:16.918Z"
   }
  ],
  "kernelspec": {
   "display_name": "Python 3 (ipykernel)",
   "language": "python",
   "name": "python3"
  },
  "language_info": {
   "codemirror_mode": {
    "name": "ipython",
    "version": 3
   },
   "file_extension": ".py",
   "mimetype": "text/x-python",
   "name": "python",
   "nbconvert_exporter": "python",
   "pygments_lexer": "ipython3",
   "version": "3.9.7"
  },
  "toc": {
   "base_numbering": 1,
   "nav_menu": {},
   "number_sections": true,
   "sideBar": true,
   "skip_h1_title": true,
   "title_cell": "Table of Contents",
   "title_sidebar": "Contents",
   "toc_cell": false,
   "toc_position": {},
   "toc_section_display": true,
   "toc_window_display": false
  }
 },
 "nbformat": 4,
 "nbformat_minor": 5
}
